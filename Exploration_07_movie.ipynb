{
 "cells": [
  {
   "cell_type": "code",
   "execution_count": 1,
   "id": "fresh-anchor",
   "metadata": {},
   "outputs": [],
   "source": [
    "import pandas as pd\n",
    "import urllib.request\n",
    "%matplotlib inline\n",
    "import matplotlib.pyplot as plt\n",
    "import re\n",
    "from konlpy.tag import Okt\n",
    "from tensorflow import keras\n",
    "from tensorflow.keras.preprocessing.text import Tokenizer\n",
    "import numpy as np\n",
    "from tensorflow.keras.preprocessing.sequence import pad_sequences\n",
    "from collections import Counter\n",
    "from sklearn.model_selection import train_test_split\n",
    "import os"
   ]
  },
  {
   "cell_type": "code",
   "execution_count": 2,
   "id": "gentle-carry",
   "metadata": {
    "scrolled": true
   },
   "outputs": [
    {
     "name": "stdout",
     "output_type": "stream",
     "text": [
      "Requirement already satisfied: gensim==3.8.3 in /opt/conda/lib/python3.7/site-packages (3.8.3)\n",
      "Requirement already satisfied: numpy>=1.11.3 in /opt/conda/lib/python3.7/site-packages (from gensim==3.8.3) (1.19.5)\n",
      "Requirement already satisfied: six>=1.5.0 in /opt/conda/lib/python3.7/site-packages (from gensim==3.8.3) (1.15.0)\n",
      "Requirement already satisfied: scipy>=0.18.1 in /opt/conda/lib/python3.7/site-packages (from gensim==3.8.3) (1.4.1)\n",
      "Requirement already satisfied: smart-open>=1.8.1 in /opt/conda/lib/python3.7/site-packages (from gensim==3.8.3) (4.1.2)\n",
      "\u001b[33mWARNING: You are using pip version 20.3.3; however, version 21.3 is available.\n",
      "You should consider upgrading via the '/opt/conda/bin/python3.7 -m pip install --upgrade pip' command.\u001b[0m\n"
     ]
    }
   ],
   "source": [
    "!pip install --upgrade gensim==3.8.3"
   ]
  },
  {
   "cell_type": "code",
   "execution_count": 3,
   "id": "french-mambo",
   "metadata": {},
   "outputs": [
    {
     "name": "stdout",
     "output_type": "stream",
     "text": [
      "3.8.3\n"
     ]
    }
   ],
   "source": [
    "import gensim\n",
    "print(gensim.__version__)"
   ]
  },
  {
   "cell_type": "code",
   "execution_count": 4,
   "id": "dutch-creator",
   "metadata": {},
   "outputs": [],
   "source": [
    "from gensim.models import KeyedVectors\n",
    "from gensim.models.keyedvectors import Word2VecKeyedVectors"
   ]
  },
  {
   "cell_type": "markdown",
   "id": "binding-kidney",
   "metadata": {},
   "source": [
    "# 데이터 불러오기"
   ]
  },
  {
   "cell_type": "code",
   "execution_count": 5,
   "id": "raising-feedback",
   "metadata": {},
   "outputs": [],
   "source": [
    "train_data = pd.read_table('~/aiffel/exp7/sentiment_classification/data/ratings_train.txt')\n",
    "test_data = pd.read_table('~/aiffel/exp7/sentiment_classification/data/ratings_test.txt')"
   ]
  },
  {
   "cell_type": "code",
   "execution_count": 6,
   "id": "alien-olympus",
   "metadata": {
    "scrolled": false
   },
   "outputs": [
    {
     "data": {
      "text/html": [
       "<div>\n",
       "<style scoped>\n",
       "    .dataframe tbody tr th:only-of-type {\n",
       "        vertical-align: middle;\n",
       "    }\n",
       "\n",
       "    .dataframe tbody tr th {\n",
       "        vertical-align: top;\n",
       "    }\n",
       "\n",
       "    .dataframe thead th {\n",
       "        text-align: right;\n",
       "    }\n",
       "</style>\n",
       "<table border=\"1\" class=\"dataframe\">\n",
       "  <thead>\n",
       "    <tr style=\"text-align: right;\">\n",
       "      <th></th>\n",
       "      <th>id</th>\n",
       "      <th>document</th>\n",
       "      <th>label</th>\n",
       "    </tr>\n",
       "  </thead>\n",
       "  <tbody>\n",
       "    <tr>\n",
       "      <th>0</th>\n",
       "      <td>9976970</td>\n",
       "      <td>아 더빙.. 진짜 짜증나네요 목소리</td>\n",
       "      <td>0</td>\n",
       "    </tr>\n",
       "    <tr>\n",
       "      <th>1</th>\n",
       "      <td>3819312</td>\n",
       "      <td>흠...포스터보고 초딩영화줄....오버연기조차 가볍지 않구나</td>\n",
       "      <td>1</td>\n",
       "    </tr>\n",
       "    <tr>\n",
       "      <th>2</th>\n",
       "      <td>10265843</td>\n",
       "      <td>너무재밓었다그래서보는것을추천한다</td>\n",
       "      <td>0</td>\n",
       "    </tr>\n",
       "    <tr>\n",
       "      <th>3</th>\n",
       "      <td>9045019</td>\n",
       "      <td>교도소 이야기구먼 ..솔직히 재미는 없다..평점 조정</td>\n",
       "      <td>0</td>\n",
       "    </tr>\n",
       "    <tr>\n",
       "      <th>4</th>\n",
       "      <td>6483659</td>\n",
       "      <td>사이몬페그의 익살스런 연기가 돋보였던 영화!스파이더맨에서 늙어보이기만 했던 커스틴 ...</td>\n",
       "      <td>1</td>\n",
       "    </tr>\n",
       "  </tbody>\n",
       "</table>\n",
       "</div>"
      ],
      "text/plain": [
       "         id                                           document  label\n",
       "0   9976970                                아 더빙.. 진짜 짜증나네요 목소리      0\n",
       "1   3819312                  흠...포스터보고 초딩영화줄....오버연기조차 가볍지 않구나      1\n",
       "2  10265843                                  너무재밓었다그래서보는것을추천한다      0\n",
       "3   9045019                      교도소 이야기구먼 ..솔직히 재미는 없다..평점 조정      0\n",
       "4   6483659  사이몬페그의 익살스런 연기가 돋보였던 영화!스파이더맨에서 늙어보이기만 했던 커스틴 ...      1"
      ]
     },
     "execution_count": 6,
     "metadata": {},
     "output_type": "execute_result"
    }
   ],
   "source": [
    "train_data.head()"
   ]
  },
  {
   "cell_type": "markdown",
   "id": "linear-draft",
   "metadata": {},
   "source": [
    "# 토큰화를 진행합니다. 이과정에서 불용어를 제거합니다."
   ]
  },
  {
   "cell_type": "code",
   "execution_count": 7,
   "id": "proved-duration",
   "metadata": {},
   "outputs": [],
   "source": [
    "from konlpy.tag import Mecab\n",
    "tokenizer = Mecab()\n",
    "stopwords = ['의','가','이','은','들','는','좀','잘','걍','과','도','를','으로','자','에','와','한','하다','로서','로써','해서','하여','스런','던','유코']\n",
    "\n",
    "def load_data(train_data, test_data, num_words):\n",
    "    train_data.drop_duplicates(subset=['document'], inplace=True)\n",
    "    train_data = train_data.dropna(how = 'any')\n",
    "    test_data.drop_duplicates(subset=['document'], inplace=True)\n",
    "    test_data = test_data.dropna(how = 'any')\n",
    "    \n",
    "    X_train = []\n",
    "    for sentence in train_data['document']:\n",
    "        temp_X = tokenizer.morphs(sentence)\n",
    "        temp_X = [word for word in temp_X if not word in stopwords]\n",
    "        X_train.append(temp_X)\n",
    "        \n",
    "    X_test = []\n",
    "    for sentence in test_data['document']:\n",
    "        temp_X = tokenizer.morphs(sentence)\n",
    "        temp_X = [word for word in temp_X if not word in stopwords]\n",
    "        X_test.append(temp_X)\n",
    "    \n",
    "    words = np.concatenate(X_train).tolist()\n",
    "    counter = Counter(words)\n",
    "    counter = counter.most_common(10000-4)\n",
    "    vocab = ['<PAD>', '<BOS>', '<UNK>', '<UNUSED>'] + [key for key, _ in counter]\n",
    "    word_to_index = {word:index for index, word in enumerate(vocab)}\n",
    "        \n",
    "    def wordlist_to_indexlist(wordlist):\n",
    "        return [word_to_index[word] if word in word_to_index else word_to_index['<UNK>'] for word in wordlist]\n",
    "        \n",
    "    X_train = list(map(wordlist_to_indexlist, X_train))\n",
    "    X_test = list(map(wordlist_to_indexlist, X_test))\n",
    "        \n",
    "    return X_train, np.array(list(train_data['label'])), X_test, np.array(list(test_data['label'])), word_to_index"
   ]
  },
  {
   "cell_type": "code",
   "execution_count": 8,
   "id": "electric-template",
   "metadata": {},
   "outputs": [],
   "source": [
    "X_train, y_train, X_test, y_test, word_to_index = load_data(train_data, test_data, num_words=10000)"
   ]
  },
  {
   "cell_type": "code",
   "execution_count": 9,
   "id": "small-evaluation",
   "metadata": {},
   "outputs": [],
   "source": [
    "index_to_word = {index:word for word, index in word_to_index.items()}"
   ]
  },
  {
   "cell_type": "code",
   "execution_count": 10,
   "id": "rational-vacuum",
   "metadata": {},
   "outputs": [],
   "source": [
    "def get_encoded_sentence(sentence, word_to_index):\n",
    "    return [word_to_index['<BOS>']]+[word_to_index[word] if word in word_to_index else word_to_index['<UNK>'] for word in sentence.split()]\n",
    "\n",
    "def get_encoded_sentences(sentences, word_to_index):\n",
    "    return [get_encoded_sentence(sentence, word_to_index) for sentence in sentences]\n",
    "\n",
    "def get_decoded_sentence(encoded_sentence, index_to_word):\n",
    "    return ' '.join(index_to_word[index] if index in index_to_word else '<UNK>' for index in encoded_sentence[1:])  #[1:]를 통해 <BOS>를 제외\n",
    " \n",
    "def get_decoded_sentences(encoded_sentences, index_to_word):\n",
    "    return [get_decoded_sentence(encoded_sentence, index_to_word) for encoded_sentence in encoded_sentences]"
   ]
  },
  {
   "cell_type": "markdown",
   "id": "motivated-clause",
   "metadata": {},
   "source": [
    "# 데이터셋 안의 문장 길이 분포를 확인합니다."
   ]
  },
  {
   "cell_type": "code",
   "execution_count": 11,
   "id": "hundred-pittsburgh",
   "metadata": {},
   "outputs": [
    {
     "name": "stdout",
     "output_type": "stream",
     "text": [
      "리뷰의 최대 길이 : 116\n",
      "리뷰의 평균 길이 : 15.90494473709807\n",
      "리뷰의 표준편차 :  12.78316546300724\n"
     ]
    }
   ],
   "source": [
    "total_data_text = list(X_train) + list(X_test)\n",
    "num_tokens = [len(tokens) for tokens in total_data_text]\n",
    "num_tokens = np.array(num_tokens)\n",
    "print('리뷰의 최대 길이 :', np.max(num_tokens))\n",
    "print('리뷰의 평균 길이 :', np.mean(num_tokens))\n",
    "print('리뷰의 표준편차 : ', np.std(num_tokens))"
   ]
  },
  {
   "cell_type": "markdown",
   "id": "demographic-johns",
   "metadata": {},
   "source": [
    "# 이상치 한계선이라 여겨지는 평균 + 3표준편차로 최대길이를 설정합니다."
   ]
  },
  {
   "cell_type": "code",
   "execution_count": 12,
   "id": "comparable-vacuum",
   "metadata": {},
   "outputs": [
    {
     "name": "stdout",
     "output_type": "stream",
     "text": [
      "pad_sequences maxlen :  54\n",
      "전체 문장의 0.9728676813129995%가 maxlen 설정값 이내에 포함됩니다. \n"
     ]
    }
   ],
   "source": [
    "max_tokens = np.mean(num_tokens) + 3 * np.std(num_tokens)\n",
    "maxlen = int(max_tokens)\n",
    "print('pad_sequences maxlen : ', maxlen)\n",
    "print('전체 문장의 {}%가 maxlen 설정값 이내에 포함됩니다. '.format(np.sum(num_tokens < max_tokens) / len(num_tokens)))"
   ]
  },
  {
   "cell_type": "markdown",
   "id": "electoral-correlation",
   "metadata": {},
   "source": [
    "# 설정된 최대길이에 맞춰 Pre 패딩을 진행합니다."
   ]
  },
  {
   "cell_type": "code",
   "execution_count": 13,
   "id": "floppy-discipline",
   "metadata": {},
   "outputs": [
    {
     "name": "stdout",
     "output_type": "stream",
     "text": [
      "(146182, 54)\n"
     ]
    }
   ],
   "source": [
    "X_train = keras.preprocessing.sequence.pad_sequences(X_train, value=word_to_index['<PAD>'], padding='pre', maxlen=maxlen)\n",
    "X_test = keras.preprocessing.sequence.pad_sequences(X_test, value=word_to_index['<PAD>'], padding='pre', maxlen=maxlen)\n",
    "\n",
    "print(X_train.shape)"
   ]
  },
  {
   "cell_type": "markdown",
   "id": "compact-transformation",
   "metadata": {},
   "source": [
    "-----------"
   ]
  },
  {
   "cell_type": "markdown",
   "id": "loose-flower",
   "metadata": {},
   "source": [
    "# 세가지 모델을 구성하여 모델링을 진행하였습니다."
   ]
  },
  {
   "cell_type": "markdown",
   "id": "suited-broadway",
   "metadata": {},
   "source": [
    "# Model 1 : 1 Layer LSTM\n",
    "## LSTM을 한 레이어만 활용한 모델입니다."
   ]
  },
  {
   "cell_type": "code",
   "execution_count": 14,
   "id": "greatest-senior",
   "metadata": {
    "scrolled": true
   },
   "outputs": [
    {
     "name": "stdout",
     "output_type": "stream",
     "text": [
      "Model: \"sequential\"\n",
      "_________________________________________________________________\n",
      "Layer (type)                 Output Shape              Param #   \n",
      "=================================================================\n",
      "embedding (Embedding)        (None, None, 16)          160000    \n",
      "_________________________________________________________________\n",
      "lstm (LSTM)                  (None, 256)               279552    \n",
      "_________________________________________________________________\n",
      "dense (Dense)                (None, 256)               65792     \n",
      "_________________________________________________________________\n",
      "dense_1 (Dense)              (None, 1)                 257       \n",
      "=================================================================\n",
      "Total params: 505,601\n",
      "Trainable params: 505,601\n",
      "Non-trainable params: 0\n",
      "_________________________________________________________________\n"
     ]
    }
   ],
   "source": [
    "vocab_size = 10000\n",
    "word_vector_dim = 16\n",
    "\n",
    "model_1 = keras.Sequential()\n",
    "model_1.add(keras.layers.Embedding(vocab_size, word_vector_dim, input_shape=(None,)))\n",
    "model_1.add(keras.layers.LSTM(256))\n",
    "model_1.add(keras.layers.Dense(256, activation='relu'))\n",
    "model_1.add(keras.layers.Dense(1, activation='sigmoid'))\n",
    "\n",
    "model_1.summary()"
   ]
  },
  {
   "cell_type": "code",
   "execution_count": 15,
   "id": "exceptional-brown",
   "metadata": {},
   "outputs": [
    {
     "name": "stdout",
     "output_type": "stream",
     "text": [
      "(116945, 54)\n",
      "(116945,)\n"
     ]
    }
   ],
   "source": [
    "x_train_split, x_val, y_train_split, y_val = train_test_split(X_train, y_train, test_size = 0.2, random_state = 12)\n",
    "print(x_train_split.shape)\n",
    "print(y_train_split.shape)"
   ]
  },
  {
   "cell_type": "code",
   "execution_count": 16,
   "id": "standard-weather",
   "metadata": {},
   "outputs": [
    {
     "name": "stdout",
     "output_type": "stream",
     "text": [
      "Epoch 1/5\n",
      "1828/1828 [==============================] - 39s 20ms/step - loss: 0.4506 - accuracy: 0.7790 - val_loss: 0.3533 - val_accuracy: 0.8455\n",
      "Epoch 2/5\n",
      "1828/1828 [==============================] - 35s 19ms/step - loss: 0.3156 - accuracy: 0.8639 - val_loss: 0.3307 - val_accuracy: 0.8574\n",
      "Epoch 3/5\n",
      "1828/1828 [==============================] - 35s 19ms/step - loss: 0.2635 - accuracy: 0.8890 - val_loss: 0.3245 - val_accuracy: 0.8584\n",
      "Epoch 4/5\n",
      "1828/1828 [==============================] - 35s 19ms/step - loss: 0.2300 - accuracy: 0.9054 - val_loss: 0.3379 - val_accuracy: 0.8572\n",
      "Epoch 5/5\n",
      "1828/1828 [==============================] - 35s 19ms/step - loss: 0.2045 - accuracy: 0.9183 - val_loss: 0.3633 - val_accuracy: 0.8556\n"
     ]
    }
   ],
   "source": [
    "model_1.compile(optimizer='adam', loss='binary_crossentropy',metrics=['accuracy'])\n",
    "\n",
    "history_1 = model_1.fit(x_train_split, y_train_split, epochs=5, batch_size=64, validation_data=(x_val, y_val), verbose=1)"
   ]
  },
  {
   "cell_type": "code",
   "execution_count": 17,
   "id": "several-stranger",
   "metadata": {},
   "outputs": [
    {
     "name": "stdout",
     "output_type": "stream",
     "text": [
      "1537/1537 - 8s - loss: 0.3595 - accuracy: 0.8548\n",
      "[0.3595086336135864, 0.8547714352607727]\n"
     ]
    }
   ],
   "source": [
    "results_1 = model_1.evaluate(X_test,  y_test, verbose=2)\n",
    "\n",
    "print(results_1)"
   ]
  },
  {
   "cell_type": "markdown",
   "id": "painted-broadway",
   "metadata": {},
   "source": [
    "## 운이 좋게도 1번 모델부터 목표치인 85% 이상의 accuracy를 얻을 수 있었습니다."
   ]
  },
  {
   "cell_type": "code",
   "execution_count": 18,
   "id": "polish-night",
   "metadata": {},
   "outputs": [
    {
     "name": "stdout",
     "output_type": "stream",
     "text": [
      "dict_keys(['loss', 'accuracy', 'val_loss', 'val_accuracy'])\n"
     ]
    }
   ],
   "source": [
    "history_1_dict = history_1.history\n",
    "print(history_1_dict.keys())"
   ]
  },
  {
   "cell_type": "code",
   "execution_count": 19,
   "id": "moved-coffee",
   "metadata": {
    "scrolled": false
   },
   "outputs": [
    {
     "data": {
      "image/png": "[encoded data removed]",
      "text/plain": [
       "<Figure size 1080x360 with 2 Axes>"
      ]
     },
     "metadata": {
      "needs_background": "light"
     },
     "output_type": "display_data"
    }
   ],
   "source": [
    "import matplotlib.pyplot as plt\n",
    "\n",
    "acc = history_1_dict['accuracy']\n",
    "val_acc = history_1_dict['val_accuracy']\n",
    "loss = history_1_dict['loss']\n",
    "val_loss = history_1_dict['val_loss']\n",
    "\n",
    "epochs = range(1, len(acc) + 1)\n",
    "\n",
    "plt.figure(figsize=(15,5))\n",
    "plt.subplot(1,2,1)\n",
    "plt.plot(epochs, loss, 'blue', label='Training loss')\n",
    "plt.plot(epochs, val_loss, 'red', label='Validation loss')\n",
    "plt.title('Training and validation loss')\n",
    "plt.xlabel('Epochs')\n",
    "plt.ylabel('Loss')\n",
    "plt.legend()\n",
    "\n",
    "plt.subplot(1,2,2)\n",
    "plt.plot(epochs, acc, 'blue', label='Training acc')\n",
    "plt.plot(epochs, val_acc, 'red', label='Validation acc')\n",
    "plt.title('Training and validation accuracy')\n",
    "plt.xlabel('Epochs')\n",
    "plt.ylabel('Accuracy')\n",
    "plt.legend()\n",
    "\n",
    "plt.show()"
   ]
  },
  {
   "cell_type": "markdown",
   "id": "psychological-capacity",
   "metadata": {},
   "source": [
    "---------"
   ]
  },
  {
   "cell_type": "markdown",
   "id": "exotic-trust",
   "metadata": {},
   "source": [
    "# Model 2 : 2 Layer LSTM\n",
    "## LSTM 레이어를 2개 사용하여 모델링을 진행하였습니다.  \n",
    "## LSTM 레이어를 하나 사용하는 것 보다 좋은 성능이 나올 것으로 기대했습니다."
   ]
  },
  {
   "cell_type": "code",
   "execution_count": 20,
   "id": "closing-editor",
   "metadata": {},
   "outputs": [
    {
     "name": "stdout",
     "output_type": "stream",
     "text": [
      "Model: \"sequential_1\"\n",
      "_________________________________________________________________\n",
      "Layer (type)                 Output Shape              Param #   \n",
      "=================================================================\n",
      "embedding_1 (Embedding)      (None, None, 16)          160000    \n",
      "_________________________________________________________________\n",
      "lstm_1 (LSTM)                (None, None, 128)         74240     \n",
      "_________________________________________________________________\n",
      "dense_2 (Dense)              (None, None, 128)         16512     \n",
      "_________________________________________________________________\n",
      "lstm_2 (LSTM)                (None, None, 128)         131584    \n",
      "_________________________________________________________________\n",
      "dense_3 (Dense)              (None, None, 128)         16512     \n",
      "_________________________________________________________________\n",
      "dense_4 (Dense)              (None, None, 1)           129       \n",
      "=================================================================\n",
      "Total params: 398,977\n",
      "Trainable params: 398,977\n",
      "Non-trainable params: 0\n",
      "_________________________________________________________________\n"
     ]
    }
   ],
   "source": [
    "vocab_size = 10000\n",
    "word_vector_dim = 16\n",
    "\n",
    "model_2 = keras.Sequential()\n",
    "model_2.add(keras.layers.Embedding(vocab_size, word_vector_dim, input_shape=(None,)))\n",
    "model_2.add(keras.layers.LSTM(128, return_sequences = True))\n",
    "model_2.add(keras.layers.Dense(128, activation='relu'))\n",
    "model_2.add(keras.layers.LSTM(128, return_sequences = True))\n",
    "model_2.add(keras.layers.Dense(128, activation='relu'))\n",
    "model_2.add(keras.layers.Dense(1, activation='sigmoid'))\n",
    "\n",
    "model_2.summary()"
   ]
  },
  {
   "cell_type": "code",
   "execution_count": 21,
   "id": "electric-african",
   "metadata": {},
   "outputs": [
    {
     "name": "stdout",
     "output_type": "stream",
     "text": [
      "Epoch 1/5\n",
      "1828/1828 [==============================] - 55s 28ms/step - loss: 0.6540 - accuracy: 0.5552 - val_loss: 0.6255 - val_accuracy: 0.5817\n",
      "Epoch 2/5\n",
      "1828/1828 [==============================] - 50s 28ms/step - loss: 0.6144 - accuracy: 0.5897 - val_loss: 0.6238 - val_accuracy: 0.5836\n",
      "Epoch 3/5\n",
      "1828/1828 [==============================] - 50s 28ms/step - loss: 0.6045 - accuracy: 0.5932 - val_loss: 0.6262 - val_accuracy: 0.5833\n",
      "Epoch 4/5\n",
      "1828/1828 [==============================] - 51s 28ms/step - loss: 0.5974 - accuracy: 0.5948 - val_loss: 0.6260 - val_accuracy: 0.5835\n",
      "Epoch 5/5\n",
      "1828/1828 [==============================] - 51s 28ms/step - loss: 0.5906 - accuracy: 0.6010 - val_loss: 0.6276 - val_accuracy: 0.5830\n"
     ]
    }
   ],
   "source": [
    "model_2.compile(optimizer='adam', loss='binary_crossentropy',metrics=['accuracy'])\n",
    "\n",
    "history_2 = model_2.fit(x_train_split, y_train_split, epochs=5, batch_size=64, validation_data=(x_val, y_val), verbose=1)"
   ]
  },
  {
   "cell_type": "code",
   "execution_count": 22,
   "id": "departmental-following",
   "metadata": {},
   "outputs": [
    {
     "name": "stdout",
     "output_type": "stream",
     "text": [
      "1537/1537 - 12s - loss: 0.6258 - accuracy: 0.5873\n",
      "[0.6257584095001221, 0.5873424410820007]\n"
     ]
    }
   ],
   "source": [
    "results_2 = model_2.evaluate(X_test,  y_test, verbose=2)\n",
    "\n",
    "print(results_2)"
   ]
  },
  {
   "cell_type": "markdown",
   "id": "criminal-zambia",
   "metadata": {},
   "source": [
    "## LSTM 레이어를 하나 사용했을 때보다 높은 성능을 기대했으나 놀랍게도 기대에 턱없이 모자른 성능을 보여주었습니다."
   ]
  },
  {
   "cell_type": "code",
   "execution_count": 23,
   "id": "together-maximum",
   "metadata": {},
   "outputs": [
    {
     "data": {
      "image/png": "[encoded data removed]",
      "text/plain": [
       "<Figure size 1080x360 with 2 Axes>"
      ]
     },
     "metadata": {
      "needs_background": "light"
     },
     "output_type": "display_data"
    }
   ],
   "source": [
    "history_2_dict = history_2.history\n",
    "acc = history_2_dict['accuracy']\n",
    "val_acc = history_2_dict['val_accuracy']\n",
    "loss = history_2_dict['loss']\n",
    "val_loss = history_2_dict['val_loss']\n",
    "\n",
    "epochs = range(1, len(acc) + 1)\n",
    "\n",
    "plt.figure(figsize=(15,5))\n",
    "plt.subplot(1,2,1)\n",
    "plt.plot(epochs, loss, 'blue', label='Training loss')\n",
    "plt.plot(epochs, val_loss, 'red', label='Validation loss')\n",
    "plt.title('Training and validation loss')\n",
    "plt.xlabel('Epochs')\n",
    "plt.ylabel('Loss')\n",
    "plt.legend()\n",
    "\n",
    "plt.subplot(1,2,2)\n",
    "plt.plot(epochs, acc, 'blue', label='Training acc')\n",
    "plt.plot(epochs, val_acc, 'red', label='Validation acc')\n",
    "plt.title('Training and validation accuracy')\n",
    "plt.xlabel('Epochs')\n",
    "plt.ylabel('Accuracy')\n",
    "plt.legend()\n",
    "\n",
    "plt.show()"
   ]
  },
  {
   "cell_type": "markdown",
   "id": "identical-aberdeen",
   "metadata": {},
   "source": [
    "---------"
   ]
  },
  {
   "cell_type": "markdown",
   "id": "devoted-hayes",
   "metadata": {},
   "source": [
    "# Model 3 : 1-D CNN\n",
    "## RNN 대신에 CNN 방식을 활용한 모델링을 진행해보았습니다.\n",
    "## RNN 보다는 좀 더 성능이 낮을 것으로 예상되나 모델링 속도는 더욱 빠를 것으로 예상됩니다. 따라서 15 epochs로 설정하여 모델링을 진행해 보았습니다."
   ]
  },
  {
   "cell_type": "code",
   "execution_count": 24,
   "id": "polyphonic-stopping",
   "metadata": {},
   "outputs": [
    {
     "name": "stdout",
     "output_type": "stream",
     "text": [
      "Model: \"sequential_2\"\n",
      "_________________________________________________________________\n",
      "Layer (type)                 Output Shape              Param #   \n",
      "=================================================================\n",
      "embedding_2 (Embedding)      (None, None, 16)          160000    \n",
      "_________________________________________________________________\n",
      "conv1d (Conv1D)              (None, None, 16)          784       \n",
      "_________________________________________________________________\n",
      "max_pooling1d (MaxPooling1D) (None, None, 16)          0         \n",
      "_________________________________________________________________\n",
      "conv1d_1 (Conv1D)            (None, None, 16)          784       \n",
      "_________________________________________________________________\n",
      "global_max_pooling1d (Global (None, 16)                0         \n",
      "_________________________________________________________________\n",
      "dense_5 (Dense)              (None, 8)                 136       \n",
      "_________________________________________________________________\n",
      "dense_6 (Dense)              (None, 1)                 9         \n",
      "=================================================================\n",
      "Total params: 161,713\n",
      "Trainable params: 161,713\n",
      "Non-trainable params: 0\n",
      "_________________________________________________________________\n"
     ]
    }
   ],
   "source": [
    "vocab_size = 10000\n",
    "word_vector_dim = 16\n",
    "\n",
    "model_3 = keras.Sequential()\n",
    "model_3.add(keras.layers.Embedding(vocab_size, word_vector_dim, input_shape=(None,)))\n",
    "model_3.add(keras.layers.Conv1D(16, 3, activation='relu'))\n",
    "model_3.add(keras.layers.MaxPooling1D(5))\n",
    "model_3.add(keras.layers.Conv1D(16, 3, activation='relu'))\n",
    "model_3.add(keras.layers.GlobalMaxPooling1D())\n",
    "model_3.add(keras.layers.Dense(8, activation='relu'))\n",
    "model_3.add(keras.layers.Dense(1, activation='sigmoid'))\n",
    "\n",
    "model_3.summary()"
   ]
  },
  {
   "cell_type": "code",
   "execution_count": 25,
   "id": "inside-beads",
   "metadata": {},
   "outputs": [
    {
     "name": "stdout",
     "output_type": "stream",
     "text": [
      "Epoch 1/15\n",
      "1828/1828 [==============================] - 17s 7ms/step - loss: 0.5055 - accuracy: 0.7325 - val_loss: 0.3945 - val_accuracy: 0.8179\n",
      "Epoch 2/15\n",
      "1828/1828 [==============================] - 10s 6ms/step - loss: 0.3313 - accuracy: 0.8532 - val_loss: 0.3878 - val_accuracy: 0.8226\n",
      "Epoch 3/15\n",
      "1828/1828 [==============================] - 10s 6ms/step - loss: 0.2839 - accuracy: 0.8790 - val_loss: 0.4015 - val_accuracy: 0.8188\n",
      "Epoch 4/15\n",
      "1828/1828 [==============================] - 10s 6ms/step - loss: 0.2361 - accuracy: 0.9013 - val_loss: 0.4328 - val_accuracy: 0.8164\n",
      "Epoch 5/15\n",
      "1828/1828 [==============================] - 10s 6ms/step - loss: 0.1970 - accuracy: 0.9202 - val_loss: 0.4724 - val_accuracy: 0.8097\n",
      "Epoch 6/15\n",
      "1828/1828 [==============================] - 10s 6ms/step - loss: 0.1666 - accuracy: 0.9327 - val_loss: 0.5207 - val_accuracy: 0.8068\n",
      "Epoch 7/15\n",
      "1828/1828 [==============================] - 10s 6ms/step - loss: 0.1427 - accuracy: 0.9434 - val_loss: 0.5696 - val_accuracy: 0.8020\n",
      "Epoch 8/15\n",
      "1828/1828 [==============================] - 10s 6ms/step - loss: 0.1255 - accuracy: 0.9495 - val_loss: 0.6318 - val_accuracy: 0.7964\n",
      "Epoch 9/15\n",
      "1828/1828 [==============================] - 10s 6ms/step - loss: 0.1140 - accuracy: 0.9544 - val_loss: 0.6817 - val_accuracy: 0.7965\n",
      "Epoch 10/15\n",
      "1828/1828 [==============================] - 10s 6ms/step - loss: 0.1045 - accuracy: 0.9574 - val_loss: 0.7805 - val_accuracy: 0.7972\n",
      "Epoch 11/15\n",
      "1828/1828 [==============================] - 10s 6ms/step - loss: 0.0976 - accuracy: 0.9601 - val_loss: 0.8043 - val_accuracy: 0.7913\n",
      "Epoch 12/15\n",
      "1828/1828 [==============================] - 10s 6ms/step - loss: 0.0920 - accuracy: 0.9614 - val_loss: 0.8576 - val_accuracy: 0.7956\n",
      "Epoch 13/15\n",
      "1828/1828 [==============================] - 10s 6ms/step - loss: 0.0855 - accuracy: 0.9637 - val_loss: 0.8827 - val_accuracy: 0.7886\n",
      "Epoch 14/15\n",
      "1828/1828 [==============================] - 10s 6ms/step - loss: 0.0824 - accuracy: 0.9648 - val_loss: 0.9864 - val_accuracy: 0.7840\n",
      "Epoch 15/15\n",
      "1828/1828 [==============================] - 10s 6ms/step - loss: 0.0779 - accuracy: 0.9667 - val_loss: 1.0048 - val_accuracy: 0.7887\n"
     ]
    }
   ],
   "source": [
    "model_3.compile(optimizer='adam', loss='binary_crossentropy',metrics=['accuracy'])\n",
    "\n",
    "history_3 = model_3.fit(x_train_split, y_train_split, epochs=15, batch_size=64, validation_data=(x_val, y_val), verbose=1)"
   ]
  },
  {
   "cell_type": "markdown",
   "id": "global-secretariat",
   "metadata": {},
   "source": [
    "## 예상대로 하나의 epoch마다 모델링에 더 적은 시간이 든다는 것을 확인할 수 있습니다."
   ]
  },
  {
   "cell_type": "code",
   "execution_count": 26,
   "id": "wicked-lloyd",
   "metadata": {
    "scrolled": true
   },
   "outputs": [
    {
     "name": "stdout",
     "output_type": "stream",
     "text": [
      "1537/1537 - 4s - loss: 0.9832 - accuracy: 0.7902\n",
      "[0.9832096695899963, 0.7901824712753296]\n"
     ]
    }
   ],
   "source": [
    "results_3 = model_3.evaluate(X_test,  y_test, verbose=2)\n",
    "\n",
    "print(results_3)"
   ]
  },
  {
   "cell_type": "markdown",
   "id": "intellectual-federation",
   "metadata": {},
   "source": [
    "## accuracy 또한 기존의 RNN 모델에 비해 조금 떨어지는 것을 볼 수 있었습니다.\n",
    "## 다만 LSTM layer를 2개 활용한 모델 2보다는 더 높은 accuracy를 보여주고 있습니다."
   ]
  },
  {
   "cell_type": "code",
   "execution_count": 27,
   "id": "innocent-chance",
   "metadata": {},
   "outputs": [
    {
     "data": {
      "image/png": "[encoded data removed]",
      "text/plain": [
       "<Figure size 1080x360 with 2 Axes>"
      ]
     },
     "metadata": {
      "needs_background": "light"
     },
     "output_type": "display_data"
    }
   ],
   "source": [
    "history_3_dict = history_3.history\n",
    "acc = history_3_dict['accuracy']\n",
    "val_acc = history_3_dict['val_accuracy']\n",
    "loss = history_3_dict['loss']\n",
    "val_loss = history_3_dict['val_loss']\n",
    "\n",
    "epochs = range(1, len(acc) + 1)\n",
    "\n",
    "plt.figure(figsize=(15,5))\n",
    "plt.subplot(1,2,1)\n",
    "plt.plot(epochs, loss, 'blue', label='Training loss')\n",
    "plt.plot(epochs, val_loss, 'red', label='Validation loss')\n",
    "plt.title('Training and validation loss')\n",
    "plt.xlabel('Epochs')\n",
    "plt.ylabel('Loss')\n",
    "plt.legend()\n",
    "\n",
    "plt.subplot(1,2,2)\n",
    "plt.plot(epochs, acc, 'blue', label='Training acc')\n",
    "plt.plot(epochs, val_acc, 'red', label='Validation acc')\n",
    "plt.title('Training and validation accuracy')\n",
    "plt.xlabel('Epochs')\n",
    "plt.ylabel('Accuracy')\n",
    "plt.legend()\n",
    "\n",
    "plt.show()"
   ]
  },
  {
   "cell_type": "markdown",
   "id": "adjusted-elephant",
   "metadata": {},
   "source": [
    "---------------------"
   ]
  },
  {
   "cell_type": "markdown",
   "id": "recognized-mason",
   "metadata": {},
   "source": [
    "# Gensim을 활용하여 자체학습된 임베딩 레이어를 분석해보았습니다."
   ]
  },
  {
   "cell_type": "code",
   "execution_count": 28,
   "id": "beautiful-screw",
   "metadata": {},
   "outputs": [],
   "source": [
    "word2vec_file_path = os.getenv('HOME')+'/aiffel/exp7/sentiment_classification/data/word2vec.txt'\n",
    "f = open(word2vec_file_path, 'w')\n",
    "f.write('{} {}\\n'.format(vocab_size-4, word_vector_dim))\n",
    "\n",
    "vectors = model_1.get_weights()[0]\n",
    "for i in range(4,vocab_size):\n",
    "    f.write('{} {}\\n'.format(index_to_word[i], ' '.join(map(str, list(vectors[i, :])))))\n",
    "f.close()"
   ]
  },
  {
   "cell_type": "code",
   "execution_count": 29,
   "id": "uniform-weekly",
   "metadata": {},
   "outputs": [],
   "source": [
    "word_vectors = Word2VecKeyedVectors.load_word2vec_format(word2vec_file_path, binary=False)"
   ]
  },
  {
   "cell_type": "code",
   "execution_count": 30,
   "id": "located-stretch",
   "metadata": {},
   "outputs": [
    {
     "data": {
      "text/plain": [
       "array([ 0.11745215,  0.07718747,  0.14873166,  0.00552875, -0.08800296,\n",
       "       -0.02088217, -0.08179249, -0.06218768, -0.01443339, -0.07600384,\n",
       "       -0.10769683,  0.11350792, -0.0522565 , -0.05771133,  0.10890085,\n",
       "       -0.0065195 ], dtype=float32)"
      ]
     },
     "execution_count": 30,
     "metadata": {},
     "output_type": "execute_result"
    }
   ],
   "source": [
    "vector = word_vectors['추천']\n",
    "vector"
   ]
  },
  {
   "cell_type": "markdown",
   "id": "fuzzy-prescription",
   "metadata": {},
   "source": [
    "## 영화의 평과 직접적으로 관련될 수 있는 단어 위주로 유사 벡터를 구했습니다."
   ]
  },
  {
   "cell_type": "code",
   "execution_count": 31,
   "id": "partial-federal",
   "metadata": {
    "scrolled": true
   },
   "outputs": [
    {
     "data": {
      "text/plain": [
       "[('저격', 0.9496068954467773),\n",
       " ('해져서', 0.9451103806495667),\n",
       " ('낙원', 0.943535566329956),\n",
       " ('고조', 0.9426010847091675),\n",
       " ('달콤', 0.9423448443412781),\n",
       " ('발킬머', 0.9411572813987732),\n",
       " ('본받', 0.9383111596107483),\n",
       " ('애인', 0.9371739625930786),\n",
       " ('억압', 0.9369133710861206),\n",
       " ('중사', 0.9354552030563354)]"
      ]
     },
     "execution_count": 31,
     "metadata": {},
     "output_type": "execute_result"
    }
   ],
   "source": [
    "word_vectors.similar_by_word('추천')"
   ]
  },
  {
   "cell_type": "markdown",
   "id": "unavailable-feedback",
   "metadata": {},
   "source": [
    "## 이 과정에서 의미를 알 수 없는 단어가 나온 경우 토큰화 과정에 불용어로 추가하여 다시 모델링을 진행하고 임베딩 레이어 분석을 진행했습니다."
   ]
  },
  {
   "cell_type": "markdown",
   "id": "korean-aquatic",
   "metadata": {},
   "source": [
    "-----------------------------"
   ]
  },
  {
   "cell_type": "markdown",
   "id": "built-quest",
   "metadata": {},
   "source": [
    "# 한국어 Word2Vec을 활용한 성능 향상을 시도하였습니다."
   ]
  },
  {
   "cell_type": "code",
   "execution_count": 32,
   "id": "prospective-cookie",
   "metadata": {},
   "outputs": [],
   "source": [
    "word2vec_path = os.getenv('HOME')+'/aiffel/exp7/sentiment_classification/data/ko.bin'\n",
    "word2vec = gensim.models.Word2Vec.load(word2vec_path)"
   ]
  },
  {
   "cell_type": "code",
   "execution_count": 33,
   "id": "democratic-reviewer",
   "metadata": {},
   "outputs": [
    {
     "name": "stderr",
     "output_type": "stream",
     "text": [
      "/opt/conda/lib/python3.7/site-packages/ipykernel_launcher.py:1: DeprecationWarning: Call to deprecated `__getitem__` (Method will be removed in 4.0.0, use self.wv.__getitem__() instead).\n",
      "  \"\"\"Entry point for launching an IPython kernel.\n"
     ]
    },
    {
     "data": {
      "text/plain": [
       "array([-0.21245585, -0.76455975,  1.2335763 , -2.0687602 ,  0.11830104,\n",
       "       -0.54881305, -1.1947731 ,  0.3467694 , -1.0311009 , -0.3603907 ,\n",
       "        1.3440485 , -0.4072002 ,  1.1131706 , -0.9551345 , -0.7064215 ,\n",
       "       -0.1686603 , -0.58696073, -1.4859254 ,  0.05223045, -0.23236327,\n",
       "        0.6323806 , -1.1020958 , -1.2635112 ,  0.6220531 ,  0.17838949,\n",
       "       -0.70615005, -1.3628044 , -1.4818763 , -0.18965532,  0.11690602,\n",
       "       -0.09560227, -0.39899632,  1.0731212 , -0.63874424,  0.017969  ,\n",
       "        0.98583263,  1.3941766 ,  0.08089745, -0.81685823, -0.7022943 ,\n",
       "       -0.5008832 , -0.54513174,  0.34584457, -1.7315279 , -0.24291196,\n",
       "        0.6328651 ,  1.4537793 , -0.7011548 ,  0.80850524,  0.74069935,\n",
       "       -0.9272299 , -1.335555  , -1.1335523 ,  3.2529519 ,  0.6823866 ,\n",
       "       -1.4942434 ,  3.213415  ,  1.0216335 , -0.4152105 , -0.11520938,\n",
       "       -0.08406533, -0.49404764, -1.7769778 ,  0.19683318,  0.48151487,\n",
       "       -0.67674905, -1.5347718 ,  0.17763563, -0.6901806 , -0.71837485,\n",
       "        0.26211363,  1.3736591 , -0.81411374,  1.5484174 , -0.32827973,\n",
       "       -1.2308834 , -0.24815056, -0.05604961,  2.4168842 , -1.3484128 ,\n",
       "       -1.9251053 ,  0.85578465, -1.8256166 , -0.10344915, -0.10654867,\n",
       "        1.0619285 ,  0.5666331 , -0.44050282,  0.8053295 ,  0.10873766,\n",
       "        0.6044379 ,  0.764614  , -0.09914612,  0.88586   ,  0.26618013,\n",
       "        0.36814845,  0.426867  , -1.147402  ,  0.84544444, -0.1843114 ,\n",
       "       -0.7268895 , -0.3212696 ,  0.667064  , -0.58419776,  1.8145548 ,\n",
       "        1.9355031 , -1.3043815 ,  0.04326026,  0.45568457, -1.8683544 ,\n",
       "        0.8834185 , -0.51768565, -1.7198668 , -0.05112309,  2.3985045 ,\n",
       "       -2.3366795 , -0.2968566 , -0.81674945,  1.4297746 ,  0.02107116,\n",
       "        0.9217806 , -2.5649145 , -0.17076743, -1.2345508 ,  0.48951107,\n",
       "       -0.01503422,  1.742437  , -0.3975787 ,  0.15941875,  2.065955  ,\n",
       "        2.0112004 ,  0.430826  ,  1.4105109 ,  1.9929649 ,  0.2523577 ,\n",
       "        2.1973937 ,  1.4095    , -1.4678651 ,  0.05385794, -0.9562361 ,\n",
       "        0.8480321 , -0.11160672, -0.20669545,  0.45160684, -1.8831215 ,\n",
       "       -0.08634222,  1.2188671 , -0.26115584, -0.3497346 , -1.6032007 ,\n",
       "        1.5190088 ,  2.0292878 , -0.29313686, -0.84542555, -0.30137303,\n",
       "        1.0734961 , -0.21645601,  0.10950008, -0.528668  , -0.27094576,\n",
       "        1.2831593 ,  0.5645215 , -1.1138439 ,  0.49422115, -0.66331106,\n",
       "       -1.9084527 ,  1.0288999 ,  0.35668066,  0.5310273 ,  1.5287439 ,\n",
       "       -0.8891878 ,  0.9435555 , -0.28362617, -1.3905132 , -1.3402418 ,\n",
       "       -0.16271193, -1.6028023 , -1.3273442 , -0.49335095,  0.84329164,\n",
       "        1.390656  , -0.03553885, -0.9085696 , -0.6598932 ,  1.4210014 ,\n",
       "       -1.78825   ,  1.2472417 , -1.2535207 ,  0.58834684, -1.1036639 ,\n",
       "        0.44645292,  0.6652011 ,  0.92176735, -1.6156495 ,  0.92709404,\n",
       "        1.8791242 , -0.78659415,  0.33630264,  0.5729397 , -1.8942915 ],\n",
       "      dtype=float32)"
      ]
     },
     "execution_count": 33,
     "metadata": {},
     "output_type": "execute_result"
    }
   ],
   "source": [
    "vector = word2vec['추천']\n",
    "vector"
   ]
  },
  {
   "cell_type": "code",
   "execution_count": 34,
   "id": "parental-traffic",
   "metadata": {
    "scrolled": true
   },
   "outputs": [
    {
     "name": "stderr",
     "output_type": "stream",
     "text": [
      "/opt/conda/lib/python3.7/site-packages/ipykernel_launcher.py:7: DeprecationWarning: Call to deprecated `__contains__` (Method will be removed in 4.0.0, use self.wv.__contains__() instead).\n",
      "  import sys\n",
      "/opt/conda/lib/python3.7/site-packages/ipykernel_launcher.py:8: DeprecationWarning: Call to deprecated `__getitem__` (Method will be removed in 4.0.0, use self.wv.__getitem__() instead).\n",
      "  \n"
     ]
    }
   ],
   "source": [
    "vocab_size = 10000\n",
    "word_vector_dim = 200\n",
    "\n",
    "embedding_matrix = np.random.rand(vocab_size, word_vector_dim)\n",
    "\n",
    "for i in range(4,vocab_size):\n",
    "    if index_to_word[i] in word2vec:\n",
    "        embedding_matrix[i] = word2vec[index_to_word[i]]"
   ]
  },
  {
   "cell_type": "markdown",
   "id": "rocky-newton",
   "metadata": {},
   "source": [
    "# 가장 성능이 높았던 Model 1에 한국어 Word2Vec을 적용해 보기로 했습니다."
   ]
  },
  {
   "cell_type": "code",
   "execution_count": 39,
   "id": "alpha-thriller",
   "metadata": {},
   "outputs": [
    {
     "name": "stdout",
     "output_type": "stream",
     "text": [
      "Model: \"sequential_6\"\n",
      "_________________________________________________________________\n",
      "Layer (type)                 Output Shape              Param #   \n",
      "=================================================================\n",
      "embedding_4 (Embedding)      (None, 54, 200)           2000000   \n",
      "_________________________________________________________________\n",
      "lstm_3 (LSTM)                (None, 256)               467968    \n",
      "_________________________________________________________________\n",
      "dense_7 (Dense)              (None, 256)               65792     \n",
      "_________________________________________________________________\n",
      "dense_8 (Dense)              (None, 1)                 257       \n",
      "=================================================================\n",
      "Total params: 2,534,017\n",
      "Trainable params: 2,534,017\n",
      "Non-trainable params: 0\n",
      "_________________________________________________________________\n"
     ]
    }
   ],
   "source": [
    "model_word2vec = keras.Sequential()\n",
    "model_word2vec.add(keras.layers.Embedding(vocab_size, word_vector_dim, weights=[embedding_matrix], input_length=maxlen, trainable=True))  \n",
    "model_word2vec.add(keras.layers.LSTM(256))\n",
    "model_word2vec.add(keras.layers.Dense(256, activation='relu'))\n",
    "model_word2vec.add(keras.layers.Dense(1, activation='sigmoid'))\n",
    "\n",
    "model_word2vec.summary()"
   ]
  },
  {
   "cell_type": "code",
   "execution_count": 40,
   "id": "transparent-pulse",
   "metadata": {},
   "outputs": [
    {
     "name": "stdout",
     "output_type": "stream",
     "text": [
      "Epoch 1/10\n",
      "1828/1828 [==============================] - 57s 30ms/step - loss: 0.4551 - accuracy: 0.7764 - val_loss: 0.3294 - val_accuracy: 0.8553\n",
      "Epoch 2/10\n",
      "1828/1828 [==============================] - 55s 30ms/step - loss: 0.2820 - accuracy: 0.8817 - val_loss: 0.3228 - val_accuracy: 0.8616\n",
      "Epoch 3/10\n",
      "1828/1828 [==============================] - 55s 30ms/step - loss: 0.2276 - accuracy: 0.9069 - val_loss: 0.3211 - val_accuracy: 0.8677\n",
      "Epoch 4/10\n",
      "1828/1828 [==============================] - 55s 30ms/step - loss: 0.1765 - accuracy: 0.9291 - val_loss: 0.3457 - val_accuracy: 0.8657\n",
      "Epoch 5/10\n",
      "1828/1828 [==============================] - 55s 30ms/step - loss: 0.1254 - accuracy: 0.9516 - val_loss: 0.4129 - val_accuracy: 0.8620\n",
      "Epoch 6/10\n",
      "1828/1828 [==============================] - 55s 30ms/step - loss: 0.0880 - accuracy: 0.9670 - val_loss: 0.5059 - val_accuracy: 0.8602\n",
      "Epoch 7/10\n",
      "1828/1828 [==============================] - 55s 30ms/step - loss: 0.0609 - accuracy: 0.9772 - val_loss: 0.6129 - val_accuracy: 0.8554\n",
      "Epoch 8/10\n",
      "1828/1828 [==============================] - 55s 30ms/step - loss: 0.0468 - accuracy: 0.9829 - val_loss: 0.6920 - val_accuracy: 0.8530\n",
      "Epoch 9/10\n",
      "1828/1828 [==============================] - 55s 30ms/step - loss: 0.0374 - accuracy: 0.9855 - val_loss: 0.7052 - val_accuracy: 0.8532\n",
      "Epoch 10/10\n",
      "1828/1828 [==============================] - 55s 30ms/step - loss: 0.0339 - accuracy: 0.9875 - val_loss: 0.8233 - val_accuracy: 0.8553\n"
     ]
    }
   ],
   "source": [
    "model_word2vec.compile(optimizer='adam', loss='binary_crossentropy',metrics=['accuracy'])\n",
    "\n",
    "history_word2vec = model_word2vec.fit(x_train_split, y_train_split, epochs=10, batch_size=64, validation_data=(x_val, y_val), verbose=1)"
   ]
  },
  {
   "cell_type": "code",
   "execution_count": 41,
   "id": "nuclear-characterization",
   "metadata": {
    "scrolled": true
   },
   "outputs": [
    {
     "name": "stdout",
     "output_type": "stream",
     "text": [
      "1537/1537 - 9s - loss: 0.8077 - accuracy: 0.8585\n",
      "[0.8076536059379578, 0.858494222164154]\n"
     ]
    }
   ],
   "source": [
    "results_word2vec = model_word2vec.evaluate(X_test,  y_test, verbose=2)\n",
    "\n",
    "print(results_word2vec)"
   ]
  },
  {
   "cell_type": "markdown",
   "id": "graduate-approval",
   "metadata": {},
   "source": [
    "# 유의미한 성능향상이 있을 것이라는 기대와 달리 미미한 성능향상을 보여주고 있습니다."
   ]
  },
  {
   "cell_type": "code",
   "execution_count": 42,
   "id": "recreational-capability",
   "metadata": {},
   "outputs": [
    {
     "data": {
      "image/png": "[encoded data removed]",
      "text/plain": [
       "<Figure size 1080x360 with 2 Axes>"
      ]
     },
     "metadata": {
      "needs_background": "light"
     },
     "output_type": "display_data"
    }
   ],
   "source": [
    "history_word2vec_dict = history_word2vec.history\n",
    "acc = history_word2vec_dict['accuracy']\n",
    "val_acc = history_word2vec_dict['val_accuracy']\n",
    "loss = history_word2vec_dict['loss']\n",
    "val_loss = history_word2vec_dict['val_loss']\n",
    "\n",
    "epochs = range(1, len(acc) + 1)\n",
    "\n",
    "plt.figure(figsize=(15,5))\n",
    "plt.subplot(1,2,1)\n",
    "plt.plot(epochs, loss, 'blue', label='Training loss')\n",
    "plt.plot(epochs, val_loss, 'red', label='Validation loss')\n",
    "plt.title('Training and validation loss')\n",
    "plt.xlabel('Epochs')\n",
    "plt.ylabel('Loss')\n",
    "plt.legend()\n",
    "\n",
    "plt.subplot(1,2,2)\n",
    "plt.plot(epochs, acc, 'blue', label='Training acc')\n",
    "plt.plot(epochs, val_acc, 'red', label='Validation acc')\n",
    "plt.title('Training and validation accuracy')\n",
    "plt.xlabel('Epochs')\n",
    "plt.ylabel('Accuracy')\n",
    "plt.legend()\n",
    "\n",
    "plt.show()"
   ]
  },
  {
   "cell_type": "markdown",
   "id": "extraordinary-invalid",
   "metadata": {},
   "source": [
    "------------------------"
   ]
  },
  {
   "cell_type": "markdown",
   "id": "wireless-peeing",
   "metadata": {},
   "source": [
    "# 노드에는 없지만 모델링이 제대로 되었는지 확인해보고자 학습된 모델을 통해 리뷰를 긍정과 부정으로 분류해 주는 함수를 생성해보았습니다.\n",
    "# 해당 함수는 AIFFEL 명예의전당을 참고하였습니다."
   ]
  },
  {
   "cell_type": "code",
   "execution_count": 52,
   "id": "freelance-simpson",
   "metadata": {},
   "outputs": [],
   "source": [
    "def sentiment_predict():\n",
    "    new_sentence = str(input('영화 리뷰를 남겨주세요 : '))\n",
    "    new_sentence = tokenizer.morphs(new_sentence)\n",
    "    new_sentence.insert(0, '<BOS>')\n",
    "    new_sentence = [word for word in new_sentence if not word in stopwords]\n",
    "\n",
    "    def wordlist_to_indexlist(wordlist):\n",
    "        return [word_to_index[word] if word in word_to_index else word_to_index['<UNK>'] for word in wordlist]\n",
    "\n",
    "    new_sentence = wordlist_to_indexlist(new_sentence)\n",
    "    new_sentence = [new_sentence]\n",
    "\n",
    "    new_sentence = keras.preprocessing.sequence.pad_sequences(new_sentence, value=word_to_index[\"<PAD>\"], padding='pre', maxlen=maxlen)\n",
    "    \n",
    "    score = float(model_word2vec.predict(new_sentence))\n",
    "    \n",
    "    if score > 0.5:\n",
    "        print(\"{:.2f}% 확률로 긍정 리뷰입니다.\\n\".format(score * 100))\n",
    "    else:\n",
    "        print(\"{:.2f}% 확률로 부정 리뷰입니다.\\n\".format((1 - score) * 100))"
   ]
  },
  {
   "cell_type": "code",
   "execution_count": 53,
   "id": "public-heavy",
   "metadata": {},
   "outputs": [
    {
     "name": "stdout",
     "output_type": "stream",
     "text": [
      "영화 리뷰를 남겨주세요 : 와 이번 영화 진짜 대박 ㅠㅠㅠ\n",
      "97.94% 확률로 긍정 리뷰입니다.\n",
      "\n"
     ]
    }
   ],
   "source": [
    "sentiment_predict()"
   ]
  },
  {
   "cell_type": "code",
   "execution_count": 47,
   "id": "personalized-thriller",
   "metadata": {},
   "outputs": [
    {
     "name": "stdout",
     "output_type": "stream",
     "text": [
      "영화 리뷰를 남겨주세요 : 꼭 보세요. 인생명작!\n",
      "99.95% 확률로 긍정 리뷰입니다.\n",
      "\n"
     ]
    }
   ],
   "source": [
    "sentiment_predict()"
   ]
  },
  {
   "cell_type": "code",
   "execution_count": 48,
   "id": "tight-model",
   "metadata": {},
   "outputs": [
    {
     "name": "stdout",
     "output_type": "stream",
     "text": [
      "영화 리뷰를 남겨주세요 : 환불 안 되나요 이거 ㅠㅠㅠ\n",
      "100.00% 확률로 부정 리뷰입니다.\n",
      "\n"
     ]
    }
   ],
   "source": [
    "sentiment_predict()"
   ]
  },
  {
   "cell_type": "code",
   "execution_count": 49,
   "id": "curious-federation",
   "metadata": {},
   "outputs": [
    {
     "name": "stdout",
     "output_type": "stream",
     "text": [
      "영화 리뷰를 남겨주세요 : 킬링타임용\n",
      "99.99% 확률로 부정 리뷰입니다.\n",
      "\n"
     ]
    }
   ],
   "source": [
    "sentiment_predict()"
   ]
  },
  {
   "cell_type": "markdown",
   "id": "agricultural-heather",
   "metadata": {},
   "source": [
    "# 환불이나 킬링타임 같은 단어에서도 기대보다 분류가 잘 되는 모습을 확인할 수 있었습니다."
   ]
  },
  {
   "cell_type": "code",
   "execution_count": null,
   "id": "informational-consciousness",
   "metadata": {},
   "outputs": [],
   "source": []
  }
 ],
 "metadata": {
  "kernelspec": {
   "display_name": "Python 3",
   "language": "python",
   "name": "python3"
  },
  "language_info": {
   "codemirror_mode": {
    "name": "ipython",
    "version": 3
   },
   "file_extension": ".py",
   "mimetype": "text/x-python",
   "name": "python",
   "nbconvert_exporter": "python",
   "pygments_lexer": "ipython3",
   "version": "3.7.9"
  }
 },
 "nbformat": 4,
 "nbformat_minor": 5
}
