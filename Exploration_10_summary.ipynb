{
 "cells": [
  {
   "cell_type": "code",
   "execution_count": 1,
   "id": "through-tuesday",
   "metadata": {},
   "outputs": [
    {
     "name": "stderr",
     "output_type": "stream",
     "text": [
      "[nltk_data] Downloading package stopwords to /aiffel/nltk_data...\n",
      "[nltk_data]   Unzipping corpora/stopwords.zip.\n"
     ]
    }
   ],
   "source": [
    "import nltk\n",
    "nltk.download('stopwords')\n",
    "import numpy as np\n",
    "import pandas as pd\n",
    "import os\n",
    "import re\n",
    "import matplotlib.pyplot as plt\n",
    "from nltk.corpus import stopwords\n",
    "from bs4 import BeautifulSoup \n",
    "from tensorflow.keras.preprocessing.text import Tokenizer \n",
    "from tensorflow.keras.preprocessing.sequence import pad_sequences\n",
    "import urllib.request\n",
    "import multiprocessing as mp\n",
    "from multiprocessing import Pool\n",
    "import time\n",
    "from functools import partial\n",
    "from tensorflow.keras.layers import Input, LSTM, Embedding, Dense, Concatenate\n",
    "from tensorflow.keras.models import Model\n",
    "from tensorflow.keras.callbacks import EarlyStopping, ModelCheckpoint\n",
    "from summa.summarizer import summarize"
   ]
  },
  {
   "cell_type": "markdown",
   "id": "facial-candy",
   "metadata": {},
   "source": [
    "***"
   ]
  },
  {
   "cell_type": "markdown",
   "id": "duplicate-pride",
   "metadata": {},
   "source": [
    "# 데이터 불러오기"
   ]
  },
  {
   "cell_type": "code",
   "execution_count": 2,
   "id": "abstract-mississippi",
   "metadata": {},
   "outputs": [],
   "source": [
    "urllib.request.urlretrieve(\"https://raw.githubusercontent.com/sunnysai12345/News_Summary/master/news_summary_more.csv\", filename=\"news_summary_more.csv\")\n",
    "data = pd.read_csv('news_summary_more.csv', encoding='iso-8859-1')"
   ]
  },
  {
   "cell_type": "markdown",
   "id": "fluid-mitchell",
   "metadata": {},
   "source": [
    "# 데이터 샘플 확인"
   ]
  },
  {
   "cell_type": "code",
   "execution_count": 3,
   "id": "protected-prayer",
   "metadata": {
    "scrolled": true
   },
   "outputs": [
    {
     "data": {
      "text/html": [
       "<div>\n",
       "<style scoped>\n",
       "    .dataframe tbody tr th:only-of-type {\n",
       "        vertical-align: middle;\n",
       "    }\n",
       "\n",
       "    .dataframe tbody tr th {\n",
       "        vertical-align: top;\n",
       "    }\n",
       "\n",
       "    .dataframe thead th {\n",
       "        text-align: right;\n",
       "    }\n",
       "</style>\n",
       "<table border=\"1\" class=\"dataframe\">\n",
       "  <thead>\n",
       "    <tr style=\"text-align: right;\">\n",
       "      <th></th>\n",
       "      <th>headlines</th>\n",
       "      <th>text</th>\n",
       "    </tr>\n",
       "  </thead>\n",
       "  <tbody>\n",
       "    <tr>\n",
       "      <th>29649</th>\n",
       "      <td>Pluto could be made up of billions of comets, ...</td>\n",
       "      <td>Dwarf planet Pluto was formed by agglomeration...</td>\n",
       "    </tr>\n",
       "    <tr>\n",
       "      <th>10450</th>\n",
       "      <td>95-yr-old gets up during his funeral, says sle...</td>\n",
       "      <td>A 95-year-old man, who was declared dead by a ...</td>\n",
       "    </tr>\n",
       "    <tr>\n",
       "      <th>89032</th>\n",
       "      <td>Italy rescues 480 migrants in Mediterranean Sea</td>\n",
       "      <td>Italian rescuers saved over 480 asylum seekers...</td>\n",
       "    </tr>\n",
       "    <tr>\n",
       "      <th>29429</th>\n",
       "      <td>Floating post offices at Kumbh to make stamps ...</td>\n",
       "      <td>Floating post offices will be set up in the Ga...</td>\n",
       "    </tr>\n",
       "    <tr>\n",
       "      <th>25530</th>\n",
       "      <td>PNB collected Ã¢ÂÂ¹151cr as minimum balance p...</td>\n",
       "      <td>Fraud-hit PNB has realised Ã¢ÂÂ¹151.66 crore ...</td>\n",
       "    </tr>\n",
       "    <tr>\n",
       "      <th>40232</th>\n",
       "      <td>Kerala Public Service Commission defers exams ...</td>\n",
       "      <td>The Kerala Public Service Commission has postp...</td>\n",
       "    </tr>\n",
       "    <tr>\n",
       "      <th>62670</th>\n",
       "      <td>Sreesanth should back his claims of BCCI bias:...</td>\n",
       "      <td>India's World Cup-winning captain Kapil Dev ha...</td>\n",
       "    </tr>\n",
       "    <tr>\n",
       "      <th>32083</th>\n",
       "      <td>Rhea shares pic with Sonam, addresses her as S...</td>\n",
       "      <td>Rhea Kapoor took to Instagram to share a pictu...</td>\n",
       "    </tr>\n",
       "    <tr>\n",
       "      <th>49934</th>\n",
       "      <td>Trump rejection of talks will cause more blood...</td>\n",
       "      <td>After US President Donald Trump rejected peace...</td>\n",
       "    </tr>\n",
       "    <tr>\n",
       "      <th>46834</th>\n",
       "      <td>Mukesh Ambani's Reliance Jio to invest Ã¢ÂÂ¹1...</td>\n",
       "      <td>Reliance Industries Chairman Mukesh Ambani has...</td>\n",
       "    </tr>\n",
       "  </tbody>\n",
       "</table>\n",
       "</div>"
      ],
      "text/plain": [
       "                                               headlines  \\\n",
       "29649  Pluto could be made up of billions of comets, ...   \n",
       "10450  95-yr-old gets up during his funeral, says sle...   \n",
       "89032    Italy rescues 480 migrants in Mediterranean Sea   \n",
       "29429  Floating post offices at Kumbh to make stamps ...   \n",
       "25530  PNB collected Ã¢ÂÂ¹151cr as minimum balance p...   \n",
       "40232  Kerala Public Service Commission defers exams ...   \n",
       "62670  Sreesanth should back his claims of BCCI bias:...   \n",
       "32083  Rhea shares pic with Sonam, addresses her as S...   \n",
       "49934  Trump rejection of talks will cause more blood...   \n",
       "46834  Mukesh Ambani's Reliance Jio to invest Ã¢ÂÂ¹1...   \n",
       "\n",
       "                                                    text  \n",
       "29649  Dwarf planet Pluto was formed by agglomeration...  \n",
       "10450  A 95-year-old man, who was declared dead by a ...  \n",
       "89032  Italian rescuers saved over 480 asylum seekers...  \n",
       "29429  Floating post offices will be set up in the Ga...  \n",
       "25530  Fraud-hit PNB has realised Ã¢ÂÂ¹151.66 crore ...  \n",
       "40232  The Kerala Public Service Commission has postp...  \n",
       "62670  India's World Cup-winning captain Kapil Dev ha...  \n",
       "32083  Rhea Kapoor took to Instagram to share a pictu...  \n",
       "49934  After US President Donald Trump rejected peace...  \n",
       "46834  Reliance Industries Chairman Mukesh Ambani has...  "
      ]
     },
     "execution_count": 3,
     "metadata": {},
     "output_type": "execute_result"
    }
   ],
   "source": [
    "data.sample(10)"
   ]
  },
  {
   "cell_type": "code",
   "execution_count": 4,
   "id": "forced-baking",
   "metadata": {},
   "outputs": [
    {
     "data": {
      "text/html": [
       "<div>\n",
       "<style scoped>\n",
       "    .dataframe tbody tr th:only-of-type {\n",
       "        vertical-align: middle;\n",
       "    }\n",
       "\n",
       "    .dataframe tbody tr th {\n",
       "        vertical-align: top;\n",
       "    }\n",
       "\n",
       "    .dataframe thead th {\n",
       "        text-align: right;\n",
       "    }\n",
       "</style>\n",
       "<table border=\"1\" class=\"dataframe\">\n",
       "  <thead>\n",
       "    <tr style=\"text-align: right;\">\n",
       "      <th></th>\n",
       "      <th>headlines</th>\n",
       "      <th>text</th>\n",
       "    </tr>\n",
       "  </thead>\n",
       "  <tbody>\n",
       "    <tr>\n",
       "      <th>count</th>\n",
       "      <td>98401</td>\n",
       "      <td>98401</td>\n",
       "    </tr>\n",
       "    <tr>\n",
       "      <th>unique</th>\n",
       "      <td>98280</td>\n",
       "      <td>98360</td>\n",
       "    </tr>\n",
       "    <tr>\n",
       "      <th>top</th>\n",
       "      <td>Why is England-Australia Test series called 'T...</td>\n",
       "      <td>English astronomer Arthur Eddington used 1919'...</td>\n",
       "    </tr>\n",
       "    <tr>\n",
       "      <th>freq</th>\n",
       "      <td>3</td>\n",
       "      <td>2</td>\n",
       "    </tr>\n",
       "  </tbody>\n",
       "</table>\n",
       "</div>"
      ],
      "text/plain": [
       "                                                headlines  \\\n",
       "count                                               98401   \n",
       "unique                                              98280   \n",
       "top     Why is England-Australia Test series called 'T...   \n",
       "freq                                                    3   \n",
       "\n",
       "                                                     text  \n",
       "count                                               98401  \n",
       "unique                                              98360  \n",
       "top     English astronomer Arthur Eddington used 1919'...  \n",
       "freq                                                    2  "
      ]
     },
     "execution_count": 4,
     "metadata": {},
     "output_type": "execute_result"
    }
   ],
   "source": [
    "data.describe()"
   ]
  },
  {
   "cell_type": "code",
   "execution_count": 5,
   "id": "registered-custody",
   "metadata": {
    "scrolled": true
   },
   "outputs": [
    {
     "name": "stdout",
     "output_type": "stream",
     "text": [
      "텍스트 열에서 중복을 배제한 유일한 샘플의 수 : 98360\n",
      "헤드라인 열에서 중복을 배제한 유일한 샘플의 수 : 98280\n"
     ]
    }
   ],
   "source": [
    "print('텍스트 열에서 중복을 배제한 유일한 샘플의 수 :', data['text'].nunique())\n",
    "print('헤드라인 열에서 중복을 배제한 유일한 샘플의 수 :', data['headlines'].nunique())"
   ]
  },
  {
   "cell_type": "markdown",
   "id": "united-heather",
   "metadata": {},
   "source": [
    "# 중복 데이터 삭제"
   ]
  },
  {
   "cell_type": "code",
   "execution_count": 6,
   "id": "defined-glasgow",
   "metadata": {
    "scrolled": true
   },
   "outputs": [
    {
     "name": "stdout",
     "output_type": "stream",
     "text": [
      "전체 샘플수 : 98360\n"
     ]
    }
   ],
   "source": [
    "data.drop_duplicates(subset = ['text'], inplace=True)\n",
    "print('전체 샘플수 :', (len(data)))"
   ]
  },
  {
   "cell_type": "markdown",
   "id": "binary-framework",
   "metadata": {},
   "source": [
    "# Null 데이터 유무 확인"
   ]
  },
  {
   "cell_type": "code",
   "execution_count": 7,
   "id": "dirty-customs",
   "metadata": {
    "scrolled": true
   },
   "outputs": [
    {
     "name": "stdout",
     "output_type": "stream",
     "text": [
      "headlines    0\n",
      "text         0\n",
      "dtype: int64\n"
     ]
    }
   ],
   "source": [
    "print(data.isnull().sum())"
   ]
  },
  {
   "cell_type": "markdown",
   "id": "former-waters",
   "metadata": {},
   "source": [
    "# 정규화 사전 불러오기"
   ]
  },
  {
   "cell_type": "code",
   "execution_count": 8,
   "id": "productive-resort",
   "metadata": {},
   "outputs": [
    {
     "name": "stdout",
     "output_type": "stream",
     "text": [
      "정규화 사전의 수:  120\n"
     ]
    }
   ],
   "source": [
    "contractions = {\"ain't\": \"is not\", \"aren't\": \"are not\",\"can't\": \"cannot\", \"'cause\": \"because\", \"could've\": \"could have\", \"couldn't\": \"could not\",\n",
    "                           \"didn't\": \"did not\",  \"doesn't\": \"does not\", \"don't\": \"do not\", \"hadn't\": \"had not\", \"hasn't\": \"has not\", \"haven't\": \"have not\",\n",
    "                           \"he'd\": \"he would\",\"he'll\": \"he will\", \"he's\": \"he is\", \"how'd\": \"how did\", \"how'd'y\": \"how do you\", \"how'll\": \"how will\", \"how's\": \"how is\",\n",
    "                           \"I'd\": \"I would\", \"I'd've\": \"I would have\", \"I'll\": \"I will\", \"I'll've\": \"I will have\",\"I'm\": \"I am\", \"I've\": \"I have\", \"i'd\": \"i would\",\n",
    "                           \"i'd've\": \"i would have\", \"i'll\": \"i will\",  \"i'll've\": \"i will have\",\"i'm\": \"i am\", \"i've\": \"i have\", \"isn't\": \"is not\", \"it'd\": \"it would\",\n",
    "                           \"it'd've\": \"it would have\", \"it'll\": \"it will\", \"it'll've\": \"it will have\",\"it's\": \"it is\", \"let's\": \"let us\", \"ma'am\": \"madam\",\n",
    "                           \"mayn't\": \"may not\", \"might've\": \"might have\",\"mightn't\": \"might not\",\"mightn't've\": \"might not have\", \"must've\": \"must have\",\n",
    "                           \"mustn't\": \"must not\", \"mustn't've\": \"must not have\", \"needn't\": \"need not\", \"needn't've\": \"need not have\",\"o'clock\": \"of the clock\",\n",
    "                           \"oughtn't\": \"ought not\", \"oughtn't've\": \"ought not have\", \"shan't\": \"shall not\", \"sha'n't\": \"shall not\", \"shan't've\": \"shall not have\",\n",
    "                           \"she'd\": \"she would\", \"she'd've\": \"she would have\", \"she'll\": \"she will\", \"she'll've\": \"she will have\", \"she's\": \"she is\",\n",
    "                           \"should've\": \"should have\", \"shouldn't\": \"should not\", \"shouldn't've\": \"should not have\", \"so've\": \"so have\",\"so's\": \"so as\",\n",
    "                           \"this's\": \"this is\",\"that'd\": \"that would\", \"that'd've\": \"that would have\", \"that's\": \"that is\", \"there'd\": \"there would\",\n",
    "                           \"there'd've\": \"there would have\", \"there's\": \"there is\", \"here's\": \"here is\",\"they'd\": \"they would\", \"they'd've\": \"they would have\",\n",
    "                           \"they'll\": \"they will\", \"they'll've\": \"they will have\", \"they're\": \"they are\", \"they've\": \"they have\", \"to've\": \"to have\",\n",
    "                           \"wasn't\": \"was not\", \"we'd\": \"we would\", \"we'd've\": \"we would have\", \"we'll\": \"we will\", \"we'll've\": \"we will have\", \"we're\": \"we are\",\n",
    "                           \"we've\": \"we have\", \"weren't\": \"were not\", \"what'll\": \"what will\", \"what'll've\": \"what will have\", \"what're\": \"what are\",\n",
    "                           \"what's\": \"what is\", \"what've\": \"what have\", \"when's\": \"when is\", \"when've\": \"when have\", \"where'd\": \"where did\", \"where's\": \"where is\",\n",
    "                           \"where've\": \"where have\", \"who'll\": \"who will\", \"who'll've\": \"who will have\", \"who's\": \"who is\", \"who've\": \"who have\",\n",
    "                           \"why's\": \"why is\", \"why've\": \"why have\", \"will've\": \"will have\", \"won't\": \"will not\", \"won't've\": \"will not have\",\n",
    "                           \"would've\": \"would have\", \"wouldn't\": \"would not\", \"wouldn't've\": \"would not have\", \"y'all\": \"you all\",\n",
    "                           \"y'all'd\": \"you all would\",\"y'all'd've\": \"you all would have\",\"y'all're\": \"you all are\",\"y'all've\": \"you all have\",\n",
    "                           \"you'd\": \"you would\", \"you'd've\": \"you would have\", \"you'll\": \"you will\", \"you'll've\": \"you will have\",\n",
    "                           \"you're\": \"you are\", \"you've\": \"you have\"}\n",
    "\n",
    "print(\"정규화 사전의 수: \", len(contractions))"
   ]
  },
  {
   "cell_type": "markdown",
   "id": "novel-editing",
   "metadata": {},
   "source": [
    "# 불용어 불러오기"
   ]
  },
  {
   "cell_type": "code",
   "execution_count": 9,
   "id": "complete-moment",
   "metadata": {
    "scrolled": false
   },
   "outputs": [
    {
     "name": "stdout",
     "output_type": "stream",
     "text": [
      "불용어 개수 : 179\n",
      "['i', 'me', 'my', 'myself', 'we', 'our', 'ours', 'ourselves', 'you', \"you're\", \"you've\", \"you'll\", \"you'd\", 'your', 'yours', 'yourself', 'yourselves', 'he', 'him', 'his', 'himself', 'she', \"she's\", 'her', 'hers', 'herself', 'it', \"it's\", 'its', 'itself', 'they', 'them', 'their', 'theirs', 'themselves', 'what', 'which', 'who', 'whom', 'this', 'that', \"that'll\", 'these', 'those', 'am', 'is', 'are', 'was', 'were', 'be', 'been', 'being', 'have', 'has', 'had', 'having', 'do', 'does', 'did', 'doing', 'a', 'an', 'the', 'and', 'but', 'if', 'or', 'because', 'as', 'until', 'while', 'of', 'at', 'by', 'for', 'with', 'about', 'against', 'between', 'into', 'through', 'during', 'before', 'after', 'above', 'below', 'to', 'from', 'up', 'down', 'in', 'out', 'on', 'off', 'over', 'under', 'again', 'further', 'then', 'once', 'here', 'there', 'when', 'where', 'why', 'how', 'all', 'any', 'both', 'each', 'few', 'more', 'most', 'other', 'some', 'such', 'no', 'nor', 'not', 'only', 'own', 'same', 'so', 'than', 'too', 'very', 's', 't', 'can', 'will', 'just', 'don', \"don't\", 'should', \"should've\", 'now', 'd', 'll', 'm', 'o', 're', 've', 'y', 'ain', 'aren', \"aren't\", 'couldn', \"couldn't\", 'didn', \"didn't\", 'doesn', \"doesn't\", 'hadn', \"hadn't\", 'hasn', \"hasn't\", 'haven', \"haven't\", 'isn', \"isn't\", 'ma', 'mightn', \"mightn't\", 'mustn', \"mustn't\", 'needn', \"needn't\", 'shan', \"shan't\", 'shouldn', \"shouldn't\", 'wasn', \"wasn't\", 'weren', \"weren't\", 'won', \"won't\", 'wouldn', \"wouldn't\"]\n"
     ]
    }
   ],
   "source": [
    "print('불용어 개수 :', len(stopwords.words('english') ))\n",
    "print(stopwords.words('english'))"
   ]
  },
  {
   "cell_type": "markdown",
   "id": "peaceful-microwave",
   "metadata": {},
   "source": [
    "# 이미 약어를 정규화를 하는 만큼 불용어 정리 (연산 속도 개선)"
   ]
  },
  {
   "cell_type": "code",
   "execution_count": 10,
   "id": "superior-egyptian",
   "metadata": {},
   "outputs": [],
   "source": [
    "contractions_keys = contractions.keys()"
   ]
  },
  {
   "cell_type": "code",
   "execution_count": 11,
   "id": "beginning-terrorist",
   "metadata": {},
   "outputs": [],
   "source": [
    "stopwords_temp = [x for x in stopwords.words('english') if x not in contractions_keys]"
   ]
  },
  {
   "cell_type": "code",
   "execution_count": 12,
   "id": "talented-ballet",
   "metadata": {
    "scrolled": false
   },
   "outputs": [
    {
     "name": "stdout",
     "output_type": "stream",
     "text": [
      "154\n"
     ]
    },
    {
     "data": {
      "text/plain": [
       "['i',\n",
       " 'me',\n",
       " 'my',\n",
       " 'myself',\n",
       " 'we',\n",
       " 'our',\n",
       " 'ours',\n",
       " 'ourselves',\n",
       " 'you',\n",
       " 'your',\n",
       " 'yours',\n",
       " 'yourself',\n",
       " 'yourselves',\n",
       " 'he',\n",
       " 'him',\n",
       " 'his',\n",
       " 'himself',\n",
       " 'she',\n",
       " 'her',\n",
       " 'hers',\n",
       " 'herself',\n",
       " 'it',\n",
       " 'its',\n",
       " 'itself',\n",
       " 'they',\n",
       " 'them',\n",
       " 'their',\n",
       " 'theirs',\n",
       " 'themselves',\n",
       " 'what',\n",
       " 'which',\n",
       " 'who',\n",
       " 'whom',\n",
       " 'this',\n",
       " 'that',\n",
       " \"that'll\",\n",
       " 'these',\n",
       " 'those',\n",
       " 'am',\n",
       " 'is',\n",
       " 'are',\n",
       " 'was',\n",
       " 'were',\n",
       " 'be',\n",
       " 'been',\n",
       " 'being',\n",
       " 'have',\n",
       " 'has',\n",
       " 'had',\n",
       " 'having',\n",
       " 'do',\n",
       " 'does',\n",
       " 'did',\n",
       " 'doing',\n",
       " 'a',\n",
       " 'an',\n",
       " 'the',\n",
       " 'and',\n",
       " 'but',\n",
       " 'if',\n",
       " 'or',\n",
       " 'because',\n",
       " 'as',\n",
       " 'until',\n",
       " 'while',\n",
       " 'of',\n",
       " 'at',\n",
       " 'by',\n",
       " 'for',\n",
       " 'with',\n",
       " 'about',\n",
       " 'against',\n",
       " 'between',\n",
       " 'into',\n",
       " 'through',\n",
       " 'during',\n",
       " 'before',\n",
       " 'after',\n",
       " 'above',\n",
       " 'below',\n",
       " 'to',\n",
       " 'from',\n",
       " 'up',\n",
       " 'down',\n",
       " 'in',\n",
       " 'out',\n",
       " 'on',\n",
       " 'off',\n",
       " 'over',\n",
       " 'under',\n",
       " 'again',\n",
       " 'further',\n",
       " 'then',\n",
       " 'once',\n",
       " 'here',\n",
       " 'there',\n",
       " 'when',\n",
       " 'where',\n",
       " 'why',\n",
       " 'how',\n",
       " 'all',\n",
       " 'any',\n",
       " 'both',\n",
       " 'each',\n",
       " 'few',\n",
       " 'more',\n",
       " 'most',\n",
       " 'other',\n",
       " 'some',\n",
       " 'such',\n",
       " 'no',\n",
       " 'nor',\n",
       " 'not',\n",
       " 'only',\n",
       " 'own',\n",
       " 'same',\n",
       " 'so',\n",
       " 'than',\n",
       " 'too',\n",
       " 'very',\n",
       " 's',\n",
       " 't',\n",
       " 'can',\n",
       " 'will',\n",
       " 'just',\n",
       " 'don',\n",
       " 'should',\n",
       " 'now',\n",
       " 'd',\n",
       " 'll',\n",
       " 'm',\n",
       " 'o',\n",
       " 're',\n",
       " 've',\n",
       " 'y',\n",
       " 'ain',\n",
       " 'aren',\n",
       " 'couldn',\n",
       " 'didn',\n",
       " 'doesn',\n",
       " 'hadn',\n",
       " 'hasn',\n",
       " 'haven',\n",
       " 'isn',\n",
       " 'ma',\n",
       " 'mightn',\n",
       " 'mustn',\n",
       " 'needn',\n",
       " 'shan',\n",
       " 'shouldn',\n",
       " 'wasn',\n",
       " 'weren',\n",
       " 'won',\n",
       " 'wouldn']"
      ]
     },
     "execution_count": 12,
     "metadata": {},
     "output_type": "execute_result"
    }
   ],
   "source": [
    "print(len(stopwords_temp))\n",
    "stopwords_temp"
   ]
  },
  {
   "cell_type": "code",
   "execution_count": 13,
   "id": "identified-colors",
   "metadata": {},
   "outputs": [],
   "source": [
    "stopwords_new = ['i',\n",
    " 'me',\n",
    " 'my',\n",
    " 'myself',\n",
    " 'we',\n",
    " 'our',\n",
    " 'ours',\n",
    " 'ourselves',\n",
    " 'you',\n",
    " 'your',\n",
    " 'yours',\n",
    " 'yourself',\n",
    " 'yourselves',\n",
    " 'he',\n",
    " 'him',\n",
    " 'his',\n",
    " 'himself',\n",
    " 'she',\n",
    " 'her',\n",
    " 'hers',\n",
    " 'herself',\n",
    " 'it',\n",
    " 'its',\n",
    " 'itself',\n",
    " 'they',\n",
    " 'them',\n",
    " 'their',\n",
    " 'theirs',\n",
    " 'themselves',\n",
    " 'what',\n",
    " 'which',\n",
    " 'who',\n",
    " 'whom',\n",
    " 'this',\n",
    " 'that',\n",
    " \"that'll\",\n",
    " 'these',\n",
    " 'those',\n",
    " 'am',\n",
    " 'is',\n",
    " 'are',\n",
    " 'was',\n",
    " 'were',\n",
    " 'be',\n",
    " 'been',\n",
    " 'being',\n",
    " 'have',\n",
    " 'has',\n",
    " 'had',\n",
    " 'having',\n",
    " 'do',\n",
    " 'does',\n",
    " 'did',\n",
    " 'doing',\n",
    " 'a',\n",
    " 'an',\n",
    " 'the',\n",
    " 'and',\n",
    " 'but',\n",
    " 'if',\n",
    " 'or',\n",
    " 'because',\n",
    " 'as',\n",
    " 'until',\n",
    " 'while',\n",
    " 'of',\n",
    " 'at',\n",
    " 'by',\n",
    " 'for',\n",
    " 'with',\n",
    " 'about',\n",
    " 'against',\n",
    " 'between',\n",
    " 'into',\n",
    " 'through',\n",
    " 'during',\n",
    " 'before',\n",
    " 'after',\n",
    " 'above',\n",
    " 'below',\n",
    " 'to',\n",
    " 'from',\n",
    " 'up',\n",
    " 'down',\n",
    " 'in',\n",
    " 'out',\n",
    " 'on',\n",
    " 'off',\n",
    " 'over',\n",
    " 'under',\n",
    " 'again',\n",
    " 'further',\n",
    " 'then',\n",
    " 'once',\n",
    " 'here',\n",
    " 'there',\n",
    " 'when',\n",
    " 'where',\n",
    " 'why',\n",
    " 'how',\n",
    " 'all',\n",
    " 'any',\n",
    " 'both',\n",
    " 'each',\n",
    " 'few',\n",
    " 'more',\n",
    " 'most',\n",
    " 'other',\n",
    " 'some',\n",
    " 'such',\n",
    " 'no',\n",
    " 'nor',\n",
    " 'not',\n",
    " 'only',\n",
    " 'own',\n",
    " 'same',\n",
    " 'so',\n",
    " 'than',\n",
    " 'too',\n",
    " 'very',\n",
    " 'can',\n",
    " 'will',\n",
    " 'just',\n",
    " 'don',\n",
    " 'should',\n",
    " 'now']"
   ]
  },
  {
   "cell_type": "markdown",
   "id": "inclusive-journalist",
   "metadata": {},
   "source": [
    "***"
   ]
  },
  {
   "cell_type": "markdown",
   "id": "growing-separate",
   "metadata": {},
   "source": [
    "# 데이터 전처리"
   ]
  },
  {
   "cell_type": "code",
   "execution_count": 14,
   "id": "abstract-implementation",
   "metadata": {},
   "outputs": [],
   "source": [
    "def preprocess_sentence(sentence, remove_stopwords=True):\n",
    "    sentence = sentence.lower() # 텍스트 소문자화\n",
    "    sentence = re.sub(r'\\([^)]*\\)', '', sentence) # 괄호로 닫힌 문자열 (...) 제거 Ex) my husband (and myself!) for => my husband for\n",
    "    sentence = re.sub('\"','', sentence) # 쌍따옴표 \" 제거\n",
    "    sentence = ' '.join([contractions[t] if t in contractions else t for t in sentence.split(\" \")]) # 약어 정규화\n",
    "    sentence = re.sub(r\"'s\\b\",\"\", sentence) # 소유격 제거. Ex) roland's -> roland\n",
    "    sentence = re.sub(\"[^a-zA-Z]\", \" \", sentence) # 영어 외 문자(숫자, 특수문자 등) 공백으로 변환\n",
    "    \n",
    "    # 불용어 제거 (text)\n",
    "    if remove_stopwords:\n",
    "        tokens = ' '.join(word for word in sentence.split() if not word in stopwords_new if len(word) > 1)\n",
    "    # 불용어 미제거 (headlines)\n",
    "    else:\n",
    "        tokens = ' '.join(word for word in sentence.split() if len(word) > 1)\n",
    "    return tokens"
   ]
  },
  {
   "cell_type": "code",
   "execution_count": 15,
   "id": "rural-movie",
   "metadata": {},
   "outputs": [
    {
     "name": "stdout",
     "output_type": "stream",
     "text": [
      "7.492077589035034  seconds\n",
      "['saurav kant alumnus upgrad iiit pg program machine learning artificial intelligence sr systems engineer infosys almost years work experience program upgrad degree career support helped transition data scientist tech mahindra salary hike upgrad online power learning powered lakh careers'\n",
      " 'kunal shah credit card bill payment platform cred gave users chance win free food swiggy one year pranav kaushik delhi techie bagged reward spending cred coins users get one cred coin per rupee bill paid used avail rewards brands like ixigo bookmyshow ubereats cult fit'\n",
      " 'new zealand defeated india wickets fourth odi hamilton thursday win first match five match odi series india lost international match rohit sharma captaincy consecutive victories dating back march match witnessed india getting seventh lowest total odi cricket history'\n",
      " ...\n",
      " 'according reports new version science fiction film matrix development michael jordan reportedly play lead role film screenwriter zak penn talks write script film reports added actor keanu reeves starred original film followed two sequels'\n",
      " 'new music video shows rapper snoop dogg aiming toy gun clown character parodying us president donald trump video also shows tv airing news conference headline ronald klump wants deport doggs airing live clown house video remixed version song lavender'\n",
      " 'madhesi morcha alliance seven political parties withdrawn support pm pushpa kamal dahal led nepal government failed meet seven day ultimatum fulfil demands including endorsement revised constitution amendment bill morcha seats parliament despite withdrawal support immediate threat government']\n",
      "0.9664669036865234  seconds\n",
      "['upgrad learner switches to career in ml al with salary hike'\n",
      " 'delhi techie wins free food from swiggy for one year on cred'\n",
      " 'new zealand end rohit sharma led india match winning streak' ...\n",
      " 'the matrix film to get reboot reports'\n",
      " 'snoop dogg aims gun at clown dressed as trump in new video'\n",
      " 'madhesi morcha withdraws support to nepalese government']\n"
     ]
    }
   ],
   "source": [
    "start = time.time()\n",
    "\n",
    "# num_cores 만큼 쪼개진 데이터를 전처리하여 반환합니다\n",
    "def appendTexts(sentences, remove_stopwords):\n",
    "  texts = []\n",
    "  for s in sentences:\n",
    "    texts += preprocess_sentence(s, remove_stopwords),\n",
    "  return texts\n",
    "\n",
    "def preprocess_data(data, remove_stopwords=True):\n",
    "  start_time = time.time()\n",
    "  num_cores = mp.cpu_count()\n",
    "\n",
    "  text_data_split = np.array_split(data, num_cores)\n",
    "  pool = Pool(num_cores)\n",
    "\n",
    "  processed_data = np.concatenate(pool.map(partial(appendTexts, remove_stopwords=remove_stopwords), text_data_split))\n",
    "  pool.close()\n",
    "  pool.join()\n",
    "  print(time.time() - start_time, \" seconds\")\n",
    "  return processed_data\n",
    "\n",
    "clean_text = preprocess_data(data['text'])\n",
    "print(clean_text)\n",
    "\n",
    "clean_headlines = preprocess_data(data['headlines'], remove_stopwords=False)\n",
    "print(clean_headlines)"
   ]
  },
  {
   "cell_type": "markdown",
   "id": "bulgarian-universe",
   "metadata": {},
   "source": [
    "# 전처리 후 Null 데이터 확인"
   ]
  },
  {
   "cell_type": "code",
   "execution_count": 16,
   "id": "completed-organic",
   "metadata": {},
   "outputs": [
    {
     "data": {
      "text/plain": [
       "headlines    0\n",
       "text         0\n",
       "dtype: int64"
      ]
     },
     "execution_count": 16,
     "metadata": {},
     "output_type": "execute_result"
    }
   ],
   "source": [
    "data['text'] = clean_text\n",
    "data['headlines'] = clean_headlines\n",
    "data.replace('', np.nan, inplace=True)\n",
    "data.isnull().sum()"
   ]
  },
  {
   "cell_type": "markdown",
   "id": "severe-austin",
   "metadata": {},
   "source": [
    "# 데이터 길이 최소, 최대, 평균, 표준편차 확인"
   ]
  },
  {
   "cell_type": "code",
   "execution_count": 17,
   "id": "deadly-store",
   "metadata": {},
   "outputs": [
    {
     "name": "stdout",
     "output_type": "stream",
     "text": [
      "텍스트의 최소 길이 : 1\n",
      "텍스트의 최대 길이 : 60\n",
      "텍스트의 평균 길이 : 35.13773891825946\n",
      "텍스트의 표준편차 : 3.8047266160887654\n",
      "텍스트의 제3사분위수 : 38.0\n",
      "헤드라인의 최소 길이 : 1\n",
      "헤드라인의 최대 길이 : 16\n",
      "헤드라인의 평균 길이 : 9.299532330215534\n",
      "헤드라인의 표준편차 : 1.3900944321771693\n",
      "헤드라인의 제3사분위수 : 10.0\n"
     ]
    },
    {
     "data": {
      "image/png": "[encoded data removed]",
      "text/plain": [
       "<Figure size 432x288 with 2 Axes>"
      ]
     },
     "metadata": {
      "needs_background": "light"
     },
     "output_type": "display_data"
    },
    {
     "data": {
      "image/png": "[encoded data removed]",
      "text/plain": [
       "<Figure size 432x288 with 1 Axes>"
      ]
     },
     "metadata": {
      "needs_background": "light"
     },
     "output_type": "display_data"
    },
    {
     "data": {
      "image/png": "[encoded data removed]",
      "text/plain": [
       "<Figure size 432x288 with 1 Axes>"
      ]
     },
     "metadata": {
      "needs_background": "light"
     },
     "output_type": "display_data"
    }
   ],
   "source": [
    "text_len = [len(s.split()) for s in data['text']]\n",
    "headlines_len = [len(s.split()) for s in data['headlines']]\n",
    "\n",
    "print('텍스트의 최소 길이 : {}'.format(np.min(text_len)))\n",
    "print('텍스트의 최대 길이 : {}'.format(np.max(text_len)))\n",
    "print('텍스트의 평균 길이 : {}'.format(np.mean(text_len)))\n",
    "print('텍스트의 표준편차 : {}'.format(np.std(text_len)))\n",
    "print('텍스트의 제3사분위수 : {}'.format(np.quantile(text_len, 0.75)))\n",
    "print('헤드라인의 최소 길이 : {}'.format(np.min(headlines_len)))\n",
    "print('헤드라인의 최대 길이 : {}'.format(np.max(headlines_len)))\n",
    "print('헤드라인의 평균 길이 : {}'.format(np.mean(headlines_len)))\n",
    "print('헤드라인의 표준편차 : {}'.format(np.std(headlines_len)))\n",
    "print('헤드라인의 제3사분위수 : {}'.format(np.quantile(headlines_len, 0.75)))\n",
    "\n",
    "plt.subplot(1,2,1)\n",
    "plt.boxplot(headlines_len)\n",
    "plt.title('headlines')\n",
    "plt.subplot(1,2,2)\n",
    "plt.boxplot(text_len)\n",
    "plt.title('text')\n",
    "plt.tight_layout()\n",
    "plt.show()\n",
    "\n",
    "plt.title('headlines')\n",
    "plt.hist(headlines_len, bins = 40)\n",
    "plt.xlabel('length of samples')\n",
    "plt.ylabel('number of samples')\n",
    "plt.show()\n",
    "\n",
    "plt.title('text')\n",
    "plt.hist(text_len, bins = 40)\n",
    "plt.xlabel('length of samples')\n",
    "plt.ylabel('number of samples')\n",
    "plt.show()"
   ]
  },
  {
   "cell_type": "markdown",
   "id": "incorrect-answer",
   "metadata": {},
   "source": [
    "# 제3사분위수를 기준으로 최대 길이 설정"
   ]
  },
  {
   "cell_type": "code",
   "execution_count": 18,
   "id": "approximate-organ",
   "metadata": {},
   "outputs": [],
   "source": [
    "text_max_len = 38\n",
    "headlines_max_len = 10"
   ]
  },
  {
   "cell_type": "code",
   "execution_count": 19,
   "id": "governmental-prescription",
   "metadata": {},
   "outputs": [],
   "source": [
    "def below_threshold_len(max_len, nested_list):\n",
    "  cnt = 0\n",
    "  for s in nested_list:\n",
    "    if(len(s.split()) <= max_len):\n",
    "        cnt = cnt + 1\n",
    "  print('전체 샘플 중 길이가 %s 이하인 샘플의 비율: %s'%(max_len, (cnt / len(nested_list))))"
   ]
  },
  {
   "cell_type": "code",
   "execution_count": 20,
   "id": "quarterly-orlando",
   "metadata": {},
   "outputs": [
    {
     "name": "stdout",
     "output_type": "stream",
     "text": [
      "전체 샘플 중 길이가 38 이하인 샘플의 비율: 0.813531923546157\n",
      "전체 샘플 중 길이가 10 이하인 샘플의 비율: 0.8162972753151687\n"
     ]
    }
   ],
   "source": [
    "below_threshold_len(text_max_len, data['text'])\n",
    "below_threshold_len(headlines_max_len,  data['headlines'])"
   ]
  },
  {
   "cell_type": "markdown",
   "id": "advanced-adelaide",
   "metadata": {},
   "source": [
    "# 선정한 최대 길이보다 큰 데이터 삭제"
   ]
  },
  {
   "cell_type": "code",
   "execution_count": 21,
   "id": "distinguished-mystery",
   "metadata": {
    "scrolled": true
   },
   "outputs": [
    {
     "name": "stdout",
     "output_type": "stream",
     "text": [
      "전체 샘플수 : 65081\n"
     ]
    }
   ],
   "source": [
    "data = data[data['text'].apply(lambda x: len(x.split()) <= text_max_len)]\n",
    "data = data[data['headlines'].apply(lambda x: len(x.split()) <= headlines_max_len)]\n",
    "print('전체 샘플수 :', (len(data)))"
   ]
  },
  {
   "cell_type": "markdown",
   "id": "imperial-radio",
   "metadata": {},
   "source": [
    "# 시작 토큰, 종료 토큰 추가"
   ]
  },
  {
   "cell_type": "code",
   "execution_count": 22,
   "id": "delayed-conclusion",
   "metadata": {},
   "outputs": [
    {
     "data": {
      "text/html": [
       "<div>\n",
       "<style scoped>\n",
       "    .dataframe tbody tr th:only-of-type {\n",
       "        vertical-align: middle;\n",
       "    }\n",
       "\n",
       "    .dataframe tbody tr th {\n",
       "        vertical-align: top;\n",
       "    }\n",
       "\n",
       "    .dataframe thead th {\n",
       "        text-align: right;\n",
       "    }\n",
       "</style>\n",
       "<table border=\"1\" class=\"dataframe\">\n",
       "  <thead>\n",
       "    <tr style=\"text-align: right;\">\n",
       "      <th></th>\n",
       "      <th>headlines</th>\n",
       "      <th>text</th>\n",
       "      <th>decoder_input</th>\n",
       "      <th>decoder_target</th>\n",
       "    </tr>\n",
       "  </thead>\n",
       "  <tbody>\n",
       "    <tr>\n",
       "      <th>2</th>\n",
       "      <td>new zealand end rohit sharma led india match w...</td>\n",
       "      <td>new zealand defeated india wickets fourth odi ...</td>\n",
       "      <td>sostoken new zealand end rohit sharma led indi...</td>\n",
       "      <td>new zealand end rohit sharma led india match w...</td>\n",
       "    </tr>\n",
       "    <tr>\n",
       "      <th>3</th>\n",
       "      <td>aegon life iterm insurance plan helps customer...</td>\n",
       "      <td>aegon life iterm insurance plan customers enjo...</td>\n",
       "      <td>sostoken aegon life iterm insurance plan helps...</td>\n",
       "      <td>aegon life iterm insurance plan helps customer...</td>\n",
       "    </tr>\n",
       "    <tr>\n",
       "      <th>5</th>\n",
       "      <td>rahat fateh ali khan denies getting notice for...</td>\n",
       "      <td>pakistani singer rahat fateh ali khan denied r...</td>\n",
       "      <td>sostoken rahat fateh ali khan denies getting n...</td>\n",
       "      <td>rahat fateh ali khan denies getting notice for...</td>\n",
       "    </tr>\n",
       "    <tr>\n",
       "      <th>9</th>\n",
       "      <td>cong wins ramgarh bypoll in rajasthan takes to...</td>\n",
       "      <td>congress candidate shafia zubair won ramgarh a...</td>\n",
       "      <td>sostoken cong wins ramgarh bypoll in rajasthan...</td>\n",
       "      <td>cong wins ramgarh bypoll in rajasthan takes to...</td>\n",
       "    </tr>\n",
       "    <tr>\n",
       "      <th>10</th>\n",
       "      <td>up cousins fed human excreta for friendship wi...</td>\n",
       "      <td>two minor cousins uttar pradesh gorakhpur alle...</td>\n",
       "      <td>sostoken up cousins fed human excreta for frie...</td>\n",
       "      <td>up cousins fed human excreta for friendship wi...</td>\n",
       "    </tr>\n",
       "  </tbody>\n",
       "</table>\n",
       "</div>"
      ],
      "text/plain": [
       "                                            headlines  \\\n",
       "2   new zealand end rohit sharma led india match w...   \n",
       "3   aegon life iterm insurance plan helps customer...   \n",
       "5   rahat fateh ali khan denies getting notice for...   \n",
       "9   cong wins ramgarh bypoll in rajasthan takes to...   \n",
       "10  up cousins fed human excreta for friendship wi...   \n",
       "\n",
       "                                                 text  \\\n",
       "2   new zealand defeated india wickets fourth odi ...   \n",
       "3   aegon life iterm insurance plan customers enjo...   \n",
       "5   pakistani singer rahat fateh ali khan denied r...   \n",
       "9   congress candidate shafia zubair won ramgarh a...   \n",
       "10  two minor cousins uttar pradesh gorakhpur alle...   \n",
       "\n",
       "                                        decoder_input  \\\n",
       "2   sostoken new zealand end rohit sharma led indi...   \n",
       "3   sostoken aegon life iterm insurance plan helps...   \n",
       "5   sostoken rahat fateh ali khan denies getting n...   \n",
       "9   sostoken cong wins ramgarh bypoll in rajasthan...   \n",
       "10  sostoken up cousins fed human excreta for frie...   \n",
       "\n",
       "                                       decoder_target  \n",
       "2   new zealand end rohit sharma led india match w...  \n",
       "3   aegon life iterm insurance plan helps customer...  \n",
       "5   rahat fateh ali khan denies getting notice for...  \n",
       "9   cong wins ramgarh bypoll in rajasthan takes to...  \n",
       "10  up cousins fed human excreta for friendship wi...  "
      ]
     },
     "execution_count": 22,
     "metadata": {},
     "output_type": "execute_result"
    }
   ],
   "source": [
    "data['decoder_input'] = data['headlines'].apply(lambda x : 'sostoken '+ x)\n",
    "data['decoder_target'] = data['headlines'].apply(lambda x : x + ' eostoken')\n",
    "data.head()"
   ]
  },
  {
   "cell_type": "markdown",
   "id": "subsequent-transition",
   "metadata": {},
   "source": [
    "# 인코더 인풋, 디코더 인풋, 디코더 타겟 데이터로 분류"
   ]
  },
  {
   "cell_type": "code",
   "execution_count": 23,
   "id": "educational-peeing",
   "metadata": {},
   "outputs": [],
   "source": [
    "encoder_input = np.array(data['text']) # 인코더의 입력\n",
    "decoder_input = np.array(data['decoder_input']) # 디코더의 입력\n",
    "decoder_target = np.array(data['decoder_target']) # 디코더의 레이블"
   ]
  },
  {
   "cell_type": "code",
   "execution_count": 24,
   "id": "expressed-orange",
   "metadata": {},
   "outputs": [
    {
     "name": "stdout",
     "output_type": "stream",
     "text": [
      "[42945 13654 34472 ... 12880 13461 27675]\n"
     ]
    }
   ],
   "source": [
    "indices = np.arange(encoder_input.shape[0])\n",
    "np.random.shuffle(indices)\n",
    "print(indices)"
   ]
  },
  {
   "cell_type": "code",
   "execution_count": 25,
   "id": "distant-delhi",
   "metadata": {},
   "outputs": [],
   "source": [
    "encoder_input = encoder_input[indices]\n",
    "decoder_input = decoder_input[indices]\n",
    "decoder_target = decoder_target[indices]"
   ]
  },
  {
   "cell_type": "markdown",
   "id": "divided-determination",
   "metadata": {},
   "source": [
    "# 훈련용 데이터와 검정용 데이터로 분할"
   ]
  },
  {
   "cell_type": "code",
   "execution_count": 26,
   "id": "imported-cookie",
   "metadata": {},
   "outputs": [
    {
     "name": "stdout",
     "output_type": "stream",
     "text": [
      "테스트 데이터의 수 : 13016\n"
     ]
    }
   ],
   "source": [
    "n_of_val = int(len(encoder_input)*0.2)\n",
    "print('테스트 데이터의 수 :', n_of_val)"
   ]
  },
  {
   "cell_type": "code",
   "execution_count": 27,
   "id": "educational-probe",
   "metadata": {},
   "outputs": [
    {
     "name": "stdout",
     "output_type": "stream",
     "text": [
      "훈련 데이터의 개수 : 52065\n",
      "훈련 레이블의 개수 : 52065\n",
      "테스트 데이터의 개수 : 13016\n",
      "테스트 레이블의 개수 : 13016\n"
     ]
    }
   ],
   "source": [
    "encoder_input_train = encoder_input[:-n_of_val]\n",
    "decoder_input_train = decoder_input[:-n_of_val]\n",
    "decoder_target_train = decoder_target[:-n_of_val]\n",
    "\n",
    "encoder_input_test = encoder_input[-n_of_val:]\n",
    "decoder_input_test = decoder_input[-n_of_val:]\n",
    "decoder_target_test = decoder_target[-n_of_val:]\n",
    "\n",
    "print('훈련 데이터의 개수 :', len(encoder_input_train))\n",
    "print('훈련 레이블의 개수 :', len(decoder_input_train))\n",
    "print('테스트 데이터의 개수 :', len(encoder_input_test))\n",
    "print('테스트 레이블의 개수 :', len(decoder_input_test))"
   ]
  },
  {
   "cell_type": "markdown",
   "id": "derived-newman",
   "metadata": {},
   "source": [
    "***"
   ]
  },
  {
   "cell_type": "markdown",
   "id": "consistent-delight",
   "metadata": {},
   "source": [
    "# 인코더 데이터 토큰화"
   ]
  },
  {
   "cell_type": "code",
   "execution_count": 28,
   "id": "worldwide-lover",
   "metadata": {},
   "outputs": [],
   "source": [
    "src_tokenizer = Tokenizer()\n",
    "src_tokenizer.fit_on_texts(encoder_input_train)"
   ]
  },
  {
   "cell_type": "code",
   "execution_count": 29,
   "id": "tracked-mercy",
   "metadata": {},
   "outputs": [
    {
     "name": "stdout",
     "output_type": "stream",
     "text": [
      "단어 집합(vocabulary)의 크기 : 57148\n",
      "등장 빈도가 5번 이하인 희귀 단어의 수: 37795\n",
      "단어 집합에서 희귀 단어를 제외시킬 경우의 단어 집합의 크기 19353\n",
      "단어 집합에서 희귀 단어의 비율: 66.13529782319591\n",
      "전체 등장 빈도에서 희귀 단어 등장 빈도 비율: 4.013836757055342\n"
     ]
    }
   ],
   "source": [
    "threshold = 6\n",
    "total_cnt = len(src_tokenizer.word_index) # 단어의 수\n",
    "rare_cnt = 0 # 등장 빈도수가 threshold보다 작은 단어의 개수를 카운트\n",
    "total_freq = 0 # 훈련 데이터의 전체 단어 빈도수 총 합\n",
    "rare_freq = 0 # 등장 빈도수가 threshold보다 작은 단어의 등장 빈도수의 총 합\n",
    "\n",
    "# 단어와 빈도수의 쌍(pair)을 key와 value로 받는다.\n",
    "for key, value in src_tokenizer.word_counts.items():\n",
    "    total_freq = total_freq + value\n",
    "\n",
    "    # 단어의 등장 빈도수가 threshold보다 작으면\n",
    "    if(value < threshold):\n",
    "        rare_cnt = rare_cnt + 1\n",
    "        rare_freq = rare_freq + value\n",
    "\n",
    "print('단어 집합(vocabulary)의 크기 :', total_cnt)\n",
    "print('등장 빈도가 %s번 이하인 희귀 단어의 수: %s'%(threshold - 1, rare_cnt))\n",
    "print('단어 집합에서 희귀 단어를 제외시킬 경우의 단어 집합의 크기 %s'%(total_cnt - rare_cnt))\n",
    "print(\"단어 집합에서 희귀 단어의 비율:\", (rare_cnt / total_cnt)*100)\n",
    "print(\"전체 등장 빈도에서 희귀 단어 등장 빈도 비율:\", (rare_freq / total_freq)*100)"
   ]
  },
  {
   "cell_type": "markdown",
   "id": "infrared-category",
   "metadata": {},
   "source": [
    "# 희귀 단어 제외한 단어 집합 크기에 맞춰 단어 수 설정 : 19000"
   ]
  },
  {
   "cell_type": "code",
   "execution_count": 30,
   "id": "crucial-atlantic",
   "metadata": {},
   "outputs": [],
   "source": [
    "src_vocab = 19000\n",
    "src_tokenizer = Tokenizer(num_words=src_vocab)\n",
    "src_tokenizer.fit_on_texts(encoder_input_train)"
   ]
  },
  {
   "cell_type": "code",
   "execution_count": 31,
   "id": "reflected-consent",
   "metadata": {},
   "outputs": [
    {
     "name": "stdout",
     "output_type": "stream",
     "text": [
      "[[12, 977, 2850, 4874, 4948, 57, 400, 2400, 59, 145, 1042, 478, 530, 87, 21, 565, 147, 2122, 458, 3724, 59, 909, 12, 1555, 2, 516, 1578, 1499, 39, 385, 556, 21, 357, 1286, 12, 54], [172, 2532, 4701, 7361, 6307, 4388, 809, 193, 8875, 6, 20, 17895, 36, 66, 17895, 2532, 3356, 6307, 110, 64, 9132, 230, 8875, 3203, 2533, 917, 66, 2711, 9393, 171, 724], [14670, 95, 4146, 3204, 204, 1727, 8, 9976, 1477, 178, 2775, 2181, 14670, 1, 1540, 2775, 2181, 6909, 297, 1084, 88, 120, 580, 51, 263, 14670, 94, 13876, 3846, 4146, 3238, 2132, 2900, 2170, 178, 2384, 317]]\n"
     ]
    }
   ],
   "source": [
    "encoder_input_train = src_tokenizer.texts_to_sequences(encoder_input_train) \n",
    "encoder_input_test = src_tokenizer.texts_to_sequences(encoder_input_test)\n",
    "print(encoder_input_train[:3])"
   ]
  },
  {
   "cell_type": "markdown",
   "id": "civilian-facility",
   "metadata": {},
   "source": [
    "# 디코더 데이터 토큰화"
   ]
  },
  {
   "cell_type": "code",
   "execution_count": 32,
   "id": "accredited-founder",
   "metadata": {},
   "outputs": [],
   "source": [
    "tar_tokenizer = Tokenizer()\n",
    "tar_tokenizer.fit_on_texts(decoder_input_train)"
   ]
  },
  {
   "cell_type": "code",
   "execution_count": 33,
   "id": "raising-boost",
   "metadata": {},
   "outputs": [
    {
     "name": "stdout",
     "output_type": "stream",
     "text": [
      "단어 집합(vocabulary)의 크기 : 25768\n",
      "등장 빈도가 3번 이하인 희귀 단어의 수: 15002\n",
      "단어 집합에서 희귀 단어를 제외시킬 경우의 단어 집합의 크기 10766\n",
      "단어 집합에서 희귀 단어의 비율: 58.219497050605405\n",
      "전체 등장 빈도에서 희귀 단어 등장 빈도 비율: 4.4459296780951485\n"
     ]
    }
   ],
   "source": [
    "threshold = 4\n",
    "total_cnt = len(tar_tokenizer.word_index) # 단어의 수\n",
    "rare_cnt = 0 # 등장 빈도수가 threshold보다 작은 단어의 개수를 카운트\n",
    "total_freq = 0 # 훈련 데이터의 전체 단어 빈도수 총 합\n",
    "rare_freq = 0 # 등장 빈도수가 threshold보다 작은 단어의 등장 빈도수의 총 합\n",
    "\n",
    "# 단어와 빈도수의 쌍(pair)을 key와 value로 받는다.\n",
    "for key, value in tar_tokenizer.word_counts.items():\n",
    "    total_freq = total_freq + value\n",
    "\n",
    "    # 단어의 등장 빈도수가 threshold보다 작으면\n",
    "    if(value < threshold):\n",
    "        rare_cnt = rare_cnt + 1\n",
    "        rare_freq = rare_freq + value\n",
    "\n",
    "print('단어 집합(vocabulary)의 크기 :', total_cnt)\n",
    "print('등장 빈도가 %s번 이하인 희귀 단어의 수: %s'%(threshold - 1, rare_cnt))\n",
    "print('단어 집합에서 희귀 단어를 제외시킬 경우의 단어 집합의 크기 %s'%(total_cnt - rare_cnt))\n",
    "print(\"단어 집합에서 희귀 단어의 비율:\", (rare_cnt / total_cnt)*100)\n",
    "print(\"전체 등장 빈도에서 희귀 단어 등장 빈도 비율:\", (rare_freq / total_freq)*100)"
   ]
  },
  {
   "cell_type": "markdown",
   "id": "ahead-venture",
   "metadata": {},
   "source": [
    "# 희귀 단어 제외 단어 집합 크기에 맞춰 단어 수 설정 : 10000"
   ]
  },
  {
   "cell_type": "code",
   "execution_count": 34,
   "id": "experimental-imaging",
   "metadata": {},
   "outputs": [
    {
     "name": "stdout",
     "output_type": "stream",
     "text": [
      "input\n",
      "input  [[1, 759, 119, 990, 236, 4684, 5, 398, 1524], [1, 14, 1974, 2247, 1290, 5975, 1550, 42, 4, 5246], [1, 159, 9444, 13, 2441, 254, 1326, 782], [1, 1327, 274, 1587, 4, 830, 180], [1, 3, 291, 365, 740, 77, 1268, 8380, 6, 3595, 5602]]\n",
      "target\n",
      "decoder  [[759, 119, 990, 236, 4684, 5, 398, 1524, 2], [14, 1974, 2247, 1290, 5975, 1550, 42, 4, 5246, 2], [159, 9444, 13, 2441, 254, 1326, 782, 2], [1327, 274, 1587, 4, 830, 180, 2], [3, 291, 365, 740, 77, 1268, 8380, 6, 3595, 5602, 2]]\n"
     ]
    }
   ],
   "source": [
    "tar_vocab = 10000\n",
    "tar_tokenizer = Tokenizer(num_words=tar_vocab) \n",
    "tar_tokenizer.fit_on_texts(decoder_input_train)\n",
    "tar_tokenizer.fit_on_texts(decoder_target_train)\n",
    "\n",
    "# 텍스트 시퀀스를 정수 시퀀스로 변환\n",
    "decoder_input_train = tar_tokenizer.texts_to_sequences(decoder_input_train) \n",
    "decoder_target_train = tar_tokenizer.texts_to_sequences(decoder_target_train)\n",
    "decoder_input_test = tar_tokenizer.texts_to_sequences(decoder_input_test)\n",
    "decoder_target_test = tar_tokenizer.texts_to_sequences(decoder_target_test)\n",
    "\n",
    "# 잘 변환되었는지 확인\n",
    "print('input')\n",
    "print('input ',decoder_input_train[:5])\n",
    "print('target')\n",
    "print('decoder ',decoder_target_train[:5])"
   ]
  },
  {
   "cell_type": "code",
   "execution_count": 35,
   "id": "opposite-oriental",
   "metadata": {},
   "outputs": [
    {
     "name": "stdout",
     "output_type": "stream",
     "text": [
      "삭제할 훈련 데이터의 개수 : 0\n",
      "삭제할 테스트 데이터의 개수 : 0\n"
     ]
    }
   ],
   "source": [
    "drop_train = [index for index, sentence in enumerate(decoder_input_train) if len(sentence) == 1]\n",
    "drop_test = [index for index, sentence in enumerate(decoder_input_test) if len(sentence) == 1]\n",
    "\n",
    "print('삭제할 훈련 데이터의 개수 :', len(drop_train))\n",
    "print('삭제할 테스트 데이터의 개수 :', len(drop_test))"
   ]
  },
  {
   "cell_type": "code",
   "execution_count": 36,
   "id": "outstanding-orbit",
   "metadata": {},
   "outputs": [
    {
     "name": "stdout",
     "output_type": "stream",
     "text": [
      "훈련 데이터의 개수 : 52065\n",
      "훈련 레이블의 개수 : 52065\n",
      "테스트 데이터의 개수 : 13016\n",
      "테스트 레이블의 개수 : 13016\n"
     ]
    }
   ],
   "source": [
    "encoder_input_train = np.delete(encoder_input_train, drop_train, axis=0)\n",
    "decoder_input_train = np.delete(decoder_input_train, drop_train, axis=0)\n",
    "decoder_target_train = np.delete(decoder_target_train, drop_train, axis=0)\n",
    "\n",
    "encoder_input_test = np.delete(encoder_input_test, drop_test, axis=0)\n",
    "decoder_input_test = np.delete(decoder_input_test, drop_test, axis=0)\n",
    "decoder_target_test = np.delete(decoder_target_test, drop_test, axis=0)\n",
    "\n",
    "print('훈련 데이터의 개수 :', len(encoder_input_train))\n",
    "print('훈련 레이블의 개수 :', len(decoder_input_train))\n",
    "print('테스트 데이터의 개수 :', len(encoder_input_test))\n",
    "print('테스트 레이블의 개수 :', len(decoder_input_test))"
   ]
  },
  {
   "cell_type": "markdown",
   "id": "weekly-plumbing",
   "metadata": {},
   "source": [
    "# 패딩 진행"
   ]
  },
  {
   "cell_type": "code",
   "execution_count": 37,
   "id": "weighted-geneva",
   "metadata": {},
   "outputs": [],
   "source": [
    "encoder_input_train = pad_sequences(encoder_input_train, maxlen=text_max_len, padding='post')\n",
    "encoder_input_test = pad_sequences(encoder_input_test, maxlen=text_max_len, padding='post')\n",
    "decoder_input_train = pad_sequences(decoder_input_train, maxlen=headlines_max_len, padding='post')\n",
    "decoder_target_train = pad_sequences(decoder_target_train, maxlen=headlines_max_len, padding='post')\n",
    "decoder_input_test = pad_sequences(decoder_input_test, maxlen=headlines_max_len, padding='post')\n",
    "decoder_target_test = pad_sequences(decoder_target_test, maxlen=headlines_max_len, padding='post')"
   ]
  },
  {
   "cell_type": "markdown",
   "id": "resistant-indonesia",
   "metadata": {},
   "source": [
    "***"
   ]
  },
  {
   "cell_type": "markdown",
   "id": "animated-sherman",
   "metadata": {},
   "source": [
    "# 모델링"
   ]
  },
  {
   "cell_type": "code",
   "execution_count": 38,
   "id": "recovered-lawyer",
   "metadata": {},
   "outputs": [
    {
     "name": "stdout",
     "output_type": "stream",
     "text": [
      "WARNING:tensorflow:Layer lstm will not use cuDNN kernel since it doesn't meet the cuDNN kernel criteria. It will use generic GPU kernel as fallback when running on GPU\n",
      "WARNING:tensorflow:Layer lstm_1 will not use cuDNN kernel since it doesn't meet the cuDNN kernel criteria. It will use generic GPU kernel as fallback when running on GPU\n"
     ]
    }
   ],
   "source": [
    "embedding_dim = 128\n",
    "hidden_size = 512\n",
    "\n",
    "# 인코더\n",
    "encoder_inputs = Input(shape=(text_max_len,))\n",
    "\n",
    "# 인코더의 임베딩 층\n",
    "enc_emb = Embedding(src_vocab, embedding_dim)(encoder_inputs)\n",
    "\n",
    "# 인코더의 LSTM 1\n",
    "encoder_lstm1 = LSTM(hidden_size, return_sequences=True, return_state=True ,dropout = 0.5, recurrent_dropout = 0.5)\n",
    "encoder_output1, state_h1, state_c1 = encoder_lstm1(enc_emb)\n",
    "\n",
    "# 인코더의 LSTM 2\n",
    "encoder_lstm2 = LSTM(hidden_size, return_sequences=True, return_state=True, dropout=0.5, recurrent_dropout=0.5)\n",
    "encoder_outputs, state_h, state_c = encoder_lstm2(encoder_output1)"
   ]
  },
  {
   "cell_type": "code",
   "execution_count": 39,
   "id": "recognized-seventh",
   "metadata": {},
   "outputs": [
    {
     "name": "stdout",
     "output_type": "stream",
     "text": [
      "WARNING:tensorflow:Layer lstm_2 will not use cuDNN kernel since it doesn't meet the cuDNN kernel criteria. It will use generic GPU kernel as fallback when running on GPU\n"
     ]
    }
   ],
   "source": [
    "# 디코더 설계\n",
    "decoder_inputs = Input(shape=(None,))\n",
    "\n",
    "# 디코더의 임베딩 층\n",
    "dec_emb_layer = Embedding(tar_vocab, embedding_dim)\n",
    "dec_emb = dec_emb_layer(decoder_inputs)\n",
    "\n",
    "# 디코더의 LSTM\n",
    "decoder_lstm = LSTM(hidden_size, return_sequences=True, return_state=True, dropout=0.5, recurrent_dropout=0.5)\n",
    "decoder_outputs, _, _ = decoder_lstm(dec_emb, initial_state=[state_h, state_c])"
   ]
  },
  {
   "cell_type": "code",
   "execution_count": 40,
   "id": "veterinary-grain",
   "metadata": {},
   "outputs": [],
   "source": [
    "urllib.request.urlretrieve(\"https://raw.githubusercontent.com/thushv89/attention_keras/master/src/layers/attention.py\", filename=\"attention.py\")\n",
    "from attention import AttentionLayer"
   ]
  },
  {
   "cell_type": "code",
   "execution_count": 41,
   "id": "noticed-physics",
   "metadata": {},
   "outputs": [
    {
     "name": "stdout",
     "output_type": "stream",
     "text": [
      "Model: \"model\"\n",
      "__________________________________________________________________________________________________\n",
      "Layer (type)                    Output Shape         Param #     Connected to                     \n",
      "==================================================================================================\n",
      "input_1 (InputLayer)            [(None, 38)]         0                                            \n",
      "__________________________________________________________________________________________________\n",
      "embedding (Embedding)           (None, 38, 128)      2432000     input_1[0][0]                    \n",
      "__________________________________________________________________________________________________\n",
      "input_2 (InputLayer)            [(None, None)]       0                                            \n",
      "__________________________________________________________________________________________________\n",
      "lstm (LSTM)                     [(None, 38, 512), (N 1312768     embedding[0][0]                  \n",
      "__________________________________________________________________________________________________\n",
      "embedding_1 (Embedding)         (None, None, 128)    1280000     input_2[0][0]                    \n",
      "__________________________________________________________________________________________________\n",
      "lstm_1 (LSTM)                   [(None, 38, 512), (N 2099200     lstm[0][0]                       \n",
      "__________________________________________________________________________________________________\n",
      "lstm_2 (LSTM)                   [(None, None, 512),  1312768     embedding_1[0][0]                \n",
      "                                                                 lstm_1[0][1]                     \n",
      "                                                                 lstm_1[0][2]                     \n",
      "__________________________________________________________________________________________________\n",
      "attention_layer (AttentionLayer ((None, None, 512),  524800      lstm_1[0][0]                     \n",
      "                                                                 lstm_2[0][0]                     \n",
      "__________________________________________________________________________________________________\n",
      "concat_layer (Concatenate)      (None, None, 1024)   0           lstm_2[0][0]                     \n",
      "                                                                 attention_layer[0][0]            \n",
      "__________________________________________________________________________________________________\n",
      "dense (Dense)                   (None, None, 10000)  10250000    concat_layer[0][0]               \n",
      "==================================================================================================\n",
      "Total params: 19,211,536\n",
      "Trainable params: 19,211,536\n",
      "Non-trainable params: 0\n",
      "__________________________________________________________________________________________________\n"
     ]
    }
   ],
   "source": [
    "# 어텐션 층(어텐션 함수)\n",
    "attn_layer = AttentionLayer(name='attention_layer')\n",
    "# 인코더와 디코더의 모든 time step의 hidden state를 어텐션 층에 전달하고 결과를 리턴\n",
    "attn_out, attn_states = attn_layer([encoder_outputs, decoder_outputs])\n",
    "\n",
    "# 어텐션의 결과와 디코더의 hidden state들을 연결\n",
    "decoder_concat_input = Concatenate(axis=-1, name='concat_layer')([decoder_outputs, attn_out])\n",
    "\n",
    "# 디코더의 출력층\n",
    "decoder_softmax_layer = Dense(tar_vocab, activation='softmax')\n",
    "decoder_softmax_outputs = decoder_softmax_layer(decoder_concat_input)\n",
    "\n",
    "# 모델 정의\n",
    "model = Model([encoder_inputs, decoder_inputs], decoder_softmax_outputs)\n",
    "model.summary()"
   ]
  },
  {
   "cell_type": "code",
   "execution_count": 42,
   "id": "handmade-family",
   "metadata": {
    "scrolled": false
   },
   "outputs": [
    {
     "name": "stdout",
     "output_type": "stream",
     "text": [
      "Epoch 1/50\n",
      "407/407 [==============================] - 245s 580ms/step - loss: 6.7149 - val_loss: 5.9427\n",
      "Epoch 2/50\n",
      "407/407 [==============================] - 234s 576ms/step - loss: 5.9244 - val_loss: 5.6028\n",
      "Epoch 3/50\n",
      "407/407 [==============================] - 235s 577ms/step - loss: 5.5187 - val_loss: 5.3068\n",
      "Epoch 4/50\n",
      "407/407 [==============================] - 234s 576ms/step - loss: 5.1455 - val_loss: 5.0628\n",
      "Epoch 5/50\n",
      "407/407 [==============================] - 235s 577ms/step - loss: 4.7951 - val_loss: 4.8494\n",
      "Epoch 6/50\n",
      "407/407 [==============================] - 235s 577ms/step - loss: 4.4692 - val_loss: 4.6917\n",
      "Epoch 7/50\n",
      "407/407 [==============================] - 235s 576ms/step - loss: 4.1757 - val_loss: 4.5952\n",
      "Epoch 8/50\n",
      "407/407 [==============================] - 234s 576ms/step - loss: 3.9143 - val_loss: 4.5095\n",
      "Epoch 9/50\n",
      "407/407 [==============================] - 234s 576ms/step - loss: 3.6730 - val_loss: 4.4735\n",
      "Epoch 10/50\n",
      "407/407 [==============================] - 235s 579ms/step - loss: 3.4507 - val_loss: 4.4363\n",
      "Epoch 11/50\n",
      "407/407 [==============================] - 236s 581ms/step - loss: 3.2351 - val_loss: 4.4262\n",
      "Epoch 12/50\n",
      "407/407 [==============================] - 236s 579ms/step - loss: 3.0560 - val_loss: 4.4279\n",
      "Epoch 13/50\n",
      "407/407 [==============================] - 235s 578ms/step - loss: 2.8817 - val_loss: 4.4310\n",
      "Epoch 00013: early stopping\n"
     ]
    }
   ],
   "source": [
    "model.compile(optimizer='adam', loss='sparse_categorical_crossentropy')\n",
    "es = EarlyStopping(monitor='val_loss', patience=2, verbose=1)\n",
    "history = model.fit(x=[encoder_input_train, decoder_input_train], y=decoder_target_train, \\\n",
    "          validation_data=([encoder_input_test, decoder_input_test], decoder_target_test), \\\n",
    "          batch_size=128, callbacks=[es], epochs=50)"
   ]
  },
  {
   "cell_type": "markdown",
   "id": "reflected-amazon",
   "metadata": {},
   "source": [
    "# 학습 곡선\n",
    "\n",
    "## 학습곡선을 확인하며 다양한 형태의 모델 시도"
   ]
  },
  {
   "cell_type": "code",
   "execution_count": 43,
   "id": "occupied-jordan",
   "metadata": {
    "scrolled": true
   },
   "outputs": [
    {
     "data": {
      "image/png": "[encoded data removed]",
      "text/plain": [
       "<Figure size 432x288 with 1 Axes>"
      ]
     },
     "metadata": {
      "needs_background": "light"
     },
     "output_type": "display_data"
    }
   ],
   "source": [
    "plt.plot(history.history['loss'], label='train')\n",
    "plt.plot(history.history['val_loss'], label='test')\n",
    "plt.legend()\n",
    "plt.show()"
   ]
  },
  {
   "cell_type": "code",
   "execution_count": 44,
   "id": "entertaining-villa",
   "metadata": {},
   "outputs": [],
   "source": [
    "src_index_to_word = src_tokenizer.index_word # 원문 단어 집합에서 정수 -> 단어를 얻음\n",
    "tar_word_to_index = tar_tokenizer.word_index # 요약 단어 집합에서 단어 -> 정수를 얻음\n",
    "tar_index_to_word = tar_tokenizer.index_word # 요약 단어 집합에서 정수 -> 단어를 얻음"
   ]
  },
  {
   "cell_type": "markdown",
   "id": "frequent-society",
   "metadata": {},
   "source": [
    "# 인퍼런스 모델 구현"
   ]
  },
  {
   "cell_type": "code",
   "execution_count": 45,
   "id": "alternate-airfare",
   "metadata": {},
   "outputs": [],
   "source": [
    "# 인코더 설계\n",
    "encoder_model = Model(inputs=encoder_inputs, outputs=[encoder_outputs, state_h, state_c])\n",
    "\n",
    "# 이전 시점의 상태들을 저장하는 텐서\n",
    "decoder_state_input_h = Input(shape=(hidden_size,))\n",
    "decoder_state_input_c = Input(shape=(hidden_size,))\n",
    "\n",
    "dec_emb2 = dec_emb_layer(decoder_inputs)\n",
    "\n",
    "# 문장의 다음 단어를 예측하기 위해서 초기 상태(initial_state)를 이전 시점의 상태로 사용. 이는 뒤의 함수 decode_sequence()에 구현\n",
    "# 훈련 과정에서와 달리 LSTM의 리턴하는 은닉 상태와 셀 상태인 state_h와 state_c를 버리지 않음.\n",
    "decoder_outputs2, state_h2, state_c2 = decoder_lstm(dec_emb2, initial_state=[decoder_state_input_h, decoder_state_input_c])"
   ]
  },
  {
   "cell_type": "code",
   "execution_count": 46,
   "id": "acting-agriculture",
   "metadata": {},
   "outputs": [],
   "source": [
    "# 어텐션 함수\n",
    "decoder_hidden_state_input = Input(shape=(text_max_len, hidden_size))\n",
    "attn_out_inf, attn_states_inf = attn_layer([decoder_hidden_state_input, decoder_outputs2])\n",
    "decoder_inf_concat = Concatenate(axis=-1, name='concat')([decoder_outputs2, attn_out_inf])\n",
    "\n",
    "# 디코더의 출력층\n",
    "decoder_outputs2 = decoder_softmax_layer(decoder_inf_concat) \n",
    "\n",
    "# 최종 디코더 모델\n",
    "decoder_model = Model(\n",
    "    [decoder_inputs] + [decoder_hidden_state_input,decoder_state_input_h, decoder_state_input_c],\n",
    "    [decoder_outputs2] + [state_h2, state_c2])"
   ]
  },
  {
   "cell_type": "code",
   "execution_count": 47,
   "id": "lined-burlington",
   "metadata": {},
   "outputs": [],
   "source": [
    "def decode_sequence(input_seq):\n",
    "    # 입력으로부터 인코더의 상태를 얻음\n",
    "    e_out, e_h, e_c = encoder_model.predict(input_seq)\n",
    "\n",
    "     # <SOS>에 해당하는 토큰 생성\n",
    "    target_seq = np.zeros((1,1))\n",
    "    target_seq[0, 0] = tar_word_to_index['sostoken']\n",
    "\n",
    "    stop_condition = False\n",
    "    decoded_sentence = ''\n",
    "    while not stop_condition: # stop_condition이 True가 될 때까지 루프 반복\n",
    "\n",
    "        output_tokens, h, c = decoder_model.predict([target_seq] + [e_out, e_h, e_c])\n",
    "        sampled_token_index = np.argmax(output_tokens[0, -1, :])\n",
    "        sampled_token = tar_index_to_word[sampled_token_index]\n",
    "\n",
    "        if (sampled_token!='eostoken'):\n",
    "            decoded_sentence += ' '+sampled_token\n",
    "\n",
    "        #  <eos>에 도달하거나 최대 길이를 넘으면 중단.\n",
    "        if (sampled_token == 'eostoken'  or len(decoded_sentence.split()) >= (headlines_max_len)):\n",
    "            stop_condition = True\n",
    "\n",
    "        # 길이가 1인 타겟 시퀀스를 업데이트\n",
    "        target_seq = np.zeros((1,1))\n",
    "        target_seq[0, 0] = sampled_token_index\n",
    "\n",
    "        # 상태를 업데이트 합니다.\n",
    "        e_h, e_c = h, c\n",
    "\n",
    "    return decoded_sentence"
   ]
  },
  {
   "cell_type": "code",
   "execution_count": 48,
   "id": "stupid-trademark",
   "metadata": {},
   "outputs": [],
   "source": [
    "# 원문의 정수 시퀀스를 텍스트 시퀀스로 변환\n",
    "def seq2text(input_seq):\n",
    "    temp=''\n",
    "    for i in input_seq:\n",
    "        if (i!=0):\n",
    "            temp = temp + src_index_to_word[i]+' '\n",
    "    return temp\n",
    "\n",
    "# 요약문의 정수 시퀀스를 텍스트 시퀀스로 변환\n",
    "def seq2headlines(input_seq):\n",
    "    temp=''\n",
    "    for i in input_seq:\n",
    "        if ((i!=0 and i!=tar_word_to_index['sostoken']) and i!=tar_word_to_index['eostoken']):\n",
    "            temp = temp + tar_index_to_word[i] + ' '\n",
    "    return temp"
   ]
  },
  {
   "cell_type": "markdown",
   "id": "sapphire-trial",
   "metadata": {},
   "source": [
    "# 요약문장 생성"
   ]
  },
  {
   "cell_type": "code",
   "execution_count": 49,
   "id": "apparent-skirt",
   "metadata": {
    "scrolled": false
   },
   "outputs": [
    {
     "name": "stdout",
     "output_type": "stream",
     "text": [
      "원문 : bjp spokesperson sambit patra wednesday said corrupt jailed law taking course see reason political party cry vendetta law vendetta statement comes congress slammed bjp chidambaram son karti chidambaram arrest money laundering case calling bjp government vendetta \n",
      "실제 요약 : this is law not bjp on karti chidambaram arrest \n",
      "예측 요약 :  bjp mp demands resignation of congress leaders\n",
      "\n",
      "\n",
      "원문 : indian army wednesday rescued us citizen got stuck rock height feet ground level himachal pradesh kangra district indian army helicopter used rescue paraglider sustained several injuries accident later shifted delhi \n",
      "실제 요약 : army rescues us stuck at ft in himachal \n",
      "예측 요약 :  indian army officer rescues indian army stranded in nepal\n",
      "\n",
      "\n",
      "원문 : british youtuber shared video social media major facebook london headquarters unlocked side entrance man claims security played game pool facebook office youtuber also gained unauthorised access bbc studio live broadcast earlier month \n",
      "실제 요약 : youtuber sneaks into facebook uk headquarters shares video \n",
      "예측 요약 :  video shows porn on facebook for facebook\n",
      "\n",
      "\n",
      "원문 : india mahila empowerment party leader sharma contesting seat karnataka assembly elections grandson former presidents radhakrishnan giri giri sharma paternal grandfather brother leader father radhakrishnan nephew year old leader quit business join politics \n",
      "실제 요약 : grandson of ex presidents contesting from seat in taka \n",
      "예측 요약 :  bjp mla quits party after resigning on poaching charges\n",
      "\n",
      "\n",
      "원문 : least two people killed two others injured shooting elementary school california san monday according reports police officials said shooting believed murder suicide added took place inside classroom students school evacuated immediately high school nearby \n",
      "실제 요약 : killed in shooting at california school \n",
      "예측 요약 :  killed injured in shooting at church in us\n",
      "\n",
      "\n",
      "원문 : international cricket council tuesday announced manu appointed organisation new chief executive officer former ceo singapore sports hub managing director espn star sports join organisation next month formally taking david richardson july following icc world cup \n",
      "실제 요약 : manu appointed as the new icc ceo \n",
      "예측 요약 :  united spirits ceo resigns as chairman\n",
      "\n",
      "\n",
      "원문 : investor mahesh murthy granted anticipatory bail arrested friday allegedly sexually harassing delhi based woman told technical arrest already released surety murthy tweeted woman lodged complaint last year alleging murthy used sexual remarks social media \n",
      "실제 요약 : investor mahesh murthy gets bail in sexual harassment case \n",
      "예측 요약 :  mahesh murthy arrested for sexual harassment at woman\n",
      "\n",
      "\n",
      "원문 : following tdp decision pull two ministers union cabinet andhra pradesh congress leader raju said little late adding pulling ministers means nothing raju said tdp ally bjp four years done nothing protect interests andhra pradesh \n",
      "실제 요약 : tdp quitting union cabinet too little too late congress \n",
      "예측 요약 :  cabinet approves support of votes in andhra pradesh\n",
      "\n",
      "\n",
      "원문 : days suspending mp panda bjd party asked resign lok sabha bjd leader bp accused panda concealing position vice chairman manufacturing firm affidavit filed general elections panda said party knew association firm \n",
      "실제 요약 : bjd asks suspended mp panda to resign from lok sabha \n",
      "예측 요약 :  bjp leader resigns from rajya sabha polls\n",
      "\n",
      "\n",
      "원문 : bank baroda classified crore loan given vikram kothari run rotomac global non performing asset october fraud december however complaint accusing kothari defrauding banks crore filed february escape pnb fraud accused nirav modi reportedly prompted bank file complaint \n",
      "실제 요약 : rotomac on loans in fraud case filed in \n",
      "예측 요약 :  sbi to pay crore to settle assets of default\n",
      "\n",
      "\n",
      "원문 : rajinikanth akshay kumar starrer budget million per article american entertainment magazine variety shared akshay film director shankar social media akshay wrote film result unlimited effort technicians around world \n",
      "실제 요약 : crore spent for for rajinikanth akshay starrer \n",
      "예측 요약 :  release of akshay kumar starrer padman hits the theatres\n",
      "\n",
      "\n",
      "원문 : world biggest bounce house world measures square feet touring united states big bounce america features giant slides basketball obstacle courses foam pits inflatable forests organisers said guests expect games blasts shirts beach balls \n",
      "실제 요약 : world biggest bounce house us \n",
      "예측 요약 :  world most expensive telescope to be auctioned for\n",
      "\n",
      "\n",
      "원문 : sooraj pancholi deleted twitter account posting series tweets requesting people tag younger sister news regarding ongoing row father aditya pancholi kangana ranaut would like keep away mess something trying avoid years sooraj tweeted \n",
      "실제 요약 : sooraj deletes twitter account amid father row with ranaut \n",
      "예측 요약 :  twitter account hacked to show fake news\n",
      "\n",
      "\n",
      "원문 : year old boy village himachal pradesh manali helped village win first prize cleanliness region popularly known dustbin boy rohan revealed faced difficulty collecting money dustbins used oil village dustbins said wanted hometown look like european villages \n",
      "실제 요약 : yr old boy helps his village become cleanest in manali \n",
      "예측 요약 :  man dies after being caught in mumbai\n",
      "\n",
      "\n",
      "원문 : rashtriya janata dal chief lalu prasad yadav announced support election commission recommendation imposing lifetime ban convicted parliamentarians elections implemented manner added supreme court wednesday asked centre status details regarding cases involving mps mlas \n",
      "실제 요약 : lalu demands lifetime ban for all convicted \n",
      "예측 요약 :  bjp jd demands resignation of bjp mlas from bihar\n",
      "\n",
      "\n",
      "원문 : us capital washington dc sued facebook cambridge analytica data scandal surfaced march facebook failed protect privacy users deceived official statement read lawsuit alleges social media giant allowed british firm exploit data around million users influence us elections \n",
      "실제 요약 : washington dc sues fb over cambridge analytica data scandal \n",
      "예측 요약 :  us facebook data scandal affected over data scandal\n",
      "\n",
      "\n",
      "원문 : bjp government gujarat distributed around school bags samajwadi party leader former cm akhilesh yadav photo school bags government panchayat stickers picture akhilesh yadav beneath bags purchased surat based company tender \n",
      "실제 요약 : bjp distributes bags with akhilesh yadav photo in gujarat \n",
      "예측 요약 :  bjp mla booked for possessing beef in dry bihar\n",
      "\n",
      "\n",
      "원문 : homegrown commerce platform flipkart reportedly planning invest million online grocery business flipkart next three years flipkart plans expand service five six major cities end development comes competition commission india announced approval billion walmart flipkart deal \n",
      "실제 요약 : flipkart to invest mn in online grocery business report \n",
      "예측 요약 :  flipkart may invest mn in flipkart parent retail\n",
      "\n",
      "\n",
      "원문 : company wide meeting thursday google ceo sundar pichai said company close launching search engine app china meets country censorship norms however admitted search engine development early stage whether google could would launch search china unclear pichai added \n",
      "실제 요약 : google not close to launching search engine in china pichai \n",
      "예측 요약 :  microsoft ceo satya nadella to be livestreamed on\n",
      "\n",
      "\n",
      "원문 : speaking us india aviation summit mumbai civil aviation secretary rn choubey said american carrier expressed formal interest air india last date submission expression interest air india disinvestment may government proposed sell stake airline debt exceeding crore \n",
      "실제 요약 : no us carrier has interest for air india govt \n",
      "예측 요약 :  air india disinvestment aviation aviation aviation secretary\n",
      "\n",
      "\n",
      "원문 : assam government draft population policy proposes people two children denied government jobs two child norm would also applicable candidates elections conducted state election commission draft also proposed girls state given free education university level \n",
      "실제 요약 : assam proposes denying govt jobs for those with over kids \n",
      "예측 요약 :  govt orders probe into anti romeo squads\n",
      "\n",
      "\n",
      "원문 : india former captain anil kumble said indian cricket team let former captain ms dhoni enjoy game team keep depending left enjoy game engage younger players finish games kumble said year old cricketer \n",
      "실제 요약 : cannot keep on dhoni as kumble \n",
      "예측 요약 :  dhoni should not be missed in cricket dhoni\n",
      "\n",
      "\n",
      "원문 : judge brazil ordered prevent venezuelan immigrants entering country border state judge ordered suspend entry venezuelan immigrants conditions humanitarian reception created venezuelan immigrants fleeing political economic crisis home country \n",
      "실제 요약 : brazil judge orders to close border to venezuelan immigrants \n"
     ]
    },
    {
     "name": "stdout",
     "output_type": "stream",
     "text": [
      "예측 요약 :  catalan protester suspended for years\n",
      "\n",
      "\n",
      "원문 : state bank india monday hiked fixed deposit interest rates select crore year years provide interest earlier senior citizens get deposits years years interest rate revised \n",
      "실제 요약 : sbi raises fixed deposit interest rates \n",
      "예측 요약 :  gst collection to be revised to lakh\n",
      "\n",
      "\n",
      "원문 : woman killed husband called prostitute murder charges supreme court court said since death result sudden grave provocation punishable culpable homicide amounting murder woman co accused sentenced ten years jail \n",
      "실제 요약 : calling wife prostitute grave sc clears woman of murder \n",
      "예측 요약 :  woman who gave me to kill husband gangster\n",
      "\n",
      "\n",
      "원문 : goa chief minister manohar parrikar sunday said state ban drinking liquor public places end october curb nuisance created drunk people state already banned drinking selected public places like beaches also planning ban swimming sea post sunset consumption alcohol \n",
      "실제 요약 : goa will ban drinking in public places cm manohar parrikar \n",
      "예측 요약 :  goa govt bans use of plastic shops in schools\n",
      "\n",
      "\n",
      "원문 : west indies cricket team officially renamed windies west indies cricket board rebranded cricket west indies th anniversary new name apply teams representing board used team playing shirts statement board said new name inclusive \n",
      "실제 요약 : west indies cricket team officially renamed as windies \n",
      "예측 요약 :  jadeja should be fit drs on retirement\n",
      "\n",
      "\n",
      "원문 : actor sidharth malhotra seen playing kargil martyr vikram batra upcoming biopic latter said feel emotional responsibility play character family vikram batra felt play role added sidharth said toughest role career far \n",
      "실제 요약 : emotional responsibility to play kargil martyr vikram sidharth \n",
      "예측 요약 :  sidharth malhotra to star in shashank mahabharata film reports\n",
      "\n",
      "\n",
      "원문 : spain world number one tennis player rafael nadal turned today asteroid named asteroid discovered astronomical observatory nadal home island named beat roger federer wimbledon final nadal birthday coincides french open tournament won record times \n",
      "실제 요약 : there is an asteroid named after tennis star nadal \n",
      "예측 요약 :  federer becomes first wimbledon to win\n",
      "\n",
      "\n",
      "원문 : actors deepika padukone ranveer singh marriage date november date first film acted together released directed sanjay leela bhansali film goliyon ki rasleela ram leela hit theatres november two reportedly met first time award function \n",
      "실제 요약 : deepika ranveer marrying on date their st film together released \n",
      "예측 요약 :  deepika to star in mr film in bharat reports\n",
      "\n",
      "\n",
      "원문 : bihar legislative assembly legislative council monday unanimously adopted bihar goods service tax bill along bihar taxation bill passage bills bihar become second state telangana legal framework rollout gst state \n",
      "실제 요약 : bihar becomes second state after telangana to adopt gst \n",
      "예측 요약 :  bihar govt to waive scheme for farmers\n",
      "\n",
      "\n",
      "원문 : bjp fielded candidates uttar pradesh rajya sabha seats elections scheduled take place march comes samajwadi party naresh agrawal son nitin agrawal joined bjp samajwadi party nominated jaya bachchan candidate decided cast remaining votes bsp candidate bhimrao ambedkar \n",
      "실제 요약 : bjp fields candidates for up rajya sabha seats \n",
      "예측 요약 :  bjp jd to contest seats in gujarat assembly elections\n",
      "\n",
      "\n",
      "원문 : uk court found woman guilty teenage daughter travelling pakistan forcing marry man nearly twice age abroad mother threatened tear daughter passport denied marrying man first successful prosecution case uk \n",
      "실제 요약 : uk court convicts woman of forcing marriage on daughter \n",
      "예측 요약 :  uk woman jailed for yrs for marrying woman\n",
      "\n",
      "\n",
      "원문 : four people rushed hospital treated nausea fly flight forced make emergency landing us orlando airport minutes take believed smoke entered engine officials reported plane air quality normal orlando bristol flight carrying people \n",
      "실제 요약 : over people fall sick on same flight in us \n",
      "예측 요약 :  injured as plane collide at delhi airport\n",
      "\n",
      "\n",
      "원문 : indian railways plans category stations private participation railways minister suresh prabhu said stations generally located major cities important tourist destinations prabhu said cost met commercial development spare railway land air space around station \n",
      "실제 요약 : indian railways to major stations \n",
      "예측 요약 :  railways to launch new trains for next years\n",
      "\n",
      "\n",
      "원문 : apple wednesday unveiled latest watch series detect user falls calls emergency services detects movement minute watch also take crown within seconds facilitated electrical heart sensor new watch larger display speaker \n",
      "실제 요약 : apple latest watch series can detect users fall take \n",
      "예측 요약 :  apple unveils inch that can make motion\n",
      "\n",
      "\n",
      "원문 : rally gujarat congress vice president rahul gandhi wednesday said party would waive loans farmers state within ten days elected adding pm modi waived crore loan industrialists said hundreds people would employed companies gujarat helped \n",
      "실제 요약 : will waive guj farmer loans within days if elected rahul \n",
      "예측 요약 :  rahul gandhi is the most followed rahul in india\n",
      "\n",
      "\n",
      "원문 : sahara group moved supreme court wednesday seeking push back publication sale notice pune based aamby valley value property reportedly estimated crore notably sebi moved sc august recover crore sahara return investors crore paid \n",
      "실제 요약 : sahara moves sc to put aamby valley auction on hold \n",
      "예측 요약 :  sc orders jaypee to deposit crore to homebuyers\n",
      "\n",
      "\n",
      "원문 : bengaluru fc striker sunil chhetri scored curling kick th minute mohun bagan second semi final indian super cup tuesday chhetri picked long ball goalkeeper sandhu left cutting past curling ball top right corner goal \n",
      "실제 요약 : chhetri nets goal in th minute via keeper assist \n",
      "예측 요약 :  ipl winning player to play real madrid matches\n",
      "\n",
      "\n",
      "원문 : two elderly people crushed death thursday crowd around people charity event bengaluru resident organised event tokens distributed needy availing free month ramzan however stampede caused tokens distributed resulting deaths \n",
      "실제 요약 : dead in stampede during charity event in bengaluru \n",
      "예측 요약 :  injured in delhi after being denied selfie\n",
      "\n",
      "\n",
      "원문 : police constable sanjay ahir arrested allegedly assaulting indian cricketer ravindra jadeja wife vehicles collided gujarat jamnagar departmental inquiry ordered accused police said eyewitnesses claimed accused thrashed pulled hair altercation \n",
      "실제 요약 : police constable arrested for assaulting jadeja wife \n",
      "예측 요약 :  man arrested for possessing firecrackers in delhi ats\n",
      "\n",
      "\n",
      "원문 : international union conservation nature taken snow leopard endangered list included new assessment placed animal less threatened vulnerable category considered endangered species need global populations fewer adults decline rate years \n",
      "실제 요약 : snow leopard taken off endangered list after years \n",
      "예측 요약 :  there is the heatwave of the year\n",
      "\n",
      "\n",
      "원문 : number uk nationals seeking citizenship another eu member state doubled according european agency brexit year acquired citizenship another bloc nations around lakh people born uk live eu countries according un estimates \n",
      "실제 요약 : seeking eu citizenship doubled in brexit year \n",
      "예측 요약 :  uk to deport refugee literature asylum seekers\n",
      "\n",
      "\n",
      "원문 : residents bengaluru sunday protested year delay construction metre flyover outer ring road delay reportedly caused introduction new land acquisition act shifting underground pipes taj mahal years soudha years flyover years counting read banner protest \n",
      "실제 요약 : luru residents protest yr delay in flyover construction \n",
      "예측 요약 :  mumbai civic body to launch canteen saplings\n",
      "\n",
      "\n",
      "원문 : microsoft co founder bill gates said aadhaar harm privacy merely gives identity aadhaar pretending somebody else fake people government payroll added privacy issue application using aadhaar taxes benefits access information gates said \n",
      "실제 요약 : aadhaar does not harm privacy it gives identity bill gates \n",
      "예측 요약 :  aadhaar data breach of aadhaar uidai\n",
      "\n",
      "\n",
      "원문 : turkey winner olympics race banned life third doping offence stripped olympic european titles second offence olympics women final dubbed dirtiest race history six first nine received drug bans \n",
      "실제 요약 : winner of race in history banned for life \n",
      "예측 요약 :  player fined for faking goal in goal\n",
      "\n",
      "\n",
      "원문 : two youths aged respectively drowned falling river ganesh idol tamil nadu district police said incident occurred saturday two fell slipped water meanwhile year old man rescued police said \n",
      "실제 요약 : youths drown during ganesh idol immersion in tamil nadu \n"
     ]
    },
    {
     "name": "stdout",
     "output_type": "stream",
     "text": [
      "예측 요약 :  drown in mumbai forest fire at kolkata beach\n",
      "\n",
      "\n",
      "원문 : former england captain kevin pietersen took instagram share video bottle feeding milk adopted baby leopard raipur happiness beautiful baby leopard caption read pietersen animal activist campaigning killings rhinos revealed would retire professional cricket march \n",
      "실제 요약 : pietersen shares video with adopted baby leopard in india \n",
      "예측 요약 :  singer visits fans wearing kidney at his concert\n",
      "\n",
      "\n",
      "원문 : american girl named michelle carter convicted sending dozens text messages encouraging boyfriend conrad roy commit suicide time right ready need need like last time think one texts read \n",
      "실제 요약 : us girl convicted for boyfriend suicide \n",
      "예측 요약 :  us girl who wrote masturbation on her\n",
      "\n",
      "\n",
      "원문 : completing years international space station nasa humanoid robot sent back earth repairs developed collaboration general motors robot originally torso five fingers hands perform tasks like humans however addition legs started malfunctioning due issues \n",
      "실제 요약 : broken robot astronaut to be brought back from space station \n",
      "예측 요약 :  nasa captures space in space station\n",
      "\n",
      "\n"
     ]
    }
   ],
   "source": [
    "for i in range(50, 100):\n",
    "    print(\"원문 :\", seq2text(encoder_input_test[i]))\n",
    "    print(\"실제 요약 :\", seq2headlines(decoder_input_test[i]))\n",
    "    print(\"예측 요약 :\", decode_sequence(encoder_input_test[i].reshape(1, text_max_len)))\n",
    "    print(\"\\n\")"
   ]
  },
  {
   "cell_type": "markdown",
   "id": "governmental-broadcast",
   "metadata": {},
   "source": [
    "# 불안정한 요약문도 많지만 그럴싸한 요약문이 생성되기도 함"
   ]
  },
  {
   "cell_type": "markdown",
   "id": "pleasant-spiritual",
   "metadata": {},
   "source": [
    "***"
   ]
  },
  {
   "cell_type": "markdown",
   "id": "hundred-elizabeth",
   "metadata": {},
   "source": [
    "# 추출적 요약\n",
    "\n",
    "## 추출 방식을 사용하는 만큼 전처리된 데이터 대신에 원본 데이터에서 추출을 진행"
   ]
  },
  {
   "cell_type": "code",
   "execution_count": 50,
   "id": "flying-official",
   "metadata": {},
   "outputs": [
    {
     "data": {
      "text/html": [
       "<div>\n",
       "<style scoped>\n",
       "    .dataframe tbody tr th:only-of-type {\n",
       "        vertical-align: middle;\n",
       "    }\n",
       "\n",
       "    .dataframe tbody tr th {\n",
       "        vertical-align: top;\n",
       "    }\n",
       "\n",
       "    .dataframe thead th {\n",
       "        text-align: right;\n",
       "    }\n",
       "</style>\n",
       "<table border=\"1\" class=\"dataframe\">\n",
       "  <thead>\n",
       "    <tr style=\"text-align: right;\">\n",
       "      <th></th>\n",
       "      <th>headlines</th>\n",
       "      <th>text</th>\n",
       "    </tr>\n",
       "  </thead>\n",
       "  <tbody>\n",
       "    <tr>\n",
       "      <th>13416</th>\n",
       "      <td>Anything is possible: Kohli shares pic of phys...</td>\n",
       "      <td>Team India captain Virat Kohli on Monday took ...</td>\n",
       "    </tr>\n",
       "    <tr>\n",
       "      <th>73463</th>\n",
       "      <td>Doctor found dead at St Stephen's Hospital in ...</td>\n",
       "      <td>The body of a 26-year-old doctor working at De...</td>\n",
       "    </tr>\n",
       "    <tr>\n",
       "      <th>52834</th>\n",
       "      <td>Don't remember the National Anthem completely:...</td>\n",
       "      <td>Aligarh Mayor Mohammed Furqan on Wednesday con...</td>\n",
       "    </tr>\n",
       "    <tr>\n",
       "      <th>1124</th>\n",
       "      <td>Let us not overreact please: Rahul Dravid on P...</td>\n",
       "      <td>Reacting to Hardik Pandya and KL Rahul being s...</td>\n",
       "    </tr>\n",
       "    <tr>\n",
       "      <th>58394</th>\n",
       "      <td>Terrorism a state policy for one of our neighb...</td>\n",
       "      <td>In an apparent reference to Pakistan, Vice Pre...</td>\n",
       "    </tr>\n",
       "    <tr>\n",
       "      <th>65857</th>\n",
       "      <td>Samsung CEO resigns citing 'unprecedented crisis'</td>\n",
       "      <td>Samsung Electronics' CEO Kwon Oh-hyun has anno...</td>\n",
       "    </tr>\n",
       "    <tr>\n",
       "      <th>65361</th>\n",
       "      <td>Singer Ed Sheeran injures arm, may affect his ...</td>\n",
       "      <td>Singer Ed Sheeran has revealed that he met wit...</td>\n",
       "    </tr>\n",
       "    <tr>\n",
       "      <th>14343</th>\n",
       "      <td>'Queen' director got drunk, forcibly tried to ...</td>\n",
       "      <td>An actress, who chose to stay anonymous, accus...</td>\n",
       "    </tr>\n",
       "    <tr>\n",
       "      <th>6061</th>\n",
       "      <td>Infosys to sell its stake in Israel's CloudEnd...</td>\n",
       "      <td>India's second-largest IT services firm Infosy...</td>\n",
       "    </tr>\n",
       "    <tr>\n",
       "      <th>30029</th>\n",
       "      <td>Sony becomes largest music publisher after $2....</td>\n",
       "      <td>Japan's Sony on Tuesday said it would pay abou...</td>\n",
       "    </tr>\n",
       "  </tbody>\n",
       "</table>\n",
       "</div>"
      ],
      "text/plain": [
       "                                               headlines  \\\n",
       "13416  Anything is possible: Kohli shares pic of phys...   \n",
       "73463  Doctor found dead at St Stephen's Hospital in ...   \n",
       "52834  Don't remember the National Anthem completely:...   \n",
       "1124   Let us not overreact please: Rahul Dravid on P...   \n",
       "58394  Terrorism a state policy for one of our neighb...   \n",
       "65857  Samsung CEO resigns citing 'unprecedented crisis'   \n",
       "65361  Singer Ed Sheeran injures arm, may affect his ...   \n",
       "14343  'Queen' director got drunk, forcibly tried to ...   \n",
       "6061   Infosys to sell its stake in Israel's CloudEnd...   \n",
       "30029  Sony becomes largest music publisher after $2....   \n",
       "\n",
       "                                                    text  \n",
       "13416  Team India captain Virat Kohli on Monday took ...  \n",
       "73463  The body of a 26-year-old doctor working at De...  \n",
       "52834  Aligarh Mayor Mohammed Furqan on Wednesday con...  \n",
       "1124   Reacting to Hardik Pandya and KL Rahul being s...  \n",
       "58394  In an apparent reference to Pakistan, Vice Pre...  \n",
       "65857  Samsung Electronics' CEO Kwon Oh-hyun has anno...  \n",
       "65361  Singer Ed Sheeran has revealed that he met wit...  \n",
       "14343  An actress, who chose to stay anonymous, accus...  \n",
       "6061   India's second-largest IT services firm Infosy...  \n",
       "30029  Japan's Sony on Tuesday said it would pay abou...  "
      ]
     },
     "execution_count": 50,
     "metadata": {},
     "output_type": "execute_result"
    }
   ],
   "source": [
    "urllib.request.urlretrieve(\"https://raw.githubusercontent.com/sunnysai12345/News_Summary/master/news_summary_more.csv\", filename=\"news_summary_more.csv\")\n",
    "data_ = pd.read_csv('news_summary_more.csv', encoding='iso-8859-1')\n",
    "data_.sample(10)"
   ]
  },
  {
   "cell_type": "code",
   "execution_count": 51,
   "id": "allied-defeat",
   "metadata": {
    "scrolled": false
   },
   "outputs": [
    {
     "name": "stdout",
     "output_type": "stream",
     "text": [
      "Original:\n",
      "Saurav Kant, an alumnus of upGrad and IIIT-B's PG Program in Machine learning and Artificial Intelligence, was a Sr Systems Engineer at Infosys with almost 5 years of work experience. The program and upGrad's 360-degree career support helped him transition to a Data Scientist at Tech Mahindra with 90% salary hike. upGrad's Online Power Learning has powered 3 lakh+ careers.\n",
      "\n",
      "Summary:\n",
      "upGrad's Online Power Learning has powered 3 lakh+ careers.\n",
      "\n",
      "\n",
      "Original:\n",
      "Kunal Shah's credit card bill payment platform, CRED, gave users a chance to win free food from Swiggy for one year. Pranav Kaushik, a Delhi techie, bagged this reward after spending 2000 CRED coins. Users get one CRED coin per rupee of bill paid, which can be used to avail rewards from brands like Ixigo, BookMyShow, UberEats, Cult.Fit and more.\n",
      "\n",
      "Summary:\n",
      "Users get one CRED coin per rupee of bill paid, which can be used to avail rewards from brands like Ixigo, BookMyShow, UberEats, Cult.Fit and more.\n",
      "\n",
      "\n",
      "Original:\n",
      "New Zealand defeated India by 8 wickets in the fourth ODI at Hamilton on Thursday to win their first match of the five-match ODI series. India lost an international match under Rohit Sharma's captaincy after 12 consecutive victories dating back to March 2018. The match witnessed India getting all out for 92, their seventh lowest total in ODI cricket history.\n",
      "\n",
      "Summary:\n",
      "The match witnessed India getting all out for 92, their seventh lowest total in ODI cricket history.\n",
      "\n",
      "\n",
      "Original:\n",
      "With Aegon Life iTerm Insurance plan, customers can enjoy tax benefits on your premiums paid and save up to Ã¢ÂÂ¹46,800^ on taxes. The plan provides life cover up to the age of 100 years. Also, customers have options to insure against Critical Illnesses, Disability and Accidental Death Benefit Rider with a life cover up to the age of 80 years.\n",
      "\n",
      "Summary:\n",
      "Also, customers have options to insure against Critical Illnesses, Disability and Accidental Death Benefit Rider with a life cover up to the age of 80 years.\n",
      "\n",
      "\n",
      "Original:\n",
      "Speaking about the sexual harassment allegations against Rajkumar Hirani, Sonam Kapoor said, \"I've known Hirani for many years...What if it's not true, the [#MeToo] movement will get derailed.\" \"In the #MeToo movement, I always believe a woman. But in this case, we need to reserve our judgment,\" she added. Hirani has been accused by an assistant who worked in 'Sanju'.\n",
      "\n",
      "Summary:\n",
      "Speaking about the sexual harassment allegations against Rajkumar Hirani, Sonam Kapoor said, \"I've known Hirani for many years...What if it's not true, the [#MeToo] movement will get derailed.\" \"In the #MeToo movement, I always believe a woman.\n",
      "\n",
      "\n",
      "Original:\n",
      "Pakistani singer Rahat Fateh Ali Khan has denied receiving any notice from the Enforcement Directorate over allegedly smuggling foreign currency out of India. \"It would have been better if the authorities would have served the notice first if any and then publicised this,\" reads a press release issued on behalf of Rahat. The statement further called the allegation \"bizarre\".\n",
      "\n",
      "Summary:\n",
      "Pakistani singer Rahat Fateh Ali Khan has denied receiving any notice from the Enforcement Directorate over allegedly smuggling foreign currency out of India.\n",
      "\n",
      "\n",
      "Original:\n",
      "India recorded their lowest ODI total in New Zealand after getting all out for 92 runs in 30.5 overs in the fourth ODI at Hamilton on Thursday. Seven of India's batsmen were dismissed for single-digit scores, while their number ten batsman Yuzvendra Chahal top-scored with 18*(37). India's previous lowest ODI total in New Zealand was 108.\n",
      "\n",
      "Summary:\n",
      "India's previous lowest ODI total in New Zealand was 108.\n",
      "\n",
      "\n",
      "Original:\n",
      "Weeks after ex-CBI Director Alok Verma told the Department of Personnel and Training to consider him retired, the Home Ministry asked him to join work on the last day of his fixed tenure as Director on Thursday. The ministry directed him to immediately join as DG, Fire Services, the post he was transferred to after his removal as CBI chief.\n",
      "\n",
      "Summary:\n",
      "Weeks after ex-CBI Director Alok Verma told the Department of Personnel and Training to consider him retired, the Home Ministry asked him to join work on the last day of his fixed tenure as Director on Thursday.\n",
      "\n",
      "\n",
      "Original:\n",
      "Andhra Pradesh CM N Chandrababu Naidu has said, \"When I met then US President Bill Clinton, I addressed him as Mr Clinton, not as 'sir'. (PM Narendra) Modi is my junior in politics...I addressed him as sir 10 times.\" \"I did this...to satisfy his ego in the hope that he will do justice to the state,\" he added.\n",
      "\n",
      "Summary:\n",
      "Andhra Pradesh CM N Chandrababu Naidu has said, \"When I met then US President Bill Clinton, I addressed him as Mr Clinton, not as 'sir'.\n",
      "\n",
      "\n",
      "Original:\n",
      "Congress candidate Shafia Zubair won the Ramgarh Assembly seat in Rajasthan, by defeating BJP's Sukhwant Singh with a margin of 12,228 votes in the bypoll. With this victory, Congress has taken its total to 100 seats in the 200-member assembly. The election to the Ramgarh seat was delayed due to the death of sitting MLA and BSP candidate Laxman Singh.\n",
      "\n",
      "Summary:\n",
      "Congress candidate Shafia Zubair won the Ramgarh Assembly seat in Rajasthan, by defeating BJP's Sukhwant Singh with a margin of 12,228 votes in the bypoll.\n",
      "\n",
      "\n",
      "Original:\n",
      "Two minor cousins in Uttar Pradesh's Gorakhpur were allegedly repeatedly burnt with tongs and forced to eat human excreta by their family for being friends with two boys from the same school. The cousins revealed their ordeal to the police and Child Welfare Committee after being brought back to Gorakhpur from Nepal, where they had fled to escape the torture.\n",
      "\n",
      "Summary:\n",
      "Two minor cousins in Uttar Pradesh's Gorakhpur were allegedly repeatedly burnt with tongs and forced to eat human excreta by their family for being friends with two boys from the same school.\n",
      "\n",
      "\n",
      "Original:\n",
      "Isha Ghosh, an 81-year-old member of Bharat Scouts and Guides (BSG), has been imparting physical and mental training to schoolchildren in Jharkhand for several decades. Chaibasa-based Ghosh reportedly walks seven kilometres daily and spends eight hours conducting physical training, apart from climbing and yoga sessions. She says, \"One should do something for society till one's last breath.\"\n",
      "\n",
      "Summary:\n",
      "Isha Ghosh, an 81-year-old member of Bharat Scouts and Guides (BSG), has been imparting physical and mental training to schoolchildren in Jharkhand for several decades.\n",
      "\n",
      "\n",
      "Original:\n",
      "Urging saints and seers at the Kumbh Mela to quit smoking, Yoga guru Ramdev said, \"We follow Ram and Krishna who never smoked in their life then why should we?\" Making them take a pledge to quit tobacco, he collected chillum (clay pipe) from several sadhus. He said he will deposit the chillums for display at a museum he'll build.\n",
      "\n",
      "Summary:\n",
      "Urging saints and seers at the Kumbh Mela to quit smoking, Yoga guru Ramdev said, \"We follow Ram and Krishna who never smoked in their life then why should we?\" Making them take a pledge to quit tobacco, he collected chillum (clay pipe) from several sadhus.\n",
      "\n",
      "\n",
      "Original:\n",
      "Former stripper and regional sales director of a pharmaceutical company, Sunrise Lee, gave a doctor a lap dance in a nightclub to persuade him to prescribe an addictive fentanyl spray in 2012, the company's sales representative told a US court. She said she saw Lee \"sitting on [doctor's] lap, kind of bouncing around.\" Lee has been accused of bribing doctors.\n",
      "\n",
      "Summary:\n",
      "Former stripper and regional sales director of a pharmaceutical company, Sunrise Lee, gave a doctor a lap dance in a nightclub to persuade him to prescribe an addictive fentanyl spray in 2012, the company's sales representative told a US court.\n",
      "\n",
      "\n",
      "Original:\n",
      "Reliance Industries' Chairman Mukesh Ambani's daughter Isha Ambani, who got married last month, said she only cried at her 'bidaai' because she felt peer pressure as everyone was crying, especially her parents. \"I was emotional too but everyone around me would cry all the time,\" she added. \"It was a very emotional affair for everyone in my family,\" said Isha.\n",
      "\n",
      "Summary:\n",
      "\"It was a very emotional affair for everyone in my family,\" said Isha.\n",
      "\n",
      "\n",
      "Original:\n",
      "Louis Vuitton owner LVMH, which makes high-end beverages like MoÃÂ«t & Chandon champagne and Hennessy cognac, said it's stockpiling four months' worth of wine and spirits in UK in preparation for Brexit. \"We're ready for worst case scenario if there are difficulties with deliveries,\" the French luxury giant said. The UK is scheduled to leave the EU on March 29.\n",
      "\n",
      "Summary:\n",
      "Louis Vuitton owner LVMH, which makes high-end beverages like MoÃÂ«t & Chandon champagne and Hennessy cognac, said it's stockpiling four months' worth of wine and spirits in UK in preparation for Brexit.\n",
      "\n",
      "\n",
      "Original:\n",
      "Filmmaker Karan Johar and actress Tabu turned showstoppers for Gaurav Gupta on the opening night of LakmÃÂ© Fashion Week Summer/ Resort 2019. While Johar wore a red sequinned jacket with black pants, Tabu walked the ramp in a grey embellished gown. The fashion show, which began on January 29, will continue till February 3.\n",
      "\n",
      "Summary:\n",
      "Filmmaker Karan Johar and actress Tabu turned showstoppers for Gaurav Gupta on the opening night of LakmÃÂ© Fashion Week Summer/ Resort 2019.\n",
      "\n",
      "\n",
      "Original:\n",
      "In a jibe at Congress President Rahul Gandhi, PM Narendra Modi on Wednesday said those on \"bail will have to go to jail.\" PM Modi added, \"He is out on bail and his associates too are facing charges...I know they will be convicted one day.\" The PM claimed he'd waged a war on corruption because he's from a common household. \n",
      "\n",
      "Summary:\n",
      "\n",
      "\n",
      "\n",
      "Original:\n",
      "Days after he threatened to step down from his post if Congress MLAs continue \"crossing the line,\" Karnataka Chief Minister HD Kumaraswamy accused them of taking potshots and asked, \"How many more days can I tolerate such stuff?\" Kumaraswamy, who made the statements after a Congress MLA demanded that Siddaramaiah be made CM again, said, \"Power is ephemeral.\"\n",
      "\n",
      "Summary:\n",
      "\n",
      "\n",
      "\n",
      "Original:\n",
      "Union Minister Dharmendra Pradhan on Wednesday claimed the illegal mining mafia in Odisha operates under the control of CM Naveen Patnaik and state Congress chief Niranjan Patnaik. He added, \"The time has come for the people of Odisha to put a full stop to their activities...The time has come for us to ask for an explanation from this corrupt government.\"\n",
      "\n",
      "Summary:\n",
      "Union Minister Dharmendra Pradhan on Wednesday claimed the illegal mining mafia in Odisha operates under the control of CM Naveen Patnaik and state Congress chief Niranjan Patnaik.\n",
      "\n",
      "\n",
      "Original:\n",
      "Claiming there is a dearth of ideas among opposition parties, Prime Minister Narendra Modi on Wednesday said, \"The opposition talks only about Modi the whole day, I suspect they even dream about me.\" PM Modi, who was addressing the New India Youth Conclave inÃ¢ÂÂ Surat, added that the opposition parties have only one agenda which is \"Modi\". \n",
      "\n",
      "Summary:\n",
      "\n",
      "\n",
      "\n",
      "Original:\n",
      "The Indian Space Research Organisation on Wednesday unveiled Human Space Flight Centre in Bengaluru for its Ã¢ÂÂ¹10,000-crore manned space mission 'Gaganyaan' scheduled for 2021. ISRO said the centre will be responsible for development of engineering systems for crew survival in space and crew selection and training. It'll also pursue activities for sustained human space flight missions, ISRO added.\n",
      "\n",
      "Summary:\n",
      "It'll also pursue activities for sustained human space flight missions, ISRO added.\n",
      "\n",
      "\n",
      "Original:\n",
      "At least 12 people have been killed and 170 others have been injured in Saudi Arabia this week due to flooding from heavy rain. The emergency services rescued 271 people from the flooded areas, more than half of them in Tabuk. Heavy rains hit mainly western and northwestern parts of Saudi Arabia, near its border with Jordan.\n",
      "\n",
      "Summary:\n",
      "At least 12 people have been killed and 170 others have been injured in Saudi Arabia this week due to flooding from heavy rain.\n",
      "\n",
      "\n",
      "Original:\n",
      "Reliance Industries' Chairman Mukesh Ambani's daughter Isha Ambani has featured on the cover of the February edition of Vogue India. She's dressed in a white shirt dress and black ruffled skirt by Australian designer Toni Maticevski, while accessorising her look with a Misho ring. In the cover story on her, Isha has spoken about her work and life after marriage.\n",
      " \n",
      "\n",
      "Summary:\n",
      "Reliance Industries' Chairman Mukesh Ambani's daughter Isha Ambani has featured on the cover of the February edition of Vogue India.\n",
      "\n",
      "\n",
      "Original:\n",
      "Indian Oil Corporation on Wednesday said it's looking for an annual deal to buy US crude as it seeks to broaden oil purchasing options. This comes amid uncertainties over Iran imports. The US had in November granted a six-month waiver to India from sanctions against Iran and restricted the country's monthly intake of Iranian oil to 3,00,000 barrels per day.\n",
      "\n",
      "\n",
      "\n",
      "Summary:\n",
      "The US had in November granted a six-month waiver to India from sanctions against Iran and restricted the country's monthly intake of Iranian oil to 3,00,000 barrels per day.\n",
      "\n",
      "\n",
      "Original:\n",
      "Former Windies fast bowler Curtly Ambrose dismissed seven Australian batsmen within a span of 32 balls giving away just one run, in a Test match on January 30, 1993. Ambrose's spell helped his team bowl out Australia for 119 in the first innings, after being 85 for 2 at one point. Ambrose ended with first-innings figures of 18-9-25-7.\n",
      "\n",
      "Summary:\n",
      "Ambrose ended with first-innings figures of 18-9-25-7.\n",
      "\n",
      "\n",
      "Original:\n",
      "A London zoo is offering people to name a cockroach after their exes on Valentine's Day for ÃÂ£1.50 (nearly Ã¢ÂÂ¹140). \"For those that don't quite require revenge, there's another way to make you feel better about getting back at your ex,\" the zoo said in a statement. The names will appear on zoo's 'roach board' on February 14. \n",
      "\n",
      "Summary:\n",
      "The names will appear on zoo's 'roach board' on February 14.\n",
      "\n",
      "\n",
      "Original:\n",
      "Stand-in captain Rohit Sharma has become the 14th Indian cricketer to play 200 ODIs, achieving the feat after taking the field against New Zealand in fourth ODI at Hamilton on Thursday. The 31-year-old had made his ODI debut on June 23, 2007, against Ireland in Belfast. Rohit scored 7,799 runs in his first 199 ODIs at an average of 48.14.\n",
      "\n",
      "Summary:\n",
      "Rohit scored 7,799 runs in his first 199 ODIs at an average of 48.14.\n",
      "\n",
      "\n",
      "Original:\n",
      "Batsman Shubman Gill has become the 227th cricketer to represent India in ODI cricket, achieving the feat against New Zealand in the fourth ODI at Hamilton on Thursday. The 19-year-old received his maiden ODI cap from former captain MS Dhoni. Notably, Shubman was named Player of the Under-19 World Cup in New Zealand last year.\n",
      "\n",
      "Summary:\n",
      "Notably, Shubman was named Player of the Under-19 World Cup in New Zealand last year.\n",
      "\n",
      "\n",
      "Original:\n",
      "Investigators searching for a lost plane carrying Argentine forward Emiliano Sala found two seat cushions on French coast that \"likely\" belonged to the aircraft. The investigators said they'll now launch an underwater seabed search for aircraft wreckage. The Cardiff City footballer was travelling from France's Nantes to Wales' Cardiff when his plane disappeared over English Channel on January 21.\n",
      "\n",
      "Summary:\n",
      "Investigators searching for a lost plane carrying Argentine forward Emiliano Sala found two seat cushions on French coast that \"likely\" belonged to the aircraft.\n",
      "\n",
      "\n",
      "Original:\n",
      "Italian third division football side Lucchese's head coach Giancarlo Favarin has been banned for five months for headbutting Alessandria's assistant coach Gaetano Mancino during a brawl following the teams' 2-2 draw on Sunday. Mancino was caught off-balance and knocked to the ground after the headbutt. Earlier in the match, Favarin had told his own player to break an opponent's legs.\n",
      "\n",
      "Summary:\n",
      "Italian third division football side Lucchese's head coach Giancarlo Favarin has been banned for five months for headbutting Alessandria's assistant coach Gaetano Mancino during a brawl following the teams' 2-2 draw on Sunday.\n",
      "\n",
      "\n",
      "Original:\n",
      "Cyclists taking part in National Track Cycling Championship in Jaipur opted to sleep on the floor inside the stadium instead of hotels over expensive cycles. The organisers had booked hotels but they didn't have the provision for cyclists to keep their bikes inside. A national gold medallist said their cycles cost between Ã¢ÂÂ¹5-9 lakh and once damaged, they become non-repairable. \n",
      "\n",
      "Summary:\n",
      "Cyclists taking part in National Track Cycling Championship in Jaipur opted to sleep on the floor inside the stadium instead of hotels over expensive cycles.\n",
      "\n",
      "\n",
      "Original:\n",
      "Silvia Grecco, a 56-year-old Brazilian mother narrates her local football team Palmeiras' matches live to her 12-year-old blind and autistic son Nickollas from the stands. \"I describe details: this player is wearing short sleeves...colour of...football boots, hair colour...Everything I see and feel, I tell him, even when I need to curse the referee!\" Grecco said after a recent match.\n",
      "\n",
      "Summary:\n",
      "Silvia Grecco, a 56-year-old Brazilian mother narrates her local football team Palmeiras' matches live to her 12-year-old blind and autistic son Nickollas from the stands.\n",
      "\n",
      "\n",
      "Original:\n",
      "A TechCrunch report has claimed that IndiaÃ¢ÂÂs largest bank SBI secured a passwordless server \"overnight\" on being alerted it allowed anyone to access phone numbers, bank balances, and transactions of millions of its customers. The Mumbai-based server was containing two months of data from SBI Quick, an SMS and call-based system used to request basic information about accounts, TechCrunch revealed.\n",
      "\n",
      "Summary:\n",
      "A TechCrunch report has claimed that IndiaÃ¢ÂÂs largest bank SBI secured a passwordless server \"overnight\" on being alerted it allowed anyone to access phone numbers, bank balances, and transactions of millions of its customers.\n",
      "\n",
      "\n",
      "Original:\n",
      "Rahul Gandhi has replied to Goa CM Manohar Parrikar's letter, which accused the Congress President of using his \"visit to an ailing man for political gains\". \"He's under immense pressure from the PM after our meeting and needs to demonstrate his loyalty by attacking me,\" Gandhi wrote in his letter. Parrikar had clarified he didn't discuss Rafale deal with Rahul.\n",
      "\n",
      "Summary:\n",
      "Rahul Gandhi has replied to Goa CM Manohar Parrikar's letter, which accused the Congress President of using his \"visit to an ailing man for political gains\".\n",
      "\n",
      "\n",
      "Original:\n",
      "Twenty-seven-year-old Mohammed Mahuwala was arrested in Indore on Wednesday for allegedly cheating e-commerce giant Amazon of nearly Ã¢ÂÂ¹30 lakh. Mahuwala was a member of a gang who ordered costly gadgets from Amazon. \"[They] used to get refund of the amount paid...by saying the parcel...was empty. In reality, these devices were taken out from parcel and sold...to local shopkeepers,\" said police.\n",
      "\n",
      "Summary:\n",
      "Twenty-seven-year-old Mohammed Mahuwala was arrested in Indore on Wednesday for allegedly cheating e-commerce giant Amazon of nearly Ã¢ÂÂ¹30 lakh.\n",
      "Mahuwala was a member of a gang who ordered costly gadgets from Amazon.\n",
      "\n",
      "\n",
      "Original:\n",
      "AgustaWestland chopper scam co-accused Rajiv Saxena was extradited to India from UAE on Wednesday. He had been evading the Enforcement Directorate's summons claiming he was suffering from leukaemia but had moved an anti-money laundering court for anticipatory bail in December, stating he had never been summoned at his Dubai address. Saxena's lawyers alleged he had been \"illegally extradited\". \n",
      "\n",
      "Summary:\n",
      "AgustaWestland chopper scam co-accused Rajiv Saxena was extradited to India from UAE on Wednesday.\n",
      "\n",
      "\n",
      "Original:\n",
      "Afghan President Ashraf Ghani has said the \"keys to war\" are in Pakistan's Islamabad, Quetta and Rawalpindi, accusing the country of providing safe havens to militants, including those belonging to the Taliban. Ghani added the \"key to peace was in Afghanistan\". His comments came amid the talks between the US and the Taliban to end the 17-year war in Afghanistan.\n",
      "\n",
      "Summary:\n",
      "Afghan President Ashraf Ghani has said the \"keys to war\" are in Pakistan's Islamabad, Quetta and Rawalpindi, accusing the country of providing safe havens to militants, including those belonging to the Taliban.\n",
      "\n",
      "\n",
      "Original:\n",
      "A Singapore-based insurance agent has been jailed for two years and five months for threatening to harm his clients unless they paid him in bitcoins. The 36-year-old set up an email account, and signed the messages as 'Lord Voldemort', a fictional character from the Harry Potter series. Ye Lin Myint targeted about 33 people, including those who cancelled insurance policies.\n",
      "\n",
      "Summary:\n",
      "A Singapore-based insurance agent has been jailed for two years and five months for threatening to harm his clients unless they paid him in bitcoins.\n",
      "\n",
      "\n",
      "Original:\n",
      "Gabrielle Reilly, a 22-year-old US woman, created earrings for her Apple AirPods and put it up for sale online for $20 (about Ã¢ÂÂ¹1,500). \"I absolutely refuse to lose them (AirPods)...So I made earrings,\" she explained. The earrings, which took her over an hour to make, debuted in a video on Twitter that has since garnered over three million views.\n",
      "\n",
      "Summary:\n",
      "\"I absolutely refuse to lose them (AirPods)...So I made earrings,\" she explained.\n",
      "\n",
      "\n",
      "Original:\n",
      "Ex-ICICI Bank CEO Chanda Kochhar said she's \"utterly disappointed, hurt and shocked\" by the bank's decision to terminate her. Kochhar said she served ICICI for 34 years with utmost honesty and integrity and that ultimately truth will prevail. Adding that she hasn't been given a copy of the independent probe report, Kochhar said none of ICICI's credit decisions are unilateral\n",
      "\n",
      "Summary:\n",
      "Adding that she hasn't been given a copy of the independent probe report, Kochhar said none of ICICI's credit decisions are unilateral\n",
      "\n",
      "\n",
      "Original:\n",
      "Swedish multinational fast-fashion brand Hennes & Mauritz AB (H&M) has hired Christopher Wylie, the whistleblower who exposed Facebook's Cambridge Analytica data scandal. WylieÃ¢ÂÂs focus will be to help get better insights on customers, products and markets and support work on sustainable and ethical artificial intelligence, H&M spokesperson said. Wylie is a former employee of Cambridge Analytica.\n",
      "\n",
      "Summary:\n",
      "Swedish multinational fast-fashion brand Hennes & Mauritz AB (H&M) has hired Christopher Wylie, the whistleblower who exposed Facebook's Cambridge Analytica data scandal.\n",
      "\n",
      "\n",
      "Original:\n",
      "Micro-blogging platform Twitter is testing a new feature on Android to put news on the top of a user's timeline. \"With this update, weÃ¢ÂÂre making it easier for people to see news and stories their followers have been discussing,\" Product Manager Walter Gurzynski said. The feature comes alongside a prompt saying, \"Catch up on what's happened while you were away.\"\n",
      "\n",
      "Summary:\n",
      "Micro-blogging platform Twitter is testing a new feature on Android to put news on the top of a user's timeline.\n",
      "\n",
      "\n",
      "Original:\n",
      "Samsung has started mass producing its one terabyte 'embedded Universal Flash Storage (eUFS) 2.1' technology for \"use in next-generation mobile applications\", which it claims is the industry's first such eUFS. The company added the new eUFS will let smartphones store 260 10-minute videos shot in 4K UHD format. It'll be sized the same as the previous 512GB version, Samsung said.\n",
      "\n",
      "Summary:\n",
      "Samsung has started mass producing its one terabyte 'embedded Universal Flash Storage (eUFS) 2.1' technology for \"use in next-generation mobile applications\", which it claims is the industry's first such eUFS.\n",
      "\n",
      "\n",
      "Original:\n",
      "Prime Minister Narendra Modi on Wednesday said the people with 'negative mindset' are questioning him and his government for floating pro-poor schemes. He added negative mindset people are raising doubts about schemes such as building toilets and providing free gas connections to the poor. He further said that negative mentality laced with a vested interest still exists in the country.\n",
      "\n",
      "Summary:\n",
      "Prime Minister Narendra Modi on Wednesday said the people with 'negative mindset' are questioning him and his government for floating pro-poor schemes.\n",
      "\n",
      "\n",
      "Original:\n",
      "Union Minister Anantkumar Hegde took a dig at Congress President Rahul Gandhi by calling him a \"hybrid specimen\" who has no clue about religion. \"A father who's...Muslim, a mother who's...Christian and the son is supposed to be...Brahmin. How is that even possible?\" he said. He added such \"hybrid specimen\" cannot be found in any laboratory in the world.\n",
      "\n",
      "Summary:\n",
      "Union Minister Anantkumar Hegde took a dig at Congress President Rahul Gandhi by calling him a \"hybrid specimen\" who has no clue about religion.\n",
      "He added such \"hybrid specimen\" cannot be found in any laboratory in the world.\n",
      "\n",
      "\n",
      "Original:\n",
      "Several parts of the US are set to experience record low temperatures as the polar vortex hit the Upper Midwest, with more than 200 million people expected to experience below-freezing temperatures this week. Temperatures throughout the Upper Midwest are expected to be at least 20-40Ã¢ÂÂ below zero. Government offices and schools have been closed in several areas.\n",
      "\n",
      "Summary:\n",
      "Several parts of the US are set to experience record low temperatures as the polar vortex hit the Upper Midwest, with more than 200 million people expected to experience below-freezing temperatures this week.\n",
      "\n",
      "\n",
      "Original:\n",
      "The police on Wednesday registered cases against 13 persons, including a woman leader of Hindu Mahasabha, in Aligarh for firing at an effigy of Mahatma Gandhi with an air pistol. \"The incident took place in a house in Naurangabad locality of the city,\" Senior Superintendent of Police said. The video of the event went viral on social media, he added.\n",
      "\n",
      "Summary:\n",
      "The police on Wednesday registered cases against 13 persons, including a woman leader of Hindu Mahasabha, in Aligarh for firing at an effigy of Mahatma Gandhi with an air pistol.\n",
      "\n",
      "\n",
      "Original:\n",
      "Railway police has rescued a woman travelling on a train in Chennai who got her leg stuck inside the commode of a toilet. After being caught inside the commode hole, she struggled to remove her leg and following failed attempts, she shouted for help, reports said. Railway police used a cutter to pry open the commode and freed her leg.\n",
      "\n",
      "Summary:\n",
      "Railway police has rescued a woman travelling on a train in Chennai who got her leg stuck inside the commode of a toilet.\n",
      "\n",
      "\n",
      "Original:\n",
      "The US on Tuesday began returning asylum seekers to Mexico, sending back a migrant from a Central American nation and called the move a \"response to the illegal migration crisis\" faced by it. Under its Migrant Protection Protocols policy, the US will return certain migrants who cross into the country illegally back to Mexico while their asylum requests are processed.\n",
      "\n",
      "Summary:\n",
      "The US on Tuesday began returning asylum seekers to Mexico, sending back a migrant from a Central American nation and called the move a \"response to the illegal migration crisis\" faced by it.\n",
      "\n",
      "\n"
     ]
    }
   ],
   "source": [
    "count = 0\n",
    "for i in data_['text']:\n",
    "    print('Original:')\n",
    "    print(i)\n",
    "    print()\n",
    "    print('Summary:')\n",
    "    print(summarize(i, 0.5))\n",
    "    print()\n",
    "    print()\n",
    "    count += 1\n",
    "    if count == 50:\n",
    "        break"
   ]
  },
  {
   "cell_type": "markdown",
   "id": "bottom-monster",
   "metadata": {},
   "source": [
    "# 원본 데이터가 한두문장으로 짧은 만큼 추출율 자체를 절반이라고 할 수 있는 0.5로 설정해야만 추출이 실행됨"
   ]
  },
  {
   "cell_type": "markdown",
   "id": "sonic-faculty",
   "metadata": {},
   "source": [
    "# 대부분의 결과물은 첫 문장을 추출함"
   ]
  },
  {
   "cell_type": "markdown",
   "id": "completed-notion",
   "metadata": {},
   "source": [
    "# 추출된 문장은 원본을 그대로 추출한 만큼 문장 자체의 완성도는 있지만 원본 문장이 짧은 만큼 이것을 요약이라고 부를 수 있는지 의문\n",
    "# 위에서 LSTM을 통해 요약한 문장들은 불안정할지언정 내용을 의미있게 압축하고 있음\n",
    "# 뉴스의 특성상 주로 첫문장에 주요한 내용을 담는 만큼 첫 문장만 추출해도 요약 방식보다 중요 단어를 더 잘 담고 있음"
   ]
  },
  {
   "cell_type": "code",
   "execution_count": null,
   "id": "passive-active",
   "metadata": {},
   "outputs": [],
   "source": []
  }
 ],
 "metadata": {
  "kernelspec": {
   "display_name": "Python 3",
   "language": "python",
   "name": "python3"
  },
  "language_info": {
   "codemirror_mode": {
    "name": "ipython",
    "version": 3
   },
   "file_extension": ".py",
   "mimetype": "text/x-python",
   "name": "python",
   "nbconvert_exporter": "python",
   "pygments_lexer": "ipython3",
   "version": "3.7.9"
  }
 },
 "nbformat": 4,
 "nbformat_minor": 5
}
