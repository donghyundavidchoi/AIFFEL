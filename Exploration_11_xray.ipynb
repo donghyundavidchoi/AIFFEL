{
 "cells": [
  {
   "cell_type": "code",
   "execution_count": 380,
   "id": "impressed-arrival",
   "metadata": {},
   "outputs": [],
   "source": [
    "import os, re\n",
    "import random, math\n",
    "import numpy as np\n",
    "import tensorflow as tf\n",
    "import matplotlib.pyplot as plt\n",
    "import warnings \n",
    "warnings.filterwarnings(action='ignore')"
   ]
  },
  {
   "cell_type": "markdown",
   "id": "yellow-convention",
   "metadata": {},
   "source": [
    "# 데이터 로드"
   ]
  },
  {
   "cell_type": "code",
   "execution_count": 381,
   "id": "suffering-exhibit",
   "metadata": {},
   "outputs": [
    {
     "name": "stdout",
     "output_type": "stream",
     "text": [
      "/aiffel/aiffel/exp11\n"
     ]
    }
   ],
   "source": [
    "# 데이터 로드할 때 빠르게 로드할 수 있도록하는 설정 변수\n",
    "AUTOTUNE = tf.data.experimental.AUTOTUNE\n",
    "\n",
    "# 데이터 경로 변수\n",
    "ROOT_PATH = os.path.join(os.getenv('HOME'), 'aiffel/exp11')\n",
    "TRAIN_PATH = ROOT_PATH + '/chest_xray/data/train/*/*' # *은 모든 디렉토리와 파일을 의미합니다.\n",
    "VAL_PATH = ROOT_PATH + '/chest_xray/data/val/*/*'\n",
    "TEST_PATH = ROOT_PATH + '/chest_xray/data/test/*/*'\n",
    "\n",
    "print(ROOT_PATH)"
   ]
  },
  {
   "cell_type": "markdown",
   "id": "facial-porter",
   "metadata": {},
   "source": [
    "# 파일 수 확인"
   ]
  },
  {
   "cell_type": "code",
   "execution_count": 382,
   "id": "respective-objective",
   "metadata": {},
   "outputs": [
    {
     "name": "stdout",
     "output_type": "stream",
     "text": [
      "5216\n",
      "624\n",
      "16\n"
     ]
    }
   ],
   "source": [
    "train_filenames = tf.io.gfile.glob(TRAIN_PATH)\n",
    "test_filenames = tf.io.gfile.glob(TEST_PATH)\n",
    "val_filenames = tf.io.gfile.glob(VAL_PATH)\n",
    "\n",
    "print(len(train_filenames))\n",
    "print(len(test_filenames))\n",
    "print(len(val_filenames))"
   ]
  },
  {
   "cell_type": "markdown",
   "id": "right-accounting",
   "metadata": {},
   "source": [
    "# 트레인  데이터와 벨리데이션 데이터의 불균형이 심각하여 8:2로 다시 나눠줍니다."
   ]
  },
  {
   "cell_type": "code",
   "execution_count": 383,
   "id": "practical-plaza",
   "metadata": {},
   "outputs": [
    {
     "name": "stdout",
     "output_type": "stream",
     "text": [
      "4185\n",
      "1047\n"
     ]
    }
   ],
   "source": [
    "# train 데이터와 validation 데이터를 모두 filenames에 담습니다\n",
    "filenames = tf.io.gfile.glob(TRAIN_PATH)\n",
    "filenames.extend(tf.io.gfile.glob(VAL_PATH))\n",
    "\n",
    "# 모아진 filenames를 8:2로 나눕니다\n",
    "train_size = math.floor(len(filenames)*0.8)\n",
    "random.seed(8)\n",
    "random.shuffle(filenames)\n",
    "train_filenames = filenames[:train_size]\n",
    "val_filenames = filenames[train_size:]\n",
    "\n",
    "print(len(train_filenames))\n",
    "print(len(val_filenames))"
   ]
  },
  {
   "cell_type": "code",
   "execution_count": 384,
   "id": "cordless-connecticut",
   "metadata": {
    "scrolled": true
   },
   "outputs": [
    {
     "name": "stdout",
     "output_type": "stream",
     "text": [
      "Normal image path\n",
      "/aiffel/aiffel/exp11/chest_xray/data/train/NORMAL/IM-0447-0001.jpeg\n",
      "Pneumonia image path\n",
      "/aiffel/aiffel/exp11/chest_xray/data/train/PNEUMONIA/person614_bacteria_2483.jpeg\n"
     ]
    }
   ],
   "source": [
    "print(f'Normal image path\\n{filenames[0]}')\n",
    "print(f'Pneumonia image path\\n{filenames[2000]}')"
   ]
  },
  {
   "cell_type": "markdown",
   "id": "finite-pickup",
   "metadata": {},
   "source": [
    "# 양성과 음성 사진 수 확인"
   ]
  },
  {
   "cell_type": "code",
   "execution_count": 385,
   "id": "cultural-geography",
   "metadata": {},
   "outputs": [
    {
     "name": "stdout",
     "output_type": "stream",
     "text": [
      "Normal images count in training set: 1070\n",
      "Pneumonia images count in training set: 3115\n"
     ]
    }
   ],
   "source": [
    "COUNT_NORMAL = len([filename for filename in train_filenames if \"NORMAL\" in filename])\n",
    "print(f\"Normal images count in training set: {COUNT_NORMAL}\")\n",
    "\n",
    "\n",
    "COUNT_PNEUMONIA = len([filename for filename in train_filenames if \"PNEUMONIA\" in filename])\n",
    "print(f\"Pneumonia images count in training set: {COUNT_PNEUMONIA}\")"
   ]
  },
  {
   "cell_type": "code",
   "execution_count": 386,
   "id": "polar-threshold",
   "metadata": {},
   "outputs": [],
   "source": [
    "train_list_ds = tf.data.Dataset.from_tensor_slices(train_filenames)\n",
    "val_list_ds = tf.data.Dataset.from_tensor_slices(val_filenames)"
   ]
  },
  {
   "cell_type": "code",
   "execution_count": 8,
   "id": "activated-coffee",
   "metadata": {
    "scrolled": true
   },
   "outputs": [
    {
     "name": "stdout",
     "output_type": "stream",
     "text": [
      "Training images count: 4185\n",
      "Validating images count: 1047\n"
     ]
    }
   ],
   "source": [
    "TRAIN_IMG_COUNT = tf.data.experimental.cardinality(train_list_ds).numpy()\n",
    "print(f\"Training images count: {TRAIN_IMG_COUNT}\")\n",
    "\n",
    "VAL_IMG_COUNT = tf.data.experimental.cardinality(val_list_ds).numpy()\n",
    "print(f\"Validating images count: {VAL_IMG_COUNT}\")"
   ]
  },
  {
   "cell_type": "markdown",
   "id": "suitable-kelly",
   "metadata": {},
   "source": [
    "# 사진 라벨링"
   ]
  },
  {
   "cell_type": "code",
   "execution_count": 387,
   "id": "dressed-press",
   "metadata": {},
   "outputs": [],
   "source": [
    "# 파일 경로의 끝에서 두번째 부분을 확인하면 양성과 음성을 구분할 수 있습니다\n",
    "def get_label(file_path):\n",
    "    parts = tf.strings.split(file_path, os.path.sep)\n",
    "    return parts[-2] == \"PNEUMONIA\"   # 폐렴이면 양성(True), 노말이면 음성(False)"
   ]
  },
  {
   "cell_type": "code",
   "execution_count": 10,
   "id": "ambient-island",
   "metadata": {},
   "outputs": [],
   "source": [
    "# 이미지를 알맞은 형식으로 바꿉니다.\n",
    "\n",
    "# X-RAY 이미지 사이즈 변수\n",
    "IMAGE_SIZE = [180, 180]\n",
    "\n",
    "def decode_img(img):\n",
    "    img = tf.image.decode_jpeg(img, channels=3) # 이미지를 uint8 tensor로 수정\n",
    "    img = tf.image.convert_image_dtype(img, tf.float32) # float32 타입으로 수정\n",
    "    img = tf.image.resize(img, IMAGE_SIZE) # 이미지 사이즈를 IMAGE_SIZE로 수정\n",
    "    return img\n",
    "\n",
    "# 이미지 파일의 경로를 입력하면 이미지와 라벨을 읽어옵니다.\n",
    "def process_path(file_path):\n",
    "    label = get_label(file_path) # 라벨 검출\n",
    "    img = tf.io.read_file(file_path) # 이미지 읽기\n",
    "    img = decode_img(img) # 이미지를 알맞은 형식으로 수정\n",
    "    return img, label"
   ]
  },
  {
   "cell_type": "code",
   "execution_count": 11,
   "id": "valued-coverage",
   "metadata": {},
   "outputs": [],
   "source": [
    "train_ds = train_list_ds.map(process_path, num_parallel_calls=AUTOTUNE)\n",
    "val_ds = val_list_ds.map(process_path, num_parallel_calls=AUTOTUNE)"
   ]
  },
  {
   "cell_type": "code",
   "execution_count": 12,
   "id": "mounted-maple",
   "metadata": {},
   "outputs": [
    {
     "name": "stdout",
     "output_type": "stream",
     "text": [
      "Image shape:  (180, 180, 3)\n",
      "Label:  True\n"
     ]
    }
   ],
   "source": [
    "for image, label in train_ds.take(1):\n",
    "    print(\"Image shape: \", image.numpy().shape)\n",
    "    print(\"Label: \", label.numpy())"
   ]
  },
  {
   "cell_type": "code",
   "execution_count": 13,
   "id": "stretch-threshold",
   "metadata": {},
   "outputs": [
    {
     "name": "stdout",
     "output_type": "stream",
     "text": [
      "624\n"
     ]
    }
   ],
   "source": [
    "BATCH_SIZE = 32\n",
    "\n",
    "test_list_ds = tf.data.Dataset.list_files(TEST_PATH)\n",
    "TEST_IMAGE_COUNT = tf.data.experimental.cardinality(test_list_ds).numpy()\n",
    "test_ds = test_list_ds.map(process_path, num_parallel_calls=AUTOTUNE)\n",
    "test_ds = test_ds.batch(BATCH_SIZE)\n",
    "\n",
    "print(TEST_IMAGE_COUNT)"
   ]
  },
  {
   "cell_type": "code",
   "execution_count": 14,
   "id": "classical-sperm",
   "metadata": {},
   "outputs": [],
   "source": [
    "def prepare_for_training(ds, shuffle_buffer_size=1000):\n",
    "    ds = ds.shuffle(buffer_size=shuffle_buffer_size)\n",
    "    ds = ds.repeat()\n",
    "    ds = ds.batch(BATCH_SIZE)\n",
    "    ds = ds.prefetch(buffer_size=AUTOTUNE)\n",
    "    return ds\n",
    "\n",
    "train_ds = prepare_for_training(train_ds)\n",
    "val_ds = prepare_for_training(val_ds)"
   ]
  },
  {
   "cell_type": "markdown",
   "id": "color-bristol",
   "metadata": {},
   "source": [
    "***"
   ]
  },
  {
   "cell_type": "markdown",
   "id": "animal-transsexual",
   "metadata": {},
   "source": [
    "# 예제 모델링\n",
    "\n",
    "# Batch사이즈와 Epoch만 조절하여 학습 진행"
   ]
  },
  {
   "cell_type": "code",
   "execution_count": 15,
   "id": "gothic-administration",
   "metadata": {},
   "outputs": [],
   "source": [
    "def conv_block(filters):\n",
    "    block = tf.keras.Sequential([\n",
    "        tf.keras.layers.SeparableConv2D(filters, 3, activation='relu', padding='same'),\n",
    "        tf.keras.layers.SeparableConv2D(filters, 3, activation='relu', padding='same'),\n",
    "        tf.keras.layers.BatchNormalization(),\n",
    "        tf.keras.layers.MaxPool2D()\n",
    "    ])\n",
    "    \n",
    "    return block"
   ]
  },
  {
   "cell_type": "code",
   "execution_count": 16,
   "id": "devoted-roommate",
   "metadata": {},
   "outputs": [],
   "source": [
    "def dense_block(units, dropout_rate):\n",
    "    block = tf.keras.Sequential([\n",
    "        tf.keras.layers.Dense(units, activation='relu'),\n",
    "        tf.keras.layers.BatchNormalization(),\n",
    "        tf.keras.layers.Dropout(dropout_rate)\n",
    "    ])\n",
    "    \n",
    "    return block"
   ]
  },
  {
   "cell_type": "code",
   "execution_count": 17,
   "id": "appreciated-liabilities",
   "metadata": {},
   "outputs": [],
   "source": [
    "def build_model_1():\n",
    "    model = tf.keras.Sequential([\n",
    "        tf.keras.Input(shape=(IMAGE_SIZE[0], IMAGE_SIZE[1], 3)),\n",
    "        \n",
    "        tf.keras.layers.Conv2D(16, 3, activation='relu', padding='same'),\n",
    "        tf.keras.layers.Conv2D(16, 3, activation='relu', padding='same'),\n",
    "        tf.keras.layers.MaxPool2D(),\n",
    "        \n",
    "        conv_block(32),\n",
    "        conv_block(64),\n",
    "        \n",
    "        conv_block(128),\n",
    "        tf.keras.layers.Dropout(0.2),\n",
    "        \n",
    "        conv_block(256),\n",
    "        tf.keras.layers.Dropout(0.2),\n",
    "        \n",
    "        tf.keras.layers.Flatten(),\n",
    "        dense_block(512, 0.7),\n",
    "        dense_block(128, 0.5),\n",
    "        dense_block(64, 0.3),\n",
    "        \n",
    "        tf.keras.layers.Dense(1, activation='sigmoid')\n",
    "    ])\n",
    "    \n",
    "    return model"
   ]
  },
  {
   "cell_type": "markdown",
   "id": "everyday-geometry",
   "metadata": {},
   "source": [
    "# 가중치를 통한 데이터 불균형 해결"
   ]
  },
  {
   "cell_type": "code",
   "execution_count": 18,
   "id": "imposed-sigma",
   "metadata": {},
   "outputs": [
    {
     "name": "stdout",
     "output_type": "stream",
     "text": [
      "Weight for NORMAL: 1.98\n",
      "Weight for PNEUMONIA: 0.67\n"
     ]
    }
   ],
   "source": [
    "weight_for_0 = (1 / COUNT_NORMAL)*(TRAIN_IMG_COUNT)/2.0 \n",
    "weight_for_1 = (1 / COUNT_PNEUMONIA)*(TRAIN_IMG_COUNT)/2.0\n",
    "\n",
    "class_weight = {0: weight_for_0, 1: weight_for_1}\n",
    "\n",
    "print('Weight for NORMAL: {:.2f}'.format(weight_for_0))\n",
    "print('Weight for PNEUMONIA: {:.2f}'.format(weight_for_1))"
   ]
  },
  {
   "cell_type": "code",
   "execution_count": 19,
   "id": "residential-moses",
   "metadata": {},
   "outputs": [],
   "source": [
    "with tf.device('/GPU:0'):\n",
    "    model_1 = build_model_1()\n",
    "\n",
    "    METRICS = [\n",
    "        'accuracy',\n",
    "        tf.keras.metrics.Precision(name='precision'),\n",
    "        tf.keras.metrics.Recall(name='recall')\n",
    "    ]\n",
    "    \n",
    "    model_1.compile(\n",
    "        optimizer='adam',\n",
    "        loss='binary_crossentropy',\n",
    "        metrics=METRICS\n",
    "    )"
   ]
  },
  {
   "cell_type": "code",
   "execution_count": 20,
   "id": "identical-disability",
   "metadata": {},
   "outputs": [
    {
     "name": "stdout",
     "output_type": "stream",
     "text": [
      "Model: \"sequential_7\"\n",
      "_________________________________________________________________\n",
      "Layer (type)                 Output Shape              Param #   \n",
      "=================================================================\n",
      "conv2d (Conv2D)              (None, 180, 180, 16)      448       \n",
      "_________________________________________________________________\n",
      "conv2d_1 (Conv2D)            (None, 180, 180, 16)      2320      \n",
      "_________________________________________________________________\n",
      "max_pooling2d (MaxPooling2D) (None, 90, 90, 16)        0         \n",
      "_________________________________________________________________\n",
      "sequential (Sequential)      (None, 45, 45, 32)        2160      \n",
      "_________________________________________________________________\n",
      "sequential_1 (Sequential)    (None, 22, 22, 64)        7392      \n",
      "_________________________________________________________________\n",
      "sequential_2 (Sequential)    (None, 11, 11, 128)       27072     \n",
      "_________________________________________________________________\n",
      "dropout (Dropout)            (None, 11, 11, 128)       0         \n",
      "_________________________________________________________________\n",
      "sequential_3 (Sequential)    (None, 5, 5, 256)         103296    \n",
      "_________________________________________________________________\n",
      "dropout_1 (Dropout)          (None, 5, 5, 256)         0         \n",
      "_________________________________________________________________\n",
      "flatten (Flatten)            (None, 6400)              0         \n",
      "_________________________________________________________________\n",
      "sequential_4 (Sequential)    (None, 512)               3279360   \n",
      "_________________________________________________________________\n",
      "sequential_5 (Sequential)    (None, 128)               66176     \n",
      "_________________________________________________________________\n",
      "sequential_6 (Sequential)    (None, 64)                8512      \n",
      "_________________________________________________________________\n",
      "dense_3 (Dense)              (None, 1)                 65        \n",
      "=================================================================\n",
      "Total params: 3,496,801\n",
      "Trainable params: 3,494,433\n",
      "Non-trainable params: 2,368\n",
      "_________________________________________________________________\n"
     ]
    }
   ],
   "source": [
    "model_1.summary()"
   ]
  },
  {
   "cell_type": "code",
   "execution_count": 21,
   "id": "amazing-activation",
   "metadata": {},
   "outputs": [
    {
     "name": "stdout",
     "output_type": "stream",
     "text": [
      "Epoch 1/10\n",
      "130/130 [==============================] - 88s 458ms/step - loss: 0.5489 - accuracy: 0.7093 - precision: 0.9183 - recall: 0.6770 - val_loss: 0.6147 - val_accuracy: 0.7197 - val_precision: 0.7197 - val_recall: 1.0000\n",
      "Epoch 2/10\n",
      "130/130 [==============================] - 59s 453ms/step - loss: 0.2488 - accuracy: 0.8960 - precision: 0.9766 - recall: 0.8850 - val_loss: 0.8723 - val_accuracy: 0.7178 - val_precision: 0.7178 - val_recall: 1.0000\n",
      "Epoch 3/10\n",
      "130/130 [==============================] - 58s 449ms/step - loss: 0.1739 - accuracy: 0.9379 - precision: 0.9823 - recall: 0.9351 - val_loss: 0.9975 - val_accuracy: 0.7256 - val_precision: 0.7256 - val_recall: 1.0000\n",
      "Epoch 4/10\n",
      "130/130 [==============================] - 59s 457ms/step - loss: 0.1508 - accuracy: 0.9397 - precision: 0.9815 - recall: 0.9375 - val_loss: 1.5814 - val_accuracy: 0.7158 - val_precision: 0.7158 - val_recall: 1.0000\n",
      "Epoch 5/10\n",
      "130/130 [==============================] - 61s 471ms/step - loss: 0.1389 - accuracy: 0.9487 - precision: 0.9842 - recall: 0.9477 - val_loss: 1.0572 - val_accuracy: 0.7188 - val_precision: 0.7188 - val_recall: 1.0000\n",
      "Epoch 6/10\n",
      "130/130 [==============================] - 67s 516ms/step - loss: 0.1306 - accuracy: 0.9475 - precision: 0.9833 - recall: 0.9459 - val_loss: 0.7576 - val_accuracy: 0.7451 - val_precision: 0.7390 - val_recall: 1.0000\n",
      "Epoch 7/10\n",
      "130/130 [==============================] - 55s 427ms/step - loss: 0.1148 - accuracy: 0.9583 - precision: 0.9884 - recall: 0.9561 - val_loss: 0.1081 - val_accuracy: 0.9639 - val_precision: 0.9596 - val_recall: 0.9919\n",
      "Epoch 8/10\n",
      "130/130 [==============================] - 56s 434ms/step - loss: 0.1434 - accuracy: 0.9474 - precision: 0.9793 - recall: 0.9492 - val_loss: 0.3895 - val_accuracy: 0.8789 - val_precision: 0.9984 - val_recall: 0.8333\n",
      "Epoch 9/10\n",
      "130/130 [==============================] - 56s 431ms/step - loss: 0.0972 - accuracy: 0.9564 - precision: 0.9935 - recall: 0.9491 - val_loss: 0.1171 - val_accuracy: 0.9580 - val_precision: 0.9483 - val_recall: 0.9959\n",
      "Epoch 10/10\n",
      "130/130 [==============================] - 56s 432ms/step - loss: 0.1048 - accuracy: 0.9570 - precision: 0.9882 - recall: 0.9550 - val_loss: 0.2288 - val_accuracy: 0.8984 - val_precision: 1.0000 - val_recall: 0.8598\n"
     ]
    }
   ],
   "source": [
    "EPOCHS = 10\n",
    "\n",
    "with tf.device('/GPU:0'):\n",
    "    history_1 = model_1.fit(\n",
    "        train_ds,\n",
    "        steps_per_epoch=TRAIN_IMG_COUNT // BATCH_SIZE,\n",
    "        epochs=EPOCHS,\n",
    "        validation_data=val_ds,\n",
    "        validation_steps=VAL_IMG_COUNT // BATCH_SIZE,\n",
    "        class_weight=class_weight,\n",
    "    )"
   ]
  },
  {
   "cell_type": "markdown",
   "id": "alien-pantyhose",
   "metadata": {},
   "source": [
    "# 예제 모델 학습결과"
   ]
  },
  {
   "cell_type": "code",
   "execution_count": 22,
   "id": "overhead-system",
   "metadata": {},
   "outputs": [
    {
     "data": {
      "image/png": "[encoded data removed]",
      "text/plain": [
       "<Figure size 1440x216 with 4 Axes>"
      ]
     },
     "metadata": {
      "needs_background": "light"
     },
     "output_type": "display_data"
    }
   ],
   "source": [
    "fig, ax = plt.subplots(1, 4, figsize=(20, 3))\n",
    "ax = ax.ravel()\n",
    "\n",
    "for i, met in enumerate(['precision', 'recall', 'accuracy', 'loss']):\n",
    "    ax[i].plot(history_1.history[met])\n",
    "    ax[i].plot(history_1.history['val_' + met])\n",
    "    ax[i].set_title('Model {}'.format(met))\n",
    "    ax[i].set_xlabel('epochs')\n",
    "    ax[i].set_ylabel(met)\n",
    "    ax[i].legend(['train', 'val'])"
   ]
  },
  {
   "cell_type": "markdown",
   "id": "dated-casino",
   "metadata": {},
   "source": [
    "# Batch 사이즈와 Epoch만 바꿨는데도 81.73%의 괜찮은 정확도를 보여준다."
   ]
  },
  {
   "cell_type": "code",
   "execution_count": 23,
   "id": "continued-sociology",
   "metadata": {
    "scrolled": false
   },
   "outputs": [
    {
     "name": "stdout",
     "output_type": "stream",
     "text": [
      "20/20 [==============================] - 17s 839ms/step - loss: 0.4716 - accuracy: 0.8173 - precision: 0.7961 - recall: 0.9513\n",
      "Loss: 0.4716097116470337,\n",
      "Accuracy: 0.817307710647583,\n",
      "Precision: 0.7961373329162598,\n",
      "Recall: 0.9512820243835449\n"
     ]
    }
   ],
   "source": [
    "loss, accuracy, precision, recall = model_1.evaluate(test_ds)\n",
    "print(f'Loss: {loss},\\nAccuracy: {accuracy},\\nPrecision: {precision},\\nRecall: {recall}')"
   ]
  },
  {
   "cell_type": "markdown",
   "id": "sought-documentation",
   "metadata": {},
   "source": [
    "***"
   ]
  },
  {
   "cell_type": "markdown",
   "id": "found-overall",
   "metadata": {},
   "source": [
    "# - 성능 향상 시도 -"
   ]
  },
  {
   "cell_type": "markdown",
   "id": "external-satellite",
   "metadata": {},
   "source": [
    "# 이미지를 모노톤으로 처리\n",
    "# 고대비로 augmentation을 진행해보기도했으나 성능이 더 떨어지는 결과를 보여주었다.\n",
    "# 이미지 사이즈를 조금 더 늘려보았다."
   ]
  },
  {
   "cell_type": "code",
   "execution_count": 388,
   "id": "particular-letter",
   "metadata": {},
   "outputs": [],
   "source": [
    "IMAGE_SIZE = [192, 192]\n",
    "\n",
    "def decode_img_bw(img):\n",
    "    img = tf.image.decode_jpeg(img, channels=1) # 이미지를 uint8 tensor로 수정\n",
    "    img = tf.image.convert_image_dtype(img, tf.float32) # float32 타입으로 수정\n",
    "    img = tf.image.resize(img, IMAGE_SIZE) # 이미지 사이즈를 IMAGE_SIZE로 수정\n",
    "    return img\n",
    "\n",
    "# 이미지 파일의 경로를 입력하면 이미지와 라벨을 읽어옵니다.\n",
    "def process_path_bw(file_path):\n",
    "    label = get_label(file_path) # 라벨 검출\n",
    "    img = tf.io.read_file(file_path) # 이미지 읽기\n",
    "    img = decode_img_bw(img) # 이미지를 알맞은 형식으로 수정\n",
    "    return img, label"
   ]
  },
  {
   "cell_type": "code",
   "execution_count": 389,
   "id": "arranged-logan",
   "metadata": {},
   "outputs": [],
   "source": [
    "train_ds_bw = train_list_ds.map(process_path_bw, num_parallel_calls=AUTOTUNE)\n",
    "val_ds_bw = val_list_ds.map(process_path_bw, num_parallel_calls=AUTOTUNE)"
   ]
  },
  {
   "cell_type": "code",
   "execution_count": 390,
   "id": "nonprofit-solid",
   "metadata": {},
   "outputs": [
    {
     "name": "stdout",
     "output_type": "stream",
     "text": [
      "Image shape:  (192, 192, 1)\n",
      "Label:  False\n"
     ]
    }
   ],
   "source": [
    "for image, label in train_ds_bw.take(1):\n",
    "    print(\"Image shape: \", image.numpy().shape)\n",
    "    print(\"Label: \", label.numpy())"
   ]
  },
  {
   "cell_type": "code",
   "execution_count": 391,
   "id": "level-emergency",
   "metadata": {},
   "outputs": [
    {
     "name": "stdout",
     "output_type": "stream",
     "text": [
      "624\n"
     ]
    }
   ],
   "source": [
    "BATCH_SIZE = 32\n",
    "\n",
    "test_list_ds = tf.data.Dataset.list_files(TEST_PATH)\n",
    "TEST_IMAGE_COUNT = tf.data.experimental.cardinality(test_list_ds).numpy()\n",
    "test_ds_bw = test_list_ds.map(process_path_bw, num_parallel_calls=AUTOTUNE)\n",
    "test_ds_bw = test_ds_bw.batch(BATCH_SIZE)\n",
    "\n",
    "print(TEST_IMAGE_COUNT)"
   ]
  },
  {
   "cell_type": "code",
   "execution_count": 392,
   "id": "swiss-tuesday",
   "metadata": {},
   "outputs": [],
   "source": [
    "train_ds_bw = prepare_for_training(train_ds_bw)\n",
    "val_ds_bw = prepare_for_training(val_ds_bw)"
   ]
  },
  {
   "cell_type": "markdown",
   "id": "wrapped-therapist",
   "metadata": {},
   "source": [
    "***"
   ]
  },
  {
   "cell_type": "markdown",
   "id": "operational-immunology",
   "metadata": {},
   "source": [
    "# 모든 과정에서 노말라이제이션 삭제\n",
    "# Flatten 이후 Dense 레이어에서 드롭아웃 삭제"
   ]
  },
  {
   "cell_type": "code",
   "execution_count": 393,
   "id": "determined-average",
   "metadata": {},
   "outputs": [],
   "source": [
    "def conv_block_2(filters):\n",
    "    block = tf.keras.Sequential([\n",
    "        tf.keras.layers.SeparableConv2D(filters, 1, activation='relu', padding='same'),\n",
    "        tf.keras.layers.SeparableConv2D(filters, 1, activation='relu', padding='same'),\n",
    "        tf.keras.layers.MaxPool2D(),\n",
    "    ])\n",
    "    \n",
    "    return block"
   ]
  },
  {
   "cell_type": "code",
   "execution_count": 394,
   "id": "opposed-sustainability",
   "metadata": {},
   "outputs": [],
   "source": [
    "def dense_block_2(units, dropout_rate):\n",
    "    block = tf.keras.Sequential([\n",
    "        tf.keras.layers.Dense(units, activation='relu'),\n",
    "        tf.keras.layers.BatchNormalization(),\n",
    "        tf.keras.layers.Dropout(dropout_rate)\n",
    "    ])\n",
    "    \n",
    "    return block"
   ]
  },
  {
   "cell_type": "code",
   "execution_count": 395,
   "id": "color-adjustment",
   "metadata": {},
   "outputs": [],
   "source": [
    "def build_model_2():\n",
    "    model = tf.keras.Sequential([\n",
    "        tf.keras.Input(shape=(IMAGE_SIZE[0], IMAGE_SIZE[1], 1)),\n",
    "        \n",
    "        tf.keras.layers.Conv2D(16, 1, activation='relu', padding='same'),\n",
    "        tf.keras.layers.Conv2D(16, 1, activation='relu', padding='same'),\n",
    "        tf.keras.layers.MaxPool2D(),\n",
    "        \n",
    "        conv_block(32),\n",
    "        conv_block(64),\n",
    "        \n",
    "        conv_block(128),\n",
    "        tf.keras.layers.Dropout(0.2),\n",
    "        \n",
    "        conv_block(256),\n",
    "        tf.keras.layers.Dropout(0.2),\n",
    "        \n",
    "        tf.keras.layers.Flatten(),\n",
    "        tf.keras.layers.Dense(512, activation='relu'),\n",
    "        tf.keras.layers.Dense(128, activation='relu'),\n",
    "        tf.keras.layers.Dense(64, activation='relu'),\n",
    "        \n",
    "        tf.keras.layers.Dense(1, activation='sigmoid')\n",
    "    ])\n",
    "    \n",
    "    return model"
   ]
  },
  {
   "cell_type": "markdown",
   "id": "incorporate-ecuador",
   "metadata": {},
   "source": [
    "# 가중치를 통한 데이터 불균형 해결"
   ]
  },
  {
   "cell_type": "code",
   "execution_count": 396,
   "id": "athletic-coordinator",
   "metadata": {},
   "outputs": [
    {
     "name": "stdout",
     "output_type": "stream",
     "text": [
      "Weight for NORMAL: 1.96\n",
      "Weight for PNEUMONIA: 0.67\n"
     ]
    }
   ],
   "source": [
    "weight_for_0 = (1 / COUNT_NORMAL)*(TRAIN_IMG_COUNT)/2.0 \n",
    "weight_for_1 = (1 / COUNT_PNEUMONIA)*(TRAIN_IMG_COUNT)/2.0\n",
    "\n",
    "class_weight = {0: weight_for_0, 1: weight_for_1}\n",
    "\n",
    "print('Weight for NORMAL: {:.2f}'.format(weight_for_0))\n",
    "print('Weight for PNEUMONIA: {:.2f}'.format(weight_for_1))"
   ]
  },
  {
   "cell_type": "code",
   "execution_count": 397,
   "id": "therapeutic-extent",
   "metadata": {},
   "outputs": [],
   "source": [
    "with tf.device('/GPU:0'):\n",
    "    model_2 = build_model_2()\n",
    "\n",
    "    METRICS = [\n",
    "        'accuracy',\n",
    "        tf.keras.metrics.Precision(name='precision'),\n",
    "        tf.keras.metrics.Recall(name='recall')\n",
    "    ]\n",
    "    \n",
    "    model_2.compile(\n",
    "        optimizer='adam',\n",
    "        loss='binary_crossentropy',\n",
    "        metrics=METRICS\n",
    "    )"
   ]
  },
  {
   "cell_type": "code",
   "execution_count": 398,
   "id": "unusual-resource",
   "metadata": {},
   "outputs": [
    {
     "name": "stdout",
     "output_type": "stream",
     "text": [
      "Model: \"sequential_274\"\n",
      "_________________________________________________________________\n",
      "Layer (type)                 Output Shape              Param #   \n",
      "=================================================================\n",
      "conv2d_298 (Conv2D)          (None, 192, 192, 16)      32        \n",
      "_________________________________________________________________\n",
      "conv2d_299 (Conv2D)          (None, 192, 192, 16)      272       \n",
      "_________________________________________________________________\n",
      "max_pooling2d_40 (MaxPooling (None, 96, 96, 16)        0         \n",
      "_________________________________________________________________\n",
      "sequential_270 (Sequential)  (None, 48, 48, 32)        2160      \n",
      "_________________________________________________________________\n",
      "sequential_271 (Sequential)  (None, 24, 24, 64)        7392      \n",
      "_________________________________________________________________\n",
      "sequential_272 (Sequential)  (None, 12, 12, 128)       27072     \n",
      "_________________________________________________________________\n",
      "dropout_89 (Dropout)         (None, 12, 12, 128)       0         \n",
      "_________________________________________________________________\n",
      "sequential_273 (Sequential)  (None, 6, 6, 256)         103296    \n",
      "_________________________________________________________________\n",
      "dropout_90 (Dropout)         (None, 6, 6, 256)         0         \n",
      "_________________________________________________________________\n",
      "flatten_41 (Flatten)         (None, 9216)              0         \n",
      "_________________________________________________________________\n",
      "dense_96 (Dense)             (None, 512)               4719104   \n",
      "_________________________________________________________________\n",
      "dense_97 (Dense)             (None, 128)               65664     \n",
      "_________________________________________________________________\n",
      "dense_98 (Dense)             (None, 64)                8256      \n",
      "_________________________________________________________________\n",
      "dense_99 (Dense)             (None, 1)                 65        \n",
      "=================================================================\n",
      "Total params: 4,933,313\n",
      "Trainable params: 4,932,353\n",
      "Non-trainable params: 960\n",
      "_________________________________________________________________\n"
     ]
    }
   ],
   "source": [
    "model_2.summary()"
   ]
  },
  {
   "cell_type": "code",
   "execution_count": 399,
   "id": "abstract-yesterday",
   "metadata": {},
   "outputs": [],
   "source": [
    "from tensorflow.keras.callbacks import EarlyStopping, ModelCheckpoint\n",
    "es = EarlyStopping(monitor='val_loss', patience=2, verbose=1)"
   ]
  },
  {
   "cell_type": "code",
   "execution_count": 400,
   "id": "swiss-maker",
   "metadata": {
    "scrolled": false
   },
   "outputs": [
    {
     "name": "stdout",
     "output_type": "stream",
     "text": [
      "Epoch 1/10\n",
      "130/130 [==============================] - 39s 252ms/step - loss: 0.4761 - accuracy: 0.6922 - precision: 0.8839 - recall: 0.6665 - val_loss: 0.5980 - val_accuracy: 0.7324 - val_precision: 0.7324 - val_recall: 1.0000\n",
      "Epoch 2/10\n",
      "130/130 [==============================] - 32s 244ms/step - loss: 0.1865 - accuracy: 0.9197 - precision: 0.9851 - recall: 0.9050 - val_loss: 0.5929 - val_accuracy: 0.7334 - val_precision: 0.7334 - val_recall: 1.0000\n",
      "Epoch 3/10\n",
      "130/130 [==============================] - 32s 244ms/step - loss: 0.1184 - accuracy: 0.9481 - precision: 0.9904 - recall: 0.9399 - val_loss: 0.6790 - val_accuracy: 0.7324 - val_precision: 0.7324 - val_recall: 1.0000\n",
      "Epoch 4/10\n",
      "130/130 [==============================] - 32s 245ms/step - loss: 0.1045 - accuracy: 0.9567 - precision: 0.9909 - recall: 0.9504 - val_loss: 1.2560 - val_accuracy: 0.7334 - val_precision: 0.7334 - val_recall: 1.0000\n",
      "Epoch 5/10\n",
      "130/130 [==============================] - 32s 245ms/step - loss: 0.0826 - accuracy: 0.9665 - precision: 0.9927 - recall: 0.9623 - val_loss: 0.2176 - val_accuracy: 0.9180 - val_precision: 0.9024 - val_recall: 0.9960\n",
      "Epoch 6/10\n",
      "130/130 [==============================] - 32s 244ms/step - loss: 0.0930 - accuracy: 0.9688 - precision: 0.9934 - recall: 0.9643 - val_loss: 0.2282 - val_accuracy: 0.9248 - val_precision: 0.9094 - val_recall: 0.9960\n",
      "Epoch 7/10\n",
      "130/130 [==============================] - 31s 243ms/step - loss: 0.0821 - accuracy: 0.9642 - precision: 0.9903 - recall: 0.9611 - val_loss: 0.2035 - val_accuracy: 0.9121 - val_precision: 0.9970 - val_recall: 0.8831\n",
      "Epoch 8/10\n",
      "130/130 [==============================] - 32s 245ms/step - loss: 0.0651 - accuracy: 0.9737 - precision: 0.9924 - recall: 0.9726 - val_loss: 0.1037 - val_accuracy: 0.9561 - val_precision: 0.9849 - val_recall: 0.9548\n",
      "Epoch 9/10\n",
      "130/130 [==============================] - 32s 246ms/step - loss: 0.0525 - accuracy: 0.9760 - precision: 0.9946 - recall: 0.9729 - val_loss: 0.1059 - val_accuracy: 0.9600 - val_precision: 0.9863 - val_recall: 0.9588\n",
      "Epoch 10/10\n",
      "130/130 [==============================] - 32s 243ms/step - loss: 0.0439 - accuracy: 0.9818 - precision: 0.9958 - recall: 0.9797 - val_loss: 0.1235 - val_accuracy: 0.9502 - val_precision: 0.9930 - val_recall: 0.9388\n"
     ]
    }
   ],
   "source": [
    "EPOCHS = 10\n",
    "\n",
    "with tf.device('/GPU:0'):\n",
    "    history_2 = model_2.fit(\n",
    "        train_ds_bw,\n",
    "        steps_per_epoch=TRAIN_IMG_COUNT // BATCH_SIZE,\n",
    "        epochs=EPOCHS,\n",
    "        validation_data=val_ds_bw,\n",
    "        validation_steps=VAL_IMG_COUNT // BATCH_SIZE,\n",
    "        class_weight=class_weight\n",
    "    )"
   ]
  },
  {
   "cell_type": "markdown",
   "id": "linear-running",
   "metadata": {},
   "source": [
    "# 모델링 결과"
   ]
  },
  {
   "cell_type": "code",
   "execution_count": 401,
   "id": "healthy-understanding",
   "metadata": {},
   "outputs": [
    {
     "data": {
      "image/png": "[encoded data removed]",
      "text/plain": [
       "<Figure size 1440x216 with 4 Axes>"
      ]
     },
     "metadata": {
      "needs_background": "light"
     },
     "output_type": "display_data"
    }
   ],
   "source": [
    "fig, ax = plt.subplots(1, 4, figsize=(20, 3))\n",
    "ax = ax.ravel()\n",
    "\n",
    "for i, met in enumerate(['precision', 'recall', 'accuracy', 'loss']):\n",
    "    ax[i].plot(history_2.history[met])\n",
    "    ax[i].plot(history_2.history['val_' + met])\n",
    "    ax[i].set_title('Model {}'.format(met))\n",
    "    ax[i].set_xlabel('epochs')\n",
    "    ax[i].set_ylabel(met)\n",
    "    ax[i].legend(['train', 'val'])"
   ]
  },
  {
   "cell_type": "markdown",
   "id": "identified-tribute",
   "metadata": {},
   "source": [
    "# 정확도 84.61%로 어느정도 유의미한 성능향상 성취\n",
    "### 이미지 모노톤 변환\n",
    "### 노말라이제이션 삭제\n",
    "### Dense 레이어 Dropout 삭제\n",
    "### Batch 사이즈 수정\n",
    "### Epoch 수정"
   ]
  },
  {
   "cell_type": "code",
   "execution_count": 402,
   "id": "ordinary-vulnerability",
   "metadata": {
    "scrolled": true
   },
   "outputs": [
    {
     "name": "stdout",
     "output_type": "stream",
     "text": [
      "20/20 [==============================] - 30s 2s/step - loss: 0.7089 - accuracy: 0.8462 - precision: 0.8155 - recall: 0.9744\n",
      "Loss: 0.7088848352432251,\n",
      "Accuracy: 0.8461538553237915,\n",
      "Precision: 0.8154506683349609,\n",
      "Recall: 0.9743589758872986\n"
     ]
    }
   ],
   "source": [
    "loss, accuracy, precision, recall = model_2.evaluate(test_ds_bw)\n",
    "print(f'Loss: {loss},\\nAccuracy: {accuracy},\\nPrecision: {precision},\\nRecall: {recall}')"
   ]
  },
  {
   "cell_type": "markdown",
   "id": "frank-bahrain",
   "metadata": {},
   "source": [
    "***"
   ]
  },
  {
   "cell_type": "markdown",
   "id": "ultimate-birthday",
   "metadata": {},
   "source": [
    "# - 다양한 시도들과 고찰 -"
   ]
  },
  {
   "cell_type": "markdown",
   "id": "whole-angola",
   "metadata": {},
   "source": [
    "# 의료 데이터의 특징  \n",
    "  \n",
    "의료 데이터의 경우 데이터 특성 상 많은 수의 데이터를 많이 확보할 수 없습니다.  \n",
    "따라서 의료 데이터 관련 인공지능 연구는 적은 데이터 안에서 성능을 끌어올리기 위한 방향으로 진행됩니다.  \n",
    "이러한 사실을 먼저 인지한 상태에서 성능 개선을 위한 다양한 시도를 진행했습니다."
   ]
  },
  {
   "cell_type": "markdown",
   "id": "accessible-geometry",
   "metadata": {},
   "source": [
    "# 예제 모델 분석  \n",
    "노드에 제시된 예제 모델은 일반적으로 접해 보지 않은 형태의 CNN 모델이었습니다.  \n",
    "예제 모델에서는 CNN 레이어의 커널을 모두 1로 두고 깊은 데이터를 깊게 읽어 나가면서 MaxPooling으로 데이터 축소를 진행하고, 마지막에 Flatten 이후 Dense 레이어를 3중으로 활용하고 있습니다."
   ]
  },
  {
   "cell_type": "markdown",
   "id": "quality-appliance",
   "metadata": {},
   "source": [
    "# 접근법\n",
    "우선 저는 예제 모델의 CNN과 다르게 커널을 활용하여 순차적으로 데이터를 줄여나가는 기존의 익숙한 방식의 CNN을 적용해 보기로 했습니다.  \n",
    "MaxPooling 또한 근래에는 Strides를 활용한 유사 Pooling을 더 많이 사용한다고 하는 만큼 Strides를 활용한 유사 Pooling을 구현했습니다.\n",
    "또한 Dense 레이어의 경우 데이터가 적은 상태에서 3중 레이어가 과적합을 발생시킬 것으로 생각하여 하나의 Dense 레이어를 활용해 보기로 했습니다.  \n",
    "노말라이제이션의 경우 이미지는 0에서 255 사이의 데이터로 이루어지는 만큼 CNN에서 노말라이제이션은 큰 효과가 없다고 알려져 있어 계산량을 조금이라도 줄여보고자 삭제하기로 했습니다.  \n",
    "또한 현재 폐렴 이미지는 거의 흑백에 가까운 엑스레이 이미지인 만큼 이미지 모노톤 변환과 고대비 적용 등을 시도했습니다.  \n",
    "데이터 불균형 해소를 위해서 SMOTE 기법도 고려했습니다."
   ]
  },
  {
   "cell_type": "markdown",
   "id": "recorded-configuration",
   "metadata": {},
   "source": [
    "# 다양한 시도의 결과\n",
    "위에 언급한 다양한 접근법을 시도했지만 성능 향상을 얻지 못 했습니다. \n",
    "오히려 대부분의 시도는 성능 하락으로 이어졌습니다.  \n",
    "노말라이제이션 삭제와 이미지 모노톤 변화는 최소한 성능을 떨어뜨리지는 않는 것으로 판단되어 계속 사용하기로 했습니다.  \n",
    "기존의 커널 사이즈를 키운 CNN의 활용은 성능 하락을 보여줬으며, Dense 레이어를 하나만 쓴 경우에 대해서는 학습이 제대로 이루어 지지 않았습니다.  \n",
    "SMOTE의 경우 결국 기존의 데이터 안에서 비슷한 데이터를 생성하는 만큼 들이는 수고에 비해 예제에서 활용한 가중치 부여 방식보다 더 나은 성능을 내지 못 하는 것으로 결론지어져 사용하지 않게 되었습니다."
   ]
  },
  {
   "cell_type": "markdown",
   "id": "pending-architecture",
   "metadata": {},
   "source": [
    "# 튜닝의 끝은 순정\n",
    "결국 예제 모델의 성능을 인정하고 약간의 변형을 가해보기로 했습니다.  \n",
    "적어도 성능을 떨어뜨리지 않았던 노말라이제이션 삭제와 이미지 모노톤 변환을 유지하고 Dense 레이어에서 드롭아웃을 삭제했습니다.  \n",
    "여기에 더해 약간의 하이퍼파라미터 튜닝을 진행했고, 최종적으로 84.61이라는 노드 목표치에 근접한 성능을 얻을 수 있었습니다."
   ]
  },
  {
   "cell_type": "markdown",
   "id": "composite-robin",
   "metadata": {},
   "source": [
    "# 예제 모델의 강점 분석\n",
    "결국 이번 노드는 예제 모델이 왜 폐렴 판별 문제에서 강력한 성능을 보여주는지 분석하는 것으로 귀결됩니다.  \n",
    "### 1사이즈 커널과 깊은 필터를 활용한 CNN과 MaxPooling을 통한 데이터 사이즈 축소\n",
    "예제 모델의 핵심적인 아이디어라고 생각됩니다.  \n",
    "고민을 해본 결과 이는 폐렴 엑스레이 데이터의 특징과 연결되는 듯 합니다.  \n",
    "폐렴 엑스레이 데이터의 경우 폐렴 분포의 모양 보다는 결국 명암의 차이가 판단의 기준이 됩니다.  \n",
    "따라서 모양보다는 명암을 잘 판단할 수 있도록 깊은 필터로 이미지를 읽어내는 것이 유효한 전략이지 않았나 싶습니다.  \n",
    "향후에도 이미지의 명암을 판단해야하는 문제에 대해서는 예제 모델과 비슷한 방식을 활용해 볼 수 있을 듯 합니다.  \n",
    "이 결과에서 왜 이미지 고대비 augmentation이 성능 하락을 불러 일으켰는지 유추해 볼 수 있었습니다.  \n",
    "이미지를 고대비로 보정할 경우 폐렴 영역의 그라데이션이 무너져 내릴 수 있습니다.  \n",
    "그렇게 된다면 폐렴 영역에 대한 학습이 제대로 이루어지지 않을 가능성이 있다고 판단됩니다.  \n",
    "### 3중 Dense 레이어\n",
    "처음에 3중 Dense 레이어에 대해서 저는 데이터가 적은 만큼 과적합을 방지하는 것이 우선이라고 판단하여 하나의 Dense 레이어를 활용했습니다.  \n",
    "하지만 데이터의 숫자가 너무 적은 나머지 하나의 Dense 레이어로는 학습이 제대로 이루어지지 못 했습니다.  \n",
    "결국 과적합도 학습이 된 상태에서 나타나는 만큼 데이터가 적은 경우 학습이 우선시 될 수 밖에 없었고 예제 또한 같은 이유에서 3중 Dense 레이어를 활용한 것으로 생각됩니다.  \n",
    "예제의 경우 여기서 과적합을 방지하고자 Dropout을 활용한 것으로 생각됩니다.  \n",
    "적은 데이터에 대해서는 우선적으로 학습을 성공시키고 과적합 문제를 순차적으로 해결하는 것이 정석적인 접근법이라고 느껴졌습니다."
   ]
  },
  {
   "cell_type": "code",
   "execution_count": null,
   "id": "sophisticated-danish",
   "metadata": {},
   "outputs": [],
   "source": []
  }
 ],
 "metadata": {
  "kernelspec": {
   "display_name": "Python 3",
   "language": "python",
   "name": "python3"
  },
  "language_info": {
   "codemirror_mode": {
    "name": "ipython",
    "version": 3
   },
   "file_extension": ".py",
   "mimetype": "text/x-python",
   "name": "python",
   "nbconvert_exporter": "python",
   "pygments_lexer": "ipython3",
   "version": "3.7.9"
  }
 },
 "nbformat": 4,
 "nbformat_minor": 5
}
