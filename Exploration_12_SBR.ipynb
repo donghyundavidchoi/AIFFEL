{
 "cells": [
  {
   "cell_type": "code",
   "execution_count": 1,
   "id": "former-astronomy",
   "metadata": {},
   "outputs": [],
   "source": [
    "import datetime as dt\n",
    "from pathlib import Path\n",
    "import os\n",
    "\n",
    "import numpy as np\n",
    "import pandas as pd\n",
    "import warnings\n",
    "warnings.filterwarnings('ignore')"
   ]
  },
  {
   "cell_type": "markdown",
   "id": "focused-elite",
   "metadata": {},
   "source": [
    "# 데이터 불러오기"
   ]
  },
  {
   "cell_type": "code",
   "execution_count": 2,
   "id": "structural-iraqi",
   "metadata": {},
   "outputs": [],
   "source": [
    "data_path = Path(os.getenv('HOME')+'/aiffel/exp12/yoochoose/data/') \n",
    "train_path = data_path / 'ratings.dat'\n",
    "\n",
    "def load_data(data_path: Path, nrows=None):\n",
    "    data = pd.read_csv(data_path, sep='::', header=None, usecols=[0, 1, 2, 3], dtype={0: np.int32, 1: np.int32, 2: np.int32}, nrows=nrows)\n",
    "    data.columns = ['UserId', 'ItemId', 'Rating', 'Time']\n",
    "    return data\n",
    "\n",
    "data = load_data(train_path, None)\n",
    "data.sort_values(['UserId', 'Time'], inplace=True)  # data를 id와 시간 순서로 정렬해줍니다."
   ]
  },
  {
   "cell_type": "markdown",
   "id": "center-compatibility",
   "metadata": {},
   "source": [
    "# 데이터 확인"
   ]
  },
  {
   "cell_type": "code",
   "execution_count": 3,
   "id": "aboriginal-maple",
   "metadata": {
    "scrolled": false
   },
   "outputs": [
    {
     "data": {
      "text/html": [
       "<div>\n",
       "<style scoped>\n",
       "    .dataframe tbody tr th:only-of-type {\n",
       "        vertical-align: middle;\n",
       "    }\n",
       "\n",
       "    .dataframe tbody tr th {\n",
       "        vertical-align: top;\n",
       "    }\n",
       "\n",
       "    .dataframe thead th {\n",
       "        text-align: right;\n",
       "    }\n",
       "</style>\n",
       "<table border=\"1\" class=\"dataframe\">\n",
       "  <thead>\n",
       "    <tr style=\"text-align: right;\">\n",
       "      <th></th>\n",
       "      <th>UserId</th>\n",
       "      <th>ItemId</th>\n",
       "      <th>Rating</th>\n",
       "      <th>Time</th>\n",
       "    </tr>\n",
       "  </thead>\n",
       "  <tbody>\n",
       "    <tr>\n",
       "      <th>31</th>\n",
       "      <td>1</td>\n",
       "      <td>3186</td>\n",
       "      <td>4</td>\n",
       "      <td>978300019</td>\n",
       "    </tr>\n",
       "    <tr>\n",
       "      <th>22</th>\n",
       "      <td>1</td>\n",
       "      <td>1270</td>\n",
       "      <td>5</td>\n",
       "      <td>978300055</td>\n",
       "    </tr>\n",
       "    <tr>\n",
       "      <th>27</th>\n",
       "      <td>1</td>\n",
       "      <td>1721</td>\n",
       "      <td>4</td>\n",
       "      <td>978300055</td>\n",
       "    </tr>\n",
       "    <tr>\n",
       "      <th>37</th>\n",
       "      <td>1</td>\n",
       "      <td>1022</td>\n",
       "      <td>5</td>\n",
       "      <td>978300055</td>\n",
       "    </tr>\n",
       "    <tr>\n",
       "      <th>24</th>\n",
       "      <td>1</td>\n",
       "      <td>2340</td>\n",
       "      <td>3</td>\n",
       "      <td>978300103</td>\n",
       "    </tr>\n",
       "    <tr>\n",
       "      <th>...</th>\n",
       "      <td>...</td>\n",
       "      <td>...</td>\n",
       "      <td>...</td>\n",
       "      <td>...</td>\n",
       "    </tr>\n",
       "    <tr>\n",
       "      <th>1000019</th>\n",
       "      <td>6040</td>\n",
       "      <td>2917</td>\n",
       "      <td>4</td>\n",
       "      <td>997454429</td>\n",
       "    </tr>\n",
       "    <tr>\n",
       "      <th>999988</th>\n",
       "      <td>6040</td>\n",
       "      <td>1921</td>\n",
       "      <td>4</td>\n",
       "      <td>997454464</td>\n",
       "    </tr>\n",
       "    <tr>\n",
       "      <th>1000172</th>\n",
       "      <td>6040</td>\n",
       "      <td>1784</td>\n",
       "      <td>3</td>\n",
       "      <td>997454464</td>\n",
       "    </tr>\n",
       "    <tr>\n",
       "      <th>1000167</th>\n",
       "      <td>6040</td>\n",
       "      <td>161</td>\n",
       "      <td>3</td>\n",
       "      <td>997454486</td>\n",
       "    </tr>\n",
       "    <tr>\n",
       "      <th>1000042</th>\n",
       "      <td>6040</td>\n",
       "      <td>1221</td>\n",
       "      <td>4</td>\n",
       "      <td>998315055</td>\n",
       "    </tr>\n",
       "  </tbody>\n",
       "</table>\n",
       "<p>1000209 rows × 4 columns</p>\n",
       "</div>"
      ],
      "text/plain": [
       "         UserId  ItemId  Rating       Time\n",
       "31            1    3186       4  978300019\n",
       "22            1    1270       5  978300055\n",
       "27            1    1721       4  978300055\n",
       "37            1    1022       5  978300055\n",
       "24            1    2340       3  978300103\n",
       "...         ...     ...     ...        ...\n",
       "1000019    6040    2917       4  997454429\n",
       "999988     6040    1921       4  997454464\n",
       "1000172    6040    1784       3  997454464\n",
       "1000167    6040     161       3  997454486\n",
       "1000042    6040    1221       4  998315055\n",
       "\n",
       "[1000209 rows x 4 columns]"
      ]
     },
     "execution_count": 3,
     "metadata": {},
     "output_type": "execute_result"
    }
   ],
   "source": [
    "data"
   ]
  },
  {
   "cell_type": "code",
   "execution_count": 4,
   "id": "positive-repeat",
   "metadata": {},
   "outputs": [
    {
     "data": {
      "text/plain": [
       "(6040, 3706)"
      ]
     },
     "execution_count": 4,
     "metadata": {},
     "output_type": "execute_result"
    }
   ],
   "source": [
    "data['UserId'].nunique(), data['ItemId'].nunique()"
   ]
  },
  {
   "cell_type": "markdown",
   "id": "variable-tiffany",
   "metadata": {},
   "source": [
    "# 유저 아이디 수를 구해 통계 도출"
   ]
  },
  {
   "cell_type": "code",
   "execution_count": 5,
   "id": "professional-devil",
   "metadata": {
    "scrolled": true
   },
   "outputs": [
    {
     "data": {
      "text/plain": [
       "UserId\n",
       "1        53\n",
       "2       129\n",
       "3        51\n",
       "4        21\n",
       "5       198\n",
       "       ... \n",
       "6036    888\n",
       "6037    202\n",
       "6038     20\n",
       "6039    123\n",
       "6040    341\n",
       "Length: 6040, dtype: int64"
      ]
     },
     "execution_count": 5,
     "metadata": {},
     "output_type": "execute_result"
    }
   ],
   "source": [
    "session_length = data.groupby('UserId').size()\n",
    "session_length"
   ]
  },
  {
   "cell_type": "code",
   "execution_count": 6,
   "id": "exposed-mailman",
   "metadata": {},
   "outputs": [
    {
     "data": {
      "text/plain": [
       "count    6040.000000\n",
       "mean      165.597517\n",
       "std       192.747029\n",
       "min        20.000000\n",
       "25%        44.000000\n",
       "50%        96.000000\n",
       "75%       208.000000\n",
       "max      2314.000000\n",
       "dtype: float64"
      ]
     },
     "execution_count": 6,
     "metadata": {},
     "output_type": "execute_result"
    }
   ],
   "source": [
    "session_length.describe()"
   ]
  },
  {
   "cell_type": "markdown",
   "id": "banned-completion",
   "metadata": {},
   "source": [
    "# 이상치 판단 기준에 맞춰 바운더리를 설정하고 이를 넘은 데이터를 삭제"
   ]
  },
  {
   "cell_type": "code",
   "execution_count": 7,
   "id": "wired-renewal",
   "metadata": {},
   "outputs": [
    {
     "data": {
      "text/plain": [
       "454.0"
      ]
     },
     "execution_count": 7,
     "metadata": {},
     "output_type": "execute_result"
    }
   ],
   "source": [
    "q3 = session_length.quantile(0.75)\n",
    "q1 = session_length.quantile(0.25)\n",
    "upper_boundary = q3+3/2*(q3-q1)\n",
    "upper_boundary"
   ]
  },
  {
   "cell_type": "code",
   "execution_count": 8,
   "id": "apparent-contribution",
   "metadata": {
    "scrolled": true
   },
   "outputs": [],
   "source": [
    "drop_index = session_length[session_length>upper_boundary].index\n",
    "data.drop(index=drop_index, inplace=True)"
   ]
  },
  {
   "cell_type": "markdown",
   "id": "fantastic-testimony",
   "metadata": {},
   "source": [
    "# 최종 날짜로부터 1년 전 데이터만 남긴다"
   ]
  },
  {
   "cell_type": "code",
   "execution_count": 9,
   "id": "complex-chapter",
   "metadata": {},
   "outputs": [
    {
     "name": "stdout",
     "output_type": "stream",
     "text": [
      "956703932\n",
      "1046454590\n"
     ]
    }
   ],
   "source": [
    "oldest, latest = data['Time'].min(), data['Time'].max()\n",
    "print(oldest)\n",
    "print(latest)"
   ]
  },
  {
   "cell_type": "code",
   "execution_count": 10,
   "id": "separated-stylus",
   "metadata": {},
   "outputs": [],
   "source": [
    "year_ago = latest - (365*24*60*60)     # 최종 날짜로부터 1년 이전 날짜를 구한다.  \n",
    "data = data[data['Time'] > year_ago]   # 방금 구한 날짜 이후의 데이터만 모은다. "
   ]
  },
  {
   "cell_type": "code",
   "execution_count": 11,
   "id": "promotional-intake",
   "metadata": {},
   "outputs": [
    {
     "data": {
      "text/html": [
       "<div>\n",
       "<style scoped>\n",
       "    .dataframe tbody tr th:only-of-type {\n",
       "        vertical-align: middle;\n",
       "    }\n",
       "\n",
       "    .dataframe tbody tr th {\n",
       "        vertical-align: top;\n",
       "    }\n",
       "\n",
       "    .dataframe thead th {\n",
       "        text-align: right;\n",
       "    }\n",
       "</style>\n",
       "<table border=\"1\" class=\"dataframe\">\n",
       "  <thead>\n",
       "    <tr style=\"text-align: right;\">\n",
       "      <th></th>\n",
       "      <th>UserId</th>\n",
       "      <th>ItemId</th>\n",
       "      <th>Rating</th>\n",
       "      <th>Time</th>\n",
       "    </tr>\n",
       "  </thead>\n",
       "  <tbody>\n",
       "    <tr>\n",
       "      <th>5170</th>\n",
       "      <td>36</td>\n",
       "      <td>1387</td>\n",
       "      <td>5</td>\n",
       "      <td>1015904819</td>\n",
       "    </tr>\n",
       "    <tr>\n",
       "      <th>5267</th>\n",
       "      <td>36</td>\n",
       "      <td>1201</td>\n",
       "      <td>4</td>\n",
       "      <td>1015904819</td>\n",
       "    </tr>\n",
       "    <tr>\n",
       "      <th>5122</th>\n",
       "      <td>36</td>\n",
       "      <td>1291</td>\n",
       "      <td>5</td>\n",
       "      <td>1015904836</td>\n",
       "    </tr>\n",
       "    <tr>\n",
       "      <th>5123</th>\n",
       "      <td>36</td>\n",
       "      <td>2167</td>\n",
       "      <td>5</td>\n",
       "      <td>1015904905</td>\n",
       "    </tr>\n",
       "    <tr>\n",
       "      <th>5290</th>\n",
       "      <td>36</td>\n",
       "      <td>2951</td>\n",
       "      <td>4</td>\n",
       "      <td>1015904905</td>\n",
       "    </tr>\n",
       "    <tr>\n",
       "      <th>...</th>\n",
       "      <td>...</td>\n",
       "      <td>...</td>\n",
       "      <td>...</td>\n",
       "      <td>...</td>\n",
       "    </tr>\n",
       "    <tr>\n",
       "      <th>992358</th>\n",
       "      <td>5996</td>\n",
       "      <td>3835</td>\n",
       "      <td>3</td>\n",
       "      <td>1020113184</td>\n",
       "    </tr>\n",
       "    <tr>\n",
       "      <th>992279</th>\n",
       "      <td>5996</td>\n",
       "      <td>2422</td>\n",
       "      <td>3</td>\n",
       "      <td>1020113225</td>\n",
       "    </tr>\n",
       "    <tr>\n",
       "      <th>992702</th>\n",
       "      <td>5996</td>\n",
       "      <td>168</td>\n",
       "      <td>3</td>\n",
       "      <td>1031058746</td>\n",
       "    </tr>\n",
       "    <tr>\n",
       "      <th>992459</th>\n",
       "      <td>5996</td>\n",
       "      <td>339</td>\n",
       "      <td>4</td>\n",
       "      <td>1033997079</td>\n",
       "    </tr>\n",
       "    <tr>\n",
       "      <th>992387</th>\n",
       "      <td>5996</td>\n",
       "      <td>3882</td>\n",
       "      <td>3</td>\n",
       "      <td>1036428955</td>\n",
       "    </tr>\n",
       "  </tbody>\n",
       "</table>\n",
       "<p>21701 rows × 4 columns</p>\n",
       "</div>"
      ],
      "text/plain": [
       "        UserId  ItemId  Rating        Time\n",
       "5170        36    1387       5  1015904819\n",
       "5267        36    1201       4  1015904819\n",
       "5122        36    1291       5  1015904836\n",
       "5123        36    2167       5  1015904905\n",
       "5290        36    2951       4  1015904905\n",
       "...        ...     ...     ...         ...\n",
       "992358    5996    3835       3  1020113184\n",
       "992279    5996    2422       3  1020113225\n",
       "992702    5996     168       3  1031058746\n",
       "992459    5996     339       4  1033997079\n",
       "992387    5996    3882       3  1036428955\n",
       "\n",
       "[21701 rows x 4 columns]"
      ]
     },
     "execution_count": 11,
     "metadata": {},
     "output_type": "execute_result"
    }
   ],
   "source": [
    "data"
   ]
  },
  {
   "cell_type": "markdown",
   "id": "patent-transparency",
   "metadata": {},
   "source": [
    "# 세션을 구하기 위해 각 아이디별 사용시간 기록 사이의 차이 diff를 구한다 "
   ]
  },
  {
   "cell_type": "code",
   "execution_count": 12,
   "id": "included-kuwait",
   "metadata": {
    "scrolled": true
   },
   "outputs": [],
   "source": [
    "data = data.sort_values(['UserId', 'Time'])\n",
    "data['diff'] = data.groupby('UserId')['Time'].diff()"
   ]
  },
  {
   "cell_type": "code",
   "execution_count": 13,
   "id": "quick-cosmetic",
   "metadata": {},
   "outputs": [
    {
     "data": {
      "text/html": [
       "<div>\n",
       "<style scoped>\n",
       "    .dataframe tbody tr th:only-of-type {\n",
       "        vertical-align: middle;\n",
       "    }\n",
       "\n",
       "    .dataframe tbody tr th {\n",
       "        vertical-align: top;\n",
       "    }\n",
       "\n",
       "    .dataframe thead th {\n",
       "        text-align: right;\n",
       "    }\n",
       "</style>\n",
       "<table border=\"1\" class=\"dataframe\">\n",
       "  <thead>\n",
       "    <tr style=\"text-align: right;\">\n",
       "      <th></th>\n",
       "      <th>UserId</th>\n",
       "      <th>ItemId</th>\n",
       "      <th>Rating</th>\n",
       "      <th>Time</th>\n",
       "      <th>diff</th>\n",
       "    </tr>\n",
       "  </thead>\n",
       "  <tbody>\n",
       "    <tr>\n",
       "      <th>5170</th>\n",
       "      <td>36</td>\n",
       "      <td>1387</td>\n",
       "      <td>5</td>\n",
       "      <td>1015904819</td>\n",
       "      <td>NaN</td>\n",
       "    </tr>\n",
       "    <tr>\n",
       "      <th>5267</th>\n",
       "      <td>36</td>\n",
       "      <td>1201</td>\n",
       "      <td>4</td>\n",
       "      <td>1015904819</td>\n",
       "      <td>0.0</td>\n",
       "    </tr>\n",
       "    <tr>\n",
       "      <th>5122</th>\n",
       "      <td>36</td>\n",
       "      <td>1291</td>\n",
       "      <td>5</td>\n",
       "      <td>1015904836</td>\n",
       "      <td>17.0</td>\n",
       "    </tr>\n",
       "    <tr>\n",
       "      <th>5123</th>\n",
       "      <td>36</td>\n",
       "      <td>2167</td>\n",
       "      <td>5</td>\n",
       "      <td>1015904905</td>\n",
       "      <td>69.0</td>\n",
       "    </tr>\n",
       "    <tr>\n",
       "      <th>5290</th>\n",
       "      <td>36</td>\n",
       "      <td>2951</td>\n",
       "      <td>4</td>\n",
       "      <td>1015904905</td>\n",
       "      <td>0.0</td>\n",
       "    </tr>\n",
       "    <tr>\n",
       "      <th>5073</th>\n",
       "      <td>36</td>\n",
       "      <td>1912</td>\n",
       "      <td>5</td>\n",
       "      <td>1015904924</td>\n",
       "      <td>19.0</td>\n",
       "    </tr>\n",
       "    <tr>\n",
       "      <th>5366</th>\n",
       "      <td>36</td>\n",
       "      <td>2985</td>\n",
       "      <td>4</td>\n",
       "      <td>1015904941</td>\n",
       "      <td>17.0</td>\n",
       "    </tr>\n",
       "    <tr>\n",
       "      <th>5305</th>\n",
       "      <td>36</td>\n",
       "      <td>2527</td>\n",
       "      <td>3</td>\n",
       "      <td>1015904957</td>\n",
       "      <td>16.0</td>\n",
       "    </tr>\n",
       "    <tr>\n",
       "      <th>5145</th>\n",
       "      <td>36</td>\n",
       "      <td>198</td>\n",
       "      <td>5</td>\n",
       "      <td>1015904988</td>\n",
       "      <td>31.0</td>\n",
       "    </tr>\n",
       "    <tr>\n",
       "      <th>5296</th>\n",
       "      <td>36</td>\n",
       "      <td>1147</td>\n",
       "      <td>4</td>\n",
       "      <td>1015905111</td>\n",
       "      <td>123.0</td>\n",
       "    </tr>\n",
       "    <tr>\n",
       "      <th>5034</th>\n",
       "      <td>36</td>\n",
       "      <td>581</td>\n",
       "      <td>4</td>\n",
       "      <td>1015905127</td>\n",
       "      <td>16.0</td>\n",
       "    </tr>\n",
       "    <tr>\n",
       "      <th>5218</th>\n",
       "      <td>36</td>\n",
       "      <td>3142</td>\n",
       "      <td>4</td>\n",
       "      <td>1015905144</td>\n",
       "      <td>17.0</td>\n",
       "    </tr>\n",
       "    <tr>\n",
       "      <th>5328</th>\n",
       "      <td>36</td>\n",
       "      <td>556</td>\n",
       "      <td>5</td>\n",
       "      <td>1015905144</td>\n",
       "      <td>0.0</td>\n",
       "    </tr>\n",
       "    <tr>\n",
       "      <th>5060</th>\n",
       "      <td>36</td>\n",
       "      <td>1191</td>\n",
       "      <td>4</td>\n",
       "      <td>1015905249</td>\n",
       "      <td>105.0</td>\n",
       "    </tr>\n",
       "    <tr>\n",
       "      <th>5025</th>\n",
       "      <td>36</td>\n",
       "      <td>3359</td>\n",
       "      <td>5</td>\n",
       "      <td>1015905485</td>\n",
       "      <td>236.0</td>\n",
       "    </tr>\n",
       "    <tr>\n",
       "      <th>5325</th>\n",
       "      <td>36</td>\n",
       "      <td>553</td>\n",
       "      <td>4</td>\n",
       "      <td>1015905626</td>\n",
       "      <td>141.0</td>\n",
       "    </tr>\n",
       "    <tr>\n",
       "      <th>5109</th>\n",
       "      <td>36</td>\n",
       "      <td>1283</td>\n",
       "      <td>4</td>\n",
       "      <td>1015962403</td>\n",
       "      <td>56777.0</td>\n",
       "    </tr>\n",
       "    <tr>\n",
       "      <th>5291</th>\n",
       "      <td>36</td>\n",
       "      <td>3827</td>\n",
       "      <td>4</td>\n",
       "      <td>1015963458</td>\n",
       "      <td>1055.0</td>\n",
       "    </tr>\n",
       "    <tr>\n",
       "      <th>5211</th>\n",
       "      <td>36</td>\n",
       "      <td>2774</td>\n",
       "      <td>4</td>\n",
       "      <td>1016224902</td>\n",
       "      <td>261444.0</td>\n",
       "    </tr>\n",
       "    <tr>\n",
       "      <th>5200</th>\n",
       "      <td>36</td>\n",
       "      <td>2269</td>\n",
       "      <td>5</td>\n",
       "      <td>1040544350</td>\n",
       "      <td>24319448.0</td>\n",
       "    </tr>\n",
       "    <tr>\n",
       "      <th>5184</th>\n",
       "      <td>36</td>\n",
       "      <td>2694</td>\n",
       "      <td>3</td>\n",
       "      <td>1040544494</td>\n",
       "      <td>144.0</td>\n",
       "    </tr>\n",
       "    <tr>\n",
       "      <th>5364</th>\n",
       "      <td>36</td>\n",
       "      <td>3786</td>\n",
       "      <td>4</td>\n",
       "      <td>1040544521</td>\n",
       "      <td>27.0</td>\n",
       "    </tr>\n",
       "    <tr>\n",
       "      <th>5262</th>\n",
       "      <td>36</td>\n",
       "      <td>2369</td>\n",
       "      <td>4</td>\n",
       "      <td>1040544564</td>\n",
       "      <td>43.0</td>\n",
       "    </tr>\n",
       "    <tr>\n",
       "      <th>5069</th>\n",
       "      <td>36</td>\n",
       "      <td>2713</td>\n",
       "      <td>1</td>\n",
       "      <td>1040544662</td>\n",
       "      <td>98.0</td>\n",
       "    </tr>\n",
       "    <tr>\n",
       "      <th>5280</th>\n",
       "      <td>36</td>\n",
       "      <td>3174</td>\n",
       "      <td>4</td>\n",
       "      <td>1040544685</td>\n",
       "      <td>23.0</td>\n",
       "    </tr>\n",
       "    <tr>\n",
       "      <th>5222</th>\n",
       "      <td>36</td>\n",
       "      <td>296</td>\n",
       "      <td>5</td>\n",
       "      <td>1040545019</td>\n",
       "      <td>334.0</td>\n",
       "    </tr>\n",
       "    <tr>\n",
       "      <th>5104</th>\n",
       "      <td>36</td>\n",
       "      <td>247</td>\n",
       "      <td>4</td>\n",
       "      <td>1040545068</td>\n",
       "      <td>49.0</td>\n",
       "    </tr>\n",
       "    <tr>\n",
       "      <th>5062</th>\n",
       "      <td>36</td>\n",
       "      <td>1266</td>\n",
       "      <td>5</td>\n",
       "      <td>1040545109</td>\n",
       "      <td>41.0</td>\n",
       "    </tr>\n",
       "    <tr>\n",
       "      <th>5076</th>\n",
       "      <td>36</td>\n",
       "      <td>595</td>\n",
       "      <td>4</td>\n",
       "      <td>1040545109</td>\n",
       "      <td>0.0</td>\n",
       "    </tr>\n",
       "    <tr>\n",
       "      <th>5126</th>\n",
       "      <td>36</td>\n",
       "      <td>1295</td>\n",
       "      <td>4</td>\n",
       "      <td>1040545109</td>\n",
       "      <td>0.0</td>\n",
       "    </tr>\n",
       "    <tr>\n",
       "      <th>5180</th>\n",
       "      <td>36</td>\n",
       "      <td>3639</td>\n",
       "      <td>4</td>\n",
       "      <td>1040545125</td>\n",
       "      <td>16.0</td>\n",
       "    </tr>\n",
       "    <tr>\n",
       "      <th>8704</th>\n",
       "      <td>59</td>\n",
       "      <td>2997</td>\n",
       "      <td>4</td>\n",
       "      <td>1041962568</td>\n",
       "      <td>NaN</td>\n",
       "    </tr>\n",
       "    <tr>\n",
       "      <th>8721</th>\n",
       "      <td>59</td>\n",
       "      <td>2147</td>\n",
       "      <td>2</td>\n",
       "      <td>1041962639</td>\n",
       "      <td>71.0</td>\n",
       "    </tr>\n",
       "    <tr>\n",
       "      <th>8781</th>\n",
       "      <td>59</td>\n",
       "      <td>2369</td>\n",
       "      <td>4</td>\n",
       "      <td>1041962664</td>\n",
       "      <td>25.0</td>\n",
       "    </tr>\n",
       "    <tr>\n",
       "      <th>8797</th>\n",
       "      <td>59</td>\n",
       "      <td>3408</td>\n",
       "      <td>4</td>\n",
       "      <td>1041962692</td>\n",
       "      <td>28.0</td>\n",
       "    </tr>\n",
       "    <tr>\n",
       "      <th>8808</th>\n",
       "      <td>59</td>\n",
       "      <td>2712</td>\n",
       "      <td>3</td>\n",
       "      <td>1041962692</td>\n",
       "      <td>0.0</td>\n",
       "    </tr>\n",
       "    <tr>\n",
       "      <th>8809</th>\n",
       "      <td>59</td>\n",
       "      <td>2716</td>\n",
       "      <td>3</td>\n",
       "      <td>1041962731</td>\n",
       "      <td>39.0</td>\n",
       "    </tr>\n",
       "    <tr>\n",
       "      <th>8836</th>\n",
       "      <td>59</td>\n",
       "      <td>1959</td>\n",
       "      <td>4</td>\n",
       "      <td>1041962787</td>\n",
       "      <td>56.0</td>\n",
       "    </tr>\n",
       "    <tr>\n",
       "      <th>8834</th>\n",
       "      <td>59</td>\n",
       "      <td>2686</td>\n",
       "      <td>4</td>\n",
       "      <td>1041962808</td>\n",
       "      <td>21.0</td>\n",
       "    </tr>\n",
       "    <tr>\n",
       "      <th>8798</th>\n",
       "      <td>59</td>\n",
       "      <td>2396</td>\n",
       "      <td>4</td>\n",
       "      <td>1041962835</td>\n",
       "      <td>27.0</td>\n",
       "    </tr>\n",
       "    <tr>\n",
       "      <th>8815</th>\n",
       "      <td>59</td>\n",
       "      <td>314</td>\n",
       "      <td>3</td>\n",
       "      <td>1041962835</td>\n",
       "      <td>0.0</td>\n",
       "    </tr>\n",
       "    <tr>\n",
       "      <th>8823</th>\n",
       "      <td>59</td>\n",
       "      <td>2670</td>\n",
       "      <td>5</td>\n",
       "      <td>1041962835</td>\n",
       "      <td>0.0</td>\n",
       "    </tr>\n",
       "    <tr>\n",
       "      <th>8839</th>\n",
       "      <td>59</td>\n",
       "      <td>2762</td>\n",
       "      <td>3</td>\n",
       "      <td>1041962835</td>\n",
       "      <td>0.0</td>\n",
       "    </tr>\n",
       "    <tr>\n",
       "      <th>8769</th>\n",
       "      <td>59</td>\n",
       "      <td>3157</td>\n",
       "      <td>3</td>\n",
       "      <td>1041962858</td>\n",
       "      <td>23.0</td>\n",
       "    </tr>\n",
       "    <tr>\n",
       "      <th>8793</th>\n",
       "      <td>59</td>\n",
       "      <td>3185</td>\n",
       "      <td>3</td>\n",
       "      <td>1041962858</td>\n",
       "      <td>0.0</td>\n",
       "    </tr>\n",
       "    <tr>\n",
       "      <th>8720</th>\n",
       "      <td>59</td>\n",
       "      <td>2070</td>\n",
       "      <td>4</td>\n",
       "      <td>1041962876</td>\n",
       "      <td>18.0</td>\n",
       "    </tr>\n",
       "    <tr>\n",
       "      <th>8906</th>\n",
       "      <td>59</td>\n",
       "      <td>1172</td>\n",
       "      <td>4</td>\n",
       "      <td>1041962943</td>\n",
       "      <td>67.0</td>\n",
       "    </tr>\n",
       "    <tr>\n",
       "      <th>8760</th>\n",
       "      <td>59</td>\n",
       "      <td>930</td>\n",
       "      <td>4</td>\n",
       "      <td>1041962965</td>\n",
       "      <td>22.0</td>\n",
       "    </tr>\n",
       "    <tr>\n",
       "      <th>8766</th>\n",
       "      <td>59</td>\n",
       "      <td>945</td>\n",
       "      <td>3</td>\n",
       "      <td>1041962965</td>\n",
       "      <td>0.0</td>\n",
       "    </tr>\n",
       "    <tr>\n",
       "      <th>8708</th>\n",
       "      <td>59</td>\n",
       "      <td>2067</td>\n",
       "      <td>4</td>\n",
       "      <td>1041962991</td>\n",
       "      <td>26.0</td>\n",
       "    </tr>\n",
       "  </tbody>\n",
       "</table>\n",
       "</div>"
      ],
      "text/plain": [
       "      UserId  ItemId  Rating        Time        diff\n",
       "5170      36    1387       5  1015904819         NaN\n",
       "5267      36    1201       4  1015904819         0.0\n",
       "5122      36    1291       5  1015904836        17.0\n",
       "5123      36    2167       5  1015904905        69.0\n",
       "5290      36    2951       4  1015904905         0.0\n",
       "5073      36    1912       5  1015904924        19.0\n",
       "5366      36    2985       4  1015904941        17.0\n",
       "5305      36    2527       3  1015904957        16.0\n",
       "5145      36     198       5  1015904988        31.0\n",
       "5296      36    1147       4  1015905111       123.0\n",
       "5034      36     581       4  1015905127        16.0\n",
       "5218      36    3142       4  1015905144        17.0\n",
       "5328      36     556       5  1015905144         0.0\n",
       "5060      36    1191       4  1015905249       105.0\n",
       "5025      36    3359       5  1015905485       236.0\n",
       "5325      36     553       4  1015905626       141.0\n",
       "5109      36    1283       4  1015962403     56777.0\n",
       "5291      36    3827       4  1015963458      1055.0\n",
       "5211      36    2774       4  1016224902    261444.0\n",
       "5200      36    2269       5  1040544350  24319448.0\n",
       "5184      36    2694       3  1040544494       144.0\n",
       "5364      36    3786       4  1040544521        27.0\n",
       "5262      36    2369       4  1040544564        43.0\n",
       "5069      36    2713       1  1040544662        98.0\n",
       "5280      36    3174       4  1040544685        23.0\n",
       "5222      36     296       5  1040545019       334.0\n",
       "5104      36     247       4  1040545068        49.0\n",
       "5062      36    1266       5  1040545109        41.0\n",
       "5076      36     595       4  1040545109         0.0\n",
       "5126      36    1295       4  1040545109         0.0\n",
       "5180      36    3639       4  1040545125        16.0\n",
       "8704      59    2997       4  1041962568         NaN\n",
       "8721      59    2147       2  1041962639        71.0\n",
       "8781      59    2369       4  1041962664        25.0\n",
       "8797      59    3408       4  1041962692        28.0\n",
       "8808      59    2712       3  1041962692         0.0\n",
       "8809      59    2716       3  1041962731        39.0\n",
       "8836      59    1959       4  1041962787        56.0\n",
       "8834      59    2686       4  1041962808        21.0\n",
       "8798      59    2396       4  1041962835        27.0\n",
       "8815      59     314       3  1041962835         0.0\n",
       "8823      59    2670       5  1041962835         0.0\n",
       "8839      59    2762       3  1041962835         0.0\n",
       "8769      59    3157       3  1041962858        23.0\n",
       "8793      59    3185       3  1041962858         0.0\n",
       "8720      59    2070       4  1041962876        18.0\n",
       "8906      59    1172       4  1041962943        67.0\n",
       "8760      59     930       4  1041962965        22.0\n",
       "8766      59     945       3  1041962965         0.0\n",
       "8708      59    2067       4  1041962991        26.0"
      ]
     },
     "execution_count": 13,
     "metadata": {},
     "output_type": "execute_result"
    }
   ],
   "source": [
    "data.head(50)"
   ]
  },
  {
   "cell_type": "markdown",
   "id": "southwest-stadium",
   "metadata": {},
   "source": [
    "# 각 아이디의 첫번째 열은 첫 데이터라 차이가 없으므로 0으로 기록"
   ]
  },
  {
   "cell_type": "code",
   "execution_count": 14,
   "id": "approximate-impossible",
   "metadata": {},
   "outputs": [],
   "source": [
    "data = data.fillna(0)"
   ]
  },
  {
   "cell_type": "code",
   "execution_count": 15,
   "id": "ahead-afghanistan",
   "metadata": {
    "scrolled": false
   },
   "outputs": [
    {
     "data": {
      "text/html": [
       "<div>\n",
       "<style scoped>\n",
       "    .dataframe tbody tr th:only-of-type {\n",
       "        vertical-align: middle;\n",
       "    }\n",
       "\n",
       "    .dataframe tbody tr th {\n",
       "        vertical-align: top;\n",
       "    }\n",
       "\n",
       "    .dataframe thead th {\n",
       "        text-align: right;\n",
       "    }\n",
       "</style>\n",
       "<table border=\"1\" class=\"dataframe\">\n",
       "  <thead>\n",
       "    <tr style=\"text-align: right;\">\n",
       "      <th></th>\n",
       "      <th>UserId</th>\n",
       "      <th>ItemId</th>\n",
       "      <th>Rating</th>\n",
       "      <th>Time</th>\n",
       "      <th>diff</th>\n",
       "    </tr>\n",
       "  </thead>\n",
       "  <tbody>\n",
       "    <tr>\n",
       "      <th>5170</th>\n",
       "      <td>36</td>\n",
       "      <td>1387</td>\n",
       "      <td>5</td>\n",
       "      <td>1015904819</td>\n",
       "      <td>0.0</td>\n",
       "    </tr>\n",
       "    <tr>\n",
       "      <th>5267</th>\n",
       "      <td>36</td>\n",
       "      <td>1201</td>\n",
       "      <td>4</td>\n",
       "      <td>1015904819</td>\n",
       "      <td>0.0</td>\n",
       "    </tr>\n",
       "    <tr>\n",
       "      <th>5122</th>\n",
       "      <td>36</td>\n",
       "      <td>1291</td>\n",
       "      <td>5</td>\n",
       "      <td>1015904836</td>\n",
       "      <td>17.0</td>\n",
       "    </tr>\n",
       "    <tr>\n",
       "      <th>5123</th>\n",
       "      <td>36</td>\n",
       "      <td>2167</td>\n",
       "      <td>5</td>\n",
       "      <td>1015904905</td>\n",
       "      <td>69.0</td>\n",
       "    </tr>\n",
       "    <tr>\n",
       "      <th>5290</th>\n",
       "      <td>36</td>\n",
       "      <td>2951</td>\n",
       "      <td>4</td>\n",
       "      <td>1015904905</td>\n",
       "      <td>0.0</td>\n",
       "    </tr>\n",
       "    <tr>\n",
       "      <th>5073</th>\n",
       "      <td>36</td>\n",
       "      <td>1912</td>\n",
       "      <td>5</td>\n",
       "      <td>1015904924</td>\n",
       "      <td>19.0</td>\n",
       "    </tr>\n",
       "    <tr>\n",
       "      <th>5366</th>\n",
       "      <td>36</td>\n",
       "      <td>2985</td>\n",
       "      <td>4</td>\n",
       "      <td>1015904941</td>\n",
       "      <td>17.0</td>\n",
       "    </tr>\n",
       "    <tr>\n",
       "      <th>5305</th>\n",
       "      <td>36</td>\n",
       "      <td>2527</td>\n",
       "      <td>3</td>\n",
       "      <td>1015904957</td>\n",
       "      <td>16.0</td>\n",
       "    </tr>\n",
       "    <tr>\n",
       "      <th>5145</th>\n",
       "      <td>36</td>\n",
       "      <td>198</td>\n",
       "      <td>5</td>\n",
       "      <td>1015904988</td>\n",
       "      <td>31.0</td>\n",
       "    </tr>\n",
       "    <tr>\n",
       "      <th>5296</th>\n",
       "      <td>36</td>\n",
       "      <td>1147</td>\n",
       "      <td>4</td>\n",
       "      <td>1015905111</td>\n",
       "      <td>123.0</td>\n",
       "    </tr>\n",
       "    <tr>\n",
       "      <th>5034</th>\n",
       "      <td>36</td>\n",
       "      <td>581</td>\n",
       "      <td>4</td>\n",
       "      <td>1015905127</td>\n",
       "      <td>16.0</td>\n",
       "    </tr>\n",
       "    <tr>\n",
       "      <th>5218</th>\n",
       "      <td>36</td>\n",
       "      <td>3142</td>\n",
       "      <td>4</td>\n",
       "      <td>1015905144</td>\n",
       "      <td>17.0</td>\n",
       "    </tr>\n",
       "    <tr>\n",
       "      <th>5328</th>\n",
       "      <td>36</td>\n",
       "      <td>556</td>\n",
       "      <td>5</td>\n",
       "      <td>1015905144</td>\n",
       "      <td>0.0</td>\n",
       "    </tr>\n",
       "    <tr>\n",
       "      <th>5060</th>\n",
       "      <td>36</td>\n",
       "      <td>1191</td>\n",
       "      <td>4</td>\n",
       "      <td>1015905249</td>\n",
       "      <td>105.0</td>\n",
       "    </tr>\n",
       "    <tr>\n",
       "      <th>5025</th>\n",
       "      <td>36</td>\n",
       "      <td>3359</td>\n",
       "      <td>5</td>\n",
       "      <td>1015905485</td>\n",
       "      <td>236.0</td>\n",
       "    </tr>\n",
       "    <tr>\n",
       "      <th>5325</th>\n",
       "      <td>36</td>\n",
       "      <td>553</td>\n",
       "      <td>4</td>\n",
       "      <td>1015905626</td>\n",
       "      <td>141.0</td>\n",
       "    </tr>\n",
       "    <tr>\n",
       "      <th>5109</th>\n",
       "      <td>36</td>\n",
       "      <td>1283</td>\n",
       "      <td>4</td>\n",
       "      <td>1015962403</td>\n",
       "      <td>56777.0</td>\n",
       "    </tr>\n",
       "    <tr>\n",
       "      <th>5291</th>\n",
       "      <td>36</td>\n",
       "      <td>3827</td>\n",
       "      <td>4</td>\n",
       "      <td>1015963458</td>\n",
       "      <td>1055.0</td>\n",
       "    </tr>\n",
       "    <tr>\n",
       "      <th>5211</th>\n",
       "      <td>36</td>\n",
       "      <td>2774</td>\n",
       "      <td>4</td>\n",
       "      <td>1016224902</td>\n",
       "      <td>261444.0</td>\n",
       "    </tr>\n",
       "    <tr>\n",
       "      <th>5200</th>\n",
       "      <td>36</td>\n",
       "      <td>2269</td>\n",
       "      <td>5</td>\n",
       "      <td>1040544350</td>\n",
       "      <td>24319448.0</td>\n",
       "    </tr>\n",
       "    <tr>\n",
       "      <th>5184</th>\n",
       "      <td>36</td>\n",
       "      <td>2694</td>\n",
       "      <td>3</td>\n",
       "      <td>1040544494</td>\n",
       "      <td>144.0</td>\n",
       "    </tr>\n",
       "    <tr>\n",
       "      <th>5364</th>\n",
       "      <td>36</td>\n",
       "      <td>3786</td>\n",
       "      <td>4</td>\n",
       "      <td>1040544521</td>\n",
       "      <td>27.0</td>\n",
       "    </tr>\n",
       "    <tr>\n",
       "      <th>5262</th>\n",
       "      <td>36</td>\n",
       "      <td>2369</td>\n",
       "      <td>4</td>\n",
       "      <td>1040544564</td>\n",
       "      <td>43.0</td>\n",
       "    </tr>\n",
       "    <tr>\n",
       "      <th>5069</th>\n",
       "      <td>36</td>\n",
       "      <td>2713</td>\n",
       "      <td>1</td>\n",
       "      <td>1040544662</td>\n",
       "      <td>98.0</td>\n",
       "    </tr>\n",
       "    <tr>\n",
       "      <th>5280</th>\n",
       "      <td>36</td>\n",
       "      <td>3174</td>\n",
       "      <td>4</td>\n",
       "      <td>1040544685</td>\n",
       "      <td>23.0</td>\n",
       "    </tr>\n",
       "    <tr>\n",
       "      <th>5222</th>\n",
       "      <td>36</td>\n",
       "      <td>296</td>\n",
       "      <td>5</td>\n",
       "      <td>1040545019</td>\n",
       "      <td>334.0</td>\n",
       "    </tr>\n",
       "    <tr>\n",
       "      <th>5104</th>\n",
       "      <td>36</td>\n",
       "      <td>247</td>\n",
       "      <td>4</td>\n",
       "      <td>1040545068</td>\n",
       "      <td>49.0</td>\n",
       "    </tr>\n",
       "    <tr>\n",
       "      <th>5062</th>\n",
       "      <td>36</td>\n",
       "      <td>1266</td>\n",
       "      <td>5</td>\n",
       "      <td>1040545109</td>\n",
       "      <td>41.0</td>\n",
       "    </tr>\n",
       "    <tr>\n",
       "      <th>5076</th>\n",
       "      <td>36</td>\n",
       "      <td>595</td>\n",
       "      <td>4</td>\n",
       "      <td>1040545109</td>\n",
       "      <td>0.0</td>\n",
       "    </tr>\n",
       "    <tr>\n",
       "      <th>5126</th>\n",
       "      <td>36</td>\n",
       "      <td>1295</td>\n",
       "      <td>4</td>\n",
       "      <td>1040545109</td>\n",
       "      <td>0.0</td>\n",
       "    </tr>\n",
       "    <tr>\n",
       "      <th>5180</th>\n",
       "      <td>36</td>\n",
       "      <td>3639</td>\n",
       "      <td>4</td>\n",
       "      <td>1040545125</td>\n",
       "      <td>16.0</td>\n",
       "    </tr>\n",
       "    <tr>\n",
       "      <th>8704</th>\n",
       "      <td>59</td>\n",
       "      <td>2997</td>\n",
       "      <td>4</td>\n",
       "      <td>1041962568</td>\n",
       "      <td>0.0</td>\n",
       "    </tr>\n",
       "    <tr>\n",
       "      <th>8721</th>\n",
       "      <td>59</td>\n",
       "      <td>2147</td>\n",
       "      <td>2</td>\n",
       "      <td>1041962639</td>\n",
       "      <td>71.0</td>\n",
       "    </tr>\n",
       "    <tr>\n",
       "      <th>8781</th>\n",
       "      <td>59</td>\n",
       "      <td>2369</td>\n",
       "      <td>4</td>\n",
       "      <td>1041962664</td>\n",
       "      <td>25.0</td>\n",
       "    </tr>\n",
       "    <tr>\n",
       "      <th>8797</th>\n",
       "      <td>59</td>\n",
       "      <td>3408</td>\n",
       "      <td>4</td>\n",
       "      <td>1041962692</td>\n",
       "      <td>28.0</td>\n",
       "    </tr>\n",
       "    <tr>\n",
       "      <th>8808</th>\n",
       "      <td>59</td>\n",
       "      <td>2712</td>\n",
       "      <td>3</td>\n",
       "      <td>1041962692</td>\n",
       "      <td>0.0</td>\n",
       "    </tr>\n",
       "    <tr>\n",
       "      <th>8809</th>\n",
       "      <td>59</td>\n",
       "      <td>2716</td>\n",
       "      <td>3</td>\n",
       "      <td>1041962731</td>\n",
       "      <td>39.0</td>\n",
       "    </tr>\n",
       "    <tr>\n",
       "      <th>8836</th>\n",
       "      <td>59</td>\n",
       "      <td>1959</td>\n",
       "      <td>4</td>\n",
       "      <td>1041962787</td>\n",
       "      <td>56.0</td>\n",
       "    </tr>\n",
       "    <tr>\n",
       "      <th>8834</th>\n",
       "      <td>59</td>\n",
       "      <td>2686</td>\n",
       "      <td>4</td>\n",
       "      <td>1041962808</td>\n",
       "      <td>21.0</td>\n",
       "    </tr>\n",
       "    <tr>\n",
       "      <th>8798</th>\n",
       "      <td>59</td>\n",
       "      <td>2396</td>\n",
       "      <td>4</td>\n",
       "      <td>1041962835</td>\n",
       "      <td>27.0</td>\n",
       "    </tr>\n",
       "    <tr>\n",
       "      <th>8815</th>\n",
       "      <td>59</td>\n",
       "      <td>314</td>\n",
       "      <td>3</td>\n",
       "      <td>1041962835</td>\n",
       "      <td>0.0</td>\n",
       "    </tr>\n",
       "    <tr>\n",
       "      <th>8823</th>\n",
       "      <td>59</td>\n",
       "      <td>2670</td>\n",
       "      <td>5</td>\n",
       "      <td>1041962835</td>\n",
       "      <td>0.0</td>\n",
       "    </tr>\n",
       "    <tr>\n",
       "      <th>8839</th>\n",
       "      <td>59</td>\n",
       "      <td>2762</td>\n",
       "      <td>3</td>\n",
       "      <td>1041962835</td>\n",
       "      <td>0.0</td>\n",
       "    </tr>\n",
       "    <tr>\n",
       "      <th>8769</th>\n",
       "      <td>59</td>\n",
       "      <td>3157</td>\n",
       "      <td>3</td>\n",
       "      <td>1041962858</td>\n",
       "      <td>23.0</td>\n",
       "    </tr>\n",
       "    <tr>\n",
       "      <th>8793</th>\n",
       "      <td>59</td>\n",
       "      <td>3185</td>\n",
       "      <td>3</td>\n",
       "      <td>1041962858</td>\n",
       "      <td>0.0</td>\n",
       "    </tr>\n",
       "    <tr>\n",
       "      <th>8720</th>\n",
       "      <td>59</td>\n",
       "      <td>2070</td>\n",
       "      <td>4</td>\n",
       "      <td>1041962876</td>\n",
       "      <td>18.0</td>\n",
       "    </tr>\n",
       "    <tr>\n",
       "      <th>8906</th>\n",
       "      <td>59</td>\n",
       "      <td>1172</td>\n",
       "      <td>4</td>\n",
       "      <td>1041962943</td>\n",
       "      <td>67.0</td>\n",
       "    </tr>\n",
       "    <tr>\n",
       "      <th>8760</th>\n",
       "      <td>59</td>\n",
       "      <td>930</td>\n",
       "      <td>4</td>\n",
       "      <td>1041962965</td>\n",
       "      <td>22.0</td>\n",
       "    </tr>\n",
       "    <tr>\n",
       "      <th>8766</th>\n",
       "      <td>59</td>\n",
       "      <td>945</td>\n",
       "      <td>3</td>\n",
       "      <td>1041962965</td>\n",
       "      <td>0.0</td>\n",
       "    </tr>\n",
       "    <tr>\n",
       "      <th>8708</th>\n",
       "      <td>59</td>\n",
       "      <td>2067</td>\n",
       "      <td>4</td>\n",
       "      <td>1041962991</td>\n",
       "      <td>26.0</td>\n",
       "    </tr>\n",
       "  </tbody>\n",
       "</table>\n",
       "</div>"
      ],
      "text/plain": [
       "      UserId  ItemId  Rating        Time        diff\n",
       "5170      36    1387       5  1015904819         0.0\n",
       "5267      36    1201       4  1015904819         0.0\n",
       "5122      36    1291       5  1015904836        17.0\n",
       "5123      36    2167       5  1015904905        69.0\n",
       "5290      36    2951       4  1015904905         0.0\n",
       "5073      36    1912       5  1015904924        19.0\n",
       "5366      36    2985       4  1015904941        17.0\n",
       "5305      36    2527       3  1015904957        16.0\n",
       "5145      36     198       5  1015904988        31.0\n",
       "5296      36    1147       4  1015905111       123.0\n",
       "5034      36     581       4  1015905127        16.0\n",
       "5218      36    3142       4  1015905144        17.0\n",
       "5328      36     556       5  1015905144         0.0\n",
       "5060      36    1191       4  1015905249       105.0\n",
       "5025      36    3359       5  1015905485       236.0\n",
       "5325      36     553       4  1015905626       141.0\n",
       "5109      36    1283       4  1015962403     56777.0\n",
       "5291      36    3827       4  1015963458      1055.0\n",
       "5211      36    2774       4  1016224902    261444.0\n",
       "5200      36    2269       5  1040544350  24319448.0\n",
       "5184      36    2694       3  1040544494       144.0\n",
       "5364      36    3786       4  1040544521        27.0\n",
       "5262      36    2369       4  1040544564        43.0\n",
       "5069      36    2713       1  1040544662        98.0\n",
       "5280      36    3174       4  1040544685        23.0\n",
       "5222      36     296       5  1040545019       334.0\n",
       "5104      36     247       4  1040545068        49.0\n",
       "5062      36    1266       5  1040545109        41.0\n",
       "5076      36     595       4  1040545109         0.0\n",
       "5126      36    1295       4  1040545109         0.0\n",
       "5180      36    3639       4  1040545125        16.0\n",
       "8704      59    2997       4  1041962568         0.0\n",
       "8721      59    2147       2  1041962639        71.0\n",
       "8781      59    2369       4  1041962664        25.0\n",
       "8797      59    3408       4  1041962692        28.0\n",
       "8808      59    2712       3  1041962692         0.0\n",
       "8809      59    2716       3  1041962731        39.0\n",
       "8836      59    1959       4  1041962787        56.0\n",
       "8834      59    2686       4  1041962808        21.0\n",
       "8798      59    2396       4  1041962835        27.0\n",
       "8815      59     314       3  1041962835         0.0\n",
       "8823      59    2670       5  1041962835         0.0\n",
       "8839      59    2762       3  1041962835         0.0\n",
       "8769      59    3157       3  1041962858        23.0\n",
       "8793      59    3185       3  1041962858         0.0\n",
       "8720      59    2070       4  1041962876        18.0\n",
       "8906      59    1172       4  1041962943        67.0\n",
       "8760      59     930       4  1041962965        22.0\n",
       "8766      59     945       3  1041962965         0.0\n",
       "8708      59    2067       4  1041962991        26.0"
      ]
     },
     "execution_count": 15,
     "metadata": {},
     "output_type": "execute_result"
    }
   ],
   "source": [
    "data.head(50)"
   ]
  },
  {
   "cell_type": "code",
   "execution_count": 16,
   "id": "spoken-category",
   "metadata": {},
   "outputs": [
    {
     "data": {
      "text/html": [
       "<div>\n",
       "<style scoped>\n",
       "    .dataframe tbody tr th:only-of-type {\n",
       "        vertical-align: middle;\n",
       "    }\n",
       "\n",
       "    .dataframe tbody tr th {\n",
       "        vertical-align: top;\n",
       "    }\n",
       "\n",
       "    .dataframe thead th {\n",
       "        text-align: right;\n",
       "    }\n",
       "</style>\n",
       "<table border=\"1\" class=\"dataframe\">\n",
       "  <thead>\n",
       "    <tr style=\"text-align: right;\">\n",
       "      <th></th>\n",
       "      <th>UserId</th>\n",
       "      <th>ItemId</th>\n",
       "      <th>Rating</th>\n",
       "      <th>Time</th>\n",
       "      <th>diff</th>\n",
       "    </tr>\n",
       "  </thead>\n",
       "  <tbody>\n",
       "    <tr>\n",
       "      <th>992550</th>\n",
       "      <td>5996</td>\n",
       "      <td>2247</td>\n",
       "      <td>4</td>\n",
       "      <td>1020110044</td>\n",
       "      <td>0.0</td>\n",
       "    </tr>\n",
       "    <tr>\n",
       "      <th>992783</th>\n",
       "      <td>5996</td>\n",
       "      <td>552</td>\n",
       "      <td>4</td>\n",
       "      <td>1020110044</td>\n",
       "      <td>0.0</td>\n",
       "    </tr>\n",
       "    <tr>\n",
       "      <th>992575</th>\n",
       "      <td>5996</td>\n",
       "      <td>3253</td>\n",
       "      <td>3</td>\n",
       "      <td>1020110139</td>\n",
       "      <td>95.0</td>\n",
       "    </tr>\n",
       "    <tr>\n",
       "      <th>992349</th>\n",
       "      <td>5996</td>\n",
       "      <td>3809</td>\n",
       "      <td>3</td>\n",
       "      <td>1020110188</td>\n",
       "      <td>49.0</td>\n",
       "    </tr>\n",
       "    <tr>\n",
       "      <th>992554</th>\n",
       "      <td>5996</td>\n",
       "      <td>783</td>\n",
       "      <td>3</td>\n",
       "      <td>1020110188</td>\n",
       "      <td>0.0</td>\n",
       "    </tr>\n",
       "    <tr>\n",
       "      <th>992602</th>\n",
       "      <td>5996</td>\n",
       "      <td>2672</td>\n",
       "      <td>5</td>\n",
       "      <td>1020110214</td>\n",
       "      <td>26.0</td>\n",
       "    </tr>\n",
       "    <tr>\n",
       "      <th>992303</th>\n",
       "      <td>5996</td>\n",
       "      <td>2470</td>\n",
       "      <td>3</td>\n",
       "      <td>1020110294</td>\n",
       "      <td>80.0</td>\n",
       "    </tr>\n",
       "    <tr>\n",
       "      <th>992305</th>\n",
       "      <td>5996</td>\n",
       "      <td>203</td>\n",
       "      <td>3</td>\n",
       "      <td>1020110294</td>\n",
       "      <td>0.0</td>\n",
       "    </tr>\n",
       "    <tr>\n",
       "      <th>992562</th>\n",
       "      <td>5996</td>\n",
       "      <td>799</td>\n",
       "      <td>3</td>\n",
       "      <td>1020110294</td>\n",
       "      <td>0.0</td>\n",
       "    </tr>\n",
       "    <tr>\n",
       "      <th>992203</th>\n",
       "      <td>5996</td>\n",
       "      <td>3791</td>\n",
       "      <td>3</td>\n",
       "      <td>1020110319</td>\n",
       "      <td>25.0</td>\n",
       "    </tr>\n",
       "    <tr>\n",
       "      <th>992378</th>\n",
       "      <td>5996</td>\n",
       "      <td>2134</td>\n",
       "      <td>3</td>\n",
       "      <td>1020110405</td>\n",
       "      <td>86.0</td>\n",
       "    </tr>\n",
       "    <tr>\n",
       "      <th>992640</th>\n",
       "      <td>5996</td>\n",
       "      <td>1350</td>\n",
       "      <td>4</td>\n",
       "      <td>1020110405</td>\n",
       "      <td>0.0</td>\n",
       "    </tr>\n",
       "    <tr>\n",
       "      <th>992674</th>\n",
       "      <td>5996</td>\n",
       "      <td>1713</td>\n",
       "      <td>2</td>\n",
       "      <td>1020110405</td>\n",
       "      <td>0.0</td>\n",
       "    </tr>\n",
       "    <tr>\n",
       "      <th>992593</th>\n",
       "      <td>5996</td>\n",
       "      <td>1688</td>\n",
       "      <td>5</td>\n",
       "      <td>1020110560</td>\n",
       "      <td>155.0</td>\n",
       "    </tr>\n",
       "    <tr>\n",
       "      <th>992739</th>\n",
       "      <td>5996</td>\n",
       "      <td>1030</td>\n",
       "      <td>3</td>\n",
       "      <td>1020110560</td>\n",
       "      <td>0.0</td>\n",
       "    </tr>\n",
       "    <tr>\n",
       "      <th>992585</th>\n",
       "      <td>5996</td>\n",
       "      <td>3274</td>\n",
       "      <td>4</td>\n",
       "      <td>1020110590</td>\n",
       "      <td>30.0</td>\n",
       "    </tr>\n",
       "    <tr>\n",
       "      <th>992473</th>\n",
       "      <td>5996</td>\n",
       "      <td>31</td>\n",
       "      <td>4</td>\n",
       "      <td>1020110620</td>\n",
       "      <td>30.0</td>\n",
       "    </tr>\n",
       "    <tr>\n",
       "      <th>992549</th>\n",
       "      <td>5996</td>\n",
       "      <td>2245</td>\n",
       "      <td>4</td>\n",
       "      <td>1020110656</td>\n",
       "      <td>36.0</td>\n",
       "    </tr>\n",
       "    <tr>\n",
       "      <th>992666</th>\n",
       "      <td>5996</td>\n",
       "      <td>3301</td>\n",
       "      <td>4</td>\n",
       "      <td>1020110656</td>\n",
       "      <td>0.0</td>\n",
       "    </tr>\n",
       "    <tr>\n",
       "      <th>992364</th>\n",
       "      <td>5996</td>\n",
       "      <td>2109</td>\n",
       "      <td>2</td>\n",
       "      <td>1020110717</td>\n",
       "      <td>61.0</td>\n",
       "    </tr>\n",
       "    <tr>\n",
       "      <th>992522</th>\n",
       "      <td>5996</td>\n",
       "      <td>2989</td>\n",
       "      <td>4</td>\n",
       "      <td>1020110717</td>\n",
       "      <td>0.0</td>\n",
       "    </tr>\n",
       "    <tr>\n",
       "      <th>992571</th>\n",
       "      <td>5996</td>\n",
       "      <td>3247</td>\n",
       "      <td>4</td>\n",
       "      <td>1020110717</td>\n",
       "      <td>0.0</td>\n",
       "    </tr>\n",
       "    <tr>\n",
       "      <th>992787</th>\n",
       "      <td>5996</td>\n",
       "      <td>1091</td>\n",
       "      <td>3</td>\n",
       "      <td>1020110814</td>\n",
       "      <td>97.0</td>\n",
       "    </tr>\n",
       "    <tr>\n",
       "      <th>992555</th>\n",
       "      <td>5996</td>\n",
       "      <td>786</td>\n",
       "      <td>3</td>\n",
       "      <td>1020110925</td>\n",
       "      <td>111.0</td>\n",
       "    </tr>\n",
       "    <tr>\n",
       "      <th>992678</th>\n",
       "      <td>5996</td>\n",
       "      <td>2376</td>\n",
       "      <td>4</td>\n",
       "      <td>1020110925</td>\n",
       "      <td>0.0</td>\n",
       "    </tr>\n",
       "    <tr>\n",
       "      <th>992567</th>\n",
       "      <td>5996</td>\n",
       "      <td>2279</td>\n",
       "      <td>3</td>\n",
       "      <td>1020110972</td>\n",
       "      <td>47.0</td>\n",
       "    </tr>\n",
       "    <tr>\n",
       "      <th>992355</th>\n",
       "      <td>5996</td>\n",
       "      <td>3826</td>\n",
       "      <td>1</td>\n",
       "      <td>1020111017</td>\n",
       "      <td>45.0</td>\n",
       "    </tr>\n",
       "    <tr>\n",
       "      <th>992414</th>\n",
       "      <td>5996</td>\n",
       "      <td>2504</td>\n",
       "      <td>5</td>\n",
       "      <td>1020111062</td>\n",
       "      <td>45.0</td>\n",
       "    </tr>\n",
       "    <tr>\n",
       "      <th>992582</th>\n",
       "      <td>5996</td>\n",
       "      <td>1665</td>\n",
       "      <td>2</td>\n",
       "      <td>1020111097</td>\n",
       "      <td>35.0</td>\n",
       "    </tr>\n",
       "    <tr>\n",
       "      <th>992737</th>\n",
       "      <td>5996</td>\n",
       "      <td>3715</td>\n",
       "      <td>3</td>\n",
       "      <td>1020111141</td>\n",
       "      <td>44.0</td>\n",
       "    </tr>\n",
       "    <tr>\n",
       "      <th>992214</th>\n",
       "      <td>5996</td>\n",
       "      <td>5</td>\n",
       "      <td>4</td>\n",
       "      <td>1020111183</td>\n",
       "      <td>42.0</td>\n",
       "    </tr>\n",
       "    <tr>\n",
       "      <th>992523</th>\n",
       "      <td>5996</td>\n",
       "      <td>719</td>\n",
       "      <td>4</td>\n",
       "      <td>1020111183</td>\n",
       "      <td>0.0</td>\n",
       "    </tr>\n",
       "    <tr>\n",
       "      <th>992579</th>\n",
       "      <td>5996</td>\n",
       "      <td>2605</td>\n",
       "      <td>5</td>\n",
       "      <td>1020111183</td>\n",
       "      <td>0.0</td>\n",
       "    </tr>\n",
       "    <tr>\n",
       "      <th>992620</th>\n",
       "      <td>5996</td>\n",
       "      <td>466</td>\n",
       "      <td>3</td>\n",
       "      <td>1020111221</td>\n",
       "      <td>38.0</td>\n",
       "    </tr>\n",
       "    <tr>\n",
       "      <th>992677</th>\n",
       "      <td>5996</td>\n",
       "      <td>2375</td>\n",
       "      <td>3</td>\n",
       "      <td>1020111221</td>\n",
       "      <td>0.0</td>\n",
       "    </tr>\n",
       "    <tr>\n",
       "      <th>992583</th>\n",
       "      <td>5996</td>\n",
       "      <td>2616</td>\n",
       "      <td>3</td>\n",
       "      <td>1020111375</td>\n",
       "      <td>154.0</td>\n",
       "    </tr>\n",
       "    <tr>\n",
       "      <th>992724</th>\n",
       "      <td>5996</td>\n",
       "      <td>3707</td>\n",
       "      <td>5</td>\n",
       "      <td>1020111375</td>\n",
       "      <td>0.0</td>\n",
       "    </tr>\n",
       "    <tr>\n",
       "      <th>992553</th>\n",
       "      <td>5996</td>\n",
       "      <td>781</td>\n",
       "      <td>5</td>\n",
       "      <td>1020111524</td>\n",
       "      <td>149.0</td>\n",
       "    </tr>\n",
       "    <tr>\n",
       "      <th>992775</th>\n",
       "      <td>5996</td>\n",
       "      <td>542</td>\n",
       "      <td>3</td>\n",
       "      <td>1020111524</td>\n",
       "      <td>0.0</td>\n",
       "    </tr>\n",
       "    <tr>\n",
       "      <th>992689</th>\n",
       "      <td>5996</td>\n",
       "      <td>2701</td>\n",
       "      <td>3</td>\n",
       "      <td>1020111976</td>\n",
       "      <td>452.0</td>\n",
       "    </tr>\n",
       "    <tr>\n",
       "      <th>992304</th>\n",
       "      <td>5996</td>\n",
       "      <td>2471</td>\n",
       "      <td>2</td>\n",
       "      <td>1020112109</td>\n",
       "      <td>133.0</td>\n",
       "    </tr>\n",
       "    <tr>\n",
       "      <th>992405</th>\n",
       "      <td>5996</td>\n",
       "      <td>3130</td>\n",
       "      <td>2</td>\n",
       "      <td>1020112229</td>\n",
       "      <td>120.0</td>\n",
       "    </tr>\n",
       "    <tr>\n",
       "      <th>992738</th>\n",
       "      <td>5996</td>\n",
       "      <td>3716</td>\n",
       "      <td>3</td>\n",
       "      <td>1020112230</td>\n",
       "      <td>1.0</td>\n",
       "    </tr>\n",
       "    <tr>\n",
       "      <th>992715</th>\n",
       "      <td>5996</td>\n",
       "      <td>2748</td>\n",
       "      <td>1</td>\n",
       "      <td>1020112352</td>\n",
       "      <td>122.0</td>\n",
       "    </tr>\n",
       "    <tr>\n",
       "      <th>992466</th>\n",
       "      <td>5996</td>\n",
       "      <td>3564</td>\n",
       "      <td>3</td>\n",
       "      <td>1020112392</td>\n",
       "      <td>40.0</td>\n",
       "    </tr>\n",
       "    <tr>\n",
       "      <th>992358</th>\n",
       "      <td>5996</td>\n",
       "      <td>3835</td>\n",
       "      <td>3</td>\n",
       "      <td>1020113184</td>\n",
       "      <td>792.0</td>\n",
       "    </tr>\n",
       "    <tr>\n",
       "      <th>992279</th>\n",
       "      <td>5996</td>\n",
       "      <td>2422</td>\n",
       "      <td>3</td>\n",
       "      <td>1020113225</td>\n",
       "      <td>41.0</td>\n",
       "    </tr>\n",
       "    <tr>\n",
       "      <th>992702</th>\n",
       "      <td>5996</td>\n",
       "      <td>168</td>\n",
       "      <td>3</td>\n",
       "      <td>1031058746</td>\n",
       "      <td>10945521.0</td>\n",
       "    </tr>\n",
       "    <tr>\n",
       "      <th>992459</th>\n",
       "      <td>5996</td>\n",
       "      <td>339</td>\n",
       "      <td>4</td>\n",
       "      <td>1033997079</td>\n",
       "      <td>2938333.0</td>\n",
       "    </tr>\n",
       "    <tr>\n",
       "      <th>992387</th>\n",
       "      <td>5996</td>\n",
       "      <td>3882</td>\n",
       "      <td>3</td>\n",
       "      <td>1036428955</td>\n",
       "      <td>2431876.0</td>\n",
       "    </tr>\n",
       "  </tbody>\n",
       "</table>\n",
       "</div>"
      ],
      "text/plain": [
       "        UserId  ItemId  Rating        Time        diff\n",
       "992550    5996    2247       4  1020110044         0.0\n",
       "992783    5996     552       4  1020110044         0.0\n",
       "992575    5996    3253       3  1020110139        95.0\n",
       "992349    5996    3809       3  1020110188        49.0\n",
       "992554    5996     783       3  1020110188         0.0\n",
       "992602    5996    2672       5  1020110214        26.0\n",
       "992303    5996    2470       3  1020110294        80.0\n",
       "992305    5996     203       3  1020110294         0.0\n",
       "992562    5996     799       3  1020110294         0.0\n",
       "992203    5996    3791       3  1020110319        25.0\n",
       "992378    5996    2134       3  1020110405        86.0\n",
       "992640    5996    1350       4  1020110405         0.0\n",
       "992674    5996    1713       2  1020110405         0.0\n",
       "992593    5996    1688       5  1020110560       155.0\n",
       "992739    5996    1030       3  1020110560         0.0\n",
       "992585    5996    3274       4  1020110590        30.0\n",
       "992473    5996      31       4  1020110620        30.0\n",
       "992549    5996    2245       4  1020110656        36.0\n",
       "992666    5996    3301       4  1020110656         0.0\n",
       "992364    5996    2109       2  1020110717        61.0\n",
       "992522    5996    2989       4  1020110717         0.0\n",
       "992571    5996    3247       4  1020110717         0.0\n",
       "992787    5996    1091       3  1020110814        97.0\n",
       "992555    5996     786       3  1020110925       111.0\n",
       "992678    5996    2376       4  1020110925         0.0\n",
       "992567    5996    2279       3  1020110972        47.0\n",
       "992355    5996    3826       1  1020111017        45.0\n",
       "992414    5996    2504       5  1020111062        45.0\n",
       "992582    5996    1665       2  1020111097        35.0\n",
       "992737    5996    3715       3  1020111141        44.0\n",
       "992214    5996       5       4  1020111183        42.0\n",
       "992523    5996     719       4  1020111183         0.0\n",
       "992579    5996    2605       5  1020111183         0.0\n",
       "992620    5996     466       3  1020111221        38.0\n",
       "992677    5996    2375       3  1020111221         0.0\n",
       "992583    5996    2616       3  1020111375       154.0\n",
       "992724    5996    3707       5  1020111375         0.0\n",
       "992553    5996     781       5  1020111524       149.0\n",
       "992775    5996     542       3  1020111524         0.0\n",
       "992689    5996    2701       3  1020111976       452.0\n",
       "992304    5996    2471       2  1020112109       133.0\n",
       "992405    5996    3130       2  1020112229       120.0\n",
       "992738    5996    3716       3  1020112230         1.0\n",
       "992715    5996    2748       1  1020112352       122.0\n",
       "992466    5996    3564       3  1020112392        40.0\n",
       "992358    5996    3835       3  1020113184       792.0\n",
       "992279    5996    2422       3  1020113225        41.0\n",
       "992702    5996     168       3  1031058746  10945521.0\n",
       "992459    5996     339       4  1033997079   2938333.0\n",
       "992387    5996    3882       3  1036428955   2431876.0"
      ]
     },
     "execution_count": 16,
     "metadata": {},
     "output_type": "execute_result"
    }
   ],
   "source": [
    "data.tail(50)"
   ]
  },
  {
   "cell_type": "markdown",
   "id": "third-asset",
   "metadata": {},
   "source": [
    "# diff에 대한 통계 확인"
   ]
  },
  {
   "cell_type": "code",
   "execution_count": 17,
   "id": "absolute-alcohol",
   "metadata": {},
   "outputs": [
    {
     "data": {
      "text/html": [
       "<div>\n",
       "<style scoped>\n",
       "    .dataframe tbody tr th:only-of-type {\n",
       "        vertical-align: middle;\n",
       "    }\n",
       "\n",
       "    .dataframe tbody tr th {\n",
       "        vertical-align: top;\n",
       "    }\n",
       "\n",
       "    .dataframe thead th {\n",
       "        text-align: right;\n",
       "    }\n",
       "</style>\n",
       "<table border=\"1\" class=\"dataframe\">\n",
       "  <thead>\n",
       "    <tr style=\"text-align: right;\">\n",
       "      <th></th>\n",
       "      <th>UserId</th>\n",
       "      <th>ItemId</th>\n",
       "      <th>Rating</th>\n",
       "      <th>Time</th>\n",
       "      <th>diff</th>\n",
       "    </tr>\n",
       "  </thead>\n",
       "  <tbody>\n",
       "    <tr>\n",
       "      <th>count</th>\n",
       "      <td>21701.000000</td>\n",
       "      <td>21701.000000</td>\n",
       "      <td>21701.000000</td>\n",
       "      <td>2.170100e+04</td>\n",
       "      <td>2.170100e+04</td>\n",
       "    </tr>\n",
       "    <tr>\n",
       "      <th>mean</th>\n",
       "      <td>2754.583061</td>\n",
       "      <td>1982.844431</td>\n",
       "      <td>3.446523</td>\n",
       "      <td>1.029144e+09</td>\n",
       "      <td>2.723040e+05</td>\n",
       "    </tr>\n",
       "    <tr>\n",
       "      <th>std</th>\n",
       "      <td>1752.600720</td>\n",
       "      <td>1135.279101</td>\n",
       "      <td>1.106853</td>\n",
       "      <td>9.362673e+06</td>\n",
       "      <td>1.507050e+06</td>\n",
       "    </tr>\n",
       "    <tr>\n",
       "      <th>min</th>\n",
       "      <td>36.000000</td>\n",
       "      <td>1.000000</td>\n",
       "      <td>1.000000</td>\n",
       "      <td>1.014923e+09</td>\n",
       "      <td>0.000000e+00</td>\n",
       "    </tr>\n",
       "    <tr>\n",
       "      <th>25%</th>\n",
       "      <td>1194.000000</td>\n",
       "      <td>1090.000000</td>\n",
       "      <td>3.000000</td>\n",
       "      <td>1.020427e+09</td>\n",
       "      <td>0.000000e+00</td>\n",
       "    </tr>\n",
       "    <tr>\n",
       "      <th>50%</th>\n",
       "      <td>2594.000000</td>\n",
       "      <td>2000.000000</td>\n",
       "      <td>4.000000</td>\n",
       "      <td>1.028393e+09</td>\n",
       "      <td>2.800000e+01</td>\n",
       "    </tr>\n",
       "    <tr>\n",
       "      <th>75%</th>\n",
       "      <td>4305.000000</td>\n",
       "      <td>2959.000000</td>\n",
       "      <td>4.000000</td>\n",
       "      <td>1.037423e+09</td>\n",
       "      <td>1.180000e+02</td>\n",
       "    </tr>\n",
       "    <tr>\n",
       "      <th>max</th>\n",
       "      <td>5996.000000</td>\n",
       "      <td>3952.000000</td>\n",
       "      <td>5.000000</td>\n",
       "      <td>1.046455e+09</td>\n",
       "      <td>3.076749e+07</td>\n",
       "    </tr>\n",
       "  </tbody>\n",
       "</table>\n",
       "</div>"
      ],
      "text/plain": [
       "             UserId        ItemId        Rating          Time          diff\n",
       "count  21701.000000  21701.000000  21701.000000  2.170100e+04  2.170100e+04\n",
       "mean    2754.583061   1982.844431      3.446523  1.029144e+09  2.723040e+05\n",
       "std     1752.600720   1135.279101      1.106853  9.362673e+06  1.507050e+06\n",
       "min       36.000000      1.000000      1.000000  1.014923e+09  0.000000e+00\n",
       "25%     1194.000000   1090.000000      3.000000  1.020427e+09  0.000000e+00\n",
       "50%     2594.000000   2000.000000      4.000000  1.028393e+09  2.800000e+01\n",
       "75%     4305.000000   2959.000000      4.000000  1.037423e+09  1.180000e+02\n",
       "max     5996.000000   3952.000000      5.000000  1.046455e+09  3.076749e+07"
      ]
     },
     "execution_count": 17,
     "metadata": {},
     "output_type": "execute_result"
    }
   ],
   "source": [
    "data.describe()"
   ]
  },
  {
   "cell_type": "markdown",
   "id": "awful-batch",
   "metadata": {},
   "source": [
    "# diff에 대해 이상치 기준선을 계산한다"
   ]
  },
  {
   "cell_type": "code",
   "execution_count": 18,
   "id": "urban-secretariat",
   "metadata": {
    "scrolled": true
   },
   "outputs": [
    {
     "data": {
      "text/plain": [
       "177.0"
      ]
     },
     "execution_count": 18,
     "metadata": {},
     "output_type": "execute_result"
    }
   ],
   "source": [
    "diff_upper_boundary = 3/2*data['diff'].quantile(0.75)\n",
    "diff_upper_boundary"
   ]
  },
  {
   "cell_type": "code",
   "execution_count": 19,
   "id": "peaceful-stick",
   "metadata": {},
   "outputs": [],
   "source": [
    "data = data.reset_index()"
   ]
  },
  {
   "cell_type": "markdown",
   "id": "editorial-airfare",
   "metadata": {},
   "source": [
    "# 사용시간 차이가 이상치 기준을 넘어서면 연속된 세션이 아니라고 판단하고 이를 세션 분리 기준으로 하여 세션을 구분한다."
   ]
  },
  {
   "cell_type": "code",
   "execution_count": 20,
   "id": "promising-investigation",
   "metadata": {},
   "outputs": [],
   "source": [
    "timediff_idx = data.index[data['diff']>diff_upper_boundary] # 이상치 기준으로 인덱스 추출\n",
    "UserId_idx = data.index[data['UserId'] != data['UserId'].shift(1)] # 이전 행과 UserId가 달라진 인덱스 추출\n",
    "\n",
    "total_idx = list(timediff_idx.append(UserId_idx).unique()) # 위에서 구한 두인덱스를 합한 후 유니크한 인덱스만 추출\n",
    "all_idx = list(data.index) # data의 전체 인덱스\n",
    "\n",
    "value = 0\n",
    "dic = {}\n",
    "data['SessionId'] = 0\n",
    "\n",
    "# 전체 인덱 스 중 total_idx가 포함되어 있으면 +1 후 그 값을 대입하고 아니면 이전값 그대로 대입한다.\n",
    "for i in all_idx:\n",
    "    if i in total_idx:\n",
    "        data.loc[i, 'SessionId'] = value\n",
    "        value += 1\n",
    "    else:\n",
    "        data.loc[i, 'SessionId'] = value"
   ]
  },
  {
   "cell_type": "code",
   "execution_count": 21,
   "id": "mathematical-murray",
   "metadata": {},
   "outputs": [
    {
     "data": {
      "text/html": [
       "<div>\n",
       "<style scoped>\n",
       "    .dataframe tbody tr th:only-of-type {\n",
       "        vertical-align: middle;\n",
       "    }\n",
       "\n",
       "    .dataframe tbody tr th {\n",
       "        vertical-align: top;\n",
       "    }\n",
       "\n",
       "    .dataframe thead th {\n",
       "        text-align: right;\n",
       "    }\n",
       "</style>\n",
       "<table border=\"1\" class=\"dataframe\">\n",
       "  <thead>\n",
       "    <tr style=\"text-align: right;\">\n",
       "      <th></th>\n",
       "      <th>index</th>\n",
       "      <th>UserId</th>\n",
       "      <th>ItemId</th>\n",
       "      <th>Rating</th>\n",
       "      <th>Time</th>\n",
       "      <th>diff</th>\n",
       "      <th>SessionId</th>\n",
       "    </tr>\n",
       "  </thead>\n",
       "  <tbody>\n",
       "    <tr>\n",
       "      <th>0</th>\n",
       "      <td>5170</td>\n",
       "      <td>36</td>\n",
       "      <td>1387</td>\n",
       "      <td>5</td>\n",
       "      <td>1015904819</td>\n",
       "      <td>0.0</td>\n",
       "      <td>0</td>\n",
       "    </tr>\n",
       "    <tr>\n",
       "      <th>1</th>\n",
       "      <td>5267</td>\n",
       "      <td>36</td>\n",
       "      <td>1201</td>\n",
       "      <td>4</td>\n",
       "      <td>1015904819</td>\n",
       "      <td>0.0</td>\n",
       "      <td>1</td>\n",
       "    </tr>\n",
       "    <tr>\n",
       "      <th>2</th>\n",
       "      <td>5122</td>\n",
       "      <td>36</td>\n",
       "      <td>1291</td>\n",
       "      <td>5</td>\n",
       "      <td>1015904836</td>\n",
       "      <td>17.0</td>\n",
       "      <td>1</td>\n",
       "    </tr>\n",
       "    <tr>\n",
       "      <th>3</th>\n",
       "      <td>5123</td>\n",
       "      <td>36</td>\n",
       "      <td>2167</td>\n",
       "      <td>5</td>\n",
       "      <td>1015904905</td>\n",
       "      <td>69.0</td>\n",
       "      <td>1</td>\n",
       "    </tr>\n",
       "    <tr>\n",
       "      <th>4</th>\n",
       "      <td>5290</td>\n",
       "      <td>36</td>\n",
       "      <td>2951</td>\n",
       "      <td>4</td>\n",
       "      <td>1015904905</td>\n",
       "      <td>0.0</td>\n",
       "      <td>1</td>\n",
       "    </tr>\n",
       "    <tr>\n",
       "      <th>5</th>\n",
       "      <td>5073</td>\n",
       "      <td>36</td>\n",
       "      <td>1912</td>\n",
       "      <td>5</td>\n",
       "      <td>1015904924</td>\n",
       "      <td>19.0</td>\n",
       "      <td>1</td>\n",
       "    </tr>\n",
       "    <tr>\n",
       "      <th>6</th>\n",
       "      <td>5366</td>\n",
       "      <td>36</td>\n",
       "      <td>2985</td>\n",
       "      <td>4</td>\n",
       "      <td>1015904941</td>\n",
       "      <td>17.0</td>\n",
       "      <td>1</td>\n",
       "    </tr>\n",
       "    <tr>\n",
       "      <th>7</th>\n",
       "      <td>5305</td>\n",
       "      <td>36</td>\n",
       "      <td>2527</td>\n",
       "      <td>3</td>\n",
       "      <td>1015904957</td>\n",
       "      <td>16.0</td>\n",
       "      <td>1</td>\n",
       "    </tr>\n",
       "    <tr>\n",
       "      <th>8</th>\n",
       "      <td>5145</td>\n",
       "      <td>36</td>\n",
       "      <td>198</td>\n",
       "      <td>5</td>\n",
       "      <td>1015904988</td>\n",
       "      <td>31.0</td>\n",
       "      <td>1</td>\n",
       "    </tr>\n",
       "    <tr>\n",
       "      <th>9</th>\n",
       "      <td>5296</td>\n",
       "      <td>36</td>\n",
       "      <td>1147</td>\n",
       "      <td>4</td>\n",
       "      <td>1015905111</td>\n",
       "      <td>123.0</td>\n",
       "      <td>1</td>\n",
       "    </tr>\n",
       "    <tr>\n",
       "      <th>10</th>\n",
       "      <td>5034</td>\n",
       "      <td>36</td>\n",
       "      <td>581</td>\n",
       "      <td>4</td>\n",
       "      <td>1015905127</td>\n",
       "      <td>16.0</td>\n",
       "      <td>1</td>\n",
       "    </tr>\n",
       "    <tr>\n",
       "      <th>11</th>\n",
       "      <td>5218</td>\n",
       "      <td>36</td>\n",
       "      <td>3142</td>\n",
       "      <td>4</td>\n",
       "      <td>1015905144</td>\n",
       "      <td>17.0</td>\n",
       "      <td>1</td>\n",
       "    </tr>\n",
       "    <tr>\n",
       "      <th>12</th>\n",
       "      <td>5328</td>\n",
       "      <td>36</td>\n",
       "      <td>556</td>\n",
       "      <td>5</td>\n",
       "      <td>1015905144</td>\n",
       "      <td>0.0</td>\n",
       "      <td>1</td>\n",
       "    </tr>\n",
       "    <tr>\n",
       "      <th>13</th>\n",
       "      <td>5060</td>\n",
       "      <td>36</td>\n",
       "      <td>1191</td>\n",
       "      <td>4</td>\n",
       "      <td>1015905249</td>\n",
       "      <td>105.0</td>\n",
       "      <td>1</td>\n",
       "    </tr>\n",
       "    <tr>\n",
       "      <th>14</th>\n",
       "      <td>5025</td>\n",
       "      <td>36</td>\n",
       "      <td>3359</td>\n",
       "      <td>5</td>\n",
       "      <td>1015905485</td>\n",
       "      <td>236.0</td>\n",
       "      <td>1</td>\n",
       "    </tr>\n",
       "    <tr>\n",
       "      <th>15</th>\n",
       "      <td>5325</td>\n",
       "      <td>36</td>\n",
       "      <td>553</td>\n",
       "      <td>4</td>\n",
       "      <td>1015905626</td>\n",
       "      <td>141.0</td>\n",
       "      <td>2</td>\n",
       "    </tr>\n",
       "    <tr>\n",
       "      <th>16</th>\n",
       "      <td>5109</td>\n",
       "      <td>36</td>\n",
       "      <td>1283</td>\n",
       "      <td>4</td>\n",
       "      <td>1015962403</td>\n",
       "      <td>56777.0</td>\n",
       "      <td>2</td>\n",
       "    </tr>\n",
       "    <tr>\n",
       "      <th>17</th>\n",
       "      <td>5291</td>\n",
       "      <td>36</td>\n",
       "      <td>3827</td>\n",
       "      <td>4</td>\n",
       "      <td>1015963458</td>\n",
       "      <td>1055.0</td>\n",
       "      <td>3</td>\n",
       "    </tr>\n",
       "    <tr>\n",
       "      <th>18</th>\n",
       "      <td>5211</td>\n",
       "      <td>36</td>\n",
       "      <td>2774</td>\n",
       "      <td>4</td>\n",
       "      <td>1016224902</td>\n",
       "      <td>261444.0</td>\n",
       "      <td>4</td>\n",
       "    </tr>\n",
       "    <tr>\n",
       "      <th>19</th>\n",
       "      <td>5200</td>\n",
       "      <td>36</td>\n",
       "      <td>2269</td>\n",
       "      <td>5</td>\n",
       "      <td>1040544350</td>\n",
       "      <td>24319448.0</td>\n",
       "      <td>5</td>\n",
       "    </tr>\n",
       "  </tbody>\n",
       "</table>\n",
       "</div>"
      ],
      "text/plain": [
       "    index  UserId  ItemId  Rating        Time        diff  SessionId\n",
       "0    5170      36    1387       5  1015904819         0.0          0\n",
       "1    5267      36    1201       4  1015904819         0.0          1\n",
       "2    5122      36    1291       5  1015904836        17.0          1\n",
       "3    5123      36    2167       5  1015904905        69.0          1\n",
       "4    5290      36    2951       4  1015904905         0.0          1\n",
       "5    5073      36    1912       5  1015904924        19.0          1\n",
       "6    5366      36    2985       4  1015904941        17.0          1\n",
       "7    5305      36    2527       3  1015904957        16.0          1\n",
       "8    5145      36     198       5  1015904988        31.0          1\n",
       "9    5296      36    1147       4  1015905111       123.0          1\n",
       "10   5034      36     581       4  1015905127        16.0          1\n",
       "11   5218      36    3142       4  1015905144        17.0          1\n",
       "12   5328      36     556       5  1015905144         0.0          1\n",
       "13   5060      36    1191       4  1015905249       105.0          1\n",
       "14   5025      36    3359       5  1015905485       236.0          1\n",
       "15   5325      36     553       4  1015905626       141.0          2\n",
       "16   5109      36    1283       4  1015962403     56777.0          2\n",
       "17   5291      36    3827       4  1015963458      1055.0          3\n",
       "18   5211      36    2774       4  1016224902    261444.0          4\n",
       "19   5200      36    2269       5  1040544350  24319448.0          5"
      ]
     },
     "execution_count": 21,
     "metadata": {},
     "output_type": "execute_result"
    }
   ],
   "source": [
    "data.head(20)"
   ]
  },
  {
   "cell_type": "code",
   "execution_count": 22,
   "id": "fixed-reunion",
   "metadata": {},
   "outputs": [
    {
     "data": {
      "text/html": [
       "<div>\n",
       "<style scoped>\n",
       "    .dataframe tbody tr th:only-of-type {\n",
       "        vertical-align: middle;\n",
       "    }\n",
       "\n",
       "    .dataframe tbody tr th {\n",
       "        vertical-align: top;\n",
       "    }\n",
       "\n",
       "    .dataframe thead th {\n",
       "        text-align: right;\n",
       "    }\n",
       "</style>\n",
       "<table border=\"1\" class=\"dataframe\">\n",
       "  <thead>\n",
       "    <tr style=\"text-align: right;\">\n",
       "      <th></th>\n",
       "      <th>index</th>\n",
       "      <th>UserId</th>\n",
       "      <th>ItemId</th>\n",
       "      <th>Rating</th>\n",
       "      <th>Time</th>\n",
       "      <th>diff</th>\n",
       "      <th>SessionId</th>\n",
       "    </tr>\n",
       "  </thead>\n",
       "  <tbody>\n",
       "    <tr>\n",
       "      <th>21681</th>\n",
       "      <td>992214</td>\n",
       "      <td>5996</td>\n",
       "      <td>5</td>\n",
       "      <td>4</td>\n",
       "      <td>1020111183</td>\n",
       "      <td>42.0</td>\n",
       "      <td>5077</td>\n",
       "    </tr>\n",
       "    <tr>\n",
       "      <th>21682</th>\n",
       "      <td>992523</td>\n",
       "      <td>5996</td>\n",
       "      <td>719</td>\n",
       "      <td>4</td>\n",
       "      <td>1020111183</td>\n",
       "      <td>0.0</td>\n",
       "      <td>5077</td>\n",
       "    </tr>\n",
       "    <tr>\n",
       "      <th>21683</th>\n",
       "      <td>992579</td>\n",
       "      <td>5996</td>\n",
       "      <td>2605</td>\n",
       "      <td>5</td>\n",
       "      <td>1020111183</td>\n",
       "      <td>0.0</td>\n",
       "      <td>5077</td>\n",
       "    </tr>\n",
       "    <tr>\n",
       "      <th>21684</th>\n",
       "      <td>992620</td>\n",
       "      <td>5996</td>\n",
       "      <td>466</td>\n",
       "      <td>3</td>\n",
       "      <td>1020111221</td>\n",
       "      <td>38.0</td>\n",
       "      <td>5077</td>\n",
       "    </tr>\n",
       "    <tr>\n",
       "      <th>21685</th>\n",
       "      <td>992677</td>\n",
       "      <td>5996</td>\n",
       "      <td>2375</td>\n",
       "      <td>3</td>\n",
       "      <td>1020111221</td>\n",
       "      <td>0.0</td>\n",
       "      <td>5077</td>\n",
       "    </tr>\n",
       "    <tr>\n",
       "      <th>21686</th>\n",
       "      <td>992583</td>\n",
       "      <td>5996</td>\n",
       "      <td>2616</td>\n",
       "      <td>3</td>\n",
       "      <td>1020111375</td>\n",
       "      <td>154.0</td>\n",
       "      <td>5077</td>\n",
       "    </tr>\n",
       "    <tr>\n",
       "      <th>21687</th>\n",
       "      <td>992724</td>\n",
       "      <td>5996</td>\n",
       "      <td>3707</td>\n",
       "      <td>5</td>\n",
       "      <td>1020111375</td>\n",
       "      <td>0.0</td>\n",
       "      <td>5077</td>\n",
       "    </tr>\n",
       "    <tr>\n",
       "      <th>21688</th>\n",
       "      <td>992553</td>\n",
       "      <td>5996</td>\n",
       "      <td>781</td>\n",
       "      <td>5</td>\n",
       "      <td>1020111524</td>\n",
       "      <td>149.0</td>\n",
       "      <td>5077</td>\n",
       "    </tr>\n",
       "    <tr>\n",
       "      <th>21689</th>\n",
       "      <td>992775</td>\n",
       "      <td>5996</td>\n",
       "      <td>542</td>\n",
       "      <td>3</td>\n",
       "      <td>1020111524</td>\n",
       "      <td>0.0</td>\n",
       "      <td>5077</td>\n",
       "    </tr>\n",
       "    <tr>\n",
       "      <th>21690</th>\n",
       "      <td>992689</td>\n",
       "      <td>5996</td>\n",
       "      <td>2701</td>\n",
       "      <td>3</td>\n",
       "      <td>1020111976</td>\n",
       "      <td>452.0</td>\n",
       "      <td>5077</td>\n",
       "    </tr>\n",
       "    <tr>\n",
       "      <th>21691</th>\n",
       "      <td>992304</td>\n",
       "      <td>5996</td>\n",
       "      <td>2471</td>\n",
       "      <td>2</td>\n",
       "      <td>1020112109</td>\n",
       "      <td>133.0</td>\n",
       "      <td>5078</td>\n",
       "    </tr>\n",
       "    <tr>\n",
       "      <th>21692</th>\n",
       "      <td>992405</td>\n",
       "      <td>5996</td>\n",
       "      <td>3130</td>\n",
       "      <td>2</td>\n",
       "      <td>1020112229</td>\n",
       "      <td>120.0</td>\n",
       "      <td>5078</td>\n",
       "    </tr>\n",
       "    <tr>\n",
       "      <th>21693</th>\n",
       "      <td>992738</td>\n",
       "      <td>5996</td>\n",
       "      <td>3716</td>\n",
       "      <td>3</td>\n",
       "      <td>1020112230</td>\n",
       "      <td>1.0</td>\n",
       "      <td>5078</td>\n",
       "    </tr>\n",
       "    <tr>\n",
       "      <th>21694</th>\n",
       "      <td>992715</td>\n",
       "      <td>5996</td>\n",
       "      <td>2748</td>\n",
       "      <td>1</td>\n",
       "      <td>1020112352</td>\n",
       "      <td>122.0</td>\n",
       "      <td>5078</td>\n",
       "    </tr>\n",
       "    <tr>\n",
       "      <th>21695</th>\n",
       "      <td>992466</td>\n",
       "      <td>5996</td>\n",
       "      <td>3564</td>\n",
       "      <td>3</td>\n",
       "      <td>1020112392</td>\n",
       "      <td>40.0</td>\n",
       "      <td>5078</td>\n",
       "    </tr>\n",
       "    <tr>\n",
       "      <th>21696</th>\n",
       "      <td>992358</td>\n",
       "      <td>5996</td>\n",
       "      <td>3835</td>\n",
       "      <td>3</td>\n",
       "      <td>1020113184</td>\n",
       "      <td>792.0</td>\n",
       "      <td>5078</td>\n",
       "    </tr>\n",
       "    <tr>\n",
       "      <th>21697</th>\n",
       "      <td>992279</td>\n",
       "      <td>5996</td>\n",
       "      <td>2422</td>\n",
       "      <td>3</td>\n",
       "      <td>1020113225</td>\n",
       "      <td>41.0</td>\n",
       "      <td>5079</td>\n",
       "    </tr>\n",
       "    <tr>\n",
       "      <th>21698</th>\n",
       "      <td>992702</td>\n",
       "      <td>5996</td>\n",
       "      <td>168</td>\n",
       "      <td>3</td>\n",
       "      <td>1031058746</td>\n",
       "      <td>10945521.0</td>\n",
       "      <td>5079</td>\n",
       "    </tr>\n",
       "    <tr>\n",
       "      <th>21699</th>\n",
       "      <td>992459</td>\n",
       "      <td>5996</td>\n",
       "      <td>339</td>\n",
       "      <td>4</td>\n",
       "      <td>1033997079</td>\n",
       "      <td>2938333.0</td>\n",
       "      <td>5080</td>\n",
       "    </tr>\n",
       "    <tr>\n",
       "      <th>21700</th>\n",
       "      <td>992387</td>\n",
       "      <td>5996</td>\n",
       "      <td>3882</td>\n",
       "      <td>3</td>\n",
       "      <td>1036428955</td>\n",
       "      <td>2431876.0</td>\n",
       "      <td>5081</td>\n",
       "    </tr>\n",
       "  </tbody>\n",
       "</table>\n",
       "</div>"
      ],
      "text/plain": [
       "        index  UserId  ItemId  Rating        Time        diff  SessionId\n",
       "21681  992214    5996       5       4  1020111183        42.0       5077\n",
       "21682  992523    5996     719       4  1020111183         0.0       5077\n",
       "21683  992579    5996    2605       5  1020111183         0.0       5077\n",
       "21684  992620    5996     466       3  1020111221        38.0       5077\n",
       "21685  992677    5996    2375       3  1020111221         0.0       5077\n",
       "21686  992583    5996    2616       3  1020111375       154.0       5077\n",
       "21687  992724    5996    3707       5  1020111375         0.0       5077\n",
       "21688  992553    5996     781       5  1020111524       149.0       5077\n",
       "21689  992775    5996     542       3  1020111524         0.0       5077\n",
       "21690  992689    5996    2701       3  1020111976       452.0       5077\n",
       "21691  992304    5996    2471       2  1020112109       133.0       5078\n",
       "21692  992405    5996    3130       2  1020112229       120.0       5078\n",
       "21693  992738    5996    3716       3  1020112230         1.0       5078\n",
       "21694  992715    5996    2748       1  1020112352       122.0       5078\n",
       "21695  992466    5996    3564       3  1020112392        40.0       5078\n",
       "21696  992358    5996    3835       3  1020113184       792.0       5078\n",
       "21697  992279    5996    2422       3  1020113225        41.0       5079\n",
       "21698  992702    5996     168       3  1031058746  10945521.0       5079\n",
       "21699  992459    5996     339       4  1033997079   2938333.0       5080\n",
       "21700  992387    5996    3882       3  1036428955   2431876.0       5081"
      ]
     },
     "execution_count": 22,
     "metadata": {},
     "output_type": "execute_result"
    }
   ],
   "source": [
    "data.tail(20)"
   ]
  },
  {
   "cell_type": "markdown",
   "id": "oriental-russell",
   "metadata": {},
   "source": [
    "# 한칸씩 밀린 세션 값을 조정한다"
   ]
  },
  {
   "cell_type": "code",
   "execution_count": 23,
   "id": "durable-rover",
   "metadata": {},
   "outputs": [],
   "source": [
    "data['SessionId'] = data['SessionId'].shift(periods=-1)"
   ]
  },
  {
   "cell_type": "code",
   "execution_count": 24,
   "id": "satellite-capture",
   "metadata": {},
   "outputs": [
    {
     "data": {
      "text/html": [
       "<div>\n",
       "<style scoped>\n",
       "    .dataframe tbody tr th:only-of-type {\n",
       "        vertical-align: middle;\n",
       "    }\n",
       "\n",
       "    .dataframe tbody tr th {\n",
       "        vertical-align: top;\n",
       "    }\n",
       "\n",
       "    .dataframe thead th {\n",
       "        text-align: right;\n",
       "    }\n",
       "</style>\n",
       "<table border=\"1\" class=\"dataframe\">\n",
       "  <thead>\n",
       "    <tr style=\"text-align: right;\">\n",
       "      <th></th>\n",
       "      <th>index</th>\n",
       "      <th>UserId</th>\n",
       "      <th>ItemId</th>\n",
       "      <th>Rating</th>\n",
       "      <th>Time</th>\n",
       "      <th>diff</th>\n",
       "      <th>SessionId</th>\n",
       "    </tr>\n",
       "  </thead>\n",
       "  <tbody>\n",
       "    <tr>\n",
       "      <th>21696</th>\n",
       "      <td>992358</td>\n",
       "      <td>5996</td>\n",
       "      <td>3835</td>\n",
       "      <td>3</td>\n",
       "      <td>1020113184</td>\n",
       "      <td>792.0</td>\n",
       "      <td>5079.0</td>\n",
       "    </tr>\n",
       "    <tr>\n",
       "      <th>21697</th>\n",
       "      <td>992279</td>\n",
       "      <td>5996</td>\n",
       "      <td>2422</td>\n",
       "      <td>3</td>\n",
       "      <td>1020113225</td>\n",
       "      <td>41.0</td>\n",
       "      <td>5079.0</td>\n",
       "    </tr>\n",
       "    <tr>\n",
       "      <th>21698</th>\n",
       "      <td>992702</td>\n",
       "      <td>5996</td>\n",
       "      <td>168</td>\n",
       "      <td>3</td>\n",
       "      <td>1031058746</td>\n",
       "      <td>10945521.0</td>\n",
       "      <td>5080.0</td>\n",
       "    </tr>\n",
       "    <tr>\n",
       "      <th>21699</th>\n",
       "      <td>992459</td>\n",
       "      <td>5996</td>\n",
       "      <td>339</td>\n",
       "      <td>4</td>\n",
       "      <td>1033997079</td>\n",
       "      <td>2938333.0</td>\n",
       "      <td>5081.0</td>\n",
       "    </tr>\n",
       "    <tr>\n",
       "      <th>21700</th>\n",
       "      <td>992387</td>\n",
       "      <td>5996</td>\n",
       "      <td>3882</td>\n",
       "      <td>3</td>\n",
       "      <td>1036428955</td>\n",
       "      <td>2431876.0</td>\n",
       "      <td>NaN</td>\n",
       "    </tr>\n",
       "  </tbody>\n",
       "</table>\n",
       "</div>"
      ],
      "text/plain": [
       "        index  UserId  ItemId  Rating        Time        diff  SessionId\n",
       "21696  992358    5996    3835       3  1020113184       792.0     5079.0\n",
       "21697  992279    5996    2422       3  1020113225        41.0     5079.0\n",
       "21698  992702    5996     168       3  1031058746  10945521.0     5080.0\n",
       "21699  992459    5996     339       4  1033997079   2938333.0     5081.0\n",
       "21700  992387    5996    3882       3  1036428955   2431876.0        NaN"
      ]
     },
     "execution_count": 24,
     "metadata": {},
     "output_type": "execute_result"
    }
   ],
   "source": [
    "data.tail()"
   ]
  },
  {
   "cell_type": "code",
   "execution_count": 25,
   "id": "regular-edmonton",
   "metadata": {},
   "outputs": [],
   "source": [
    "data['SessionId'] = data['SessionId'].fillna(5082)\n",
    "data['SessionId'] = data['SessionId'].astype('int')"
   ]
  },
  {
   "cell_type": "code",
   "execution_count": 26,
   "id": "limited-chassis",
   "metadata": {},
   "outputs": [
    {
     "data": {
      "text/html": [
       "<div>\n",
       "<style scoped>\n",
       "    .dataframe tbody tr th:only-of-type {\n",
       "        vertical-align: middle;\n",
       "    }\n",
       "\n",
       "    .dataframe tbody tr th {\n",
       "        vertical-align: top;\n",
       "    }\n",
       "\n",
       "    .dataframe thead th {\n",
       "        text-align: right;\n",
       "    }\n",
       "</style>\n",
       "<table border=\"1\" class=\"dataframe\">\n",
       "  <thead>\n",
       "    <tr style=\"text-align: right;\">\n",
       "      <th></th>\n",
       "      <th>index</th>\n",
       "      <th>UserId</th>\n",
       "      <th>ItemId</th>\n",
       "      <th>Rating</th>\n",
       "      <th>Time</th>\n",
       "      <th>diff</th>\n",
       "      <th>SessionId</th>\n",
       "    </tr>\n",
       "  </thead>\n",
       "  <tbody>\n",
       "    <tr>\n",
       "      <th>21696</th>\n",
       "      <td>992358</td>\n",
       "      <td>5996</td>\n",
       "      <td>3835</td>\n",
       "      <td>3</td>\n",
       "      <td>1020113184</td>\n",
       "      <td>792.0</td>\n",
       "      <td>5079</td>\n",
       "    </tr>\n",
       "    <tr>\n",
       "      <th>21697</th>\n",
       "      <td>992279</td>\n",
       "      <td>5996</td>\n",
       "      <td>2422</td>\n",
       "      <td>3</td>\n",
       "      <td>1020113225</td>\n",
       "      <td>41.0</td>\n",
       "      <td>5079</td>\n",
       "    </tr>\n",
       "    <tr>\n",
       "      <th>21698</th>\n",
       "      <td>992702</td>\n",
       "      <td>5996</td>\n",
       "      <td>168</td>\n",
       "      <td>3</td>\n",
       "      <td>1031058746</td>\n",
       "      <td>10945521.0</td>\n",
       "      <td>5080</td>\n",
       "    </tr>\n",
       "    <tr>\n",
       "      <th>21699</th>\n",
       "      <td>992459</td>\n",
       "      <td>5996</td>\n",
       "      <td>339</td>\n",
       "      <td>4</td>\n",
       "      <td>1033997079</td>\n",
       "      <td>2938333.0</td>\n",
       "      <td>5081</td>\n",
       "    </tr>\n",
       "    <tr>\n",
       "      <th>21700</th>\n",
       "      <td>992387</td>\n",
       "      <td>5996</td>\n",
       "      <td>3882</td>\n",
       "      <td>3</td>\n",
       "      <td>1036428955</td>\n",
       "      <td>2431876.0</td>\n",
       "      <td>5082</td>\n",
       "    </tr>\n",
       "  </tbody>\n",
       "</table>\n",
       "</div>"
      ],
      "text/plain": [
       "        index  UserId  ItemId  Rating        Time        diff  SessionId\n",
       "21696  992358    5996    3835       3  1020113184       792.0       5079\n",
       "21697  992279    5996    2422       3  1020113225        41.0       5079\n",
       "21698  992702    5996     168       3  1031058746  10945521.0       5080\n",
       "21699  992459    5996     339       4  1033997079   2938333.0       5081\n",
       "21700  992387    5996    3882       3  1036428955   2431876.0       5082"
      ]
     },
     "execution_count": 26,
     "metadata": {},
     "output_type": "execute_result"
    }
   ],
   "source": [
    "data.tail()"
   ]
  },
  {
   "cell_type": "code",
   "execution_count": 27,
   "id": "empirical-hungary",
   "metadata": {},
   "outputs": [
    {
     "data": {
      "text/html": [
       "<div>\n",
       "<style scoped>\n",
       "    .dataframe tbody tr th:only-of-type {\n",
       "        vertical-align: middle;\n",
       "    }\n",
       "\n",
       "    .dataframe tbody tr th {\n",
       "        vertical-align: top;\n",
       "    }\n",
       "\n",
       "    .dataframe thead th {\n",
       "        text-align: right;\n",
       "    }\n",
       "</style>\n",
       "<table border=\"1\" class=\"dataframe\">\n",
       "  <thead>\n",
       "    <tr style=\"text-align: right;\">\n",
       "      <th></th>\n",
       "      <th>index</th>\n",
       "      <th>UserId</th>\n",
       "      <th>ItemId</th>\n",
       "      <th>Rating</th>\n",
       "      <th>Time</th>\n",
       "      <th>diff</th>\n",
       "      <th>SessionId</th>\n",
       "    </tr>\n",
       "  </thead>\n",
       "  <tbody>\n",
       "    <tr>\n",
       "      <th>count</th>\n",
       "      <td>21701.000000</td>\n",
       "      <td>21701.000000</td>\n",
       "      <td>21701.000000</td>\n",
       "      <td>21701.000000</td>\n",
       "      <td>2.170100e+04</td>\n",
       "      <td>2.170100e+04</td>\n",
       "      <td>21701.000000</td>\n",
       "    </tr>\n",
       "    <tr>\n",
       "      <th>mean</th>\n",
       "      <td>454849.672089</td>\n",
       "      <td>2754.583061</td>\n",
       "      <td>1982.844431</td>\n",
       "      <td>3.446523</td>\n",
       "      <td>1.029144e+09</td>\n",
       "      <td>2.723040e+05</td>\n",
       "      <td>2685.439888</td>\n",
       "    </tr>\n",
       "    <tr>\n",
       "      <th>std</th>\n",
       "      <td>292783.017189</td>\n",
       "      <td>1752.600720</td>\n",
       "      <td>1135.279101</td>\n",
       "      <td>1.106853</td>\n",
       "      <td>9.362673e+06</td>\n",
       "      <td>1.507050e+06</td>\n",
       "      <td>1451.100806</td>\n",
       "    </tr>\n",
       "    <tr>\n",
       "      <th>min</th>\n",
       "      <td>5025.000000</td>\n",
       "      <td>36.000000</td>\n",
       "      <td>1.000000</td>\n",
       "      <td>1.000000</td>\n",
       "      <td>1.014923e+09</td>\n",
       "      <td>0.000000e+00</td>\n",
       "      <td>1.000000</td>\n",
       "    </tr>\n",
       "    <tr>\n",
       "      <th>25%</th>\n",
       "      <td>193901.000000</td>\n",
       "      <td>1194.000000</td>\n",
       "      <td>1090.000000</td>\n",
       "      <td>3.000000</td>\n",
       "      <td>1.020427e+09</td>\n",
       "      <td>0.000000e+00</td>\n",
       "      <td>1369.000000</td>\n",
       "    </tr>\n",
       "    <tr>\n",
       "      <th>50%</th>\n",
       "      <td>427329.000000</td>\n",
       "      <td>2594.000000</td>\n",
       "      <td>2000.000000</td>\n",
       "      <td>4.000000</td>\n",
       "      <td>1.028393e+09</td>\n",
       "      <td>2.800000e+01</td>\n",
       "      <td>2912.000000</td>\n",
       "    </tr>\n",
       "    <tr>\n",
       "      <th>75%</th>\n",
       "      <td>718964.000000</td>\n",
       "      <td>4305.000000</td>\n",
       "      <td>2959.000000</td>\n",
       "      <td>4.000000</td>\n",
       "      <td>1.037423e+09</td>\n",
       "      <td>1.180000e+02</td>\n",
       "      <td>3920.000000</td>\n",
       "    </tr>\n",
       "    <tr>\n",
       "      <th>max</th>\n",
       "      <td>992787.000000</td>\n",
       "      <td>5996.000000</td>\n",
       "      <td>3952.000000</td>\n",
       "      <td>5.000000</td>\n",
       "      <td>1.046455e+09</td>\n",
       "      <td>3.076749e+07</td>\n",
       "      <td>5082.000000</td>\n",
       "    </tr>\n",
       "  </tbody>\n",
       "</table>\n",
       "</div>"
      ],
      "text/plain": [
       "               index        UserId        ItemId        Rating          Time  \\\n",
       "count   21701.000000  21701.000000  21701.000000  21701.000000  2.170100e+04   \n",
       "mean   454849.672089   2754.583061   1982.844431      3.446523  1.029144e+09   \n",
       "std    292783.017189   1752.600720   1135.279101      1.106853  9.362673e+06   \n",
       "min      5025.000000     36.000000      1.000000      1.000000  1.014923e+09   \n",
       "25%    193901.000000   1194.000000   1090.000000      3.000000  1.020427e+09   \n",
       "50%    427329.000000   2594.000000   2000.000000      4.000000  1.028393e+09   \n",
       "75%    718964.000000   4305.000000   2959.000000      4.000000  1.037423e+09   \n",
       "max    992787.000000   5996.000000   3952.000000      5.000000  1.046455e+09   \n",
       "\n",
       "               diff     SessionId  \n",
       "count  2.170100e+04  21701.000000  \n",
       "mean   2.723040e+05   2685.439888  \n",
       "std    1.507050e+06   1451.100806  \n",
       "min    0.000000e+00      1.000000  \n",
       "25%    0.000000e+00   1369.000000  \n",
       "50%    2.800000e+01   2912.000000  \n",
       "75%    1.180000e+02   3920.000000  \n",
       "max    3.076749e+07   5082.000000  "
      ]
     },
     "execution_count": 27,
     "metadata": {},
     "output_type": "execute_result"
    }
   ],
   "source": [
    "data.describe()"
   ]
  },
  {
   "cell_type": "markdown",
   "id": "interior-smile",
   "metadata": {},
   "source": [
    "# 세션의 길이가 1이거나 클릭수가 적은 작품을 삭제한다"
   ]
  },
  {
   "cell_type": "code",
   "execution_count": 28,
   "id": "elect-kenya",
   "metadata": {},
   "outputs": [],
   "source": [
    "# short_session을 제거한 다음 unpopular item을 제거하면 다시 길이가 1인 session이 생길 수 있습니다.\n",
    "# 이를 위해 반복문을 통해 지속적으로 제거 합니다.\n",
    "def cleanse_recursive(data: pd.DataFrame, shortest, least_click) -> pd.DataFrame:\n",
    "    while True:\n",
    "        before_len = len(data)\n",
    "        data = cleanse_short_session(data, shortest)\n",
    "        data = cleanse_unpopular_item(data, least_click)\n",
    "        after_len = len(data)\n",
    "        if before_len == after_len:\n",
    "            break\n",
    "    return data\n",
    "\n",
    "\n",
    "def cleanse_short_session(data: pd.DataFrame, shortest):\n",
    "    session_len = data.groupby('SessionId').size()\n",
    "    session_use = session_len[session_len >= shortest].index\n",
    "    data = data[data['SessionId'].isin(session_use)]\n",
    "    return data\n",
    "\n",
    "\n",
    "def cleanse_unpopular_item(data: pd.DataFrame, least_click):\n",
    "    item_popular = data.groupby('ItemId').size()\n",
    "    item_use = item_popular[item_popular >= least_click].index\n",
    "    data = data[data['ItemId'].isin(item_use)]\n",
    "    return data"
   ]
  },
  {
   "cell_type": "code",
   "execution_count": 29,
   "id": "academic-camera",
   "metadata": {},
   "outputs": [],
   "source": [
    "data = cleanse_recursive(data, shortest=2, least_click=5)"
   ]
  },
  {
   "cell_type": "code",
   "execution_count": 30,
   "id": "promotional-collaboration",
   "metadata": {},
   "outputs": [
    {
     "data": {
      "text/html": [
       "<div>\n",
       "<style scoped>\n",
       "    .dataframe tbody tr th:only-of-type {\n",
       "        vertical-align: middle;\n",
       "    }\n",
       "\n",
       "    .dataframe tbody tr th {\n",
       "        vertical-align: top;\n",
       "    }\n",
       "\n",
       "    .dataframe thead th {\n",
       "        text-align: right;\n",
       "    }\n",
       "</style>\n",
       "<table border=\"1\" class=\"dataframe\">\n",
       "  <thead>\n",
       "    <tr style=\"text-align: right;\">\n",
       "      <th></th>\n",
       "      <th>index</th>\n",
       "      <th>UserId</th>\n",
       "      <th>ItemId</th>\n",
       "      <th>Rating</th>\n",
       "      <th>Time</th>\n",
       "      <th>diff</th>\n",
       "      <th>SessionId</th>\n",
       "    </tr>\n",
       "  </thead>\n",
       "  <tbody>\n",
       "    <tr>\n",
       "      <th>0</th>\n",
       "      <td>5170</td>\n",
       "      <td>36</td>\n",
       "      <td>1387</td>\n",
       "      <td>5</td>\n",
       "      <td>1015904819</td>\n",
       "      <td>0.0</td>\n",
       "      <td>1</td>\n",
       "    </tr>\n",
       "    <tr>\n",
       "      <th>1</th>\n",
       "      <td>5267</td>\n",
       "      <td>36</td>\n",
       "      <td>1201</td>\n",
       "      <td>4</td>\n",
       "      <td>1015904819</td>\n",
       "      <td>0.0</td>\n",
       "      <td>1</td>\n",
       "    </tr>\n",
       "    <tr>\n",
       "      <th>2</th>\n",
       "      <td>5122</td>\n",
       "      <td>36</td>\n",
       "      <td>1291</td>\n",
       "      <td>5</td>\n",
       "      <td>1015904836</td>\n",
       "      <td>17.0</td>\n",
       "      <td>1</td>\n",
       "    </tr>\n",
       "    <tr>\n",
       "      <th>3</th>\n",
       "      <td>5123</td>\n",
       "      <td>36</td>\n",
       "      <td>2167</td>\n",
       "      <td>5</td>\n",
       "      <td>1015904905</td>\n",
       "      <td>69.0</td>\n",
       "      <td>1</td>\n",
       "    </tr>\n",
       "    <tr>\n",
       "      <th>4</th>\n",
       "      <td>5290</td>\n",
       "      <td>36</td>\n",
       "      <td>2951</td>\n",
       "      <td>4</td>\n",
       "      <td>1015904905</td>\n",
       "      <td>0.0</td>\n",
       "      <td>1</td>\n",
       "    </tr>\n",
       "    <tr>\n",
       "      <th>...</th>\n",
       "      <td>...</td>\n",
       "      <td>...</td>\n",
       "      <td>...</td>\n",
       "      <td>...</td>\n",
       "      <td>...</td>\n",
       "      <td>...</td>\n",
       "      <td>...</td>\n",
       "    </tr>\n",
       "    <tr>\n",
       "      <th>21688</th>\n",
       "      <td>992553</td>\n",
       "      <td>5996</td>\n",
       "      <td>781</td>\n",
       "      <td>5</td>\n",
       "      <td>1020111524</td>\n",
       "      <td>149.0</td>\n",
       "      <td>5077</td>\n",
       "    </tr>\n",
       "    <tr>\n",
       "      <th>21689</th>\n",
       "      <td>992775</td>\n",
       "      <td>5996</td>\n",
       "      <td>542</td>\n",
       "      <td>3</td>\n",
       "      <td>1020111524</td>\n",
       "      <td>0.0</td>\n",
       "      <td>5077</td>\n",
       "    </tr>\n",
       "    <tr>\n",
       "      <th>21690</th>\n",
       "      <td>992689</td>\n",
       "      <td>5996</td>\n",
       "      <td>2701</td>\n",
       "      <td>3</td>\n",
       "      <td>1020111976</td>\n",
       "      <td>452.0</td>\n",
       "      <td>5078</td>\n",
       "    </tr>\n",
       "    <tr>\n",
       "      <th>21691</th>\n",
       "      <td>992304</td>\n",
       "      <td>5996</td>\n",
       "      <td>2471</td>\n",
       "      <td>2</td>\n",
       "      <td>1020112109</td>\n",
       "      <td>133.0</td>\n",
       "      <td>5078</td>\n",
       "    </tr>\n",
       "    <tr>\n",
       "      <th>21695</th>\n",
       "      <td>992466</td>\n",
       "      <td>5996</td>\n",
       "      <td>3564</td>\n",
       "      <td>3</td>\n",
       "      <td>1020112392</td>\n",
       "      <td>40.0</td>\n",
       "      <td>5078</td>\n",
       "    </tr>\n",
       "  </tbody>\n",
       "</table>\n",
       "<p>15285 rows × 7 columns</p>\n",
       "</div>"
      ],
      "text/plain": [
       "        index  UserId  ItemId  Rating        Time   diff  SessionId\n",
       "0        5170      36    1387       5  1015904819    0.0          1\n",
       "1        5267      36    1201       4  1015904819    0.0          1\n",
       "2        5122      36    1291       5  1015904836   17.0          1\n",
       "3        5123      36    2167       5  1015904905   69.0          1\n",
       "4        5290      36    2951       4  1015904905    0.0          1\n",
       "...       ...     ...     ...     ...         ...    ...        ...\n",
       "21688  992553    5996     781       5  1020111524  149.0       5077\n",
       "21689  992775    5996     542       3  1020111524    0.0       5077\n",
       "21690  992689    5996    2701       3  1020111976  452.0       5078\n",
       "21691  992304    5996    2471       2  1020112109  133.0       5078\n",
       "21695  992466    5996    3564       3  1020112392   40.0       5078\n",
       "\n",
       "[15285 rows x 7 columns]"
      ]
     },
     "execution_count": 30,
     "metadata": {},
     "output_type": "execute_result"
    }
   ],
   "source": [
    "data"
   ]
  },
  {
   "cell_type": "code",
   "execution_count": 31,
   "id": "paperback-vessel",
   "metadata": {},
   "outputs": [],
   "source": [
    "data.drop('diff', axis=1, inplace=True)"
   ]
  },
  {
   "cell_type": "code",
   "execution_count": 32,
   "id": "sexual-exposure",
   "metadata": {},
   "outputs": [
    {
     "data": {
      "text/html": [
       "<div>\n",
       "<style scoped>\n",
       "    .dataframe tbody tr th:only-of-type {\n",
       "        vertical-align: middle;\n",
       "    }\n",
       "\n",
       "    .dataframe tbody tr th {\n",
       "        vertical-align: top;\n",
       "    }\n",
       "\n",
       "    .dataframe thead th {\n",
       "        text-align: right;\n",
       "    }\n",
       "</style>\n",
       "<table border=\"1\" class=\"dataframe\">\n",
       "  <thead>\n",
       "    <tr style=\"text-align: right;\">\n",
       "      <th></th>\n",
       "      <th>index</th>\n",
       "      <th>UserId</th>\n",
       "      <th>ItemId</th>\n",
       "      <th>Rating</th>\n",
       "      <th>Time</th>\n",
       "      <th>SessionId</th>\n",
       "    </tr>\n",
       "  </thead>\n",
       "  <tbody>\n",
       "    <tr>\n",
       "      <th>0</th>\n",
       "      <td>5170</td>\n",
       "      <td>36</td>\n",
       "      <td>1387</td>\n",
       "      <td>5</td>\n",
       "      <td>1015904819</td>\n",
       "      <td>1</td>\n",
       "    </tr>\n",
       "    <tr>\n",
       "      <th>1</th>\n",
       "      <td>5267</td>\n",
       "      <td>36</td>\n",
       "      <td>1201</td>\n",
       "      <td>4</td>\n",
       "      <td>1015904819</td>\n",
       "      <td>1</td>\n",
       "    </tr>\n",
       "    <tr>\n",
       "      <th>2</th>\n",
       "      <td>5122</td>\n",
       "      <td>36</td>\n",
       "      <td>1291</td>\n",
       "      <td>5</td>\n",
       "      <td>1015904836</td>\n",
       "      <td>1</td>\n",
       "    </tr>\n",
       "    <tr>\n",
       "      <th>3</th>\n",
       "      <td>5123</td>\n",
       "      <td>36</td>\n",
       "      <td>2167</td>\n",
       "      <td>5</td>\n",
       "      <td>1015904905</td>\n",
       "      <td>1</td>\n",
       "    </tr>\n",
       "    <tr>\n",
       "      <th>4</th>\n",
       "      <td>5290</td>\n",
       "      <td>36</td>\n",
       "      <td>2951</td>\n",
       "      <td>4</td>\n",
       "      <td>1015904905</td>\n",
       "      <td>1</td>\n",
       "    </tr>\n",
       "    <tr>\n",
       "      <th>...</th>\n",
       "      <td>...</td>\n",
       "      <td>...</td>\n",
       "      <td>...</td>\n",
       "      <td>...</td>\n",
       "      <td>...</td>\n",
       "      <td>...</td>\n",
       "    </tr>\n",
       "    <tr>\n",
       "      <th>21688</th>\n",
       "      <td>992553</td>\n",
       "      <td>5996</td>\n",
       "      <td>781</td>\n",
       "      <td>5</td>\n",
       "      <td>1020111524</td>\n",
       "      <td>5077</td>\n",
       "    </tr>\n",
       "    <tr>\n",
       "      <th>21689</th>\n",
       "      <td>992775</td>\n",
       "      <td>5996</td>\n",
       "      <td>542</td>\n",
       "      <td>3</td>\n",
       "      <td>1020111524</td>\n",
       "      <td>5077</td>\n",
       "    </tr>\n",
       "    <tr>\n",
       "      <th>21690</th>\n",
       "      <td>992689</td>\n",
       "      <td>5996</td>\n",
       "      <td>2701</td>\n",
       "      <td>3</td>\n",
       "      <td>1020111976</td>\n",
       "      <td>5078</td>\n",
       "    </tr>\n",
       "    <tr>\n",
       "      <th>21691</th>\n",
       "      <td>992304</td>\n",
       "      <td>5996</td>\n",
       "      <td>2471</td>\n",
       "      <td>2</td>\n",
       "      <td>1020112109</td>\n",
       "      <td>5078</td>\n",
       "    </tr>\n",
       "    <tr>\n",
       "      <th>21695</th>\n",
       "      <td>992466</td>\n",
       "      <td>5996</td>\n",
       "      <td>3564</td>\n",
       "      <td>3</td>\n",
       "      <td>1020112392</td>\n",
       "      <td>5078</td>\n",
       "    </tr>\n",
       "  </tbody>\n",
       "</table>\n",
       "<p>15285 rows × 6 columns</p>\n",
       "</div>"
      ],
      "text/plain": [
       "        index  UserId  ItemId  Rating        Time  SessionId\n",
       "0        5170      36    1387       5  1015904819          1\n",
       "1        5267      36    1201       4  1015904819          1\n",
       "2        5122      36    1291       5  1015904836          1\n",
       "3        5123      36    2167       5  1015904905          1\n",
       "4        5290      36    2951       4  1015904905          1\n",
       "...       ...     ...     ...     ...         ...        ...\n",
       "21688  992553    5996     781       5  1020111524       5077\n",
       "21689  992775    5996     542       3  1020111524       5077\n",
       "21690  992689    5996    2701       3  1020111976       5078\n",
       "21691  992304    5996    2471       2  1020112109       5078\n",
       "21695  992466    5996    3564       3  1020112392       5078\n",
       "\n",
       "[15285 rows x 6 columns]"
      ]
     },
     "execution_count": 32,
     "metadata": {},
     "output_type": "execute_result"
    }
   ],
   "source": [
    "data"
   ]
  },
  {
   "cell_type": "markdown",
   "id": "jewish-suggestion",
   "metadata": {},
   "source": [
    "# 최근 1달 데이터를 테스트 데이터, 그 뒤로 2달간의 데이터를 검정용 데이터로 분리하고 나머지를 학습용 데이터로 분류한다\n",
    "# 1년 중 테스트 데이터로 사용할 최근 1달을 뺀 11달에서 충분히 검정용 데이터를 사용하기 위해 검정용 데이터를 2달치로 설정했습니다"
   ]
  },
  {
   "cell_type": "code",
   "execution_count": 33,
   "id": "horizontal-difference",
   "metadata": {
    "scrolled": true
   },
   "outputs": [
    {
     "data": {
      "text/plain": [
       "(1046454590, 1014923199)"
      ]
     },
     "execution_count": 33,
     "metadata": {},
     "output_type": "execute_result"
    }
   ],
   "source": [
    "data['Time'].max(), data['Time'].min()"
   ]
  },
  {
   "cell_type": "code",
   "execution_count": 34,
   "id": "optical-emphasis",
   "metadata": {},
   "outputs": [],
   "source": [
    "test_time = data['Time'].max() - 30*24*60*60"
   ]
  },
  {
   "cell_type": "code",
   "execution_count": 35,
   "id": "cutting-guyana",
   "metadata": {},
   "outputs": [
    {
     "data": {
      "text/plain": [
       "1043862590"
      ]
     },
     "execution_count": 35,
     "metadata": {},
     "output_type": "execute_result"
    }
   ],
   "source": [
    "test_time"
   ]
  },
  {
   "cell_type": "code",
   "execution_count": 36,
   "id": "faced-portfolio",
   "metadata": {},
   "outputs": [],
   "source": [
    "valid_time = test_time - 61*24*60*60"
   ]
  },
  {
   "cell_type": "code",
   "execution_count": 37,
   "id": "nervous-investment",
   "metadata": {},
   "outputs": [
    {
     "data": {
      "text/plain": [
       "1038592190"
      ]
     },
     "execution_count": 37,
     "metadata": {},
     "output_type": "execute_result"
    }
   ],
   "source": [
    "valid_time"
   ]
  },
  {
   "cell_type": "code",
   "execution_count": 38,
   "id": "amazing-scholarship",
   "metadata": {},
   "outputs": [
    {
     "data": {
      "text/html": [
       "<div>\n",
       "<style scoped>\n",
       "    .dataframe tbody tr th:only-of-type {\n",
       "        vertical-align: middle;\n",
       "    }\n",
       "\n",
       "    .dataframe tbody tr th {\n",
       "        vertical-align: top;\n",
       "    }\n",
       "\n",
       "    .dataframe thead th {\n",
       "        text-align: right;\n",
       "    }\n",
       "</style>\n",
       "<table border=\"1\" class=\"dataframe\">\n",
       "  <thead>\n",
       "    <tr style=\"text-align: right;\">\n",
       "      <th></th>\n",
       "      <th>index</th>\n",
       "      <th>UserId</th>\n",
       "      <th>ItemId</th>\n",
       "      <th>Rating</th>\n",
       "      <th>Time</th>\n",
       "      <th>SessionId</th>\n",
       "    </tr>\n",
       "  </thead>\n",
       "  <tbody>\n",
       "    <tr>\n",
       "      <th>21688</th>\n",
       "      <td>992553</td>\n",
       "      <td>5996</td>\n",
       "      <td>781</td>\n",
       "      <td>5</td>\n",
       "      <td>1020111524</td>\n",
       "      <td>5077</td>\n",
       "    </tr>\n",
       "    <tr>\n",
       "      <th>21689</th>\n",
       "      <td>992775</td>\n",
       "      <td>5996</td>\n",
       "      <td>542</td>\n",
       "      <td>3</td>\n",
       "      <td>1020111524</td>\n",
       "      <td>5077</td>\n",
       "    </tr>\n",
       "    <tr>\n",
       "      <th>21690</th>\n",
       "      <td>992689</td>\n",
       "      <td>5996</td>\n",
       "      <td>2701</td>\n",
       "      <td>3</td>\n",
       "      <td>1020111976</td>\n",
       "      <td>5078</td>\n",
       "    </tr>\n",
       "    <tr>\n",
       "      <th>21691</th>\n",
       "      <td>992304</td>\n",
       "      <td>5996</td>\n",
       "      <td>2471</td>\n",
       "      <td>2</td>\n",
       "      <td>1020112109</td>\n",
       "      <td>5078</td>\n",
       "    </tr>\n",
       "    <tr>\n",
       "      <th>21695</th>\n",
       "      <td>992466</td>\n",
       "      <td>5996</td>\n",
       "      <td>3564</td>\n",
       "      <td>3</td>\n",
       "      <td>1020112392</td>\n",
       "      <td>5078</td>\n",
       "    </tr>\n",
       "  </tbody>\n",
       "</table>\n",
       "</div>"
      ],
      "text/plain": [
       "        index  UserId  ItemId  Rating        Time  SessionId\n",
       "21688  992553    5996     781       5  1020111524       5077\n",
       "21689  992775    5996     542       3  1020111524       5077\n",
       "21690  992689    5996    2701       3  1020111976       5078\n",
       "21691  992304    5996    2471       2  1020112109       5078\n",
       "21695  992466    5996    3564       3  1020112392       5078"
      ]
     },
     "execution_count": 38,
     "metadata": {},
     "output_type": "execute_result"
    }
   ],
   "source": [
    "train_df = data[data['Time'] <= valid_time]\n",
    "train_df.tail()"
   ]
  },
  {
   "cell_type": "code",
   "execution_count": 39,
   "id": "latest-differential",
   "metadata": {},
   "outputs": [
    {
     "data": {
      "text/html": [
       "<div>\n",
       "<style scoped>\n",
       "    .dataframe tbody tr th:only-of-type {\n",
       "        vertical-align: middle;\n",
       "    }\n",
       "\n",
       "    .dataframe tbody tr th {\n",
       "        vertical-align: top;\n",
       "    }\n",
       "\n",
       "    .dataframe thead th {\n",
       "        text-align: right;\n",
       "    }\n",
       "</style>\n",
       "<table border=\"1\" class=\"dataframe\">\n",
       "  <thead>\n",
       "    <tr style=\"text-align: right;\">\n",
       "      <th></th>\n",
       "      <th>index</th>\n",
       "      <th>UserId</th>\n",
       "      <th>ItemId</th>\n",
       "      <th>Rating</th>\n",
       "      <th>Time</th>\n",
       "      <th>SessionId</th>\n",
       "    </tr>\n",
       "  </thead>\n",
       "  <tbody>\n",
       "    <tr>\n",
       "      <th>804</th>\n",
       "      <td>28281</td>\n",
       "      <td>195</td>\n",
       "      <td>410</td>\n",
       "      <td>2</td>\n",
       "      <td>1044987808</td>\n",
       "      <td>206</td>\n",
       "    </tr>\n",
       "    <tr>\n",
       "      <th>805</th>\n",
       "      <td>28389</td>\n",
       "      <td>195</td>\n",
       "      <td>2791</td>\n",
       "      <td>3</td>\n",
       "      <td>1044987808</td>\n",
       "      <td>206</td>\n",
       "    </tr>\n",
       "    <tr>\n",
       "      <th>806</th>\n",
       "      <td>28391</td>\n",
       "      <td>195</td>\n",
       "      <td>2792</td>\n",
       "      <td>2</td>\n",
       "      <td>1044987808</td>\n",
       "      <td>206</td>\n",
       "    </tr>\n",
       "    <tr>\n",
       "      <th>813</th>\n",
       "      <td>27846</td>\n",
       "      <td>195</td>\n",
       "      <td>1356</td>\n",
       "      <td>2</td>\n",
       "      <td>1045358834</td>\n",
       "      <td>212</td>\n",
       "    </tr>\n",
       "    <tr>\n",
       "      <th>814</th>\n",
       "      <td>27901</td>\n",
       "      <td>195</td>\n",
       "      <td>1374</td>\n",
       "      <td>3</td>\n",
       "      <td>1045358834</td>\n",
       "      <td>212</td>\n",
       "    </tr>\n",
       "    <tr>\n",
       "      <th>...</th>\n",
       "      <td>...</td>\n",
       "      <td>...</td>\n",
       "      <td>...</td>\n",
       "      <td>...</td>\n",
       "      <td>...</td>\n",
       "      <td>...</td>\n",
       "    </tr>\n",
       "    <tr>\n",
       "      <th>21553</th>\n",
       "      <td>984731</td>\n",
       "      <td>5950</td>\n",
       "      <td>3948</td>\n",
       "      <td>4</td>\n",
       "      <td>1046369637</td>\n",
       "      <td>5061</td>\n",
       "    </tr>\n",
       "    <tr>\n",
       "      <th>21554</th>\n",
       "      <td>984682</td>\n",
       "      <td>5950</td>\n",
       "      <td>3578</td>\n",
       "      <td>4</td>\n",
       "      <td>1046369670</td>\n",
       "      <td>5061</td>\n",
       "    </tr>\n",
       "    <tr>\n",
       "      <th>21555</th>\n",
       "      <td>984475</td>\n",
       "      <td>5950</td>\n",
       "      <td>3793</td>\n",
       "      <td>3</td>\n",
       "      <td>1046369710</td>\n",
       "      <td>5061</td>\n",
       "    </tr>\n",
       "    <tr>\n",
       "      <th>21556</th>\n",
       "      <td>984660</td>\n",
       "      <td>5950</td>\n",
       "      <td>3555</td>\n",
       "      <td>2</td>\n",
       "      <td>1046369737</td>\n",
       "      <td>5061</td>\n",
       "    </tr>\n",
       "    <tr>\n",
       "      <th>21557</th>\n",
       "      <td>984733</td>\n",
       "      <td>5950</td>\n",
       "      <td>1262</td>\n",
       "      <td>4</td>\n",
       "      <td>1046369858</td>\n",
       "      <td>5061</td>\n",
       "    </tr>\n",
       "  </tbody>\n",
       "</table>\n",
       "<p>1148 rows × 6 columns</p>\n",
       "</div>"
      ],
      "text/plain": [
       "        index  UserId  ItemId  Rating        Time  SessionId\n",
       "804     28281     195     410       2  1044987808        206\n",
       "805     28389     195    2791       3  1044987808        206\n",
       "806     28391     195    2792       2  1044987808        206\n",
       "813     27846     195    1356       2  1045358834        212\n",
       "814     27901     195    1374       3  1045358834        212\n",
       "...       ...     ...     ...     ...         ...        ...\n",
       "21553  984731    5950    3948       4  1046369637       5061\n",
       "21554  984682    5950    3578       4  1046369670       5061\n",
       "21555  984475    5950    3793       3  1046369710       5061\n",
       "21556  984660    5950    3555       2  1046369737       5061\n",
       "21557  984733    5950    1262       4  1046369858       5061\n",
       "\n",
       "[1148 rows x 6 columns]"
      ]
     },
     "execution_count": 39,
     "metadata": {},
     "output_type": "execute_result"
    }
   ],
   "source": [
    "test_df = data[data['Time'] > test_time]\n",
    "test_df"
   ]
  },
  {
   "cell_type": "code",
   "execution_count": 40,
   "id": "described-heather",
   "metadata": {},
   "outputs": [
    {
     "data": {
      "text/html": [
       "<div>\n",
       "<style scoped>\n",
       "    .dataframe tbody tr th:only-of-type {\n",
       "        vertical-align: middle;\n",
       "    }\n",
       "\n",
       "    .dataframe tbody tr th {\n",
       "        vertical-align: top;\n",
       "    }\n",
       "\n",
       "    .dataframe thead th {\n",
       "        text-align: right;\n",
       "    }\n",
       "</style>\n",
       "<table border=\"1\" class=\"dataframe\">\n",
       "  <thead>\n",
       "    <tr style=\"text-align: right;\">\n",
       "      <th></th>\n",
       "      <th>index</th>\n",
       "      <th>UserId</th>\n",
       "      <th>ItemId</th>\n",
       "      <th>Rating</th>\n",
       "      <th>Time</th>\n",
       "      <th>SessionId</th>\n",
       "    </tr>\n",
       "  </thead>\n",
       "  <tbody>\n",
       "    <tr>\n",
       "      <th>19</th>\n",
       "      <td>5200</td>\n",
       "      <td>36</td>\n",
       "      <td>2269</td>\n",
       "      <td>5</td>\n",
       "      <td>1040544350</td>\n",
       "      <td>6</td>\n",
       "    </tr>\n",
       "    <tr>\n",
       "      <th>20</th>\n",
       "      <td>5184</td>\n",
       "      <td>36</td>\n",
       "      <td>2694</td>\n",
       "      <td>3</td>\n",
       "      <td>1040544494</td>\n",
       "      <td>6</td>\n",
       "    </tr>\n",
       "    <tr>\n",
       "      <th>21</th>\n",
       "      <td>5364</td>\n",
       "      <td>36</td>\n",
       "      <td>3786</td>\n",
       "      <td>4</td>\n",
       "      <td>1040544521</td>\n",
       "      <td>6</td>\n",
       "    </tr>\n",
       "    <tr>\n",
       "      <th>22</th>\n",
       "      <td>5262</td>\n",
       "      <td>36</td>\n",
       "      <td>2369</td>\n",
       "      <td>4</td>\n",
       "      <td>1040544564</td>\n",
       "      <td>6</td>\n",
       "    </tr>\n",
       "    <tr>\n",
       "      <th>23</th>\n",
       "      <td>5069</td>\n",
       "      <td>36</td>\n",
       "      <td>2713</td>\n",
       "      <td>1</td>\n",
       "      <td>1040544662</td>\n",
       "      <td>6</td>\n",
       "    </tr>\n",
       "    <tr>\n",
       "      <th>...</th>\n",
       "      <td>...</td>\n",
       "      <td>...</td>\n",
       "      <td>...</td>\n",
       "      <td>...</td>\n",
       "      <td>...</td>\n",
       "      <td>...</td>\n",
       "    </tr>\n",
       "    <tr>\n",
       "      <th>21505</th>\n",
       "      <td>983989</td>\n",
       "      <td>5948</td>\n",
       "      <td>224</td>\n",
       "      <td>4</td>\n",
       "      <td>1043068072</td>\n",
       "      <td>5048</td>\n",
       "    </tr>\n",
       "    <tr>\n",
       "      <th>21506</th>\n",
       "      <td>984167</td>\n",
       "      <td>5948</td>\n",
       "      <td>1283</td>\n",
       "      <td>5</td>\n",
       "      <td>1043068249</td>\n",
       "      <td>5048</td>\n",
       "    </tr>\n",
       "    <tr>\n",
       "      <th>21507</th>\n",
       "      <td>984206</td>\n",
       "      <td>5948</td>\n",
       "      <td>1304</td>\n",
       "      <td>5</td>\n",
       "      <td>1043068456</td>\n",
       "      <td>5049</td>\n",
       "    </tr>\n",
       "    <tr>\n",
       "      <th>21508</th>\n",
       "      <td>984173</td>\n",
       "      <td>5948</td>\n",
       "      <td>1288</td>\n",
       "      <td>4</td>\n",
       "      <td>1043068509</td>\n",
       "      <td>5049</td>\n",
       "    </tr>\n",
       "    <tr>\n",
       "      <th>21509</th>\n",
       "      <td>983996</td>\n",
       "      <td>5948</td>\n",
       "      <td>3467</td>\n",
       "      <td>5</td>\n",
       "      <td>1043068562</td>\n",
       "      <td>5049</td>\n",
       "    </tr>\n",
       "  </tbody>\n",
       "</table>\n",
       "<p>2237 rows × 6 columns</p>\n",
       "</div>"
      ],
      "text/plain": [
       "        index  UserId  ItemId  Rating        Time  SessionId\n",
       "19       5200      36    2269       5  1040544350          6\n",
       "20       5184      36    2694       3  1040544494          6\n",
       "21       5364      36    3786       4  1040544521          6\n",
       "22       5262      36    2369       4  1040544564          6\n",
       "23       5069      36    2713       1  1040544662          6\n",
       "...       ...     ...     ...     ...         ...        ...\n",
       "21505  983989    5948     224       4  1043068072       5048\n",
       "21506  984167    5948    1283       5  1043068249       5048\n",
       "21507  984206    5948    1304       5  1043068456       5049\n",
       "21508  984173    5948    1288       4  1043068509       5049\n",
       "21509  983996    5948    3467       5  1043068562       5049\n",
       "\n",
       "[2237 rows x 6 columns]"
      ]
     },
     "execution_count": 40,
     "metadata": {},
     "output_type": "execute_result"
    }
   ],
   "source": [
    "temp_df = data[data['Time'] <= test_time]\n",
    "val_df = temp_df[temp_df['Time'] > valid_time]\n",
    "val_df"
   ]
  },
  {
   "cell_type": "code",
   "execution_count": 41,
   "id": "enormous-message",
   "metadata": {},
   "outputs": [],
   "source": [
    "def stats_info(data: pd.DataFrame, status: str):\n",
    "    print(f'* {status} Set Stats Info\\n'\n",
    "          f'\\t Events: {len(data)}\\n'\n",
    "          f'\\t Sessions: {data[\"SessionId\"].nunique()}\\n'\n",
    "          f'\\t Items: {data[\"ItemId\"].nunique()}\\n'\n",
    "          f'\\t First Time : {data[\"Time\"].min()}\\n'\n",
    "          f'\\t Last Time : {data[\"Time\"].max()}\\n')"
   ]
  },
  {
   "cell_type": "markdown",
   "id": "regional-limitation",
   "metadata": {},
   "source": [
    "# 분리된 데이터들의 통계"
   ]
  },
  {
   "cell_type": "code",
   "execution_count": 42,
   "id": "potential-satisfaction",
   "metadata": {
    "scrolled": false
   },
   "outputs": [
    {
     "name": "stdout",
     "output_type": "stream",
     "text": [
      "* train Set Stats Info\n",
      "\t Events: 11900\n",
      "\t Sessions: 1433\n",
      "\t Items: 1326\n",
      "\t First Time : 1014923199\n",
      "\t Last Time : 1038587440\n",
      "\n",
      "* valid Set Stats Info\n",
      "\t Events: 2237\n",
      "\t Sessions: 293\n",
      "\t Items: 998\n",
      "\t First Time : 1038608526\n",
      "\t Last Time : 1043823522\n",
      "\n",
      "* test Set Stats Info\n",
      "\t Events: 1148\n",
      "\t Sessions: 118\n",
      "\t Items: 727\n",
      "\t First Time : 1043869016\n",
      "\t Last Time : 1046454590\n",
      "\n"
     ]
    }
   ],
   "source": [
    "stats_info(train_df, 'train')\n",
    "stats_info(val_df, 'valid')\n",
    "stats_info(test_df, 'test')"
   ]
  },
  {
   "cell_type": "markdown",
   "id": "clear-decade",
   "metadata": {},
   "source": [
    "# 데이터 셋 생성"
   ]
  },
  {
   "cell_type": "code",
   "execution_count": 43,
   "id": "significant-massage",
   "metadata": {},
   "outputs": [],
   "source": [
    "# train set에 없는 아이템이 val, test기간에 생길 수 있으므로 train data를 기준으로 인덱싱합니다.\n",
    "id2idx = {item_id : index for index, item_id in enumerate(train_df['ItemId'].unique())}\n",
    "def indexing(df, id2idx):\n",
    "    df['item_idx'] = df['ItemId'].map(lambda x: id2idx.get(x, -1))  # id2idx에 없는 아이템은 모르는 값(-1) 처리 해줍니다.\n",
    "    return df\n",
    "\n",
    "train_df = indexing(train_df, id2idx)\n",
    "val_df = indexing(val_df, id2idx)\n",
    "test_df = indexing(test_df, id2idx)"
   ]
  },
  {
   "cell_type": "code",
   "execution_count": 44,
   "id": "interpreted-avenue",
   "metadata": {},
   "outputs": [],
   "source": [
    "data_path = Path('data')\n",
    "save_path = data_path / 'processed'\n",
    "save_path.mkdir(parents=True, exist_ok=True)\n",
    "\n",
    "train_df.to_pickle(save_path / 'train.pkl')\n",
    "val_df.to_pickle(save_path / 'valid.pkl')\n",
    "test_df.to_pickle(save_path / 'test.pkl')"
   ]
  },
  {
   "cell_type": "code",
   "execution_count": 45,
   "id": "usual-frank",
   "metadata": {},
   "outputs": [],
   "source": [
    "class SessionDataset:\n",
    "    \"\"\"Credit to yhs-968/pyGRU4REC.\"\"\"\n",
    "\n",
    "    def __init__(self, data):\n",
    "        self.df = data\n",
    "        self.click_offsets = self.get_click_offsets()\n",
    "        self.session_idx = np.arange(self.df['SessionId'].nunique())  # indexing to SessionId\n",
    "\n",
    "    def get_click_offsets(self):\n",
    "        \"\"\"\n",
    "        Return the indexes of the first click of each session IDs,\n",
    "        \"\"\"\n",
    "        offsets = np.zeros(self.df['SessionId'].nunique() + 1, dtype=np.int32)\n",
    "        offsets[1:] = self.df.groupby('SessionId').size().cumsum()\n",
    "        return offsets"
   ]
  },
  {
   "cell_type": "code",
   "execution_count": 46,
   "id": "decent-apartment",
   "metadata": {},
   "outputs": [
    {
     "data": {
      "text/html": [
       "<div>\n",
       "<style scoped>\n",
       "    .dataframe tbody tr th:only-of-type {\n",
       "        vertical-align: middle;\n",
       "    }\n",
       "\n",
       "    .dataframe tbody tr th {\n",
       "        vertical-align: top;\n",
       "    }\n",
       "\n",
       "    .dataframe thead th {\n",
       "        text-align: right;\n",
       "    }\n",
       "</style>\n",
       "<table border=\"1\" class=\"dataframe\">\n",
       "  <thead>\n",
       "    <tr style=\"text-align: right;\">\n",
       "      <th></th>\n",
       "      <th>index</th>\n",
       "      <th>UserId</th>\n",
       "      <th>ItemId</th>\n",
       "      <th>Rating</th>\n",
       "      <th>Time</th>\n",
       "      <th>SessionId</th>\n",
       "      <th>item_idx</th>\n",
       "    </tr>\n",
       "  </thead>\n",
       "  <tbody>\n",
       "    <tr>\n",
       "      <th>0</th>\n",
       "      <td>5170</td>\n",
       "      <td>36</td>\n",
       "      <td>1387</td>\n",
       "      <td>5</td>\n",
       "      <td>1015904819</td>\n",
       "      <td>1</td>\n",
       "      <td>0</td>\n",
       "    </tr>\n",
       "    <tr>\n",
       "      <th>1</th>\n",
       "      <td>5267</td>\n",
       "      <td>36</td>\n",
       "      <td>1201</td>\n",
       "      <td>4</td>\n",
       "      <td>1015904819</td>\n",
       "      <td>1</td>\n",
       "      <td>1</td>\n",
       "    </tr>\n",
       "    <tr>\n",
       "      <th>2</th>\n",
       "      <td>5122</td>\n",
       "      <td>36</td>\n",
       "      <td>1291</td>\n",
       "      <td>5</td>\n",
       "      <td>1015904836</td>\n",
       "      <td>1</td>\n",
       "      <td>2</td>\n",
       "    </tr>\n",
       "    <tr>\n",
       "      <th>3</th>\n",
       "      <td>5123</td>\n",
       "      <td>36</td>\n",
       "      <td>2167</td>\n",
       "      <td>5</td>\n",
       "      <td>1015904905</td>\n",
       "      <td>1</td>\n",
       "      <td>3</td>\n",
       "    </tr>\n",
       "    <tr>\n",
       "      <th>4</th>\n",
       "      <td>5290</td>\n",
       "      <td>36</td>\n",
       "      <td>2951</td>\n",
       "      <td>4</td>\n",
       "      <td>1015904905</td>\n",
       "      <td>1</td>\n",
       "      <td>4</td>\n",
       "    </tr>\n",
       "    <tr>\n",
       "      <th>5</th>\n",
       "      <td>5073</td>\n",
       "      <td>36</td>\n",
       "      <td>1912</td>\n",
       "      <td>5</td>\n",
       "      <td>1015904924</td>\n",
       "      <td>1</td>\n",
       "      <td>5</td>\n",
       "    </tr>\n",
       "    <tr>\n",
       "      <th>6</th>\n",
       "      <td>5366</td>\n",
       "      <td>36</td>\n",
       "      <td>2985</td>\n",
       "      <td>4</td>\n",
       "      <td>1015904941</td>\n",
       "      <td>1</td>\n",
       "      <td>6</td>\n",
       "    </tr>\n",
       "    <tr>\n",
       "      <th>8</th>\n",
       "      <td>5145</td>\n",
       "      <td>36</td>\n",
       "      <td>198</td>\n",
       "      <td>5</td>\n",
       "      <td>1015904988</td>\n",
       "      <td>1</td>\n",
       "      <td>7</td>\n",
       "    </tr>\n",
       "    <tr>\n",
       "      <th>9</th>\n",
       "      <td>5296</td>\n",
       "      <td>36</td>\n",
       "      <td>1147</td>\n",
       "      <td>4</td>\n",
       "      <td>1015905111</td>\n",
       "      <td>1</td>\n",
       "      <td>8</td>\n",
       "    </tr>\n",
       "    <tr>\n",
       "      <th>10</th>\n",
       "      <td>5034</td>\n",
       "      <td>36</td>\n",
       "      <td>581</td>\n",
       "      <td>4</td>\n",
       "      <td>1015905127</td>\n",
       "      <td>1</td>\n",
       "      <td>9</td>\n",
       "    </tr>\n",
       "  </tbody>\n",
       "</table>\n",
       "</div>"
      ],
      "text/plain": [
       "    index  UserId  ItemId  Rating        Time  SessionId  item_idx\n",
       "0    5170      36    1387       5  1015904819          1         0\n",
       "1    5267      36    1201       4  1015904819          1         1\n",
       "2    5122      36    1291       5  1015904836          1         2\n",
       "3    5123      36    2167       5  1015904905          1         3\n",
       "4    5290      36    2951       4  1015904905          1         4\n",
       "5    5073      36    1912       5  1015904924          1         5\n",
       "6    5366      36    2985       4  1015904941          1         6\n",
       "8    5145      36     198       5  1015904988          1         7\n",
       "9    5296      36    1147       4  1015905111          1         8\n",
       "10   5034      36     581       4  1015905127          1         9"
      ]
     },
     "execution_count": 46,
     "metadata": {},
     "output_type": "execute_result"
    }
   ],
   "source": [
    "tr_dataset = SessionDataset(train_df)\n",
    "tr_dataset.df.head(10)"
   ]
  },
  {
   "cell_type": "code",
   "execution_count": 47,
   "id": "flexible-planning",
   "metadata": {},
   "outputs": [
    {
     "data": {
      "text/plain": [
       "array([    0,    11,    13, ..., 11852, 11897, 11900], dtype=int32)"
      ]
     },
     "execution_count": 47,
     "metadata": {},
     "output_type": "execute_result"
    }
   ],
   "source": [
    "tr_dataset.click_offsets"
   ]
  },
  {
   "cell_type": "code",
   "execution_count": 48,
   "id": "herbal-functionality",
   "metadata": {},
   "outputs": [
    {
     "data": {
      "text/plain": [
       "array([   0,    1,    2, ..., 1430, 1431, 1432])"
      ]
     },
     "execution_count": 48,
     "metadata": {},
     "output_type": "execute_result"
    }
   ],
   "source": [
    "tr_dataset.session_idx"
   ]
  },
  {
   "cell_type": "code",
   "execution_count": 49,
   "id": "mineral-beaver",
   "metadata": {},
   "outputs": [],
   "source": [
    "class SessionDataLoader:\n",
    "    \"\"\"Credit to yhs-968/pyGRU4REC.\"\"\"\n",
    "\n",
    "    def __init__(self, dataset: SessionDataset, batch_size=50):\n",
    "        self.dataset = dataset\n",
    "        self.batch_size = batch_size\n",
    "\n",
    "    def __iter__(self):\n",
    "        \"\"\" Returns the iterator for producing session-parallel training mini-batches.\n",
    "        Yields:\n",
    "            input (B,):  Item indices that will be encoded as one-hot vectors later.\n",
    "            target (B,): a Variable that stores the target item indices\n",
    "            masks: Numpy array indicating the positions of the sessions to be terminated\n",
    "        \"\"\"\n",
    "\n",
    "        start, end, mask, last_session, finished = self.initialize()  # initialize 메소드에서 확인해주세요.\n",
    "        \"\"\"\n",
    "        start : Index Where Session Start\n",
    "        end : Index Where Session End\n",
    "        mask : indicator for the sessions to be terminated\n",
    "        \"\"\"\n",
    "\n",
    "        while not finished:\n",
    "            min_len = (end - start).min() - 1  # Shortest Length Among Sessions\n",
    "            for i in range(min_len):\n",
    "                # Build inputs & targets\n",
    "                inp = self.dataset.df['item_idx'].values[start + i]\n",
    "                target = self.dataset.df['item_idx'].values[start + i + 1]\n",
    "                yield inp, target, mask\n",
    "\n",
    "            start, end, mask, last_session, finished = self.update_status(start, end, min_len, last_session, finished)\n",
    "\n",
    "    def initialize(self):\n",
    "        first_iters = np.arange(self.batch_size)    # 첫 배치에 사용할 세션 Index를 가져옵니다.\n",
    "        last_session = self.batch_size - 1    # 마지막으로 다루고 있는 세션 Index를 저장해둡니다.\n",
    "        start = self.dataset.click_offsets[self.dataset.session_idx[first_iters]]       # data 상에서 session이 시작된 위치를 가져옵니다.\n",
    "        end = self.dataset.click_offsets[self.dataset.session_idx[first_iters] + 1]  # session이 끝난 위치 바로 다음 위치를 가져옵니다.\n",
    "        mask = np.array([])   # session의 모든 아이템을 다 돌은 경우 mask에 추가해줄 것입니다.\n",
    "        finished = False         # data를 전부 돌았는지 기록하기 위한 변수입니다.\n",
    "        return start, end, mask, last_session, finished\n",
    "\n",
    "    def update_status(self, start: np.ndarray, end: np.ndarray, min_len: int, last_session: int, finished: bool):  \n",
    "        # 다음 배치 데이터를 생성하기 위해 상태를 update합니다.\n",
    "        \n",
    "        start += min_len   # __iter__에서 min_len 만큼 for문을 돌았으므로 start를 min_len 만큼 더해줍니다.\n",
    "        mask = np.arange(self.batch_size)[(end - start) == 1]  \n",
    "        # end는 다음 세션이 시작되는 위치인데 start와 한 칸 차이난다는 것은 session이 끝났다는 뜻입니다. mask에 기록해줍니다.\n",
    "\n",
    "        for i, idx in enumerate(mask, start=1):  # mask에 추가된 세션 개수만큼 새로운 세션을 돌것입니다.\n",
    "            new_session = last_session + i  \n",
    "            if new_session > self.dataset.session_idx[-1]:  # 만약 새로운 세션이 마지막 세션 index보다 크다면 모든 학습데이터를 돈 것입니다.\n",
    "                finished = True\n",
    "                break\n",
    "            # update the next starting/ending point\n",
    "            start[idx] = self.dataset.click_offsets[self.dataset.session_idx[new_session]]     # 종료된 세션 대신 새로운 세션의 시작점을 기록합니다.\n",
    "            end[idx] = self.dataset.click_offsets[self.dataset.session_idx[new_session] + 1]\n",
    "\n",
    "        last_session += len(mask)  # 마지막 세션의 위치를 기록해둡니다.\n",
    "        return start, end, mask, last_session, finished"
   ]
  },
  {
   "cell_type": "code",
   "execution_count": 50,
   "id": "little-destiny",
   "metadata": {},
   "outputs": [
    {
     "data": {
      "text/html": [
       "<div>\n",
       "<style scoped>\n",
       "    .dataframe tbody tr th:only-of-type {\n",
       "        vertical-align: middle;\n",
       "    }\n",
       "\n",
       "    .dataframe tbody tr th {\n",
       "        vertical-align: top;\n",
       "    }\n",
       "\n",
       "    .dataframe thead th {\n",
       "        text-align: right;\n",
       "    }\n",
       "</style>\n",
       "<table border=\"1\" class=\"dataframe\">\n",
       "  <thead>\n",
       "    <tr style=\"text-align: right;\">\n",
       "      <th></th>\n",
       "      <th>index</th>\n",
       "      <th>UserId</th>\n",
       "      <th>ItemId</th>\n",
       "      <th>Rating</th>\n",
       "      <th>Time</th>\n",
       "      <th>SessionId</th>\n",
       "      <th>item_idx</th>\n",
       "    </tr>\n",
       "  </thead>\n",
       "  <tbody>\n",
       "    <tr>\n",
       "      <th>0</th>\n",
       "      <td>5170</td>\n",
       "      <td>36</td>\n",
       "      <td>1387</td>\n",
       "      <td>5</td>\n",
       "      <td>1015904819</td>\n",
       "      <td>1</td>\n",
       "      <td>0</td>\n",
       "    </tr>\n",
       "    <tr>\n",
       "      <th>1</th>\n",
       "      <td>5267</td>\n",
       "      <td>36</td>\n",
       "      <td>1201</td>\n",
       "      <td>4</td>\n",
       "      <td>1015904819</td>\n",
       "      <td>1</td>\n",
       "      <td>1</td>\n",
       "    </tr>\n",
       "    <tr>\n",
       "      <th>2</th>\n",
       "      <td>5122</td>\n",
       "      <td>36</td>\n",
       "      <td>1291</td>\n",
       "      <td>5</td>\n",
       "      <td>1015904836</td>\n",
       "      <td>1</td>\n",
       "      <td>2</td>\n",
       "    </tr>\n",
       "    <tr>\n",
       "      <th>3</th>\n",
       "      <td>5123</td>\n",
       "      <td>36</td>\n",
       "      <td>2167</td>\n",
       "      <td>5</td>\n",
       "      <td>1015904905</td>\n",
       "      <td>1</td>\n",
       "      <td>3</td>\n",
       "    </tr>\n",
       "    <tr>\n",
       "      <th>4</th>\n",
       "      <td>5290</td>\n",
       "      <td>36</td>\n",
       "      <td>2951</td>\n",
       "      <td>4</td>\n",
       "      <td>1015904905</td>\n",
       "      <td>1</td>\n",
       "      <td>4</td>\n",
       "    </tr>\n",
       "    <tr>\n",
       "      <th>5</th>\n",
       "      <td>5073</td>\n",
       "      <td>36</td>\n",
       "      <td>1912</td>\n",
       "      <td>5</td>\n",
       "      <td>1015904924</td>\n",
       "      <td>1</td>\n",
       "      <td>5</td>\n",
       "    </tr>\n",
       "    <tr>\n",
       "      <th>6</th>\n",
       "      <td>5366</td>\n",
       "      <td>36</td>\n",
       "      <td>2985</td>\n",
       "      <td>4</td>\n",
       "      <td>1015904941</td>\n",
       "      <td>1</td>\n",
       "      <td>6</td>\n",
       "    </tr>\n",
       "    <tr>\n",
       "      <th>8</th>\n",
       "      <td>5145</td>\n",
       "      <td>36</td>\n",
       "      <td>198</td>\n",
       "      <td>5</td>\n",
       "      <td>1015904988</td>\n",
       "      <td>1</td>\n",
       "      <td>7</td>\n",
       "    </tr>\n",
       "    <tr>\n",
       "      <th>9</th>\n",
       "      <td>5296</td>\n",
       "      <td>36</td>\n",
       "      <td>1147</td>\n",
       "      <td>4</td>\n",
       "      <td>1015905111</td>\n",
       "      <td>1</td>\n",
       "      <td>8</td>\n",
       "    </tr>\n",
       "    <tr>\n",
       "      <th>10</th>\n",
       "      <td>5034</td>\n",
       "      <td>36</td>\n",
       "      <td>581</td>\n",
       "      <td>4</td>\n",
       "      <td>1015905127</td>\n",
       "      <td>1</td>\n",
       "      <td>9</td>\n",
       "    </tr>\n",
       "    <tr>\n",
       "      <th>13</th>\n",
       "      <td>5060</td>\n",
       "      <td>36</td>\n",
       "      <td>1191</td>\n",
       "      <td>4</td>\n",
       "      <td>1015905249</td>\n",
       "      <td>1</td>\n",
       "      <td>10</td>\n",
       "    </tr>\n",
       "    <tr>\n",
       "      <th>14</th>\n",
       "      <td>5025</td>\n",
       "      <td>36</td>\n",
       "      <td>3359</td>\n",
       "      <td>5</td>\n",
       "      <td>1015905485</td>\n",
       "      <td>2</td>\n",
       "      <td>11</td>\n",
       "    </tr>\n",
       "    <tr>\n",
       "      <th>15</th>\n",
       "      <td>5325</td>\n",
       "      <td>36</td>\n",
       "      <td>553</td>\n",
       "      <td>4</td>\n",
       "      <td>1015905626</td>\n",
       "      <td>2</td>\n",
       "      <td>12</td>\n",
       "    </tr>\n",
       "    <tr>\n",
       "      <th>152</th>\n",
       "      <td>9716</td>\n",
       "      <td>65</td>\n",
       "      <td>260</td>\n",
       "      <td>4</td>\n",
       "      <td>1022468309</td>\n",
       "      <td>12</td>\n",
       "      <td>13</td>\n",
       "    </tr>\n",
       "    <tr>\n",
       "      <th>153</th>\n",
       "      <td>9703</td>\n",
       "      <td>65</td>\n",
       "      <td>2628</td>\n",
       "      <td>4</td>\n",
       "      <td>1022468310</td>\n",
       "      <td>12</td>\n",
       "      <td>14</td>\n",
       "    </tr>\n",
       "  </tbody>\n",
       "</table>\n",
       "</div>"
      ],
      "text/plain": [
       "     index  UserId  ItemId  Rating        Time  SessionId  item_idx\n",
       "0     5170      36    1387       5  1015904819          1         0\n",
       "1     5267      36    1201       4  1015904819          1         1\n",
       "2     5122      36    1291       5  1015904836          1         2\n",
       "3     5123      36    2167       5  1015904905          1         3\n",
       "4     5290      36    2951       4  1015904905          1         4\n",
       "5     5073      36    1912       5  1015904924          1         5\n",
       "6     5366      36    2985       4  1015904941          1         6\n",
       "8     5145      36     198       5  1015904988          1         7\n",
       "9     5296      36    1147       4  1015905111          1         8\n",
       "10    5034      36     581       4  1015905127          1         9\n",
       "13    5060      36    1191       4  1015905249          1        10\n",
       "14    5025      36    3359       5  1015905485          2        11\n",
       "15    5325      36     553       4  1015905626          2        12\n",
       "152   9716      65     260       4  1022468309         12        13\n",
       "153   9703      65    2628       4  1022468310         12        14"
      ]
     },
     "execution_count": 50,
     "metadata": {},
     "output_type": "execute_result"
    }
   ],
   "source": [
    "tr_data_loader = SessionDataLoader(tr_dataset, batch_size=4)\n",
    "tr_dataset.df.head(15)"
   ]
  },
  {
   "cell_type": "code",
   "execution_count": 51,
   "id": "tropical-wellington",
   "metadata": {},
   "outputs": [
    {
     "data": {
      "text/html": [
       "<div>\n",
       "<style scoped>\n",
       "    .dataframe tbody tr th:only-of-type {\n",
       "        vertical-align: middle;\n",
       "    }\n",
       "\n",
       "    .dataframe tbody tr th {\n",
       "        vertical-align: top;\n",
       "    }\n",
       "\n",
       "    .dataframe thead th {\n",
       "        text-align: right;\n",
       "    }\n",
       "</style>\n",
       "<table border=\"1\" class=\"dataframe\">\n",
       "  <thead>\n",
       "    <tr style=\"text-align: right;\">\n",
       "      <th></th>\n",
       "      <th>index</th>\n",
       "      <th>UserId</th>\n",
       "      <th>ItemId</th>\n",
       "      <th>Rating</th>\n",
       "      <th>Time</th>\n",
       "      <th>SessionId</th>\n",
       "      <th>item_idx</th>\n",
       "    </tr>\n",
       "  </thead>\n",
       "  <tbody>\n",
       "    <tr>\n",
       "      <th>0</th>\n",
       "      <td>5170</td>\n",
       "      <td>36</td>\n",
       "      <td>1387</td>\n",
       "      <td>5</td>\n",
       "      <td>1015904819</td>\n",
       "      <td>1</td>\n",
       "      <td>0</td>\n",
       "    </tr>\n",
       "    <tr>\n",
       "      <th>1</th>\n",
       "      <td>5267</td>\n",
       "      <td>36</td>\n",
       "      <td>1201</td>\n",
       "      <td>4</td>\n",
       "      <td>1015904819</td>\n",
       "      <td>1</td>\n",
       "      <td>1</td>\n",
       "    </tr>\n",
       "    <tr>\n",
       "      <th>2</th>\n",
       "      <td>5122</td>\n",
       "      <td>36</td>\n",
       "      <td>1291</td>\n",
       "      <td>5</td>\n",
       "      <td>1015904836</td>\n",
       "      <td>1</td>\n",
       "      <td>2</td>\n",
       "    </tr>\n",
       "    <tr>\n",
       "      <th>3</th>\n",
       "      <td>5123</td>\n",
       "      <td>36</td>\n",
       "      <td>2167</td>\n",
       "      <td>5</td>\n",
       "      <td>1015904905</td>\n",
       "      <td>1</td>\n",
       "      <td>3</td>\n",
       "    </tr>\n",
       "    <tr>\n",
       "      <th>4</th>\n",
       "      <td>5290</td>\n",
       "      <td>36</td>\n",
       "      <td>2951</td>\n",
       "      <td>4</td>\n",
       "      <td>1015904905</td>\n",
       "      <td>1</td>\n",
       "      <td>4</td>\n",
       "    </tr>\n",
       "    <tr>\n",
       "      <th>5</th>\n",
       "      <td>5073</td>\n",
       "      <td>36</td>\n",
       "      <td>1912</td>\n",
       "      <td>5</td>\n",
       "      <td>1015904924</td>\n",
       "      <td>1</td>\n",
       "      <td>5</td>\n",
       "    </tr>\n",
       "    <tr>\n",
       "      <th>6</th>\n",
       "      <td>5366</td>\n",
       "      <td>36</td>\n",
       "      <td>2985</td>\n",
       "      <td>4</td>\n",
       "      <td>1015904941</td>\n",
       "      <td>1</td>\n",
       "      <td>6</td>\n",
       "    </tr>\n",
       "    <tr>\n",
       "      <th>8</th>\n",
       "      <td>5145</td>\n",
       "      <td>36</td>\n",
       "      <td>198</td>\n",
       "      <td>5</td>\n",
       "      <td>1015904988</td>\n",
       "      <td>1</td>\n",
       "      <td>7</td>\n",
       "    </tr>\n",
       "    <tr>\n",
       "      <th>9</th>\n",
       "      <td>5296</td>\n",
       "      <td>36</td>\n",
       "      <td>1147</td>\n",
       "      <td>4</td>\n",
       "      <td>1015905111</td>\n",
       "      <td>1</td>\n",
       "      <td>8</td>\n",
       "    </tr>\n",
       "    <tr>\n",
       "      <th>10</th>\n",
       "      <td>5034</td>\n",
       "      <td>36</td>\n",
       "      <td>581</td>\n",
       "      <td>4</td>\n",
       "      <td>1015905127</td>\n",
       "      <td>1</td>\n",
       "      <td>9</td>\n",
       "    </tr>\n",
       "    <tr>\n",
       "      <th>13</th>\n",
       "      <td>5060</td>\n",
       "      <td>36</td>\n",
       "      <td>1191</td>\n",
       "      <td>4</td>\n",
       "      <td>1015905249</td>\n",
       "      <td>1</td>\n",
       "      <td>10</td>\n",
       "    </tr>\n",
       "    <tr>\n",
       "      <th>14</th>\n",
       "      <td>5025</td>\n",
       "      <td>36</td>\n",
       "      <td>3359</td>\n",
       "      <td>5</td>\n",
       "      <td>1015905485</td>\n",
       "      <td>2</td>\n",
       "      <td>11</td>\n",
       "    </tr>\n",
       "    <tr>\n",
       "      <th>15</th>\n",
       "      <td>5325</td>\n",
       "      <td>36</td>\n",
       "      <td>553</td>\n",
       "      <td>4</td>\n",
       "      <td>1015905626</td>\n",
       "      <td>2</td>\n",
       "      <td>12</td>\n",
       "    </tr>\n",
       "    <tr>\n",
       "      <th>152</th>\n",
       "      <td>9716</td>\n",
       "      <td>65</td>\n",
       "      <td>260</td>\n",
       "      <td>4</td>\n",
       "      <td>1022468309</td>\n",
       "      <td>12</td>\n",
       "      <td>13</td>\n",
       "    </tr>\n",
       "    <tr>\n",
       "      <th>153</th>\n",
       "      <td>9703</td>\n",
       "      <td>65</td>\n",
       "      <td>2628</td>\n",
       "      <td>4</td>\n",
       "      <td>1022468310</td>\n",
       "      <td>12</td>\n",
       "      <td>14</td>\n",
       "    </tr>\n",
       "  </tbody>\n",
       "</table>\n",
       "</div>"
      ],
      "text/plain": [
       "     index  UserId  ItemId  Rating        Time  SessionId  item_idx\n",
       "0     5170      36    1387       5  1015904819          1         0\n",
       "1     5267      36    1201       4  1015904819          1         1\n",
       "2     5122      36    1291       5  1015904836          1         2\n",
       "3     5123      36    2167       5  1015904905          1         3\n",
       "4     5290      36    2951       4  1015904905          1         4\n",
       "5     5073      36    1912       5  1015904924          1         5\n",
       "6     5366      36    2985       4  1015904941          1         6\n",
       "8     5145      36     198       5  1015904988          1         7\n",
       "9     5296      36    1147       4  1015905111          1         8\n",
       "10    5034      36     581       4  1015905127          1         9\n",
       "13    5060      36    1191       4  1015905249          1        10\n",
       "14    5025      36    3359       5  1015905485          2        11\n",
       "15    5325      36     553       4  1015905626          2        12\n",
       "152   9716      65     260       4  1022468309         12        13\n",
       "153   9703      65    2628       4  1022468310         12        14"
      ]
     },
     "execution_count": 51,
     "metadata": {},
     "output_type": "execute_result"
    }
   ],
   "source": [
    "tr_data_loader = SessionDataLoader(tr_dataset, batch_size=4)\n",
    "tr_dataset.df.head(15)"
   ]
  },
  {
   "cell_type": "code",
   "execution_count": 52,
   "id": "legitimate-lindsay",
   "metadata": {},
   "outputs": [],
   "source": [
    "iter_ex = iter(tr_data_loader)"
   ]
  },
  {
   "cell_type": "code",
   "execution_count": 53,
   "id": "stable-container",
   "metadata": {},
   "outputs": [
    {
     "name": "stdout",
     "output_type": "stream",
     "text": [
      "Model Input Item Idx are : [ 0 11 13 16]\n",
      "Label Item Idx are :       [ 1 12 14 17]\n",
      "Previous Masked Input Idx are []\n"
     ]
    }
   ],
   "source": [
    "inputs, labels, mask =  next(iter_ex)\n",
    "print(f'Model Input Item Idx are : {inputs}')\n",
    "print(f'Label Item Idx are : {\"\":5} {labels}')\n",
    "print(f'Previous Masked Input Idx are {mask}')"
   ]
  },
  {
   "cell_type": "markdown",
   "id": "challenging-invalid",
   "metadata": {},
   "source": [
    "# MRR과 Recall@K 정의"
   ]
  },
  {
   "cell_type": "code",
   "execution_count": 54,
   "id": "structural-driving",
   "metadata": {},
   "outputs": [],
   "source": [
    "def mrr_k(pred, truth: int, k: int):\n",
    "    indexing = np.where(pred[:k] == truth)[0]\n",
    "    if len(indexing) > 0:\n",
    "        return 1 / (indexing[0] + 1)\n",
    "    else:\n",
    "        return 0\n",
    "\n",
    "\n",
    "def recall_k(pred, truth: int, k: int) -> int:\n",
    "    answer = truth in pred[:k]\n",
    "    return int(answer)"
   ]
  },
  {
   "cell_type": "markdown",
   "id": "incorporated-giant",
   "metadata": {},
   "source": [
    "# 모델링 준비"
   ]
  },
  {
   "cell_type": "code",
   "execution_count": 55,
   "id": "initial-sunday",
   "metadata": {},
   "outputs": [],
   "source": [
    "import numpy as np\n",
    "import tensorflow as tf\n",
    "from tensorflow.keras.layers import Input, Dense, Dropout, GRU\n",
    "from tensorflow.keras.losses import categorical_crossentropy\n",
    "from tensorflow.keras.models import Model\n",
    "from tensorflow.keras.optimizers import Adam\n",
    "from tensorflow.keras.utils import to_categorical\n",
    "from tqdm import tqdm"
   ]
  },
  {
   "cell_type": "code",
   "execution_count": 56,
   "id": "animal-traffic",
   "metadata": {},
   "outputs": [],
   "source": [
    "def create_model(args):\n",
    "    inputs = Input(batch_shape=(args.batch_size, 1, args.num_items))\n",
    "    gru, _ = GRU(args.hsz, stateful=True, return_state=True, name='GRU')(inputs)\n",
    "    dropout = Dropout(args.drop_rate)(gru)\n",
    "    predictions = Dense(args.num_items, activation='softmax')(dropout)\n",
    "    model = Model(inputs=inputs, outputs=[predictions])\n",
    "    model.compile(loss=categorical_crossentropy, optimizer=Adam(args.lr), metrics=['accuracy'])\n",
    "    model.summary()\n",
    "    return model"
   ]
  },
  {
   "cell_type": "code",
   "execution_count": 57,
   "id": "economic-investigator",
   "metadata": {},
   "outputs": [],
   "source": [
    "class Args:\n",
    "    def __init__(self, tr, val, test, batch_size, hsz, drop_rate, lr, epochs, k):\n",
    "        self.tr = tr\n",
    "        self.val = val\n",
    "        self.test = test\n",
    "        self.num_items = tr['ItemId'].nunique()\n",
    "        self.num_sessions = tr['SessionId'].nunique()\n",
    "        self.batch_size = batch_size\n",
    "        self.hsz = hsz\n",
    "        self.drop_rate = drop_rate\n",
    "        self.lr = lr\n",
    "        self.epochs = epochs\n",
    "        self.k = k"
   ]
  },
  {
   "cell_type": "code",
   "execution_count": 58,
   "id": "wicked-ethnic",
   "metadata": {},
   "outputs": [],
   "source": [
    "# train 셋으로 학습하면서 valid 셋으로 검증합니다.\n",
    "def train_model(model, args):\n",
    "    train_dataset = SessionDataset(args.tr)\n",
    "    train_loader = SessionDataLoader(train_dataset, batch_size=args.batch_size)\n",
    "\n",
    "    for epoch in range(1, args.epochs + 1):\n",
    "        total_step = len(args.tr) - args.tr['SessionId'].nunique()\n",
    "        tr_loader = tqdm(train_loader, total=total_step // args.batch_size, desc='Train', mininterval=1)\n",
    "        for feat, target, mask in tr_loader:\n",
    "            reset_hidden_states(model, mask)  # 종료된 session은 hidden_state를 초기화합니다. 아래 메서드에서 확인해주세요.\n",
    "\n",
    "            input_ohe = to_categorical(feat, num_classes=args.num_items)\n",
    "            input_ohe = np.expand_dims(input_ohe, axis=1)\n",
    "            target_ohe = to_categorical(target, num_classes=args.num_items)\n",
    "\n",
    "            result = model.train_on_batch(input_ohe, target_ohe)\n",
    "            tr_loader.set_postfix(train_loss=result[0], accuracy = result[1])\n",
    "\n",
    "        val_recall, val_mrr = get_metrics(args.val, model, args, args.k)  # valid set에 대해 검증합니다.\n",
    "\n",
    "        print(f\"\\t - Recall@{args.k} epoch {epoch}: {val_recall:3f}\")\n",
    "        print(f\"\\t - MRR@{args.k}    epoch {epoch}: {val_mrr:3f}\\n\")\n",
    "\n",
    "\n",
    "def reset_hidden_states(model, mask):\n",
    "    gru_layer = model.get_layer(name='GRU')  # model에서 gru layer를 가져옵니다.\n",
    "    hidden_states = gru_layer.states[0].numpy()  # gru_layer의 parameter를 가져옵니다.\n",
    "    for elt in mask:  # mask된 인덱스 즉, 종료된 세션의 인덱스를 돌면서\n",
    "        hidden_states[elt, :] = 0  # parameter를 초기화 합니다.\n",
    "    gru_layer.reset_states(states=hidden_states)\n",
    "\n",
    "\n",
    "def get_metrics(data, model, args, k: int):  # valid셋과 test셋을 평가하는 코드입니다. \n",
    "                                             # train과 거의 같지만 mrr, recall을 구하는 라인이 있습니다.\n",
    "    dataset = SessionDataset(data)\n",
    "    loader = SessionDataLoader(dataset, batch_size=args.batch_size)\n",
    "    recall_list, mrr_list = [], []\n",
    "\n",
    "    total_step = len(data) - data['SessionId'].nunique()\n",
    "    for inputs, label, mask in tqdm(loader, total=total_step // args.batch_size, desc='Evaluation', mininterval=1):\n",
    "        reset_hidden_states(model, mask)\n",
    "        input_ohe = to_categorical(inputs, num_classes=args.num_items)\n",
    "        input_ohe = np.expand_dims(input_ohe, axis=1)\n",
    "\n",
    "        pred = model.predict(input_ohe, batch_size=args.batch_size)\n",
    "        pred_arg = tf.argsort(pred, direction='DESCENDING')  # softmax 값이 큰 순서대로 sorting 합니다.\n",
    "\n",
    "        length = len(inputs)\n",
    "        recall_list.extend([recall_k(pred_arg[i], label[i], k) for i in range(length)])\n",
    "        mrr_list.extend([mrr_k(pred_arg[i], label[i], k) for i in range(length)])\n",
    "\n",
    "    recall, mrr = np.mean(recall_list), np.mean(mrr_list)\n",
    "    return recall, mrr"
   ]
  },
  {
   "cell_type": "code",
   "execution_count": 59,
   "id": "earlier-working",
   "metadata": {},
   "outputs": [],
   "source": [
    "def test_model(model, args, test):\n",
    "    test_recall, test_mrr = get_metrics(test, model, args, 20)\n",
    "    print(f\"\\t - Recall@{args.k}: {test_recall:3f}\")\n",
    "    print(f\"\\t - MRR@{args.k}: {test_mrr:3f}\\n\")"
   ]
  },
  {
   "cell_type": "markdown",
   "id": "progressive-covering",
   "metadata": {},
   "source": [
    "# K의 통계적 도출을 위해 SessionId에 대한 통계 추출"
   ]
  },
  {
   "cell_type": "code",
   "execution_count": 60,
   "id": "broken-arlington",
   "metadata": {},
   "outputs": [],
   "source": [
    "s_k = data['SessionId'].value_counts()"
   ]
  },
  {
   "cell_type": "code",
   "execution_count": 61,
   "id": "danish-president",
   "metadata": {},
   "outputs": [
    {
     "data": {
      "text/plain": [
       "count    1844.000000\n",
       "mean        8.289046\n",
       "std        16.427432\n",
       "min         2.000000\n",
       "25%         2.000000\n",
       "50%         3.000000\n",
       "75%         7.000000\n",
       "max       220.000000\n",
       "Name: SessionId, dtype: float64"
      ]
     },
     "execution_count": 61,
     "metadata": {},
     "output_type": "execute_result"
    }
   ],
   "source": [
    "s_k.describe()"
   ]
  },
  {
   "cell_type": "markdown",
   "id": "challenging-fifty",
   "metadata": {},
   "source": [
    "# 세션 아이디의 이상치 기준을 K의 기준점으로 활용"
   ]
  },
  {
   "cell_type": "code",
   "execution_count": 62,
   "id": "excited-resolution",
   "metadata": {},
   "outputs": [
    {
     "name": "stdout",
     "output_type": "stream",
     "text": [
      "14\n"
     ]
    }
   ],
   "source": [
    "k = int(s_k.quantile(0.75) + 3/2*(s_k.quantile(0.75) - s_k.quantile(0.25)))\n",
    "print(k)"
   ]
  },
  {
   "cell_type": "markdown",
   "id": "peaceful-humanitarian",
   "metadata": {},
   "source": [
    "# 모델링 1\n",
    "### batch size = 64\n",
    "### drop rate = 0.1\n",
    "### learning rate = 0.001\n",
    "### epochs = 10\n",
    "### k = 14"
   ]
  },
  {
   "cell_type": "code",
   "execution_count": 63,
   "id": "constitutional-convertible",
   "metadata": {},
   "outputs": [],
   "source": [
    "args1 = Args(train_df, val_df, test_df, batch_size=64, hsz=50, drop_rate=0.1, lr=0.001, epochs=10, k=k)"
   ]
  },
  {
   "cell_type": "code",
   "execution_count": 64,
   "id": "native-squad",
   "metadata": {},
   "outputs": [
    {
     "name": "stdout",
     "output_type": "stream",
     "text": [
      "Model: \"model\"\n",
      "_________________________________________________________________\n",
      "Layer (type)                 Output Shape              Param #   \n",
      "=================================================================\n",
      "input_1 (InputLayer)         [(64, 1, 1326)]           0         \n",
      "_________________________________________________________________\n",
      "GRU (GRU)                    [(64, 50), (64, 50)]      206700    \n",
      "_________________________________________________________________\n",
      "dropout (Dropout)            (64, 50)                  0         \n",
      "_________________________________________________________________\n",
      "dense (Dense)                (64, 1326)                67626     \n",
      "=================================================================\n",
      "Total params: 274,326\n",
      "Trainable params: 274,326\n",
      "Non-trainable params: 0\n",
      "_________________________________________________________________\n"
     ]
    }
   ],
   "source": [
    "model1 = create_model(args1)"
   ]
  },
  {
   "cell_type": "code",
   "execution_count": 65,
   "id": "wooden-testimony",
   "metadata": {},
   "outputs": [
    {
     "name": "stderr",
     "output_type": "stream",
     "text": [
      "Train:  86%|████████▌ | 140/163 [00:03<00:00, 39.09it/s, accuracy=0, train_loss=7.09]    \n",
      "Evaluation:  57%|█████▋    | 17/30 [00:06<00:04,  2.74it/s]\n",
      "Train:   0%|          | 0/163 [00:00<?, ?it/s, accuracy=0, train_loss=7.1]      "
     ]
    },
    {
     "name": "stdout",
     "output_type": "stream",
     "text": [
      "\t - Recall@14 epoch 1: 0.025735\n",
      "\t - MRR@14    epoch 1: 0.005785\n",
      "\n"
     ]
    },
    {
     "name": "stderr",
     "output_type": "stream",
     "text": [
      "Train:  86%|████████▌ | 140/163 [00:02<00:00, 68.35it/s, accuracy=0, train_loss=7.01]    \n",
      "Evaluation:  57%|█████▋    | 17/30 [00:05<00:04,  2.97it/s]\n",
      "Train:   0%|          | 0/163 [00:00<?, ?it/s, accuracy=0.0156, train_loss=7.07]"
     ]
    },
    {
     "name": "stdout",
     "output_type": "stream",
     "text": [
      "\t - Recall@14 epoch 2: 0.025735\n",
      "\t - MRR@14    epoch 2: 0.005723\n",
      "\n"
     ]
    },
    {
     "name": "stderr",
     "output_type": "stream",
     "text": [
      "Train:  86%|████████▌ | 140/163 [00:02<00:00, 67.82it/s, accuracy=0, train_loss=6.96]    \n",
      "Evaluation:  57%|█████▋    | 17/30 [00:05<00:04,  3.02it/s]\n",
      "Train:   0%|          | 0/163 [00:00<?, ?it/s, accuracy=0, train_loss=7.03]     "
     ]
    },
    {
     "name": "stdout",
     "output_type": "stream",
     "text": [
      "\t - Recall@14 epoch 3: 0.024816\n",
      "\t - MRR@14    epoch 3: 0.005835\n",
      "\n"
     ]
    },
    {
     "name": "stderr",
     "output_type": "stream",
     "text": [
      "Train:  86%|████████▌ | 140/163 [00:02<00:00, 67.76it/s, accuracy=0.0156, train_loss=6.95]\n",
      "Evaluation:  57%|█████▋    | 17/30 [00:05<00:04,  3.06it/s]\n",
      "Train:   0%|          | 0/163 [00:00<?, ?it/s, accuracy=0.0156, train_loss=6.87]"
     ]
    },
    {
     "name": "stdout",
     "output_type": "stream",
     "text": [
      "\t - Recall@14 epoch 4: 0.024816\n",
      "\t - MRR@14    epoch 4: 0.006258\n",
      "\n"
     ]
    },
    {
     "name": "stderr",
     "output_type": "stream",
     "text": [
      "Train:  86%|████████▌ | 140/163 [00:02<00:00, 67.32it/s, accuracy=0, train_loss=6.92]    \n",
      "Evaluation:  57%|█████▋    | 17/30 [00:05<00:04,  3.06it/s]\n",
      "Train:   0%|          | 0/163 [00:00<?, ?it/s, accuracy=0, train_loss=6.93]     "
     ]
    },
    {
     "name": "stdout",
     "output_type": "stream",
     "text": [
      "\t - Recall@14 epoch 5: 0.027574\n",
      "\t - MRR@14    epoch 5: 0.007311\n",
      "\n"
     ]
    },
    {
     "name": "stderr",
     "output_type": "stream",
     "text": [
      "Train:  86%|████████▌ | 140/163 [00:02<00:00, 67.63it/s, accuracy=0, train_loss=6.87]    \n",
      "Evaluation:  57%|█████▋    | 17/30 [00:05<00:04,  3.03it/s]\n",
      "Train:   0%|          | 0/163 [00:00<?, ?it/s, accuracy=0.0156, train_loss=6.74]"
     ]
    },
    {
     "name": "stdout",
     "output_type": "stream",
     "text": [
      "\t - Recall@14 epoch 6: 0.031250\n",
      "\t - MRR@14    epoch 6: 0.009322\n",
      "\n"
     ]
    },
    {
     "name": "stderr",
     "output_type": "stream",
     "text": [
      "Train:  86%|████████▌ | 140/163 [00:02<00:00, 69.97it/s, accuracy=0, train_loss=6.8]     \n",
      "Evaluation:  57%|█████▋    | 17/30 [00:05<00:04,  3.04it/s]\n",
      "Train:   0%|          | 0/163 [00:00<?, ?it/s, accuracy=0.0156, train_loss=6.69]"
     ]
    },
    {
     "name": "stdout",
     "output_type": "stream",
     "text": [
      "\t - Recall@14 epoch 7: 0.032169\n",
      "\t - MRR@14    epoch 7: 0.010505\n",
      "\n"
     ]
    },
    {
     "name": "stderr",
     "output_type": "stream",
     "text": [
      "Train:  86%|████████▌ | 140/163 [00:02<00:00, 68.72it/s, accuracy=0.0156, train_loss=6.76]\n",
      "Evaluation:  57%|█████▋    | 17/30 [00:05<00:04,  3.06it/s]\n",
      "Train:   0%|          | 0/163 [00:00<?, ?it/s, accuracy=0, train_loss=6.77]     "
     ]
    },
    {
     "name": "stdout",
     "output_type": "stream",
     "text": [
      "\t - Recall@14 epoch 8: 0.037684\n",
      "\t - MRR@14    epoch 8: 0.012085\n",
      "\n"
     ]
    },
    {
     "name": "stderr",
     "output_type": "stream",
     "text": [
      "Train:  86%|████████▌ | 140/163 [00:02<00:00, 66.90it/s, accuracy=0.0312, train_loss=6.7] \n",
      "Evaluation:  57%|█████▋    | 17/30 [00:05<00:04,  3.06it/s]\n",
      "Train:   0%|          | 0/163 [00:00<?, ?it/s, accuracy=0, train_loss=6.57]     "
     ]
    },
    {
     "name": "stdout",
     "output_type": "stream",
     "text": [
      "\t - Recall@14 epoch 9: 0.040441\n",
      "\t - MRR@14    epoch 9: 0.013208\n",
      "\n"
     ]
    },
    {
     "name": "stderr",
     "output_type": "stream",
     "text": [
      "Train:  86%|████████▌ | 140/163 [00:02<00:00, 68.74it/s, accuracy=0.0469, train_loss=6.67]\n",
      "Evaluation:  57%|█████▋    | 17/30 [00:05<00:04,  3.06it/s]"
     ]
    },
    {
     "name": "stdout",
     "output_type": "stream",
     "text": [
      "\t - Recall@14 epoch 10: 0.042279\n",
      "\t - MRR@14    epoch 10: 0.015043\n",
      "\n"
     ]
    },
    {
     "name": "stderr",
     "output_type": "stream",
     "text": [
      "\n"
     ]
    }
   ],
   "source": [
    "train_model(model1, args1)"
   ]
  },
  {
   "cell_type": "code",
   "execution_count": 66,
   "id": "naked-algorithm",
   "metadata": {},
   "outputs": [
    {
     "name": "stderr",
     "output_type": "stream",
     "text": [
      "Evaluation:  25%|██▌       | 4/16 [00:01<00:05,  2.34it/s]"
     ]
    },
    {
     "name": "stdout",
     "output_type": "stream",
     "text": [
      "\t - Recall@14: 0.039062\n",
      "\t - MRR@14: 0.005715\n",
      "\n"
     ]
    },
    {
     "name": "stderr",
     "output_type": "stream",
     "text": [
      "\n"
     ]
    }
   ],
   "source": [
    "test_model(model1, args1, test_df)"
   ]
  },
  {
   "cell_type": "markdown",
   "id": "overhead-knight",
   "metadata": {},
   "source": [
    "# 모델링 2\n",
    "### batch size = 64\n",
    "### drop rate = 0.2\n",
    "### learning rate = 0.001\n",
    "### epochs = 10\n",
    "### k = 14"
   ]
  },
  {
   "cell_type": "code",
   "execution_count": 67,
   "id": "general-former",
   "metadata": {},
   "outputs": [],
   "source": [
    "args2 = Args(train_df, val_df, test_df, batch_size=64, hsz=50, drop_rate=0.2, lr=0.001, epochs=10, k=k)"
   ]
  },
  {
   "cell_type": "code",
   "execution_count": 68,
   "id": "noble-carpet",
   "metadata": {},
   "outputs": [
    {
     "name": "stdout",
     "output_type": "stream",
     "text": [
      "Model: \"model_1\"\n",
      "_________________________________________________________________\n",
      "Layer (type)                 Output Shape              Param #   \n",
      "=================================================================\n",
      "input_2 (InputLayer)         [(64, 1, 1326)]           0         \n",
      "_________________________________________________________________\n",
      "GRU (GRU)                    [(64, 50), (64, 50)]      206700    \n",
      "_________________________________________________________________\n",
      "dropout_1 (Dropout)          (64, 50)                  0         \n",
      "_________________________________________________________________\n",
      "dense_1 (Dense)              (64, 1326)                67626     \n",
      "=================================================================\n",
      "Total params: 274,326\n",
      "Trainable params: 274,326\n",
      "Non-trainable params: 0\n",
      "_________________________________________________________________\n"
     ]
    }
   ],
   "source": [
    "model2 = create_model(args2)"
   ]
  },
  {
   "cell_type": "code",
   "execution_count": 69,
   "id": "chinese-strain",
   "metadata": {},
   "outputs": [
    {
     "name": "stderr",
     "output_type": "stream",
     "text": [
      "Train:  86%|████████▌ | 140/163 [00:03<00:00, 39.23it/s, accuracy=0, train_loss=7.09]    \n",
      "Evaluation:  57%|█████▋    | 17/30 [00:05<00:04,  2.88it/s]\n",
      "Train:   0%|          | 0/163 [00:00<?, ?it/s, accuracy=0.0156, train_loss=7.1] "
     ]
    },
    {
     "name": "stdout",
     "output_type": "stream",
     "text": [
      "\t - Recall@14 epoch 1: 0.026654\n",
      "\t - MRR@14    epoch 1: 0.005036\n",
      "\n"
     ]
    },
    {
     "name": "stderr",
     "output_type": "stream",
     "text": [
      "Train:  86%|████████▌ | 140/163 [00:02<00:00, 68.01it/s, accuracy=0, train_loss=7.01]    \n",
      "Evaluation:  57%|█████▋    | 17/30 [00:05<00:04,  3.01it/s]\n",
      "Train:   0%|          | 0/163 [00:00<?, ?it/s, accuracy=0, train_loss=7.06]     "
     ]
    },
    {
     "name": "stdout",
     "output_type": "stream",
     "text": [
      "\t - Recall@14 epoch 2: 0.025735\n",
      "\t - MRR@14    epoch 2: 0.005644\n",
      "\n"
     ]
    },
    {
     "name": "stderr",
     "output_type": "stream",
     "text": [
      "Train:  86%|████████▌ | 140/163 [00:02<00:00, 68.48it/s, accuracy=0, train_loss=6.98]    \n",
      "Evaluation:  57%|█████▋    | 17/30 [00:05<00:04,  3.04it/s]\n",
      "Train:   0%|          | 0/163 [00:00<?, ?it/s, accuracy=0, train_loss=7.02]     "
     ]
    },
    {
     "name": "stdout",
     "output_type": "stream",
     "text": [
      "\t - Recall@14 epoch 3: 0.030331\n",
      "\t - MRR@14    epoch 3: 0.007152\n",
      "\n"
     ]
    },
    {
     "name": "stderr",
     "output_type": "stream",
     "text": [
      "Train:  86%|████████▌ | 140/163 [00:02<00:00, 67.78it/s, accuracy=0, train_loss=6.96]    \n",
      "Evaluation:  57%|█████▋    | 17/30 [00:05<00:04,  3.05it/s]\n",
      "Train:   0%|          | 0/163 [00:00<?, ?it/s, accuracy=0, train_loss=7]        "
     ]
    },
    {
     "name": "stdout",
     "output_type": "stream",
     "text": [
      "\t - Recall@14 epoch 4: 0.031250\n",
      "\t - MRR@14    epoch 4: 0.006005\n",
      "\n"
     ]
    },
    {
     "name": "stderr",
     "output_type": "stream",
     "text": [
      "Train:  86%|████████▌ | 140/163 [00:02<00:00, 66.83it/s, accuracy=0, train_loss=6.92]    \n",
      "Evaluation:  57%|█████▋    | 17/30 [00:05<00:04,  3.08it/s]\n",
      "Train:   0%|          | 0/163 [00:00<?, ?it/s, accuracy=0, train_loss=6.97]     "
     ]
    },
    {
     "name": "stdout",
     "output_type": "stream",
     "text": [
      "\t - Recall@14 epoch 5: 0.034926\n",
      "\t - MRR@14    epoch 5: 0.008380\n",
      "\n"
     ]
    },
    {
     "name": "stderr",
     "output_type": "stream",
     "text": [
      "Train:  86%|████████▌ | 140/163 [00:02<00:00, 67.16it/s, accuracy=0, train_loss=6.91]     \n",
      "Evaluation:  57%|█████▋    | 17/30 [00:05<00:04,  3.05it/s]\n",
      "Train:   0%|          | 0/163 [00:00<?, ?it/s, accuracy=0, train_loss=6.95]     "
     ]
    },
    {
     "name": "stdout",
     "output_type": "stream",
     "text": [
      "\t - Recall@14 epoch 6: 0.031250\n",
      "\t - MRR@14    epoch 6: 0.011358\n",
      "\n"
     ]
    },
    {
     "name": "stderr",
     "output_type": "stream",
     "text": [
      "Train:  86%|████████▌ | 140/163 [00:02<00:00, 61.06it/s, accuracy=0.0156, train_loss=6.82]\n",
      "Evaluation:  57%|█████▋    | 17/30 [00:05<00:04,  3.01it/s]\n",
      "Train:   0%|          | 0/163 [00:00<?, ?it/s, accuracy=0.0156, train_loss=6.75]"
     ]
    },
    {
     "name": "stdout",
     "output_type": "stream",
     "text": [
      "\t - Recall@14 epoch 7: 0.032169\n",
      "\t - MRR@14    epoch 7: 0.012550\n",
      "\n"
     ]
    },
    {
     "name": "stderr",
     "output_type": "stream",
     "text": [
      "Train:  86%|████████▌ | 140/163 [00:02<00:00, 68.03it/s, accuracy=0.0156, train_loss=6.77]\n",
      "Evaluation:  57%|█████▋    | 17/30 [00:05<00:04,  3.06it/s]\n",
      "Train:   0%|          | 0/163 [00:00<?, ?it/s, accuracy=0, train_loss=6.73]     "
     ]
    },
    {
     "name": "stdout",
     "output_type": "stream",
     "text": [
      "\t - Recall@14 epoch 8: 0.035846\n",
      "\t - MRR@14    epoch 8: 0.013528\n",
      "\n"
     ]
    },
    {
     "name": "stderr",
     "output_type": "stream",
     "text": [
      "Train:  86%|████████▌ | 140/163 [00:02<00:00, 67.39it/s, accuracy=0.0156, train_loss=6.71]\n",
      "Evaluation:  57%|█████▋    | 17/30 [00:05<00:04,  3.06it/s]\n",
      "Train:   0%|          | 0/163 [00:00<?, ?it/s, accuracy=0, train_loss=6.8]      "
     ]
    },
    {
     "name": "stdout",
     "output_type": "stream",
     "text": [
      "\t - Recall@14 epoch 9: 0.039522\n",
      "\t - MRR@14    epoch 9: 0.012393\n",
      "\n"
     ]
    },
    {
     "name": "stderr",
     "output_type": "stream",
     "text": [
      "Train:  86%|████████▌ | 140/163 [00:02<00:00, 67.55it/s, accuracy=0.0156, train_loss=6.61]\n",
      "Evaluation:  57%|█████▋    | 17/30 [00:05<00:04,  3.06it/s]"
     ]
    },
    {
     "name": "stdout",
     "output_type": "stream",
     "text": [
      "\t - Recall@14 epoch 10: 0.041360\n",
      "\t - MRR@14    epoch 10: 0.014730\n",
      "\n"
     ]
    },
    {
     "name": "stderr",
     "output_type": "stream",
     "text": [
      "\n"
     ]
    }
   ],
   "source": [
    "train_model(model2, args2)"
   ]
  },
  {
   "cell_type": "code",
   "execution_count": 70,
   "id": "forced-novelty",
   "metadata": {},
   "outputs": [
    {
     "name": "stderr",
     "output_type": "stream",
     "text": [
      "Evaluation:  25%|██▌       | 4/16 [00:01<00:05,  2.32it/s]"
     ]
    },
    {
     "name": "stdout",
     "output_type": "stream",
     "text": [
      "\t - Recall@14: 0.031250\n",
      "\t - MRR@14: 0.009406\n",
      "\n"
     ]
    },
    {
     "name": "stderr",
     "output_type": "stream",
     "text": [
      "\n"
     ]
    }
   ],
   "source": [
    "test_model(model2, args2, test_df)"
   ]
  },
  {
   "cell_type": "markdown",
   "id": "liquid-enclosure",
   "metadata": {},
   "source": [
    "# 모델링 3\n",
    "### batch size = 64\n",
    "### drop rate = 0.5\n",
    "### learning rate = 0.001\n",
    "### epochs = 10\n",
    "### k = 14"
   ]
  },
  {
   "cell_type": "code",
   "execution_count": 71,
   "id": "gross-watts",
   "metadata": {},
   "outputs": [],
   "source": [
    "args3 = Args(train_df, val_df, test_df, batch_size=64, hsz=50, drop_rate=0.5, lr=0.001, epochs=10, k=k)"
   ]
  },
  {
   "cell_type": "code",
   "execution_count": 72,
   "id": "mysterious-bubble",
   "metadata": {},
   "outputs": [
    {
     "name": "stdout",
     "output_type": "stream",
     "text": [
      "Model: \"model_2\"\n",
      "_________________________________________________________________\n",
      "Layer (type)                 Output Shape              Param #   \n",
      "=================================================================\n",
      "input_3 (InputLayer)         [(64, 1, 1326)]           0         \n",
      "_________________________________________________________________\n",
      "GRU (GRU)                    [(64, 50), (64, 50)]      206700    \n",
      "_________________________________________________________________\n",
      "dropout_2 (Dropout)          (64, 50)                  0         \n",
      "_________________________________________________________________\n",
      "dense_2 (Dense)              (64, 1326)                67626     \n",
      "=================================================================\n",
      "Total params: 274,326\n",
      "Trainable params: 274,326\n",
      "Non-trainable params: 0\n",
      "_________________________________________________________________\n"
     ]
    }
   ],
   "source": [
    "model3 = create_model(args3)"
   ]
  },
  {
   "cell_type": "code",
   "execution_count": 73,
   "id": "cleared-israel",
   "metadata": {},
   "outputs": [
    {
     "name": "stderr",
     "output_type": "stream",
     "text": [
      "Train:  86%|████████▌ | 140/163 [00:03<00:00, 38.81it/s, accuracy=0, train_loss=7.09]     \n",
      "Evaluation:  57%|█████▋    | 17/30 [00:05<00:04,  2.90it/s]\n",
      "Train:   0%|          | 0/163 [00:00<?, ?it/s, accuracy=0, train_loss=7.1]      "
     ]
    },
    {
     "name": "stdout",
     "output_type": "stream",
     "text": [
      "\t - Recall@14 epoch 1: 0.034926\n",
      "\t - MRR@14    epoch 1: 0.007339\n",
      "\n"
     ]
    },
    {
     "name": "stderr",
     "output_type": "stream",
     "text": [
      "Train:  86%|████████▌ | 140/163 [00:02<00:00, 68.57it/s, accuracy=0, train_loss=7]       \n",
      "Evaluation:  57%|█████▋    | 17/30 [00:05<00:04,  3.01it/s]\n",
      "Train:   0%|          | 0/163 [00:00<?, ?it/s, accuracy=0, train_loss=7.06]     "
     ]
    },
    {
     "name": "stdout",
     "output_type": "stream",
     "text": [
      "\t - Recall@14 epoch 2: 0.026654\n",
      "\t - MRR@14    epoch 2: 0.005691\n",
      "\n"
     ]
    },
    {
     "name": "stderr",
     "output_type": "stream",
     "text": [
      "Train:  86%|████████▌ | 140/163 [00:01<00:00, 70.01it/s, accuracy=0, train_loss=6.97]    \n",
      "Evaluation:  57%|█████▋    | 17/30 [00:05<00:04,  3.02it/s]\n",
      "Train:   0%|          | 0/163 [00:00<?, ?it/s, accuracy=0.0156, train_loss=6.91]"
     ]
    },
    {
     "name": "stdout",
     "output_type": "stream",
     "text": [
      "\t - Recall@14 epoch 3: 0.032169\n",
      "\t - MRR@14    epoch 3: 0.006400\n",
      "\n"
     ]
    },
    {
     "name": "stderr",
     "output_type": "stream",
     "text": [
      "Train:  86%|████████▌ | 140/163 [00:02<00:00, 69.17it/s, accuracy=0, train_loss=6.95]    \n",
      "Evaluation:  57%|█████▋    | 17/30 [00:05<00:04,  3.07it/s]\n",
      "Train:   0%|          | 0/163 [00:00<?, ?it/s, accuracy=0, train_loss=6.97]     "
     ]
    },
    {
     "name": "stdout",
     "output_type": "stream",
     "text": [
      "\t - Recall@14 epoch 4: 0.029412\n",
      "\t - MRR@14    epoch 4: 0.006187\n",
      "\n"
     ]
    },
    {
     "name": "stderr",
     "output_type": "stream",
     "text": [
      "Train:  86%|████████▌ | 140/163 [00:02<00:00, 66.99it/s, accuracy=0, train_loss=6.94]    \n",
      "Evaluation:  57%|█████▋    | 17/30 [00:05<00:04,  3.06it/s]\n",
      "Train:   0%|          | 0/163 [00:00<?, ?it/s, accuracy=0, train_loss=6.98]     "
     ]
    },
    {
     "name": "stdout",
     "output_type": "stream",
     "text": [
      "\t - Recall@14 epoch 5: 0.030331\n",
      "\t - MRR@14    epoch 5: 0.006825\n",
      "\n"
     ]
    },
    {
     "name": "stderr",
     "output_type": "stream",
     "text": [
      "Train:  86%|████████▌ | 140/163 [00:02<00:00, 68.48it/s, accuracy=0, train_loss=6.91]    \n",
      "Evaluation:  57%|█████▋    | 17/30 [00:05<00:04,  3.01it/s]\n",
      "Train:   0%|          | 0/163 [00:00<?, ?it/s, accuracy=0.0156, train_loss=6.85]"
     ]
    },
    {
     "name": "stdout",
     "output_type": "stream",
     "text": [
      "\t - Recall@14 epoch 6: 0.036765\n",
      "\t - MRR@14    epoch 6: 0.007794\n",
      "\n"
     ]
    },
    {
     "name": "stderr",
     "output_type": "stream",
     "text": [
      "Train:  86%|████████▌ | 140/163 [00:02<00:00, 69.71it/s, accuracy=0, train_loss=6.9]     \n",
      "Evaluation:  57%|█████▋    | 17/30 [00:05<00:04,  3.03it/s]\n",
      "Train:   0%|          | 0/163 [00:00<?, ?it/s, accuracy=0, train_loss=6.94]     "
     ]
    },
    {
     "name": "stdout",
     "output_type": "stream",
     "text": [
      "\t - Recall@14 epoch 7: 0.033088\n",
      "\t - MRR@14    epoch 7: 0.008817\n",
      "\n"
     ]
    },
    {
     "name": "stderr",
     "output_type": "stream",
     "text": [
      "Train:  86%|████████▌ | 140/163 [00:02<00:00, 68.84it/s, accuracy=0, train_loss=6.83]    \n",
      "Evaluation:  57%|█████▋    | 17/30 [00:05<00:04,  3.03it/s]\n",
      "Train:   0%|          | 0/163 [00:00<?, ?it/s, accuracy=0, train_loss=6.91]     "
     ]
    },
    {
     "name": "stdout",
     "output_type": "stream",
     "text": [
      "\t - Recall@14 epoch 8: 0.034007\n",
      "\t - MRR@14    epoch 8: 0.010329\n",
      "\n"
     ]
    },
    {
     "name": "stderr",
     "output_type": "stream",
     "text": [
      "Train:  86%|████████▌ | 140/163 [00:02<00:00, 68.55it/s, accuracy=0, train_loss=6.82]    \n",
      "Evaluation:  57%|█████▋    | 17/30 [00:05<00:04,  3.06it/s]\n",
      "Train:   0%|          | 0/163 [00:00<?, ?it/s, accuracy=0, train_loss=6.9]      "
     ]
    },
    {
     "name": "stdout",
     "output_type": "stream",
     "text": [
      "\t - Recall@14 epoch 9: 0.038603\n",
      "\t - MRR@14    epoch 9: 0.012343\n",
      "\n"
     ]
    },
    {
     "name": "stderr",
     "output_type": "stream",
     "text": [
      "Train:  86%|████████▌ | 140/163 [00:02<00:00, 67.37it/s, accuracy=0, train_loss=6.78]    \n",
      "Evaluation:  57%|█████▋    | 17/30 [00:05<00:04,  3.04it/s]"
     ]
    },
    {
     "name": "stdout",
     "output_type": "stream",
     "text": [
      "\t - Recall@14 epoch 10: 0.039522\n",
      "\t - MRR@14    epoch 10: 0.014580\n",
      "\n"
     ]
    },
    {
     "name": "stderr",
     "output_type": "stream",
     "text": [
      "\n"
     ]
    }
   ],
   "source": [
    "train_model(model3, args3)"
   ]
  },
  {
   "cell_type": "code",
   "execution_count": 74,
   "id": "corresponding-patrol",
   "metadata": {},
   "outputs": [
    {
     "name": "stderr",
     "output_type": "stream",
     "text": [
      "Evaluation:  25%|██▌       | 4/16 [00:01<00:05,  2.33it/s]"
     ]
    },
    {
     "name": "stdout",
     "output_type": "stream",
     "text": [
      "\t - Recall@14: 0.039062\n",
      "\t - MRR@14: 0.010111\n",
      "\n"
     ]
    },
    {
     "name": "stderr",
     "output_type": "stream",
     "text": [
      "\n"
     ]
    }
   ],
   "source": [
    "test_model(model3, args3, test_df)"
   ]
  },
  {
   "cell_type": "markdown",
   "id": "public-encoding",
   "metadata": {},
   "source": [
    "# 모델링 4\n",
    "### batch size = 64\n",
    "### drop rate = 0.1\n",
    "### learning rate = 0.01\n",
    "### epochs = 10\n",
    "### k = 14"
   ]
  },
  {
   "cell_type": "code",
   "execution_count": 75,
   "id": "offshore-valentine",
   "metadata": {},
   "outputs": [],
   "source": [
    "args4 = Args(train_df, val_df, test_df, batch_size=64, hsz=50, drop_rate=0.1, lr=0.01, epochs=10, k=k)"
   ]
  },
  {
   "cell_type": "code",
   "execution_count": 76,
   "id": "champion-ordinance",
   "metadata": {},
   "outputs": [
    {
     "name": "stdout",
     "output_type": "stream",
     "text": [
      "Model: \"model_3\"\n",
      "_________________________________________________________________\n",
      "Layer (type)                 Output Shape              Param #   \n",
      "=================================================================\n",
      "input_4 (InputLayer)         [(64, 1, 1326)]           0         \n",
      "_________________________________________________________________\n",
      "GRU (GRU)                    [(64, 50), (64, 50)]      206700    \n",
      "_________________________________________________________________\n",
      "dropout_3 (Dropout)          (64, 50)                  0         \n",
      "_________________________________________________________________\n",
      "dense_3 (Dense)              (64, 1326)                67626     \n",
      "=================================================================\n",
      "Total params: 274,326\n",
      "Trainable params: 274,326\n",
      "Non-trainable params: 0\n",
      "_________________________________________________________________\n"
     ]
    }
   ],
   "source": [
    "model4 = create_model(args4)"
   ]
  },
  {
   "cell_type": "code",
   "execution_count": 77,
   "id": "thirty-canada",
   "metadata": {},
   "outputs": [
    {
     "name": "stderr",
     "output_type": "stream",
     "text": [
      "Train:  86%|████████▌ | 140/163 [00:03<00:00, 36.28it/s, accuracy=0, train_loss=7.06]    \n",
      "Evaluation:  57%|█████▋    | 17/30 [00:05<00:04,  2.87it/s]\n",
      "Train:   0%|          | 0/163 [00:00<?, ?it/s, accuracy=0, train_loss=6.9]      "
     ]
    },
    {
     "name": "stdout",
     "output_type": "stream",
     "text": [
      "\t - Recall@14 epoch 1: 0.036765\n",
      "\t - MRR@14    epoch 1: 0.012613\n",
      "\n"
     ]
    },
    {
     "name": "stderr",
     "output_type": "stream",
     "text": [
      "Train:  86%|████████▌ | 140/163 [00:02<00:00, 66.31it/s, accuracy=0, train_loss=6.81]     \n",
      "Evaluation:  57%|█████▋    | 17/30 [00:05<00:04,  3.06it/s]\n",
      "Train:   0%|          | 0/163 [00:00<?, ?it/s, accuracy=0.0156, train_loss=6.62]"
     ]
    },
    {
     "name": "stdout",
     "output_type": "stream",
     "text": [
      "\t - Recall@14 epoch 2: 0.046875\n",
      "\t - MRR@14    epoch 2: 0.018082\n",
      "\n"
     ]
    },
    {
     "name": "stderr",
     "output_type": "stream",
     "text": [
      "Train:  86%|████████▌ | 140/163 [00:03<00:00, 36.93it/s, accuracy=0.0312, train_loss=5.8] \n",
      "Evaluation:  57%|█████▋    | 17/30 [00:05<00:04,  3.04it/s]\n",
      "Train:   0%|          | 0/163 [00:00<?, ?it/s, accuracy=0.0938, train_loss=5.34]"
     ]
    },
    {
     "name": "stdout",
     "output_type": "stream",
     "text": [
      "\t - Recall@14 epoch 3: 0.061581\n",
      "\t - MRR@14    epoch 3: 0.021695\n",
      "\n"
     ]
    },
    {
     "name": "stderr",
     "output_type": "stream",
     "text": [
      "Train:  86%|████████▌ | 140/163 [00:02<00:00, 69.22it/s, accuracy=0.141, train_loss=4.48] \n",
      "Evaluation:  57%|█████▋    | 17/30 [00:05<00:04,  3.07it/s]\n",
      "Train:   0%|          | 0/163 [00:00<?, ?it/s, accuracy=0.172, train_loss=4.09]"
     ]
    },
    {
     "name": "stdout",
     "output_type": "stream",
     "text": [
      "\t - Recall@14 epoch 4: 0.063419\n",
      "\t - MRR@14    epoch 4: 0.027004\n",
      "\n"
     ]
    },
    {
     "name": "stderr",
     "output_type": "stream",
     "text": [
      "Train:  86%|████████▌ | 140/163 [00:02<00:00, 68.87it/s, accuracy=0.234, train_loss=3.52]\n",
      "Evaluation:  57%|█████▋    | 17/30 [00:05<00:04,  3.10it/s]\n",
      "Train:   0%|          | 0/163 [00:00<?, ?it/s, accuracy=0.234, train_loss=3.56]"
     ]
    },
    {
     "name": "stdout",
     "output_type": "stream",
     "text": [
      "\t - Recall@14 epoch 5: 0.061581\n",
      "\t - MRR@14    epoch 5: 0.025222\n",
      "\n"
     ]
    },
    {
     "name": "stderr",
     "output_type": "stream",
     "text": [
      "Train:  86%|████████▌ | 140/163 [00:02<00:00, 63.07it/s, accuracy=0.281, train_loss=2.85]\n",
      "Evaluation:  57%|█████▋    | 17/30 [00:06<00:05,  2.60it/s]\n",
      "Train:   0%|          | 0/163 [00:00<?, ?it/s, accuracy=0.312, train_loss=2.76]"
     ]
    },
    {
     "name": "stdout",
     "output_type": "stream",
     "text": [
      "\t - Recall@14 epoch 6: 0.063419\n",
      "\t - MRR@14    epoch 6: 0.024472\n",
      "\n"
     ]
    },
    {
     "name": "stderr",
     "output_type": "stream",
     "text": [
      "Train:  86%|████████▌ | 140/163 [00:02<00:00, 64.06it/s, accuracy=0.328, train_loss=2.65]\n",
      "Evaluation:  57%|█████▋    | 17/30 [00:05<00:04,  3.10it/s]\n",
      "Train:   0%|          | 0/163 [00:00<?, ?it/s, accuracy=0.344, train_loss=2.29]"
     ]
    },
    {
     "name": "stdout",
     "output_type": "stream",
     "text": [
      "\t - Recall@14 epoch 7: 0.058824\n",
      "\t - MRR@14    epoch 7: 0.022860\n",
      "\n"
     ]
    },
    {
     "name": "stderr",
     "output_type": "stream",
     "text": [
      "Train:  86%|████████▌ | 140/163 [00:02<00:00, 68.84it/s, accuracy=0.547, train_loss=1.98]\n",
      "Evaluation:  57%|█████▋    | 17/30 [00:05<00:04,  3.08it/s]\n",
      "Train:   0%|          | 0/163 [00:00<?, ?it/s, accuracy=0.406, train_loss=2.04]"
     ]
    },
    {
     "name": "stdout",
     "output_type": "stream",
     "text": [
      "\t - Recall@14 epoch 8: 0.059743\n",
      "\t - MRR@14    epoch 8: 0.022882\n",
      "\n"
     ]
    },
    {
     "name": "stderr",
     "output_type": "stream",
     "text": [
      "Train:  86%|████████▌ | 140/163 [00:02<00:00, 67.81it/s, accuracy=0.562, train_loss=1.92]\n",
      "Evaluation:  57%|█████▋    | 17/30 [00:05<00:04,  3.06it/s]\n",
      "Train:   0%|          | 0/163 [00:00<?, ?it/s, accuracy=0.516, train_loss=1.67]"
     ]
    },
    {
     "name": "stdout",
     "output_type": "stream",
     "text": [
      "\t - Recall@14 epoch 9: 0.060662\n",
      "\t - MRR@14    epoch 9: 0.023396\n",
      "\n"
     ]
    },
    {
     "name": "stderr",
     "output_type": "stream",
     "text": [
      "Train:  86%|████████▌ | 140/163 [00:02<00:00, 68.22it/s, accuracy=0.609, train_loss=1.63]\n",
      "Evaluation:  57%|█████▋    | 17/30 [00:05<00:04,  3.10it/s]"
     ]
    },
    {
     "name": "stdout",
     "output_type": "stream",
     "text": [
      "\t - Recall@14 epoch 10: 0.063419\n",
      "\t - MRR@14    epoch 10: 0.023483\n",
      "\n"
     ]
    },
    {
     "name": "stderr",
     "output_type": "stream",
     "text": [
      "\n"
     ]
    }
   ],
   "source": [
    "train_model(model4, args4)"
   ]
  },
  {
   "cell_type": "code",
   "execution_count": 78,
   "id": "divided-northwest",
   "metadata": {},
   "outputs": [
    {
     "name": "stderr",
     "output_type": "stream",
     "text": [
      "Evaluation:  25%|██▌       | 4/16 [00:01<00:05,  2.26it/s]"
     ]
    },
    {
     "name": "stdout",
     "output_type": "stream",
     "text": [
      "\t - Recall@14: 0.054688\n",
      "\t - MRR@14: 0.010108\n",
      "\n"
     ]
    },
    {
     "name": "stderr",
     "output_type": "stream",
     "text": [
      "\n"
     ]
    }
   ],
   "source": [
    "test_model(model4, args4, test_df)"
   ]
  },
  {
   "cell_type": "markdown",
   "id": "continent-short",
   "metadata": {},
   "source": [
    "# 모델링 5\n",
    "### batch size = 64\n",
    "### drop rate = 0.1\n",
    "### learning rate = 0.1\n",
    "### epochs = 10\n",
    "### k = 14"
   ]
  },
  {
   "cell_type": "code",
   "execution_count": 79,
   "id": "liquid-forwarding",
   "metadata": {},
   "outputs": [],
   "source": [
    "args5 = Args(train_df, val_df, test_df, batch_size=64, hsz=50, drop_rate=0.1, lr=0.1, epochs=10, k=k)"
   ]
  },
  {
   "cell_type": "code",
   "execution_count": 80,
   "id": "inner-algeria",
   "metadata": {},
   "outputs": [
    {
     "name": "stdout",
     "output_type": "stream",
     "text": [
      "Model: \"model_4\"\n",
      "_________________________________________________________________\n",
      "Layer (type)                 Output Shape              Param #   \n",
      "=================================================================\n",
      "input_5 (InputLayer)         [(64, 1, 1326)]           0         \n",
      "_________________________________________________________________\n",
      "GRU (GRU)                    [(64, 50), (64, 50)]      206700    \n",
      "_________________________________________________________________\n",
      "dropout_4 (Dropout)          (64, 50)                  0         \n",
      "_________________________________________________________________\n",
      "dense_4 (Dense)              (64, 1326)                67626     \n",
      "=================================================================\n",
      "Total params: 274,326\n",
      "Trainable params: 274,326\n",
      "Non-trainable params: 0\n",
      "_________________________________________________________________\n"
     ]
    }
   ],
   "source": [
    "model5 = create_model(args5)"
   ]
  },
  {
   "cell_type": "code",
   "execution_count": 81,
   "id": "annual-walnut",
   "metadata": {},
   "outputs": [
    {
     "name": "stderr",
     "output_type": "stream",
     "text": [
      "Train:  86%|████████▌ | 140/163 [00:03<00:00, 39.70it/s, accuracy=0, train_loss=7.49]     \n",
      "Evaluation:  57%|█████▋    | 17/30 [00:05<00:04,  2.87it/s]\n",
      "Train:   0%|          | 0/163 [00:00<?, ?it/s, accuracy=0, train_loss=7.08]     "
     ]
    },
    {
     "name": "stdout",
     "output_type": "stream",
     "text": [
      "\t - Recall@14 epoch 1: 0.042279\n",
      "\t - MRR@14    epoch 1: 0.011337\n",
      "\n"
     ]
    },
    {
     "name": "stderr",
     "output_type": "stream",
     "text": [
      "Train:  86%|████████▌ | 140/163 [00:02<00:00, 68.55it/s, accuracy=0, train_loss=7.76]    \n",
      "Evaluation:  57%|█████▋    | 17/30 [00:05<00:04,  3.07it/s]\n",
      "Train:   0%|          | 0/163 [00:00<?, ?it/s, accuracy=0, train_loss=7.49]     "
     ]
    },
    {
     "name": "stdout",
     "output_type": "stream",
     "text": [
      "\t - Recall@14 epoch 2: 0.031250\n",
      "\t - MRR@14    epoch 2: 0.010941\n",
      "\n"
     ]
    },
    {
     "name": "stderr",
     "output_type": "stream",
     "text": [
      "Train:  86%|████████▌ | 140/163 [00:02<00:00, 68.17it/s, accuracy=0.0156, train_loss=8.58]\n",
      "Evaluation:  57%|█████▋    | 17/30 [00:05<00:04,  3.03it/s]\n",
      "Train:   0%|          | 0/163 [00:00<?, ?it/s, accuracy=0.0156, train_loss=7.66]"
     ]
    },
    {
     "name": "stdout",
     "output_type": "stream",
     "text": [
      "\t - Recall@14 epoch 3: 0.034926\n",
      "\t - MRR@14    epoch 3: 0.012330\n",
      "\n"
     ]
    },
    {
     "name": "stderr",
     "output_type": "stream",
     "text": [
      "Train:  86%|████████▌ | 140/163 [00:02<00:00, 69.77it/s, accuracy=0, train_loss=8.88]    \n",
      "Evaluation:  57%|█████▋    | 17/30 [00:05<00:04,  3.04it/s]\n",
      "Train:   0%|          | 0/163 [00:00<?, ?it/s, accuracy=0, train_loss=8.43]     "
     ]
    },
    {
     "name": "stdout",
     "output_type": "stream",
     "text": [
      "\t - Recall@14 epoch 4: 0.034007\n",
      "\t - MRR@14    epoch 4: 0.011677\n",
      "\n"
     ]
    },
    {
     "name": "stderr",
     "output_type": "stream",
     "text": [
      "Train:  86%|████████▌ | 140/163 [00:02<00:00, 69.03it/s, accuracy=0.0156, train_loss=9.25]\n",
      "Evaluation:  57%|█████▋    | 17/30 [00:05<00:04,  3.04it/s]\n",
      "Train:   0%|          | 0/163 [00:00<?, ?it/s, accuracy=0, train_loss=8.96]     "
     ]
    },
    {
     "name": "stdout",
     "output_type": "stream",
     "text": [
      "\t - Recall@14 epoch 5: 0.029412\n",
      "\t - MRR@14    epoch 5: 0.009640\n",
      "\n"
     ]
    },
    {
     "name": "stderr",
     "output_type": "stream",
     "text": [
      "Train:  86%|████████▌ | 140/163 [00:02<00:00, 69.63it/s, accuracy=0, train_loss=8.69]    \n",
      "Evaluation:  57%|█████▋    | 17/30 [00:05<00:04,  3.07it/s]\n",
      "Train:   0%|          | 0/163 [00:00<?, ?it/s, accuracy=0.0156, train_loss=8.18]"
     ]
    },
    {
     "name": "stdout",
     "output_type": "stream",
     "text": [
      "\t - Recall@14 epoch 6: 0.041360\n",
      "\t - MRR@14    epoch 6: 0.014350\n",
      "\n"
     ]
    },
    {
     "name": "stderr",
     "output_type": "stream",
     "text": [
      "Train:  86%|████████▌ | 140/163 [00:02<00:00, 67.45it/s, accuracy=0, train_loss=9.15]    \n",
      "Evaluation:  57%|█████▋    | 17/30 [00:05<00:04,  3.05it/s]\n",
      "Train:   0%|          | 0/163 [00:00<?, ?it/s, accuracy=0.0469, train_loss=7.84]"
     ]
    },
    {
     "name": "stdout",
     "output_type": "stream",
     "text": [
      "\t - Recall@14 epoch 7: 0.027574\n",
      "\t - MRR@14    epoch 7: 0.009642\n",
      "\n"
     ]
    },
    {
     "name": "stderr",
     "output_type": "stream",
     "text": [
      "Train:  86%|████████▌ | 140/163 [00:02<00:00, 69.30it/s, accuracy=0.0156, train_loss=9.6]\n",
      "Evaluation:  57%|█████▋    | 17/30 [00:05<00:04,  2.89it/s]\n",
      "Train:   0%|          | 0/163 [00:00<?, ?it/s, accuracy=0, train_loss=7.98]     "
     ]
    },
    {
     "name": "stdout",
     "output_type": "stream",
     "text": [
      "\t - Recall@14 epoch 8: 0.030331\n",
      "\t - MRR@14    epoch 8: 0.010005\n",
      "\n"
     ]
    },
    {
     "name": "stderr",
     "output_type": "stream",
     "text": [
      "Train:  86%|████████▌ | 140/163 [00:02<00:00, 66.46it/s, accuracy=0, train_loss=9.38]     \n",
      "Evaluation:  57%|█████▋    | 17/30 [00:05<00:04,  3.04it/s]\n",
      "Train:   0%|          | 0/163 [00:00<?, ?it/s, accuracy=0.0469, train_loss=9.07]"
     ]
    },
    {
     "name": "stdout",
     "output_type": "stream",
     "text": [
      "\t - Recall@14 epoch 9: 0.035846\n",
      "\t - MRR@14    epoch 9: 0.010308\n",
      "\n"
     ]
    },
    {
     "name": "stderr",
     "output_type": "stream",
     "text": [
      "Train:  86%|████████▌ | 140/163 [00:02<00:00, 68.42it/s, accuracy=0.0156, train_loss=8.83]\n",
      "Evaluation:  57%|█████▋    | 17/30 [00:05<00:04,  3.02it/s]"
     ]
    },
    {
     "name": "stdout",
     "output_type": "stream",
     "text": [
      "\t - Recall@14 epoch 10: 0.036765\n",
      "\t - MRR@14    epoch 10: 0.009702\n",
      "\n"
     ]
    },
    {
     "name": "stderr",
     "output_type": "stream",
     "text": [
      "\n"
     ]
    }
   ],
   "source": [
    "train_model(model5, args5)"
   ]
  },
  {
   "cell_type": "code",
   "execution_count": 82,
   "id": "downtown-solid",
   "metadata": {},
   "outputs": [
    {
     "name": "stderr",
     "output_type": "stream",
     "text": [
      "Evaluation:  25%|██▌       | 4/16 [00:01<00:05,  2.23it/s]"
     ]
    },
    {
     "name": "stdout",
     "output_type": "stream",
     "text": [
      "\t - Recall@14: 0.027344\n",
      "\t - MRR@14: 0.005704\n",
      "\n"
     ]
    },
    {
     "name": "stderr",
     "output_type": "stream",
     "text": [
      "\n"
     ]
    }
   ],
   "source": [
    "test_model(model5, args5, test_df)"
   ]
  },
  {
   "cell_type": "markdown",
   "id": "victorian-filing",
   "metadata": {},
   "source": [
    "***"
   ]
  },
  {
   "cell_type": "markdown",
   "id": "solid-midnight",
   "metadata": {},
   "source": [
    "# drop out과 learning rate를 변경하며 시도해 본 결과 1번 모델에서 drop out을 0.5로 변경했을 때와 learning rate를 0.1로 변경했을 때 가장 결과가 좋아 이를 기준으로 다시 다양한 하이퍼파라미터를 시도"
   ]
  },
  {
   "cell_type": "markdown",
   "id": "insured-empty",
   "metadata": {},
   "source": [
    "# 모델링 6\n",
    "### batch size = 32\n",
    "### drop rate = 0.1\n",
    "### learning rate = 0.01\n",
    "### epochs = 10\n",
    "### k = 14"
   ]
  },
  {
   "cell_type": "code",
   "execution_count": 83,
   "id": "graduate-blame",
   "metadata": {},
   "outputs": [],
   "source": [
    "args6 = Args(train_df, val_df, test_df, batch_size=32, hsz=50, drop_rate=0.1, lr=0.01, epochs=10, k=k)"
   ]
  },
  {
   "cell_type": "code",
   "execution_count": 84,
   "id": "given-rochester",
   "metadata": {},
   "outputs": [
    {
     "name": "stdout",
     "output_type": "stream",
     "text": [
      "Model: \"model_5\"\n",
      "_________________________________________________________________\n",
      "Layer (type)                 Output Shape              Param #   \n",
      "=================================================================\n",
      "input_6 (InputLayer)         [(32, 1, 1326)]           0         \n",
      "_________________________________________________________________\n",
      "GRU (GRU)                    [(32, 50), (32, 50)]      206700    \n",
      "_________________________________________________________________\n",
      "dropout_5 (Dropout)          (32, 50)                  0         \n",
      "_________________________________________________________________\n",
      "dense_5 (Dense)              (32, 1326)                67626     \n",
      "=================================================================\n",
      "Total params: 274,326\n",
      "Trainable params: 274,326\n",
      "Non-trainable params: 0\n",
      "_________________________________________________________________\n"
     ]
    }
   ],
   "source": [
    "model6 = create_model(args6)"
   ]
  },
  {
   "cell_type": "code",
   "execution_count": 85,
   "id": "automated-apparel",
   "metadata": {},
   "outputs": [
    {
     "name": "stderr",
     "output_type": "stream",
     "text": [
      "Train:  93%|█████████▎| 305/327 [00:05<00:00, 55.03it/s, accuracy=0.0625, train_loss=7.16]\n",
      "Evaluation:  70%|███████   | 42/60 [00:08<00:03,  5.24it/s]\n",
      "Train:   0%|          | 0/327 [00:00<?, ?it/s, accuracy=0.0312, train_loss=6.72]"
     ]
    },
    {
     "name": "stdout",
     "output_type": "stream",
     "text": [
      "\t - Recall@14 epoch 1: 0.049851\n",
      "\t - MRR@14    epoch 1: 0.018007\n",
      "\n"
     ]
    },
    {
     "name": "stderr",
     "output_type": "stream",
     "text": [
      "Train:  93%|█████████▎| 305/327 [00:03<00:00, 76.46it/s, accuracy=0.0312, train_loss=6.16]\n",
      "Evaluation:  70%|███████   | 42/60 [00:07<00:03,  5.42it/s]\n",
      "Train:   0%|          | 0/327 [00:00<?, ?it/s, accuracy=0, train_loss=6.48]     "
     ]
    },
    {
     "name": "stdout",
     "output_type": "stream",
     "text": [
      "\t - Recall@14 epoch 2: 0.052827\n",
      "\t - MRR@14    epoch 2: 0.021825\n",
      "\n"
     ]
    },
    {
     "name": "stderr",
     "output_type": "stream",
     "text": [
      "Train:  93%|█████████▎| 305/327 [00:04<00:00, 74.40it/s, accuracy=0.156, train_loss=4.69] \n",
      "Evaluation:  70%|███████   | 42/60 [00:07<00:03,  5.48it/s]\n",
      "Train:   0%|          | 0/327 [00:00<?, ?it/s, accuracy=0.0938, train_loss=5.01]"
     ]
    },
    {
     "name": "stdout",
     "output_type": "stream",
     "text": [
      "\t - Recall@14 epoch 3: 0.052827\n",
      "\t - MRR@14    epoch 3: 0.021658\n",
      "\n"
     ]
    },
    {
     "name": "stderr",
     "output_type": "stream",
     "text": [
      "Train:  93%|█████████▎| 305/327 [00:04<00:00, 75.44it/s, accuracy=0.281, train_loss=3.69] \n",
      "Evaluation:  70%|███████   | 42/60 [00:07<00:03,  5.41it/s]\n",
      "Train:   0%|          | 0/327 [00:00<?, ?it/s, accuracy=0.25, train_loss=3.69]  "
     ]
    },
    {
     "name": "stdout",
     "output_type": "stream",
     "text": [
      "\t - Recall@14 epoch 4: 0.055804\n",
      "\t - MRR@14    epoch 4: 0.021185\n",
      "\n"
     ]
    },
    {
     "name": "stderr",
     "output_type": "stream",
     "text": [
      "Train:  93%|█████████▎| 305/327 [00:03<00:00, 76.53it/s, accuracy=0.281, train_loss=2.7]  \n",
      "Evaluation:  70%|███████   | 42/60 [00:07<00:03,  5.43it/s]\n",
      "Train:   0%|          | 0/327 [00:00<?, ?it/s, accuracy=0.281, train_loss=3.54]"
     ]
    },
    {
     "name": "stdout",
     "output_type": "stream",
     "text": [
      "\t - Recall@14 epoch 5: 0.050595\n",
      "\t - MRR@14    epoch 5: 0.020549\n",
      "\n"
     ]
    },
    {
     "name": "stderr",
     "output_type": "stream",
     "text": [
      "Train:  93%|█████████▎| 305/327 [00:03<00:00, 76.48it/s, accuracy=0.406, train_loss=2.21] \n",
      "Evaluation:  70%|███████   | 42/60 [00:07<00:03,  5.45it/s]\n",
      "Train:   0%|          | 0/327 [00:00<?, ?it/s, accuracy=0.25, train_loss=2.82] "
     ]
    },
    {
     "name": "stdout",
     "output_type": "stream",
     "text": [
      "\t - Recall@14 epoch 6: 0.055804\n",
      "\t - MRR@14    epoch 6: 0.022195\n",
      "\n"
     ]
    },
    {
     "name": "stderr",
     "output_type": "stream",
     "text": [
      "Train:  93%|█████████▎| 305/327 [00:03<00:00, 76.29it/s, accuracy=0.406, train_loss=1.9] \n",
      "Evaluation:  70%|███████   | 42/60 [00:07<00:03,  5.40it/s]\n",
      "Train:   0%|          | 0/327 [00:00<?, ?it/s, accuracy=0.406, train_loss=2.56]"
     ]
    },
    {
     "name": "stdout",
     "output_type": "stream",
     "text": [
      "\t - Recall@14 epoch 7: 0.053571\n",
      "\t - MRR@14    epoch 7: 0.018319\n",
      "\n"
     ]
    },
    {
     "name": "stderr",
     "output_type": "stream",
     "text": [
      "Train:  93%|█████████▎| 305/327 [00:04<00:00, 76.04it/s, accuracy=0.594, train_loss=1.31]\n",
      "Evaluation:  70%|███████   | 42/60 [00:07<00:03,  5.40it/s]\n",
      "Train:   0%|          | 0/327 [00:00<?, ?it/s, accuracy=0.406, train_loss=2]   "
     ]
    },
    {
     "name": "stdout",
     "output_type": "stream",
     "text": [
      "\t - Recall@14 epoch 8: 0.056548\n",
      "\t - MRR@14    epoch 8: 0.019639\n",
      "\n"
     ]
    },
    {
     "name": "stderr",
     "output_type": "stream",
     "text": [
      "Train:  93%|█████████▎| 305/327 [00:03<00:00, 76.29it/s, accuracy=0.531, train_loss=1.45]\n",
      "Evaluation:  70%|███████   | 42/60 [00:07<00:03,  5.42it/s]\n",
      "Train:   0%|          | 0/327 [00:00<?, ?it/s, accuracy=0.562, train_loss=1.81]"
     ]
    },
    {
     "name": "stdout",
     "output_type": "stream",
     "text": [
      "\t - Recall@14 epoch 9: 0.050595\n",
      "\t - MRR@14    epoch 9: 0.020797\n",
      "\n"
     ]
    },
    {
     "name": "stderr",
     "output_type": "stream",
     "text": [
      "Train:  93%|█████████▎| 305/327 [00:04<00:00, 74.14it/s, accuracy=0.656, train_loss=1.33]\n",
      "Evaluation:  70%|███████   | 42/60 [00:07<00:03,  5.42it/s]"
     ]
    },
    {
     "name": "stdout",
     "output_type": "stream",
     "text": [
      "\t - Recall@14 epoch 10: 0.052827\n",
      "\t - MRR@14    epoch 10: 0.019694\n",
      "\n"
     ]
    },
    {
     "name": "stderr",
     "output_type": "stream",
     "text": [
      "\n"
     ]
    }
   ],
   "source": [
    "train_model(model6, args6)"
   ]
  },
  {
   "cell_type": "code",
   "execution_count": 86,
   "id": "remarkable-condition",
   "metadata": {},
   "outputs": [
    {
     "name": "stderr",
     "output_type": "stream",
     "text": [
      "Evaluation:  47%|████▋     | 15/32 [00:03<00:04,  3.94it/s]"
     ]
    },
    {
     "name": "stdout",
     "output_type": "stream",
     "text": [
      "\t - Recall@14: 0.050000\n",
      "\t - MRR@14: 0.021337\n",
      "\n"
     ]
    },
    {
     "name": "stderr",
     "output_type": "stream",
     "text": [
      "\n"
     ]
    }
   ],
   "source": [
    "test_model(model6, args6, test_df)"
   ]
  },
  {
   "cell_type": "markdown",
   "id": "wooden-delivery",
   "metadata": {},
   "source": [
    "# 모델링 7\n",
    "### batch size = 64\n",
    "### drop rate = 0.2\n",
    "### learning rate = 0.01\n",
    "### epochs = 10\n",
    "### k = 14"
   ]
  },
  {
   "cell_type": "code",
   "execution_count": null,
   "id": "secondary-constitution",
   "metadata": {},
   "outputs": [],
   "source": [
    "args7 = Args(train_df, val_df, test_df, batch_size=64, hsz=50, drop_rate=0.2, lr=0.01, epochs=10, k=k)"
   ]
  },
  {
   "cell_type": "code",
   "execution_count": 88,
   "id": "extreme-rachel",
   "metadata": {},
   "outputs": [
    {
     "name": "stdout",
     "output_type": "stream",
     "text": [
      "Model: \"model_6\"\n",
      "_________________________________________________________________\n",
      "Layer (type)                 Output Shape              Param #   \n",
      "=================================================================\n",
      "input_7 (InputLayer)         [(64, 1, 1326)]           0         \n",
      "_________________________________________________________________\n",
      "GRU (GRU)                    [(64, 50), (64, 50)]      206700    \n",
      "_________________________________________________________________\n",
      "dropout_6 (Dropout)          (64, 50)                  0         \n",
      "_________________________________________________________________\n",
      "dense_6 (Dense)              (64, 1326)                67626     \n",
      "=================================================================\n",
      "Total params: 274,326\n",
      "Trainable params: 274,326\n",
      "Non-trainable params: 0\n",
      "_________________________________________________________________\n"
     ]
    }
   ],
   "source": [
    "model7 = create_model(args7)"
   ]
  },
  {
   "cell_type": "code",
   "execution_count": 89,
   "id": "fuzzy-thickness",
   "metadata": {},
   "outputs": [
    {
     "name": "stderr",
     "output_type": "stream",
     "text": [
      "Train:  86%|████████▌ | 140/163 [00:03<00:00, 39.65it/s, accuracy=0, train_loss=7.09]    \n",
      "Evaluation:  57%|█████▋    | 17/30 [00:05<00:04,  2.88it/s]\n",
      "Train:   0%|          | 0/163 [00:00<?, ?it/s, accuracy=0, train_loss=6.81]     "
     ]
    },
    {
     "name": "stdout",
     "output_type": "stream",
     "text": [
      "\t - Recall@14 epoch 1: 0.045037\n",
      "\t - MRR@14    epoch 1: 0.009706\n",
      "\n"
     ]
    },
    {
     "name": "stderr",
     "output_type": "stream",
     "text": [
      "Train:  86%|████████▌ | 140/163 [00:02<00:00, 67.16it/s, accuracy=0.0156, train_loss=6.86]\n",
      "Evaluation:  57%|█████▋    | 17/30 [00:05<00:04,  3.03it/s]\n",
      "Train:   0%|          | 0/163 [00:00<?, ?it/s, accuracy=0.0312, train_loss=6.36]"
     ]
    },
    {
     "name": "stdout",
     "output_type": "stream",
     "text": [
      "\t - Recall@14 epoch 2: 0.043199\n",
      "\t - MRR@14    epoch 2: 0.018797\n",
      "\n"
     ]
    },
    {
     "name": "stderr",
     "output_type": "stream",
     "text": [
      "Train:  86%|████████▌ | 140/163 [00:02<00:00, 67.28it/s, accuracy=0.0781, train_loss=5.89]\n",
      "Evaluation:  57%|█████▋    | 17/30 [00:05<00:04,  3.06it/s]\n",
      "Train:   0%|          | 0/163 [00:00<?, ?it/s, accuracy=0.0469, train_loss=5.47]"
     ]
    },
    {
     "name": "stdout",
     "output_type": "stream",
     "text": [
      "\t - Recall@14 epoch 3: 0.056985\n",
      "\t - MRR@14    epoch 3: 0.025724\n",
      "\n"
     ]
    },
    {
     "name": "stderr",
     "output_type": "stream",
     "text": [
      "Train:  86%|████████▌ | 140/163 [00:02<00:00, 67.08it/s, accuracy=0.0781, train_loss=5.04]\n",
      "Evaluation:  57%|█████▋    | 17/30 [00:05<00:04,  3.11it/s]\n",
      "Train:   0%|          | 0/163 [00:00<?, ?it/s, accuracy=0.156, train_loss=4.28] "
     ]
    },
    {
     "name": "stdout",
     "output_type": "stream",
     "text": [
      "\t - Recall@14 epoch 4: 0.063419\n",
      "\t - MRR@14    epoch 4: 0.026548\n",
      "\n"
     ]
    },
    {
     "name": "stderr",
     "output_type": "stream",
     "text": [
      "Train:  86%|████████▌ | 140/163 [00:02<00:00, 68.97it/s, accuracy=0.109, train_loss=4.22]\n",
      "Evaluation:  57%|█████▋    | 17/30 [00:05<00:04,  3.07it/s]\n",
      "Train:   0%|          | 0/163 [00:00<?, ?it/s, accuracy=0.156, train_loss=3.61]"
     ]
    },
    {
     "name": "stdout",
     "output_type": "stream",
     "text": [
      "\t - Recall@14 epoch 5: 0.059743\n",
      "\t - MRR@14    epoch 5: 0.025961\n",
      "\n"
     ]
    },
    {
     "name": "stderr",
     "output_type": "stream",
     "text": [
      "Train:  86%|████████▌ | 140/163 [00:02<00:00, 65.50it/s, accuracy=0.125, train_loss=3.6] \n",
      "Evaluation:  57%|█████▋    | 17/30 [00:05<00:04,  3.06it/s]\n",
      "Train:   0%|          | 0/163 [00:00<?, ?it/s, accuracy=0.25, train_loss=3.07] "
     ]
    },
    {
     "name": "stdout",
     "output_type": "stream",
     "text": [
      "\t - Recall@14 epoch 6: 0.052390\n",
      "\t - MRR@14    epoch 6: 0.024734\n",
      "\n"
     ]
    },
    {
     "name": "stderr",
     "output_type": "stream",
     "text": [
      "Train:  86%|████████▌ | 140/163 [00:02<00:00, 66.63it/s, accuracy=0.25, train_loss=3.18] \n",
      "Evaluation:  57%|█████▋    | 17/30 [00:05<00:04,  3.05it/s]\n",
      "Train:   0%|          | 0/163 [00:00<?, ?it/s, accuracy=0.359, train_loss=2.6] "
     ]
    },
    {
     "name": "stdout",
     "output_type": "stream",
     "text": [
      "\t - Recall@14 epoch 7: 0.051471\n",
      "\t - MRR@14    epoch 7: 0.021632\n",
      "\n"
     ]
    },
    {
     "name": "stderr",
     "output_type": "stream",
     "text": [
      "Train:  86%|████████▌ | 140/163 [00:02<00:00, 67.87it/s, accuracy=0.297, train_loss=2.73]\n",
      "Evaluation:  57%|█████▋    | 17/30 [00:05<00:04,  3.09it/s]\n",
      "Train:   0%|          | 0/163 [00:00<?, ?it/s, accuracy=0.406, train_loss=2.25]"
     ]
    },
    {
     "name": "stdout",
     "output_type": "stream",
     "text": [
      "\t - Recall@14 epoch 8: 0.055147\n",
      "\t - MRR@14    epoch 8: 0.023057\n",
      "\n"
     ]
    },
    {
     "name": "stderr",
     "output_type": "stream",
     "text": [
      "Train:  86%|████████▌ | 140/163 [00:02<00:00, 67.37it/s, accuracy=0.312, train_loss=2.71]\n",
      "Evaluation:  57%|█████▋    | 17/30 [00:05<00:04,  3.07it/s]\n",
      "Train:   0%|          | 0/163 [00:00<?, ?it/s, accuracy=0.375, train_loss=2.37]"
     ]
    },
    {
     "name": "stdout",
     "output_type": "stream",
     "text": [
      "\t - Recall@14 epoch 9: 0.052390\n",
      "\t - MRR@14    epoch 9: 0.020204\n",
      "\n"
     ]
    },
    {
     "name": "stderr",
     "output_type": "stream",
     "text": [
      "Train:  86%|████████▌ | 140/163 [00:02<00:00, 67.26it/s, accuracy=0.438, train_loss=2.21]\n",
      "Evaluation:  57%|█████▋    | 17/30 [00:05<00:04,  3.06it/s]"
     ]
    },
    {
     "name": "stdout",
     "output_type": "stream",
     "text": [
      "\t - Recall@14 epoch 10: 0.049632\n",
      "\t - MRR@14    epoch 10: 0.022077\n",
      "\n"
     ]
    },
    {
     "name": "stderr",
     "output_type": "stream",
     "text": [
      "\n"
     ]
    }
   ],
   "source": [
    "train_model(model7, args7)"
   ]
  },
  {
   "cell_type": "code",
   "execution_count": 90,
   "id": "attempted-auckland",
   "metadata": {},
   "outputs": [
    {
     "name": "stderr",
     "output_type": "stream",
     "text": [
      "Evaluation:  25%|██▌       | 4/16 [00:01<00:05,  2.35it/s]"
     ]
    },
    {
     "name": "stdout",
     "output_type": "stream",
     "text": [
      "\t - Recall@14: 0.046875\n",
      "\t - MRR@14: 0.013879\n",
      "\n"
     ]
    },
    {
     "name": "stderr",
     "output_type": "stream",
     "text": [
      "\n"
     ]
    }
   ],
   "source": [
    "test_model(model7, args7, test_df)"
   ]
  },
  {
   "cell_type": "markdown",
   "id": "focal-malaysia",
   "metadata": {},
   "source": [
    "# 모델링 8\n",
    "### batch size = 64\n",
    "### drop rate = 0.5\n",
    "### learning rate = 0.01\n",
    "### epochs = 10\n",
    "### k = 14"
   ]
  },
  {
   "cell_type": "code",
   "execution_count": 91,
   "id": "possible-anniversary",
   "metadata": {},
   "outputs": [],
   "source": [
    "args8 = Args(train_df, val_df, test_df, batch_size=64, hsz=50, drop_rate=0.5, lr=0.01, epochs=10, k=k)"
   ]
  },
  {
   "cell_type": "code",
   "execution_count": 92,
   "id": "academic-advisory",
   "metadata": {},
   "outputs": [
    {
     "name": "stdout",
     "output_type": "stream",
     "text": [
      "Model: \"model_7\"\n",
      "_________________________________________________________________\n",
      "Layer (type)                 Output Shape              Param #   \n",
      "=================================================================\n",
      "input_8 (InputLayer)         [(64, 1, 1326)]           0         \n",
      "_________________________________________________________________\n",
      "GRU (GRU)                    [(64, 50), (64, 50)]      206700    \n",
      "_________________________________________________________________\n",
      "dropout_7 (Dropout)          (64, 50)                  0         \n",
      "_________________________________________________________________\n",
      "dense_7 (Dense)              (64, 1326)                67626     \n",
      "=================================================================\n",
      "Total params: 274,326\n",
      "Trainable params: 274,326\n",
      "Non-trainable params: 0\n",
      "_________________________________________________________________\n"
     ]
    }
   ],
   "source": [
    "model8 = create_model(args8)"
   ]
  },
  {
   "cell_type": "code",
   "execution_count": 93,
   "id": "egyptian-school",
   "metadata": {},
   "outputs": [
    {
     "name": "stderr",
     "output_type": "stream",
     "text": [
      "Train:  86%|████████▌ | 140/163 [00:03<00:00, 38.57it/s, accuracy=0, train_loss=7.05]    \n",
      "Evaluation:  57%|█████▋    | 17/30 [00:05<00:04,  2.85it/s]\n",
      "Train:   0%|          | 0/163 [00:00<?, ?it/s, accuracy=0.0156, train_loss=6.73]"
     ]
    },
    {
     "name": "stdout",
     "output_type": "stream",
     "text": [
      "\t - Recall@14 epoch 1: 0.041360\n",
      "\t - MRR@14    epoch 1: 0.010528\n",
      "\n"
     ]
    },
    {
     "name": "stderr",
     "output_type": "stream",
     "text": [
      "Train:  86%|████████▌ | 140/163 [00:02<00:00, 66.97it/s, accuracy=0, train_loss=7.04]    \n",
      "Evaluation:  57%|█████▋    | 17/30 [00:05<00:04,  3.03it/s]\n",
      "Train:   0%|          | 0/163 [00:00<?, ?it/s, accuracy=0.0156, train_loss=6.68]"
     ]
    },
    {
     "name": "stdout",
     "output_type": "stream",
     "text": [
      "\t - Recall@14 epoch 2: 0.039522\n",
      "\t - MRR@14    epoch 2: 0.015161\n",
      "\n"
     ]
    },
    {
     "name": "stderr",
     "output_type": "stream",
     "text": [
      "Train:  86%|████████▌ | 140/163 [00:02<00:00, 66.43it/s, accuracy=0.0469, train_loss=6.29]\n",
      "Evaluation:  57%|█████▋    | 17/30 [00:05<00:04,  3.08it/s]\n",
      "Train:   0%|          | 0/163 [00:00<?, ?it/s, accuracy=0, train_loss=6.18]     "
     ]
    },
    {
     "name": "stdout",
     "output_type": "stream",
     "text": [
      "\t - Recall@14 epoch 3: 0.050551\n",
      "\t - MRR@14    epoch 3: 0.020970\n",
      "\n"
     ]
    },
    {
     "name": "stderr",
     "output_type": "stream",
     "text": [
      "Train:  86%|████████▌ | 140/163 [00:02<00:00, 66.43it/s, accuracy=0.0312, train_loss=5.81]\n",
      "Evaluation:  57%|█████▋    | 17/30 [00:05<00:04,  3.08it/s]\n",
      "Train:   0%|          | 0/163 [00:00<?, ?it/s, accuracy=0.0469, train_loss=5.8] "
     ]
    },
    {
     "name": "stdout",
     "output_type": "stream",
     "text": [
      "\t - Recall@14 epoch 4: 0.060662\n",
      "\t - MRR@14    epoch 4: 0.023117\n",
      "\n"
     ]
    },
    {
     "name": "stderr",
     "output_type": "stream",
     "text": [
      "Train:  86%|████████▌ | 140/163 [00:02<00:00, 65.76it/s, accuracy=0.109, train_loss=5.26] \n",
      "Evaluation:  57%|█████▋    | 17/30 [00:05<00:04,  3.06it/s]\n",
      "Train:   0%|          | 0/163 [00:00<?, ?it/s, accuracy=0.0312, train_loss=5]   "
     ]
    },
    {
     "name": "stdout",
     "output_type": "stream",
     "text": [
      "\t - Recall@14 epoch 5: 0.050551\n",
      "\t - MRR@14    epoch 5: 0.023222\n",
      "\n"
     ]
    },
    {
     "name": "stderr",
     "output_type": "stream",
     "text": [
      "Train:  86%|████████▌ | 140/163 [00:02<00:00, 68.34it/s, accuracy=0.203, train_loss=4.75]\n",
      "Evaluation:  57%|█████▋    | 17/30 [00:05<00:04,  3.05it/s]\n",
      "Train:   0%|          | 0/163 [00:00<?, ?it/s, accuracy=0.0938, train_loss=4.48]"
     ]
    },
    {
     "name": "stdout",
     "output_type": "stream",
     "text": [
      "\t - Recall@14 epoch 6: 0.052390\n",
      "\t - MRR@14    epoch 6: 0.024386\n",
      "\n"
     ]
    },
    {
     "name": "stderr",
     "output_type": "stream",
     "text": [
      "Train:  86%|████████▌ | 140/163 [00:02<00:00, 68.77it/s, accuracy=0.172, train_loss=4.14]\n",
      "Evaluation:  57%|█████▋    | 17/30 [00:05<00:04,  3.05it/s]\n",
      "Train:   0%|          | 0/163 [00:00<?, ?it/s, accuracy=0.203, train_loss=4.3]  "
     ]
    },
    {
     "name": "stdout",
     "output_type": "stream",
     "text": [
      "\t - Recall@14 epoch 7: 0.057904\n",
      "\t - MRR@14    epoch 7: 0.023039\n",
      "\n"
     ]
    },
    {
     "name": "stderr",
     "output_type": "stream",
     "text": [
      "Train:  86%|████████▌ | 140/163 [00:02<00:00, 66.22it/s, accuracy=0.141, train_loss=4.43] \n",
      "Evaluation:  57%|█████▋    | 17/30 [00:05<00:04,  3.09it/s]\n",
      "Train:   0%|          | 0/163 [00:00<?, ?it/s, accuracy=0.109, train_loss=4.38]"
     ]
    },
    {
     "name": "stdout",
     "output_type": "stream",
     "text": [
      "\t - Recall@14 epoch 8: 0.061581\n",
      "\t - MRR@14    epoch 8: 0.023855\n",
      "\n"
     ]
    },
    {
     "name": "stderr",
     "output_type": "stream",
     "text": [
      "Train:  86%|████████▌ | 140/163 [00:02<00:00, 65.25it/s, accuracy=0.25, train_loss=4.05] \n",
      "Evaluation:  57%|█████▋    | 17/30 [00:05<00:04,  3.07it/s]\n",
      "Train:   0%|          | 0/163 [00:00<?, ?it/s, accuracy=0.188, train_loss=3.84] "
     ]
    },
    {
     "name": "stdout",
     "output_type": "stream",
     "text": [
      "\t - Recall@14 epoch 9: 0.060662\n",
      "\t - MRR@14    epoch 9: 0.025469\n",
      "\n"
     ]
    },
    {
     "name": "stderr",
     "output_type": "stream",
     "text": [
      "Train:  86%|████████▌ | 140/163 [00:02<00:00, 58.19it/s, accuracy=0.141, train_loss=3.88] \n",
      "Evaluation:  57%|█████▋    | 17/30 [00:05<00:04,  3.04it/s]"
     ]
    },
    {
     "name": "stdout",
     "output_type": "stream",
     "text": [
      "\t - Recall@14 epoch 10: 0.060662\n",
      "\t - MRR@14    epoch 10: 0.024917\n",
      "\n"
     ]
    },
    {
     "name": "stderr",
     "output_type": "stream",
     "text": [
      "\n"
     ]
    }
   ],
   "source": [
    "train_model(model8, args8)"
   ]
  },
  {
   "cell_type": "code",
   "execution_count": 94,
   "id": "mighty-window",
   "metadata": {},
   "outputs": [
    {
     "name": "stderr",
     "output_type": "stream",
     "text": [
      "Evaluation:  25%|██▌       | 4/16 [00:01<00:05,  2.38it/s]"
     ]
    },
    {
     "name": "stdout",
     "output_type": "stream",
     "text": [
      "\t - Recall@14: 0.066406\n",
      "\t - MRR@14: 0.022074\n",
      "\n"
     ]
    },
    {
     "name": "stderr",
     "output_type": "stream",
     "text": [
      "\n"
     ]
    }
   ],
   "source": [
    "test_model(model8, args8, test_df)"
   ]
  },
  {
   "cell_type": "markdown",
   "id": "difficult-operations",
   "metadata": {},
   "source": [
    "# 모델링 9\n",
    "### batch size = 16\n",
    "### drop rate = 0.1\n",
    "### learning rate = 0.01\n",
    "### epochs = 10\n",
    "### k = 14"
   ]
  },
  {
   "cell_type": "code",
   "execution_count": 99,
   "id": "processed-graphics",
   "metadata": {},
   "outputs": [],
   "source": [
    "args9 = Args(train_df, val_df, test_df, batch_size=16, hsz=50, drop_rate=0.1, lr=0.01, epochs=10, k=k)"
   ]
  },
  {
   "cell_type": "code",
   "execution_count": 100,
   "id": "sunrise-holmes",
   "metadata": {},
   "outputs": [
    {
     "name": "stdout",
     "output_type": "stream",
     "text": [
      "Model: \"model_8\"\n",
      "_________________________________________________________________\n",
      "Layer (type)                 Output Shape              Param #   \n",
      "=================================================================\n",
      "input_9 (InputLayer)         [(16, 1, 1326)]           0         \n",
      "_________________________________________________________________\n",
      "GRU (GRU)                    [(16, 50), (16, 50)]      206700    \n",
      "_________________________________________________________________\n",
      "dropout_8 (Dropout)          (16, 50)                  0         \n",
      "_________________________________________________________________\n",
      "dense_8 (Dense)              (16, 1326)                67626     \n",
      "=================================================================\n",
      "Total params: 274,326\n",
      "Trainable params: 274,326\n",
      "Non-trainable params: 0\n",
      "_________________________________________________________________\n"
     ]
    }
   ],
   "source": [
    "model9 = create_model(args9)"
   ]
  },
  {
   "cell_type": "code",
   "execution_count": 101,
   "id": "wrapped-butterfly",
   "metadata": {},
   "outputs": [
    {
     "name": "stderr",
     "output_type": "stream",
     "text": [
      "Train:  97%|█████████▋| 636/654 [00:09<00:00, 68.36it/s, accuracy=0, train_loss=6.95]     \n",
      "Evaluation:  79%|███████▊  | 95/121 [00:11<00:03,  8.59it/s]\n",
      "Train:   0%|          | 0/654 [00:00<?, ?it/s, accuracy=0, train_loss=6.71]     "
     ]
    },
    {
     "name": "stdout",
     "output_type": "stream",
     "text": [
      "\t - Recall@14 epoch 1: 0.051316\n",
      "\t - MRR@14    epoch 1: 0.019217\n",
      "\n"
     ]
    },
    {
     "name": "stderr",
     "output_type": "stream",
     "text": [
      "Train:  97%|█████████▋| 636/654 [00:08<00:00, 78.33it/s, accuracy=0, train_loss=6.15]     \n",
      "Evaluation:  79%|███████▊  | 95/121 [00:10<00:02,  8.85it/s]\n",
      "Train:   0%|          | 0/654 [00:00<?, ?it/s, accuracy=0.0625, train_loss=6.06]"
     ]
    },
    {
     "name": "stdout",
     "output_type": "stream",
     "text": [
      "\t - Recall@14 epoch 2: 0.049342\n",
      "\t - MRR@14    epoch 2: 0.019525\n",
      "\n"
     ]
    },
    {
     "name": "stderr",
     "output_type": "stream",
     "text": [
      "Train:  97%|█████████▋| 636/654 [00:08<00:00, 77.68it/s, accuracy=0.125, train_loss=4.51] \n",
      "Evaluation:  79%|███████▊  | 95/121 [00:10<00:02,  8.81it/s]\n",
      "Train:   0%|          | 0/654 [00:00<?, ?it/s, accuracy=0.0625, train_loss=4.51]"
     ]
    },
    {
     "name": "stdout",
     "output_type": "stream",
     "text": [
      "\t - Recall@14 epoch 3: 0.048026\n",
      "\t - MRR@14    epoch 3: 0.019055\n",
      "\n"
     ]
    },
    {
     "name": "stderr",
     "output_type": "stream",
     "text": [
      "Train:  97%|█████████▋| 636/654 [00:08<00:00, 78.87it/s, accuracy=0, train_loss=4.38]     \n",
      "Evaluation:  79%|███████▊  | 95/121 [00:10<00:02,  8.83it/s]\n",
      "Train:   0%|          | 0/654 [00:00<?, ?it/s, accuracy=0.125, train_loss=4.17] "
     ]
    },
    {
     "name": "stdout",
     "output_type": "stream",
     "text": [
      "\t - Recall@14 epoch 4: 0.047368\n",
      "\t - MRR@14    epoch 4: 0.018378\n",
      "\n"
     ]
    },
    {
     "name": "stderr",
     "output_type": "stream",
     "text": [
      "Train:  97%|█████████▋| 636/654 [00:08<00:00, 76.93it/s, accuracy=0.188, train_loss=3.31] \n",
      "Evaluation:  79%|███████▊  | 95/121 [00:10<00:02,  8.82it/s]\n",
      "Train:   0%|          | 0/654 [00:00<?, ?it/s, accuracy=0.312, train_loss=2.91]"
     ]
    },
    {
     "name": "stdout",
     "output_type": "stream",
     "text": [
      "\t - Recall@14 epoch 5: 0.051974\n",
      "\t - MRR@14    epoch 5: 0.018141\n",
      "\n"
     ]
    },
    {
     "name": "stderr",
     "output_type": "stream",
     "text": [
      "Train:  97%|█████████▋| 636/654 [00:08<00:00, 78.72it/s, accuracy=0.188, train_loss=3.08] \n",
      "Evaluation:  79%|███████▊  | 95/121 [00:12<00:03,  7.58it/s]\n",
      "Train:   0%|          | 0/654 [00:00<?, ?it/s, accuracy=0.125, train_loss=3.33]"
     ]
    },
    {
     "name": "stdout",
     "output_type": "stream",
     "text": [
      "\t - Recall@14 epoch 6: 0.054605\n",
      "\t - MRR@14    epoch 6: 0.021488\n",
      "\n"
     ]
    },
    {
     "name": "stderr",
     "output_type": "stream",
     "text": [
      "Train:  97%|█████████▋| 636/654 [00:08<00:00, 79.34it/s, accuracy=0.375, train_loss=2.55] \n",
      "Evaluation:  79%|███████▊  | 95/121 [00:11<00:03,  8.47it/s]\n",
      "Train:   0%|          | 0/654 [00:00<?, ?it/s, accuracy=0.375, train_loss=2.8] "
     ]
    },
    {
     "name": "stdout",
     "output_type": "stream",
     "text": [
      "\t - Recall@14 epoch 7: 0.049342\n",
      "\t - MRR@14    epoch 7: 0.019420\n",
      "\n"
     ]
    },
    {
     "name": "stderr",
     "output_type": "stream",
     "text": [
      "Train:  97%|█████████▋| 636/654 [00:08<00:00, 76.99it/s, accuracy=0.5, train_loss=2.35]  \n",
      "Evaluation:  79%|███████▊  | 95/121 [00:10<00:02,  8.82it/s]\n",
      "Train:   0%|          | 0/654 [00:00<?, ?it/s, accuracy=0.125, train_loss=3.05]"
     ]
    },
    {
     "name": "stdout",
     "output_type": "stream",
     "text": [
      "\t - Recall@14 epoch 8: 0.048684\n",
      "\t - MRR@14    epoch 8: 0.020490\n",
      "\n"
     ]
    },
    {
     "name": "stderr",
     "output_type": "stream",
     "text": [
      "Train:  97%|█████████▋| 636/654 [00:08<00:00, 78.10it/s, accuracy=0.188, train_loss=2.58] \n",
      "Evaluation:  79%|███████▊  | 95/121 [00:10<00:02,  8.80it/s]\n",
      "Train:   0%|          | 0/654 [00:00<?, ?it/s, accuracy=0.375, train_loss=2.34]"
     ]
    },
    {
     "name": "stdout",
     "output_type": "stream",
     "text": [
      "\t - Recall@14 epoch 9: 0.049342\n",
      "\t - MRR@14    epoch 9: 0.017688\n",
      "\n"
     ]
    },
    {
     "name": "stderr",
     "output_type": "stream",
     "text": [
      "Train:  97%|█████████▋| 636/654 [00:08<00:00, 78.71it/s, accuracy=0.438, train_loss=2.33] \n",
      "Evaluation:  79%|███████▊  | 95/121 [00:10<00:02,  8.70it/s]"
     ]
    },
    {
     "name": "stdout",
     "output_type": "stream",
     "text": [
      "\t - Recall@14 epoch 10: 0.045395\n",
      "\t - MRR@14    epoch 10: 0.019729\n",
      "\n"
     ]
    },
    {
     "name": "stderr",
     "output_type": "stream",
     "text": [
      "\n"
     ]
    }
   ],
   "source": [
    "train_model(model9, args9)"
   ]
  },
  {
   "cell_type": "code",
   "execution_count": 102,
   "id": "pregnant-driver",
   "metadata": {},
   "outputs": [
    {
     "name": "stderr",
     "output_type": "stream",
     "text": [
      "Evaluation:  66%|██████▌   | 42/64 [00:05<00:03,  7.13it/s]"
     ]
    },
    {
     "name": "stdout",
     "output_type": "stream",
     "text": [
      "\t - Recall@14: 0.047619\n",
      "\t - MRR@14: 0.018790\n",
      "\n"
     ]
    },
    {
     "name": "stderr",
     "output_type": "stream",
     "text": [
      "\n"
     ]
    }
   ],
   "source": [
    "test_model(model9, args9, test_df)"
   ]
  },
  {
   "cell_type": "markdown",
   "id": "protected-therapy",
   "metadata": {},
   "source": [
    "# 모델링 10\n",
    "### batch size = 32\n",
    "### drop rate = 0.5\n",
    "### learning rate = 0.01\n",
    "### epochs = 10\n",
    "### k = 14"
   ]
  },
  {
   "cell_type": "code",
   "execution_count": 103,
   "id": "female-bearing",
   "metadata": {},
   "outputs": [],
   "source": [
    "args10 = Args(train_df, val_df, test_df, batch_size=32, hsz=50, drop_rate=0.5, lr=0.01, epochs=10, k=k)"
   ]
  },
  {
   "cell_type": "code",
   "execution_count": 104,
   "id": "reported-oregon",
   "metadata": {},
   "outputs": [
    {
     "name": "stdout",
     "output_type": "stream",
     "text": [
      "Model: \"model_9\"\n",
      "_________________________________________________________________\n",
      "Layer (type)                 Output Shape              Param #   \n",
      "=================================================================\n",
      "input_10 (InputLayer)        [(32, 1, 1326)]           0         \n",
      "_________________________________________________________________\n",
      "GRU (GRU)                    [(32, 50), (32, 50)]      206700    \n",
      "_________________________________________________________________\n",
      "dropout_9 (Dropout)          (32, 50)                  0         \n",
      "_________________________________________________________________\n",
      "dense_9 (Dense)              (32, 1326)                67626     \n",
      "=================================================================\n",
      "Total params: 274,326\n",
      "Trainable params: 274,326\n",
      "Non-trainable params: 0\n",
      "_________________________________________________________________\n"
     ]
    }
   ],
   "source": [
    "model10 = create_model(args10)"
   ]
  },
  {
   "cell_type": "code",
   "execution_count": 105,
   "id": "dressed-battle",
   "metadata": {},
   "outputs": [
    {
     "name": "stderr",
     "output_type": "stream",
     "text": [
      "Train:  93%|█████████▎| 305/327 [00:05<00:00, 54.63it/s, accuracy=0, train_loss=7.18]     \n",
      "Evaluation:  70%|███████   | 42/60 [00:08<00:03,  5.13it/s]\n",
      "Train:   0%|          | 0/327 [00:00<?, ?it/s, accuracy=0, train_loss=7.05]     "
     ]
    },
    {
     "name": "stdout",
     "output_type": "stream",
     "text": [
      "\t - Recall@14 epoch 1: 0.037946\n",
      "\t - MRR@14    epoch 1: 0.013532\n",
      "\n"
     ]
    },
    {
     "name": "stderr",
     "output_type": "stream",
     "text": [
      "Train:  93%|█████████▎| 305/327 [00:04<00:00, 74.75it/s, accuracy=0.0312, train_loss=6.67]\n",
      "Evaluation:  70%|███████   | 42/60 [00:07<00:03,  5.44it/s]\n",
      "Train:   0%|          | 0/327 [00:00<?, ?it/s, accuracy=0.0312, train_loss=6.83]"
     ]
    },
    {
     "name": "stdout",
     "output_type": "stream",
     "text": [
      "\t - Recall@14 epoch 2: 0.040179\n",
      "\t - MRR@14    epoch 2: 0.016909\n",
      "\n"
     ]
    },
    {
     "name": "stderr",
     "output_type": "stream",
     "text": [
      "Train:  93%|█████████▎| 305/327 [00:04<00:00, 74.42it/s, accuracy=0.0312, train_loss=6.02]\n",
      "Evaluation:  70%|███████   | 42/60 [00:07<00:03,  5.44it/s]\n",
      "Train:   0%|          | 0/327 [00:00<?, ?it/s, accuracy=0.0625, train_loss=6.09]"
     ]
    },
    {
     "name": "stdout",
     "output_type": "stream",
     "text": [
      "\t - Recall@14 epoch 3: 0.051339\n",
      "\t - MRR@14    epoch 3: 0.021540\n",
      "\n"
     ]
    },
    {
     "name": "stderr",
     "output_type": "stream",
     "text": [
      "Train:  93%|█████████▎| 305/327 [00:03<00:00, 76.48it/s, accuracy=0.0625, train_loss=5.42]\n",
      "Evaluation:  70%|███████   | 42/60 [00:07<00:03,  5.42it/s]\n",
      "Train:   0%|          | 0/327 [00:00<?, ?it/s, accuracy=0, train_loss=5.73]     "
     ]
    },
    {
     "name": "stdout",
     "output_type": "stream",
     "text": [
      "\t - Recall@14 epoch 4: 0.055804\n",
      "\t - MRR@14    epoch 4: 0.023422\n",
      "\n"
     ]
    },
    {
     "name": "stderr",
     "output_type": "stream",
     "text": [
      "Train:  93%|█████████▎| 305/327 [00:04<00:00, 75.42it/s, accuracy=0.125, train_loss=4.88] \n",
      "Evaluation:  70%|███████   | 42/60 [00:07<00:03,  5.42it/s]\n",
      "Train:   0%|          | 0/327 [00:00<?, ?it/s, accuracy=0.0312, train_loss=5.1] "
     ]
    },
    {
     "name": "stdout",
     "output_type": "stream",
     "text": [
      "\t - Recall@14 epoch 5: 0.055804\n",
      "\t - MRR@14    epoch 5: 0.021508\n",
      "\n"
     ]
    },
    {
     "name": "stderr",
     "output_type": "stream",
     "text": [
      "Train:  93%|█████████▎| 305/327 [00:04<00:00, 75.36it/s, accuracy=0.125, train_loss=4.34] \n",
      "Evaluation:  70%|███████   | 42/60 [00:07<00:03,  5.41it/s]\n",
      "Train:   0%|          | 0/327 [00:00<?, ?it/s, accuracy=0.156, train_loss=4.46] "
     ]
    },
    {
     "name": "stdout",
     "output_type": "stream",
     "text": [
      "\t - Recall@14 epoch 6: 0.054315\n",
      "\t - MRR@14    epoch 6: 0.022978\n",
      "\n"
     ]
    },
    {
     "name": "stderr",
     "output_type": "stream",
     "text": [
      "Train:  93%|█████████▎| 305/327 [00:04<00:00, 74.47it/s, accuracy=0.125, train_loss=4.39] \n",
      "Evaluation:  70%|███████   | 42/60 [00:07<00:03,  5.42it/s]\n",
      "Train:   0%|          | 0/327 [00:00<?, ?it/s, accuracy=0.188, train_loss=4.3]  "
     ]
    },
    {
     "name": "stdout",
     "output_type": "stream",
     "text": [
      "\t - Recall@14 epoch 7: 0.057292\n",
      "\t - MRR@14    epoch 7: 0.022972\n",
      "\n"
     ]
    },
    {
     "name": "stderr",
     "output_type": "stream",
     "text": [
      "Train:  93%|█████████▎| 305/327 [00:04<00:00, 74.00it/s, accuracy=0.188, train_loss=4.32] \n",
      "Evaluation:  70%|███████   | 42/60 [00:10<00:04,  4.20it/s]\n",
      "Train:   0%|          | 0/327 [00:00<?, ?it/s, accuracy=0.0938, train_loss=4.15]"
     ]
    },
    {
     "name": "stdout",
     "output_type": "stream",
     "text": [
      "\t - Recall@14 epoch 8: 0.055804\n",
      "\t - MRR@14    epoch 8: 0.023265\n",
      "\n"
     ]
    },
    {
     "name": "stderr",
     "output_type": "stream",
     "text": [
      "Train:  93%|█████████▎| 305/327 [00:04<00:00, 72.30it/s, accuracy=0.188, train_loss=3.81] \n",
      "Evaluation:  70%|███████   | 42/60 [00:07<00:03,  5.33it/s]\n",
      "Train:   0%|          | 0/327 [00:00<?, ?it/s, accuracy=0.156, train_loss=4.09] "
     ]
    },
    {
     "name": "stdout",
     "output_type": "stream",
     "text": [
      "\t - Recall@14 epoch 9: 0.058036\n",
      "\t - MRR@14    epoch 9: 0.023671\n",
      "\n"
     ]
    },
    {
     "name": "stderr",
     "output_type": "stream",
     "text": [
      "Train:  93%|█████████▎| 305/327 [00:04<00:00, 73.39it/s, accuracy=0.281, train_loss=3.99] \n",
      "Evaluation:  70%|███████   | 42/60 [00:07<00:03,  5.37it/s]"
     ]
    },
    {
     "name": "stdout",
     "output_type": "stream",
     "text": [
      "\t - Recall@14 epoch 10: 0.055060\n",
      "\t - MRR@14    epoch 10: 0.023604\n",
      "\n"
     ]
    },
    {
     "name": "stderr",
     "output_type": "stream",
     "text": [
      "\n"
     ]
    }
   ],
   "source": [
    "train_model(model10, args10)"
   ]
  },
  {
   "cell_type": "code",
   "execution_count": 106,
   "id": "opponent-wholesale",
   "metadata": {},
   "outputs": [
    {
     "name": "stderr",
     "output_type": "stream",
     "text": [
      "Evaluation:  47%|████▋     | 15/32 [00:03<00:03,  4.27it/s]"
     ]
    },
    {
     "name": "stdout",
     "output_type": "stream",
     "text": [
      "\t - Recall@14: 0.068750\n",
      "\t - MRR@14: 0.017053\n",
      "\n"
     ]
    },
    {
     "name": "stderr",
     "output_type": "stream",
     "text": [
      "\n"
     ]
    }
   ],
   "source": [
    "test_model(model10, args10, test_df)"
   ]
  },
  {
   "cell_type": "markdown",
   "id": "patent-decade",
   "metadata": {},
   "source": [
    "# 10가지의 모델을 시도한 결과 가장 우수한 모델은 8번 모델이었다.\n",
    "# model8\n",
    "### batch size = 64\n",
    "### drop rate = 0.5\n",
    "### learning rate = 0.01\n",
    "### epochs = 10\n",
    "### k = 14\n",
    "# Recall@14 : 0.066406\n",
    "# MRR@14 :0.022074"
   ]
  },
  {
   "cell_type": "code",
   "execution_count": null,
   "id": "tutorial-pontiac",
   "metadata": {},
   "outputs": [],
   "source": []
  }
 ],
 "metadata": {
  "kernelspec": {
   "display_name": "Python 3",
   "language": "python",
   "name": "python3"
  },
  "language_info": {
   "codemirror_mode": {
    "name": "ipython",
    "version": 3
   },
   "file_extension": ".py",
   "mimetype": "text/x-python",
   "name": "python",
   "nbconvert_exporter": "python",
   "pygments_lexer": "ipython3",
   "version": "3.7.9"
  }
 },
 "nbformat": 4,
 "nbformat_minor": 5
}
