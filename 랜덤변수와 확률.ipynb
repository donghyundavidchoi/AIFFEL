{
 "cells": [
  {
   "cell_type": "code",
   "execution_count": 3,
   "id": "virgin-editor",
   "metadata": {},
   "outputs": [],
   "source": [
    "import random"
   ]
  },
  {
   "cell_type": "code",
   "execution_count": 47,
   "id": "covered-archives",
   "metadata": {},
   "outputs": [],
   "source": [
    "throwing_number = 100\n",
    "\n",
    "random_dice = [random.randint(1,6) for i in range(throwing_number)]"
   ]
  },
  {
   "cell_type": "code",
   "execution_count": 13,
   "id": "oriental-maker",
   "metadata": {},
   "outputs": [
    {
     "data": {
      "text/plain": [
       "{1: 0, 2: 0, 3: 0, 4: 0, 5: 0, 6: 0}"
      ]
     },
     "execution_count": 13,
     "metadata": {},
     "output_type": "execute_result"
    }
   ],
   "source": [
    "random_var_dict = {i:0 for i in range(1,7)}\n",
    "random_var_dict"
   ]
  },
  {
   "cell_type": "code",
   "execution_count": 27,
   "id": "sophisticated-mistress",
   "metadata": {},
   "outputs": [
    {
     "data": {
      "text/plain": [
       "[2, 3, 0, 1, 2, 2]"
      ]
     },
     "execution_count": 27,
     "metadata": {},
     "output_type": "execute_result"
    }
   ],
   "source": [
    "time = [random_dice.count(i) for i in range(1,7)]\n",
    "time"
   ]
  },
  {
   "cell_type": "code",
   "execution_count": 48,
   "id": "every-forward",
   "metadata": {},
   "outputs": [
    {
     "data": {
      "text/plain": [
       "{1: 0.11, 2: 0.1, 3: 0.19, 4: 0.16, 5: 0.28, 6: 0.16}"
      ]
     },
     "execution_count": 48,
     "metadata": {},
     "output_type": "execute_result"
    }
   ],
   "source": [
    "random_var_dict = {i:random_dice.count(i)/throwing_number for i in range(1,7)}\n",
    "random_var_dict"
   ]
  },
  {
   "cell_type": "code",
   "execution_count": 49,
   "id": "cloudy-trash",
   "metadata": {},
   "outputs": [
    {
     "data": {
      "image/png": "[encoded data removed]",
      "text/plain": [
       "<Figure size 432x288 with 1 Axes>"
      ]
     },
     "metadata": {
      "needs_background": "light"
     },
     "output_type": "display_data"
    }
   ],
   "source": [
    "import matplotlib.pyplot as plt\n",
    "\n",
    "x = random_var_dict.keys()\n",
    "p = random_var_dict.values()\n",
    "plt.plot(x,p)\n",
    "plt.show()"
   ]
  },
  {
   "cell_type": "code",
   "execution_count": 64,
   "id": "copyrighted-officer",
   "metadata": {},
   "outputs": [
    {
     "data": {
      "text/plain": [
       "3.88"
      ]
     },
     "execution_count": 64,
     "metadata": {},
     "output_type": "execute_result"
    }
   ],
   "source": [
    "expectation = 0\n",
    "for key, value in random_var_dict.items():\n",
    "    expectation += key*value\n",
    "expectation\n"
   ]
  },
  {
   "cell_type": "code",
   "execution_count": 76,
   "id": "promising-finland",
   "metadata": {},
   "outputs": [
    {
     "data": {
      "text/plain": [
       "2.4856000000000003"
      ]
     },
     "execution_count": 76,
     "metadata": {},
     "output_type": "execute_result"
    }
   ],
   "source": [
    "variance = 0\n",
    "for key, value in random_var_dict.items():\n",
    "    variance += ((key-expectation)**2)*value\n",
    "variance"
   ]
  },
  {
   "cell_type": "code",
   "execution_count": null,
   "id": "verified-hawaii",
   "metadata": {
    "scrolled": true
   },
   "outputs": [],
   "source": []
  },
  {
   "cell_type": "code",
   "execution_count": null,
   "id": "exceptional-employer",
   "metadata": {},
   "outputs": [],
   "source": []
  }
 ],
 "metadata": {
  "kernelspec": {
   "display_name": "Python 3",
   "language": "python",
   "name": "python3"
  },
  "language_info": {
   "codemirror_mode": {
    "name": "ipython",
    "version": 3
   },
   "file_extension": ".py",
   "mimetype": "text/x-python",
   "name": "python",
   "nbconvert_exporter": "python",
   "pygments_lexer": "ipython3",
   "version": "3.7.9"
  }
 },
 "nbformat": 4,
 "nbformat_minor": 5
}
