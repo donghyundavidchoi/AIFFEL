{
 "cells": [
  {
   "cell_type": "code",
   "execution_count": 20,
   "id": "productive-perth",
   "metadata": {},
   "outputs": [
    {
     "ename": "NameError",
     "evalue": "name 'vector2' is not defined",
     "output_type": "error",
     "traceback": [
      "\u001b[0;31m---------------------------------------------------------------------------\u001b[0m",
      "\u001b[0;31mNameError\u001b[0m                                 Traceback (most recent call last)",
      "\u001b[0;32m<ipython-input-20-2c51d6199720>\u001b[0m in \u001b[0;36m<module>\u001b[0;34m\u001b[0m\n\u001b[1;32m     43\u001b[0m \u001b[0mvector1\u001b[0m \u001b[0;34m=\u001b[0m \u001b[0mVector\u001b[0m\u001b[0;34m(\u001b[0m\u001b[0;34m[\u001b[0m\u001b[0;36m1\u001b[0m\u001b[0;34m,\u001b[0m\u001b[0;36m1\u001b[0m\u001b[0;34m,\u001b[0m\u001b[0;36m1\u001b[0m\u001b[0;34m]\u001b[0m\u001b[0;34m,\u001b[0m \u001b[0mint\u001b[0m\u001b[0;34m)\u001b[0m\u001b[0;34m\u001b[0m\u001b[0;34m\u001b[0m\u001b[0m\n\u001b[1;32m     44\u001b[0m \u001b[0mvecror2\u001b[0m \u001b[0;34m=\u001b[0m \u001b[0mVector\u001b[0m\u001b[0;34m(\u001b[0m\u001b[0;34m[\u001b[0m\u001b[0;34m-\u001b[0m\u001b[0;36m1\u001b[0m\u001b[0;34m,\u001b[0m\u001b[0;34m-\u001b[0m\u001b[0;36m1\u001b[0m\u001b[0;34m,\u001b[0m\u001b[0;34m-\u001b[0m\u001b[0;36m1\u001b[0m\u001b[0;34m]\u001b[0m\u001b[0;34m,\u001b[0m \u001b[0mint\u001b[0m\u001b[0;34m)\u001b[0m\u001b[0;34m\u001b[0m\u001b[0;34m\u001b[0m\u001b[0m\n\u001b[0;32m---> 45\u001b[0;31m \u001b[0mvec3\u001b[0m \u001b[0;34m=\u001b[0m \u001b[0mvector1\u001b[0m \u001b[0;34m+\u001b[0m \u001b[0mvector2\u001b[0m\u001b[0;34m\u001b[0m\u001b[0;34m\u001b[0m\u001b[0m\n\u001b[0m\u001b[1;32m     46\u001b[0m \u001b[0mvector1\u001b[0m\u001b[0;34m.\u001b[0m\u001b[0mpush\u001b[0m\u001b[0;34m(\u001b[0m\u001b[0;36m1\u001b[0m\u001b[0;34m)\u001b[0m\u001b[0;34m\u001b[0m\u001b[0;34m\u001b[0m\u001b[0m\n\u001b[1;32m     47\u001b[0m \u001b[0mprint\u001b[0m\u001b[0;34m(\u001b[0m\u001b[0mvector1\u001b[0m\u001b[0;34m.\u001b[0m\u001b[0mvector\u001b[0m\u001b[0;34m)\u001b[0m\u001b[0;34m\u001b[0m\u001b[0;34m\u001b[0m\u001b[0m\n",
      "\u001b[0;31mNameError\u001b[0m: name 'vector2' is not defined"
     ]
    }
   ],
   "source": [
    "class Vector:\n",
    "    vector = None\n",
    "    \n",
    "    def __init__(self, number_list, dtype):\n",
    "        self.dtype = dtype\n",
    "        self.vector = []\n",
    "        for i, item in enumerate(number_list):\n",
    "            if type(item) != self.dtype:\n",
    "                print(\"데이터 타입이 같지 않습니다.\")\n",
    "                raise ValueError\n",
    "            else:\n",
    "                self.vector.append(item)\n",
    "                #self.vector = map(self.dtype, number_list)\n",
    "    \n",
    "    def push(self, item):\n",
    "        if type(item) != self.dtype:\n",
    "            print(\"데이터 타입이 같지 않습니다.\")\n",
    "            raise ValueError\n",
    "        else:\n",
    "            self.vector.append(item)\n",
    "            \n",
    "            \n",
    "    #연산자 오버로딩 (+, -, *, /, %)\n",
    "    #연산자 오버로딩은 클래스의 인스턴스들끼리 수치적 연산이 가능하도록한다.\n",
    "        \n",
    "    def __add__(self, other):\n",
    "        new_number_list = []\n",
    "        \n",
    "        #반복문을 통해서 self.vector와 other.vector에 접근\n",
    "        #새로운 숫자리스트에 합을 채워 넣어 새 백터 인스턴스 반환\n",
    "        \n",
    "        for i in range(len(self.vector)):\n",
    "            new_number = self.vetor[i] + self.new_number_list\n",
    "            new_number_list.append(new.number)\n",
    "        new_vec = Vector(new_number_list, self.dtype)\n",
    "        return new_vec\n",
    "    \n",
    "    \n",
    "        #for item1, item2 in zip(self.vector, other.vector):\n",
    "            \n",
    "    \n",
    "\n",
    "vector1 = Vector([1,1,1], int)\n",
    "vecror2 = Vector([-1,-1,-1], int)\n",
    "vec3 = vector1 + vector2\n",
    "vector1.push(1)\n",
    "print(vector1.vector)\n",
    "print(type(vector1))\n",
    "print(vec3)"
   ]
  },
  {
   "cell_type": "code",
   "execution_count": null,
   "id": "simple-comparative",
   "metadata": {},
   "outputs": [],
   "source": []
  }
 ],
 "metadata": {
  "kernelspec": {
   "display_name": "Python 3",
   "language": "python",
   "name": "python3"
  },
  "language_info": {
   "codemirror_mode": {
    "name": "ipython",
    "version": 3
   },
   "file_extension": ".py",
   "mimetype": "text/x-python",
   "name": "python",
   "nbconvert_exporter": "python",
   "pygments_lexer": "ipython3",
   "version": "3.7.9"
  }
 },
 "nbformat": 4,
 "nbformat_minor": 5
}
