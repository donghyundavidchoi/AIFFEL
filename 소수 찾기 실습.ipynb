{
 "cells": [
  {
   "cell_type": "code",
   "execution_count": null,
   "id": "knowing-rescue",
   "metadata": {},
   "outputs": [
    {
     "name": "stdout",
     "output_type": "stream",
     "text": [
      "5\n",
      "[535, 121, 880, 583, 532]\n",
      "[]\n"
     ]
    }
   ],
   "source": [
    "import random\n",
    "\n",
    "def prime():\n",
    "    \n",
    "    number = int(input())\n",
    "    random_list = []\n",
    "    prime_list = []\n",
    "    \n",
    "    while True:\n",
    "        if number > 100:\n",
    "            print(\"100이하의 수를 입력해주세요.\")\n",
    "            number = int(input())\n",
    "        else:\n",
    "            break\n",
    "        \n",
    "    for i in range(number):\n",
    "        random_list.append(random.randint(1,1000))\n",
    "        \n",
    "    print(random_list)\n",
    "    print(prime_list)\n",
    "\n",
    "    \n",
    "    for i in random_list:\n",
    "        for j in range(2,max(random_list)):\n",
    "            while j < i:\n",
    "                if i%j == 0:\n",
    "                    prime_list.append(i)\n",
    "                else:\n",
    "                    j += 1\n",
    "\n",
    "    print(prime_list)\n",
    "\n",
    "def check_prime():\n",
    "    if num<2:\n",
    "        return False\n",
    "    for i in range(2, num):\n",
    "        if num % i == 0:\n",
    "            return False\n",
    "    return True\n",
    "    \n",
    "prime()\n"
   ]
  },
  {
   "cell_type": "code",
   "execution_count": null,
   "id": "amino-visit",
   "metadata": {},
   "outputs": [],
   "source": [
    "number = 5\n",
    "random_list = []\n",
    "for i in range(number):\n",
    "    random_list.append(random.randint(1,1000))\n",
    "print(random_list)"
   ]
  },
  {
   "cell_type": "code",
   "execution_count": null,
   "id": "suburban-welsh",
   "metadata": {},
   "outputs": [],
   "source": [
    "import random\n",
    "\n",
    "def prime():\n",
    "    \n",
    "    number = int(input())\n",
    "    random_list = []\n",
    "    prime_list = []\n",
    "    \n",
    "    while True:\n",
    "        if number > 100:\n",
    "            print(\"100이하의 수를 입력해주세요.\")\n",
    "            number = int(input())\n",
    "        else:\n",
    "            break\n",
    "        \n",
    "    for i in range(number):\n",
    "        random_list.append(random.randint(1,1000))\n",
    "        \n",
    "    print(random_list)\n",
    "    print(prime_list)\n",
    "\n",
    "    \n",
    "    for i in random_list:\n",
    "        for j in range(2,max(random_list)):\n",
    "            while j < i:\n",
    "                if i%j == 0:\n",
    "                    prime_list.append(i)\n",
    "                else:\n",
    "                    j += 1\n",
    "\n",
    "    print(prime_list)\n",
    "\n",
    "def check_prime():\n",
    "    if num<2:\n",
    "        return False\n",
    "    for i in range(2, num):\n",
    "        if num % i == 0:\n",
    "            return False\n",
    "    return True\n",
    "    \n",
    "prime()"
   ]
  }
 ],
 "metadata": {
  "kernelspec": {
   "display_name": "Python 3",
   "language": "python",
   "name": "python3"
  },
  "language_info": {
   "codemirror_mode": {
    "name": "ipython",
    "version": 3
   },
   "file_extension": ".py",
   "mimetype": "text/x-python",
   "name": "python",
   "nbconvert_exporter": "python",
   "pygments_lexer": "ipython3",
   "version": "3.7.9"
  }
 },
 "nbformat": 4,
 "nbformat_minor": 5
}
