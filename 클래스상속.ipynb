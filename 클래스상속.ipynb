{
 "cells": [
  {
   "cell_type": "code",
   "execution_count": 11,
   "id": "controlling-rocket",
   "metadata": {},
   "outputs": [],
   "source": [
    "class Point2D:\n",
    "    \n",
    "    __x = None\n",
    "    __y = None\n",
    "    \n",
    "    #맴버변수의 속성 : private / public\n",
    "    #private : 맴버접근연산자를 통해 맴버변수나 메소드에 직접 접근할 수 없음\n",
    "    #public : 맴버접근연산자를 통해 자유롭게 접근 가능\n",
    "    \n",
    "    def __init__(self, x, y):\n",
    "        \n",
    "        self.__x = x\n",
    "        self.__y = y\n",
    "        \n",
    "        # getter 메소드 : private 맴버변수를 가져오고 싶을 때 구현\n",
    "        \n",
    "    def get_coord(self):\n",
    "        return (self.__x, self.__y)\n",
    "    \n",
    "    def get_x(self):\n",
    "        return self.__x\n",
    "    \n",
    "    def get_y(self):\n",
    "        return self.__y\n",
    "    \n",
    "    def set_coord(self, x, y):\n",
    "        self.__x = x\n",
    "        self.__y = y"
   ]
  },
  {
   "cell_type": "code",
   "execution_count": 15,
   "id": "baking-sleeping",
   "metadata": {},
   "outputs": [
    {
     "name": "stdout",
     "output_type": "stream",
     "text": [
      "1\n",
      "(1, 1)\n",
      "-- 변경후 --\n",
      "2\n",
      "(2, 2)\n"
     ]
    }
   ],
   "source": [
    "point1 = Point2D(1,1)\n",
    "\n",
    "print(point1.get_x())\n",
    "print(point1.get_coord())\n",
    "\n",
    "print(\"-- 변경후 --\")\n",
    "point1.set_coord(2,2)\n",
    "print(point1.get_x())\n",
    "print(point1.get_coord())"
   ]
  },
  {
   "cell_type": "code",
   "execution_count": 28,
   "id": "earned-buyer",
   "metadata": {},
   "outputs": [],
   "source": [
    "#클래스 상속\n",
    "#동일한 기능을 또 구현하지 않기 위해 사용\n",
    "#기능을 부모 클래스로부터 상속\n",
    "#상속을 사용하여 Point2D로부터 Point3D 구현하기\n",
    "#자식클래스는 부모 클래스의 public 맴버들을 활용할 수 있다.\n",
    "\n",
    "class Point3D(Point2D):\n",
    "    \n",
    "    __z = None\n",
    "    \n",
    "    def __init__(self, x, y, z):\n",
    "        #super() : 부모 클래스를 호출한다.\n",
    "        #자식 클래스는 부모의 private 맴버 변수에 접근 할 수 없어서 get을 사용해야함. public은 get 사용 안 함.\n",
    "        super().__init__(x,y)\n",
    "        self.__x = super().get_x()\n",
    "        self.__y = super().get_y()\n",
    "        self.__z = z\n",
    "        \n",
    "    # 메소드 오버라이딩 : 부모클래스의 메소드를 자식클래스에서 재정의\n",
    "    def get_coord(self):\n",
    "        return (self.__x, self.__y, slef.__z)\n",
    "    \n",
    "    def set_coord(self, x, y, z):\n",
    "        self.__x = x\n",
    "        self.__y = y\n",
    "        self.__z = z\n",
    "        \n",
    "    def get_z(self):\n",
    "        return self.__z"
   ]
  },
  {
   "cell_type": "code",
   "execution_count": 29,
   "id": "alleged-synthetic",
   "metadata": {},
   "outputs": [
    {
     "name": "stdout",
     "output_type": "stream",
     "text": [
      "1\n",
      "1\n"
     ]
    }
   ],
   "source": [
    "_3Dpoint_1 = Point3D(1,1,1)\n",
    "print(_3Dpoint_1.get_x())\n",
    "print(_3Dpoint_1.get_z())"
   ]
  },
  {
   "cell_type": "code",
   "execution_count": 2,
   "id": "particular-subcommittee",
   "metadata": {
    "scrolled": true
   },
   "outputs": [
    {
     "name": "stdout",
     "output_type": "stream",
     "text": [
      "david\n",
      "1234\n",
      "기존 비밀번호 네 자리를 입력하세요 : 1234\n",
      "새 비밀번호를 네 자리를 입력하세요 : 4321\n",
      "비밀번호가 성공적으로 변경되었습니다.\n",
      "4321\n"
     ]
    }
   ],
   "source": [
    "class User_Info:\n",
    "\n",
    "    __idid = None\n",
    "    __pw = None\n",
    "\n",
    "    def __init__(self, idid, pw):\n",
    "        self.__idid = idid\n",
    "        self.__pw = pw\n",
    "\n",
    "    def get_idid(self):\n",
    "        return self.__idid\n",
    "\n",
    "    def get_pw(self):\n",
    "        return self.__pw\n",
    "\n",
    "    def reset_pw(self):\n",
    "\n",
    "        pw_check = int(input(\"기존 비밀번호 네 자리를 입력하세요 : \"))\n",
    "\n",
    "        if self.__pw == pw_check:\n",
    "            new_pw = int(input(\"새 비밀번호를 네 자리를 입력하세요 : \"))\n",
    "            self.__pw = new_pw\n",
    "            print('비밀번호가 성공적으로 변경되었습니다.')\n",
    "            return self.__pw\n",
    "\n",
    "        else:\n",
    "            print(\"잘 못 된 비밀번호입니다.\")\n",
    "            return self.__pw\n",
    "\n",
    "\n",
    "User_01 = User_Info('david', 1234)\n",
    "print(User_01.get_idid())\n",
    "print(User_01.get_pw())\n",
    "User_01.reset_pw()\n",
    "print(User_01.get_pw()) "
   ]
  },
  {
   "cell_type": "code",
   "execution_count": 3,
   "id": "stuck-reservation",
   "metadata": {},
   "outputs": [
    {
     "name": "stdout",
     "output_type": "stream",
     "text": [
      "choi\n",
      "1234\n",
      "1\n",
      "3\n",
      "기존 비밀번호 네 자리를 입력하세요 : 1234\n",
      "새 비밀번호를 네 자리를 입력하세요 : 4321\n",
      "비밀번호가 성공적으로 변경되었습니다.\n",
      "4321\n"
     ]
    }
   ],
   "source": [
    "#상속을 통해서 Student_Info와 Facil_Info 만들기\n",
    "#두 개의 클래스는 새로운 맴버변수로 이름 사용\n",
    "# 퍼실은 머신러닝을 배운 기간을 맴버변수로 추가하고 getter와 setter 구현\n",
    "# 학생은 파이썬을 배운 기간을 맴버변수로 추가하고 getter와 setter 구현\n",
    "\n",
    "class Student_Info(User_Info):\n",
    "\n",
    "    __python_study = None\n",
    "\n",
    "    def __init__(self,idid, pw, python_study):\n",
    "        super().__init__(idid,pw)\n",
    "        self.__idid = super().get_idid()\n",
    "        self.__pw = super().get_pw()\n",
    "        self.__python_study = python_study\n",
    "\n",
    "    def get_python_study(self):\n",
    "        return self.__python_study\n",
    "\n",
    "    def set_student_info(self, idid, pw, python_study):\n",
    "        self.__idid = idid\n",
    "        self.__pw = pw\n",
    "        self.__python_study = python_study\n",
    "        \n",
    "\n",
    "Student_01 = Student_Info('choi', 1234, 1)\n",
    "print(Student_01.get_idid())\n",
    "print(Student_01.get_pw())\n",
    "print(Student_01.get_python_study())\n",
    "Student_01.set_student_info('choi', 1234, 3)\n",
    "print(Student_01.get_python_study())\n",
    "Student_01.reset_pw()\n",
    "print(Student_01.get_pw())"
   ]
  },
  {
   "cell_type": "code",
   "execution_count": 4,
   "id": "imported-country",
   "metadata": {},
   "outputs": [
    {
     "name": "stdout",
     "output_type": "stream",
     "text": [
      "kim\n",
      "1234\n",
      "5\n",
      "8\n",
      "기존 비밀번호 네 자리를 입력하세요 : 1234\n",
      "새 비밀번호를 네 자리를 입력하세요 : 4321\n",
      "비밀번호가 성공적으로 변경되었습니다.\n",
      "4321\n"
     ]
    }
   ],
   "source": [
    "class Facil_Info(User_Info):\n",
    "\n",
    "    __ml_study = None\n",
    "\n",
    "    def __init__(self, idid, pw, ml_study):\n",
    "        super().__init__(idid, pw)\n",
    "        self.__idid = super().get_idid()\n",
    "        self.__pw = super().get_pw()\n",
    "        self.__ml_study = ml_study\n",
    "\n",
    "    def get_ml_study(self):\n",
    "        return self.__ml_study\n",
    "\n",
    "    def set_facil_info(self, idid, pw, ml_study):\n",
    "        self.__idid = idid\n",
    "        self.__pw = pw\n",
    "        self.__ml_study = ml_study\n",
    "        \n",
    "        \n",
    "Facil_01 = Facil_Info('kim', 1234, 5)\n",
    "print(Facil_01.get_idid())\n",
    "print(Facil_01.get_pw())\n",
    "print(Facil_01.get_ml_study())\n",
    "Facil_01.set_facil_info('kim', 1234, 8)\n",
    "print(Facil_01.get_ml_study())\n",
    "Facil_01.reset_pw()\n",
    "print(Facil_01.get_pw())"
   ]
  },
  {
   "cell_type": "code",
   "execution_count": 9,
   "id": "included-cleanup",
   "metadata": {},
   "outputs": [
    {
     "name": "stdout",
     "output_type": "stream",
     "text": [
      "emp_1 연봉 20% 인상\n",
      "50000\n",
      "60000\n",
      "emp_2 연봉 10% 인상\n",
      "60000\n",
      "66000\n"
     ]
    }
   ],
   "source": [
    "class Employee(object):\n",
    "    \n",
    "    raise_amount = 1.1  # 클래스 변수를 사용하여 모든 직원에 적용\n",
    "    \n",
    "    def __init__(self, first, last, pay):\n",
    "        self.first = first\n",
    "        self.last = last\n",
    "        self.pay = pay\n",
    "        self.email = first.lower() + '.' + last.lower() + '@schoolofweb.net'\n",
    "        \n",
    "    def full_name(self):\n",
    "        return '{} {}'.format(self.first, self.last)\n",
    "    \n",
    "    def apply_raise(self):\n",
    "        self.pay = int(self.pay * self.raise_amount)  #1 인스턴스 변수부터 참조를 합니다.\n",
    "\n",
    "emp_1 = Employee('Sanghee', 'Lee', 50000) \n",
    "emp_2 = Employee('Minjung', 'Kim', 60000)\n",
    "\n",
    "emp_1.raise_amount = 1.2  # 인스턴스 변수를 사용하여 특별 인상률 적용\n",
    "emp_2.raise_amount = 1.1\n",
    "\n",
    "print ('emp_1 연봉 20% 인상')\n",
    "print (emp_1.pay)\n",
    "emp_1.apply_raise()\n",
    "print (emp_1.pay)\n",
    "print ('emp_2 연봉 10% 인상')\n",
    "print (emp_2.pay)\n",
    "emp_2.apply_raise()\n",
    "print (emp_2.pay)"
   ]
  },
  {
   "cell_type": "code",
   "execution_count": null,
   "id": "worse-nurse",
   "metadata": {},
   "outputs": [],
   "source": []
  }
 ],
 "metadata": {
  "kernelspec": {
   "display_name": "Python 3",
   "language": "python",
   "name": "python3"
  },
  "language_info": {
   "codemirror_mode": {
    "name": "ipython",
    "version": 3
   },
   "file_extension": ".py",
   "mimetype": "text/x-python",
   "name": "python",
   "nbconvert_exporter": "python",
   "pygments_lexer": "ipython3",
   "version": "3.7.9"
  }
 },
 "nbformat": 4,
 "nbformat_minor": 5
}
